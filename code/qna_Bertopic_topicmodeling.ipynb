{
  "nbformat": 4,
  "nbformat_minor": 0,
  "metadata": {
    "colab": {
      "provenance": [],
      "collapsed_sections": [
        "qk5kTXsqS9ze",
        "Gk_ZI2ZpTNTf",
        "BGcypCmAUO9B",
        "CK4Zi49UUka6",
        "t8jhsEbCWSfJ",
        "EHxK34EHVPKa",
        "0g1JOPV_YlA-"
      ]
    },
    "kernelspec": {
      "name": "python3",
      "display_name": "Python 3"
    },
    "language_info": {
      "name": "python"
    }
  },
  "cells": [
    {
      "cell_type": "markdown",
      "source": [
        "### 0) 초기 패키지 설치 및 데이터 로드"
      ],
      "metadata": {
        "id": "qk5kTXsqS9ze"
      }
    },
    {
      "cell_type": "code",
      "execution_count": null,
      "metadata": {
        "id": "BsjNNfAzSrK6"
      },
      "outputs": [],
      "source": [
        "!pip install fugashi\n",
        "!pip install sentencepiece\n",
        "!pip install unidic-lite\n",
        "!pip install transformers\n",
        "!pip install torch\n",
        "!pip install torchvision\n",
        "!pip install spacy\n",
        "# !python -m spacy download ja_core_news_sm\n",
        "!pip install mecab-python3\n",
        "!pip install ja_stopword_remover #stopwords\n",
        "!pip install neologdn\n",
        "!pip install demoji\n",
        "!pip install mojimoji\n",
        "# !pip install -U ginza ja_ginza"
      ]
    },
    {
      "cell_type": "code",
      "source": [
        "from google.colab import drive\n",
        "drive.mount('/content/drive', force_remount=True)\n",
        "\n",
        "import pandas as pd\n",
        "import numpy as np\n",
        "import matplotlib.pyplot as plt\n",
        "from matplotlib.font_manager import FontProperties #시각화 시 일본어 폰트 지원\n",
        "fp = FontProperties(fname=r'/content/drive/MyDrive/BA_capstone/ヒラギノ丸ゴ ProN W4.ttc', size=12)\n",
        "\n",
        "df = pd.read_csv('/content/drive/MyDrive/BA_capstone/qna_df_0928.csv',encoding='utf-8')\n",
        "df"
      ],
      "metadata": {
        "id": "r6NAMDXJTIgi"
      },
      "execution_count": null,
      "outputs": []
    },
    {
      "cell_type": "markdown",
      "source": [
        "### 1) 텍스트 데이터 전처리"
      ],
      "metadata": {
        "id": "Gk_ZI2ZpTNTf"
      }
    },
    {
      "cell_type": "code",
      "source": [
        "import re\n",
        "import mojimoji as mo\n",
        "import MeCab\n",
        "from ja_stopword_remover.remover import StopwordRemover\n",
        "import neologdn\n",
        "import demoji"
      ],
      "metadata": {
        "id": "r7YxfjkqTd65"
      },
      "execution_count": null,
      "outputs": []
    },
    {
      "cell_type": "code",
      "source": [
        "#@title 단어 치환  함수 정의 1\n",
        "#제거하지 않을 영어 단어 지정\n",
        "exclude_words = ['ems', 'led', 'uv','aha','bha','youtube','youtuber','tiktok',\n",
        "                 'instagram','spf','cnp','kanebo','3ce','sum37','lush']\n",
        "\n",
        "def special_text_replace(X):\n",
        "  replacements = {\n",
        "        ##뷰티관련##\n",
        "        '@コスメ':'アットコスメ','@cosme':'アットコスメ',\n",
        "        'おすすめ': 'オススメ',\n",
        "        'ドラコス': 'プチプラ',\n",
        "        'ベスコス': 'ベストコスメアワード',\n",
        "        'プチプラコスメ': 'プチプラ',\n",
        "        'デパートコスメ': 'デパコス',\n",
        "        '口コミ': 'クチコミ',\n",
        "        'hifu':'ハイフ',            ##hifu lazer\n",
        "        'しみ':'シミ','染み':'シミ','染(?!み)':'シミ',#기미\n",
        "        'しわ':'シワ','皺':'シワ', #주름\n",
        "        'ユーチューブ':'youtube','ユーチューバー':'youtuber','youtuber':'youtube',\n",
        "        'ティックトック':'tiktok','tik tok':'tiktok',\n",
        "        'insta(?!gram)':'instagram','インスタグラム':'instagram','インスタ(?!グラム)':'instagram',\n",
        "        'refa':'リファ',\n",
        "        'daily':'日常','store':'ストア',\n",
        "        'オイリー肌':'脂性肌','油脂':'オイル','油(?!脂)':'オイル','(?<!インナー)ドライ肌':'乾燥肌',\n",
        "        'リピ(?!ート)':'リピート',\n",
        "        'バームクレンジング':'クレンジングバーム',\n",
        "        'クレンジングフォーム':'洗顔フォーム',\n",
        "        'クレンジングオイル':'オイルクレンジング',\n",
        "        'クレンジングミルク':'ミルククレンジング','ミルク洗顔':'ミルククレンジング',\n",
        "        'ジェル洗顔':'ジェルクレンジング',\n",
        "        'アイリムーバー':'アイメイクアップリムーバー',\n",
        "        'ファンデ(?!ーション)':'ファンデーション',\n",
        "        '用品':'商品','製品':'商品','アイテム':'商品',\n",
        "        '(?<!アット)コスメ':'化粧品','実感':'効果',\n",
        "        '(?<!ハンド)ソープ':'石鹸','花粉(?!症)':'花粉症',\n",
        "        'ダブルクレンジング':'ダブル洗顔',\n",
        "        '(?<!キャン)メイク':'メイクアップ','基礎化粧品':'スキンケア商品',\n",
        "        'テカる':'テカリ','テカテカ':'テカリ',\n",
        "\n",
        "        ##기타 22\n",
        "        '次の日':'翌日','役割':'機能',\n",
        "        '先生':'医師','医者':'医師','ボディー':'ボディ','身体':'ボディ','全身':'ボディ',\n",
        "        '(?<!副)作用':'効果','女子':'女性','手順':'順番',\n",
        "        '食事':'食生活','食べ物':'食生活','食品':'食生活',\n",
        "        '試供品':'サンプル','トライアル':'サンプル','使い心地':'使用感',\n",
        "        'やり方':'仕方','種類':'タイプ','シートマスク':'シートパック',\n",
        "        'よろしくお願いします':'',\n",
        "\n",
        "\n",
        "\n",
        "\n",
        "        ##스킨케어 관련##\n",
        "        '潤い': 'うるおい',#촉촉함\n",
        "        'にきび': 'ニキビ', #여드름\n",
        "\n",
        "        ###쇼핑몰####\n",
        "        'qoo10': 'キュウテン',\n",
        "        'amazon': 'アマゾン',\n",
        "        'rakuten': '楽天',\n",
        "        '無印(?!良品)': '無印良品',\n",
        "        'ds':'ドラックストア',\n",
        "        'daiso':'ダイソー',\n",
        "\n",
        "\n",
        "        ###데파코스 브랜드#####\n",
        "        'addiction': 'アディクション','アディクションさん': 'アディクション',\n",
        "        'annasui': 'アナスイ','アナスイさん': 'アナスイ',\n",
        "        'albion': 'アルビオン','アルビオンさん': 'アルビオン',\n",
        "        'rmk': 'アールエムケー','アールエムケーさん': 'アールエムケー',\n",
        "        'ipsa':'イプサ','イプサさん': 'イプサ',\n",
        "        'ysl':'イヴサンローラン','(?<!イヴ)サンローラン':'イヴサンローラン','yves saint laurent':'イヴサンローラン', 'イヴサンローランさん':'イヴサンローラン',\n",
        "        'skii':'エスケーツー','sk2':'エスケーツー','skⅱ':'エスケーツー','sk-ⅱ':'エスケーツー','sk-ii':'エスケーツー','sk-2':'エスケーツー','エスケーツーさん':'エスケーツー',\n",
        "        'esteelauder':'エスティローダー','estee lauder':'エスティローダー','エスティローダーさん':'エスティローダー','エスティーローダー':'エスティローダー',\n",
        "        'est(?!eelauder)':'エスト','エストさん':'エスト',\n",
        "        'etvos':'エトヴォス','エトヴォスさん':'エトヴォス',\n",
        "        'orlane':'オルラーヌ','オルラーヌさん':'オルラーヌ',\n",
        "        'chicca':'キッカ','キッカさん':'キッカ',\n",
        "        'clarins':'クラランス','クラランスさん':'クラランス',\n",
        "        'clinique':'クリニーク','クリニークさん':'クリニーク',\n",
        "        'cledepeaubeaute':'クレドポーボーテ','クレド(?!ポーボーテ)':'クレドポーボーテ', 'クレドポーボーテさん':'クレドポーボーテ',\n",
        "        'gucci':'グッチ','グッチさん':'グッチ',\n",
        "        'kesalanpatharan':'ケサランパサラン', 'ケサランパサランさん':'ケサランパサラン',\n",
        "        'guerlain':'ゲラン', 'ゲランさん':'ゲラン',\n",
        "        'cosmedecorte':'コスメデコルテ','(?<!cosme)decorte':'コスメデコルテ','コスデコ':'コスメデコルテ','(?<!コスメ)デコルテ':'コスメデコルテ','コスメデコルテさん':'コスメデコルテ',\n",
        "        'chanel': 'シャネル', 'シャネルさん':'シャネル',\n",
        "        'shu uemura':'シュウウエムラ','shuuemura':'シュウウエムラ','シュウ(?!ウエムラ)':'シュウウエムラ','シュウウエムラさん':'シュウウエムラ',\n",
        "        'givenchy':'ジバンシィ','ジバンシィさん':'ジバンシィ',\n",
        "        'giorgio armani':'ジョルジオアルマーニ','(?<!giorgio)armani':'ジョルジオアルマーニ','(?<!ジョルジオ)アルマーニ':'ジョルジオアルマーニ','ジョルジオアルマーニさん':'ジョルジオアルマーニ',\n",
        "        'jillstuart':'ジルスチュアート','ジル(?!スチュアート)':'ジルスチュアート', 'ジルスチュアートさん':'ジルスチュアート',\n",
        "        'suqqu':'スック', 'スックさん':'スック',\n",
        "        'nars': 'ナーズ','ナーズさん': 'ナーズ',\n",
        "        'shiseido': '資生堂','資生堂さん': '資生堂',\n",
        "        'three':'スリー','スリーさん':'スリー',\n",
        "        'dazzshop':'ダズショップ','ダズショップさん':'ダズショップ',\n",
        "        'dior':'ディオール','ディオールさん':'ディオール','カプチュール(?!トータルルセラム)':'カプチュールトータル',\n",
        "        'd if story':'ディフストーリー','d.if story':'ディフストーリー','ディフストーリーさん':'ディフストーリー',\n",
        "        'too faced':'トゥーフェイスド','toofaced':'トゥーフェイスド','トゥーフェイスドさん':'トゥーフェイスド',\n",
        "        'tomford': 'トムフォード','トム(?!フォード)': 'トムフォード','トムフォードさん': 'トムフォード','(?<!ハ)トム(?!ギ)': 'トムフォード','(?<!ハ)トム': 'トムフォード','トム(?!ギ)': 'トムフォード',\n",
        "        'delamer': 'ドゥラメール','ドゥラメールさん': 'ドゥラメール',\n",
        "        'noevir': 'ノエビアスペチアーレ','ノエビア(?!スペチアーレ)': 'ノエビアスペチアーレ','ノエビアスペチアーレさん': 'ノエビアスペチアーレ',\n",
        "        'burberry': 'バーバリー','バーバリーさん': 'バーバリー',\n",
        "        'bobbi brown': 'ボビィブラウン','ボビィ(?!ブラウン)': 'ボビィブラウン','ボビィブラウンさん': 'ボビィブラウン',\n",
        "        'pola': 'ポーラ','ポーラさん': 'ポーラ',\n",
        "        'paul&joe': 'ポールアンドジョー','p&j': 'ポールアンドジョー','ポール&ジョー': 'ポールアンドジョー', 'ポルジョ': 'ポールアンドジョー', 'ポールアンドジョーさん': 'ポールアンドジョー',\n",
        "        'mac': 'マック','マックさん': 'マック',\n",
        "        'lancome': 'ランコム','ランコムさん': 'ランコム',\n",
        "        'lunasol': 'ルナソル','ルナソルさん': 'ルナソル',\n",
        "        'loccitane': 'ロクシタン','l’occitane': 'ロクシタン','ロクシタンさん': 'ロクシタン',\n",
        "        'laura mercier': 'ローラメルシエ','ローラ(?!メルシエ)': 'ローラメルシエ','ローラメルシエさん': 'ローラメルシエ',\n",
        "        'les merveilleuses laduree': 'レメルヴェイユーズラデュレ','(?<!レメルヴェイユーズ)ラデュレ': 'レメルヴェイユーズラデュレ','レメルヴェイユーズラデュレさん': 'レメルヴェイユーズラデュレ',\n",
        "        'makeupforever': 'メイクアップフォーエバー','mufe': 'メイクアップフォーエバー','メイクアップフォーエバーさん': 'メイクアップフォーエバー',\n",
        "        'elegance': 'エレガンス','エレガンスさん': 'エレガンス',\n",
        "        'celvoke': 'セルヴォーク','セルヴォークさん': 'セルヴォーク',\n",
        "        'kiehls': 'キールズ','キールズさん': 'キールズ',\n",
        "        'dolce&gabana': 'ドルチェアンドガッバーナ','ドルチェ&ガッバーナ': 'ドルチェアンドガッバーナ','ドルガバ': 'ドルチェアンドガッバーナ','ドルチェアンドガッバーナさん': 'ドルチェアンドガッバーナ',\n",
        "        'shiro':'シロ','シロさん':'シロ',\n",
        "\n",
        "        'kose':'コーセー','dプログラム':'ディープログラム',\n",
        "\n",
        "\n",
        "        ####기타 화장품 브랜드####\n",
        "        'skin&lab(スキンアンドラブ)': 'スキンアンドラブ','skin&lab(?!(スキンアンドラブ))': 'スキンアンドラブ','スキンアンドラブさん': 'スキンアンドラブ',\n",
        "        'vt': 'ブイティー','ブイティーさん': 'ブイティー',\n",
        "        'duo': 'デュオ','デュオさん': 'デュオ',\n",
        "        'aqualabel': 'アクアレーベル','アクアレーベルさん': 'アクアレーベル',\n",
        "        'haku': 'ハク','ハクさん': 'ハク',\n",
        "        'ba': 'ビーエー','b.a': 'ビーエー','ビーエーさん': 'ビーエー',\n",
        "        'ahres': 'アーレス','アーレスさん': 'アーレス',\n",
        "        'elixir': 'エリクシール','エリクシールさん': 'エリクシール',\n",
        "        'predia': 'プレディア','プレディアさん': 'プレディア',\n",
        "        'alblanc': 'アルブラン','アルブランさん': 'アルブラン',\n",
        "        'branchic': 'ブランシック','ブランシックさん': 'ブランシック',\n",
        "        'dejavu': 'デジャヴュ','デジャヴュさん': 'デジャヴュ',\n",
        "        'obagi': 'オバジ','オバジさん': 'オバジ',\n",
        "        'canmake': 'キャンメイク','キャンメイクさん': 'キャンメイク',\n",
        "        'javin de seoul': 'ジャビンドゥソウル','ジャビンドゥソウルさん': 'ジャビンドゥソウル',\n",
        "        'visee': 'ヴィセ','ヴィセさん': 'ヴィセ',\n",
        "        'dew': 'デュウ','デュウさん': 'デュウ',\n",
        "        'dr.ci:labo': 'ドクターシーラボ','dr.ci labo': 'ドクターシーラボ','ドクターシーラボさん': 'ドクターシーラボ',\n",
        "        'kate':'ケイト','ケイトさん': 'ケイト',\n",
        "        'excel': 'エクセル','エクセルさん': 'エクセル',\n",
        "        'astalift': 'アスタリフト','アスタリフトさん': 'アスタリフト',\n",
        "        'sabon': 'サボン','サボンさん': 'サボン',\n",
        "        'fancl': 'ファンケル','ファンケルさん': 'ファンケル',\n",
        "        'ettusais': 'エテュセ','エテュセさん': 'エテュセ',\n",
        "        'n organic': 'エヌオーガニック','エヌオーガニックさん': 'エヌオーガニック',\n",
        "        'electron': 'エレクトロン','エレクトロンさん': 'エレクトロン',\n",
        "        'mentholatum': 'メンソレータム','メンソレータムさん': 'メンソレータム',\n",
        "        'rosyrosa': 'ロージーローザ','ロージーローザさん': 'ロージーローザ',\n",
        "        'FAS': 'ファス','ファスさん': 'ファス',\n",
        "        'APLIN': 'アプリン','アプリンさん': 'アプリン',\n",
        "        'cezanne': 'セザンヌ','セザンヌさん': 'セザンヌ',\n",
        "        '肌研': 'ハダラボ','肌ラボ': 'ハダラボ','ハダラボさん': 'ハダラボ',\n",
        "        'chacott cosmetics': 'チャコットコスメティクス','chacottcosmetics': 'チャコットコスメティクス','チャコット': 'チャコットコスメティクス','チャコットコスメティクスさん': 'チャコットコスメティクス',\n",
        "        'apagard': 'アパガード','アパガードさん': 'アパガード',\n",
        "        'attenir': 'アテニア','アテニアさん': 'アテニア',\n",
        "        'shiroru': 'シロル','シロルさん': 'シロル',\n",
        "        'primavista': 'プリマヴィスタ','プリマヴィスタさん': 'プリマヴィスタ',\n",
        "        'sofina': 'ソフィーナ','ソフィーナさん': 'ソフィーナ',\n",
        "        'the collagen': 'ザコラーゲン','ザコラーゲンさん': 'ザコラーゲン',\n",
        "        'sebamed': 'セバメド','セバメドさん': 'セバメド',\n",
        "        'atrix': 'アトリックス','アトリックスさん': 'アトリックス',\n",
        "        'herris': 'ハーリス','ハーリスさん': 'ハーリス',\n",
        "        'saborino': 'サボリーノ','サボリーノさん': 'サボリーノ',\n",
        "        'amplitude': 'アンプリチュード','アンプリチュードさん': 'アンプリチュード',\n",
        "        'house of rose':'ハウスオブローゼ','ハウスオブローゼさん':'ハウスオブローゼ',\n",
        "        'la roche-posay':'ラロッシュポゼ','larocheposay':'ラロッシュポゼ','la roche posay':'ラロッシュポゼ','ラロッシュ(?!ポゼ)':'ラロッシュポゼ','ラロッシュポゼさん':'ラロッシュポゼ',\n",
        "        'lululun':'ルルルン','ルルルンさん':'ルルルン',\n",
        "        'メラノcc':'メラノシーシー','メラノシーシーさん':'メラノシーシー',\n",
        "        'suisavon':'首里石鹸','首里石鹸さん':'首里石鹸',\n",
        "        'ink':'インク','インクさん':'インク',\n",
        "        'ignis':'イグニス','イグニスさん':'イグニス',\n",
        "        'curel':'キュレル','キュレルさん':'キュレル',\n",
        "        'apex':'アペックス','アペックスさん':'アペックス',\n",
        "        'ラッシュ':'lush','カネボウ':'kanebo',\n",
        "\n",
        "\n",
        "\n",
        "        ##한국브랜드##\n",
        "        'the history of whoo': 'ドフー','thehistoryofwhoo': 'ドフー','thehistoryof后': 'ドフー','the history of 后': 'ドフー','ザヒストリーオブフー': 'ドフー','ザフー': 'ドフー','ドフーさん': 'ドフー',\n",
        "        'innisfree':'イニスフリー','イニスフリーさん':'イニスフリー',\n",
        "        'hera': 'ヘラ','ヘラさん': 'ヘラ',\n",
        "        'etude house':'エチュードハウス','etudehouse':'エチュードハウス','エチュードハウスさん':'エチュードハウス',\n",
        "        'the saem':'ザセム','ザセムさん':'ザセム',\n",
        "        'iope':'アイオペ','アイオペさん':'アイオペ',\n",
        "        'tonymoly':'トニーモリー','トニーモリーさん':'トニーモリー',\n",
        "        'missha':'ミシャ','ミシャさん':'ミシャ',\n",
        "        'laneige':'ラネージュ','ラネージュさん':'ラネージュ',\n",
        "        'mamonde':'マモンド','マモンドさん':'マモンド',\n",
        "        'apieu':'アピュー','アピューさん':'アピュー',\n",
        "        'hanyul':'ハンユル','ハンユルさん':'ハンユル',\n",
        "        'nature republic':'ネイチャーリパブリック','naturerepublic':'ネイチャーリパブリック','ネイチャーリパブリックさん':'ネイチャーリパブリック',\n",
        "        'the face shop':'ザフェイスショップ','thefaceshop':'ザフェイスショップ','ザフェイスショップさん':'ザフェイスショップ',\n",
        "        'primera':'プリメラ','プリメラさん':'プリメラ',\n",
        "        'skinfood':'スキンフード','スキンフードさん':'スキンフード',\n",
        "        'itsskin':'イッツスキン','イッツスキンさん':'イッツスキン',\n",
        "        'sulwhasoo':'ソルファス','雪花秀':'ソルファス','ソルファスさん':'ソルファス',\n",
        "        'wonjungyo': 'ウォンジョンヨ','ウォンジョンヨさん': 'ウォンジョンヨ',\n",
        "        'abib': 'アビブ','アビブさん': 'アビブ',\n",
        "        'cosrx': 'コスアールエックス','コスアールエックスさん': 'コスアールエックス',\n",
        "        'tirtir': 'ティルティル','ティルティルさん': 'ティルティル',\n",
        "        'anua': 'アヌア','アヌアさん': 'アヌア',\n",
        "        'aritaum': 'アリタウム','アリタウムさん': 'アリタウム',\n",
        "        'beyond': 'ビヨンド','ビヨンドさん': 'ビヨンド',\n",
        "        'sooryehan': 'スリョハン','スリョハンさん': 'スリョハン',\n",
        "        'holikaholika': 'ホリカホリカ','holika holika': 'ホリカホリカ','ホリカホリカさん': 'ホリカホリカ',\n",
        "        'banilaco': 'バニラコ','banila co': 'バニラコ','バニラコさん': 'バニラコ',\n",
        "        'goodal': 'グーダル','グーダルさん': 'グーダル',\n",
        "        'clio': 'クリオ','クリオさん': 'クリオ',\n",
        "        'peripera': 'ペリペラ','ペリペラさん': 'ペリペラ',\n",
        "        'mediheal': 'メディヒール','メディヒールさん': 'メディヒール',\n",
        "        'espoir': 'エスポア','エスポアさん': 'エスポア',\n",
        "        'too cool for school': 'トゥークールフォースクール','toocoolforschool': 'トゥークールフォースクール',\n",
        "        'dr.jart': 'ドクタージャルト','drjart': 'ドクタージャルト','ドクタージャルトさん': 'ドクタージャルト',\n",
        "        'april skin': 'エイプリルスキン','aprilskin': 'エイプリルスキン','エイプリルスキンさん': 'エイプリルスキン',\n",
        "        'labiotte': 'ラビオッテ','ラビオッテさん': 'ラビオッテ', ##토니모리의 고급브랜드\n",
        "        'belief': 'ビリーフ','ビリーフさん': 'ビリーフ',\n",
        "        'cnp laboratory': 'cnp','cnplaboratory': 'cnp','チャアンドパク': 'cnp','cnpさん': 'cnp',\n",
        "        'bring green': 'ブリングリーン','bringgreen': 'ブリングリーン','ブリングリーンさん': 'ブリングリーン',\n",
        "        'jung saem mool': 'ジョンセンムル','jungsaemmool': 'ジョンセンムル','ジョンセンムルさん': 'ジョンセンムル',\n",
        "        'numbuzin':'ナンバーズイン','ナンバーズインさん':'ナンバーズイン',\n",
        "        'manyo':'魔女工場','マニョ':'魔女工場','魔女工場さん':'魔女工場',\n",
        "        'torriden': 'トリデン','トリデンさん': 'トリデン',\n",
        "        'suum37':'sum37','スム37':'sum37','sum37さん':'sum37',\n",
        "    }\n",
        "\n",
        "  for key, value in replacements.items():\n",
        "    X = re.sub(key, value, X,flags=re.IGNORECASE)  # 대소문자 구분 없이 변환\n",
        "\n",
        "  return X\n"
      ],
      "metadata": {
        "cellView": "form",
        "id": "yGMACfF2TkN4"
      },
      "execution_count": null,
      "outputs": []
    },
    {
      "cell_type": "code",
      "source": [
        "#@title 단어 치환 함수 정의 2\n",
        "\n",
        "def special_text_cleaning(X):\n",
        "\n",
        "    # 문자열이 아닌 경우 처리를 건너뛰기\n",
        "    if not isinstance(X, str):\n",
        "        return X\n",
        "\n",
        "    # 반각문자를 전각문자로 변환(문자 종류 통일)\n",
        "    def change_kana(text):\n",
        "        x = mo.zen_to_han(text, kana=False) # 영어 전각을 반각으로\n",
        "        # x = mo.han_to_zen(x, ascii=False)  # 카나 반각을 전각으로\n",
        "        x = x.lower()  # 영어 대문자를 소문자로\n",
        "        return x\n",
        "\n",
        "    ##상단의 함수 적용\n",
        "    tmp = change_kana(X)  # 문자종류 통일 / 영어 소문자화\n",
        "\n",
        "    # 다양한 특수문자, 이모티콘, URL 제거\n",
        "    patterns = [\n",
        "        r'[\\t\\s!\"#$%&\\'\\\\\\\\()*+,-./:;；：<=>?@[\\\\]^_`{|}~○｢｣「」〔〕“”〈〉『』&#8203;``oaicite:{\"number\":1,\"invalid_reason\":\"Malformed citation &#8203;``oaicite:{\"number\":1,\"invalid_reason\":\"Malformed citation 【】\"}``&#8203;\"}``&#8203;＆＊（）＄＃＠？！｀＋￥¥％♪…◇→←↓↑｡･ω･｡ﾟ´∀｀ΣДｘ⑥◎©︎♡★☆▽※ゞノ〆εσ＞＜┌┘]',\n",
        "        r'[!-/:-@[-`{-~]',  # ASCII 기호\n",
        "        r'https?://[\\w/:%#\\$&\\?\\(\\)~\\.=\\+\\-]+',  # URL\n",
        "        r'[■-♯]',  # 일부 특수 문자\n",
        "        r'①|②|´|・|ω|・|｀|ヽ'  # 기타 문자\n",
        "    ]\n",
        "    for pattern in patterns:\n",
        "        tmp = re.sub(pattern, '', tmp)\n",
        "\n",
        "    tmp = special_text_replace(tmp)  # 특정 단어 치환\n",
        "\n",
        "    return tmp"
      ],
      "metadata": {
        "cellView": "form",
        "id": "sdC5n4_NTnnl"
      },
      "execution_count": null,
      "outputs": []
    },
    {
      "cell_type": "code",
      "source": [
        "#@title 단어 정규화함수\n",
        "\n",
        "def only_letters(text):\n",
        "    # スム37을 일시적으로 치환\n",
        "    text = text.replace(\"sum37\", \"TMPPLACEHOLDER\")\n",
        "    text = text.replace(\"tゾーン\", \"TMPPLACEHOLDER_second\")\n",
        "    text = mo.han_to_zen(text, ascii=False)  # 카나 반각을 전각으로\n",
        "    text = re.sub(r'(\\d{1,3}(,\\d{3})*|\\d+)', '0', text)  # 쉼표가 있는 숫자도 대체\n",
        "    text = text.replace('\\n', '').replace('\\r', '')  # 줄바꿈 제거\n",
        "    text = demoji.replace(string=text, repl='')  # 이모티콘 제거\n",
        "\n",
        "    # 일시적으로 치환한 스무37을 원래대로 복구\n",
        "    text = text.replace(\"TMPPLACEHOLDER\", \"sum37\")\n",
        "    text = text.replace(\"TMPPLACEHOLDER_second\", \"tゾーン\")\n",
        "\n",
        "    return text\n",
        "\n",
        "def remove_english_except_exclusions(text, exclude_words):\n",
        "    # 알파벳 문자열을 찾는 정규 표현식 패턴\n",
        "    english_pattern = re.compile(r'[A-Za-z]+')\n",
        "\n",
        "    # 텍스트 내의 모든 영어 단어를 찾습니다.\n",
        "    english_words = re.findall(english_pattern, text)\n",
        "\n",
        "    # 제외 단어 목록에 없는 단어만 제거\n",
        "    for word in english_words:\n",
        "        if word.lower() not in [e.lower() for e in exclude_words]:\n",
        "            text = text.replace(word, '')\n",
        "\n",
        "    return text\n",
        "\n",
        "\n",
        "\n",
        "def text_normalization(X):\n",
        "    # 문자열이 아닌 경우 처리를 건너뛰기\n",
        "    if not isinstance(X, str):\n",
        "        return X\n",
        "\n",
        "    tmp = neologdn.normalize(X)  # 정규화\n",
        "    tmp = only_letters(tmp)\n",
        "    tmp = remove_english_except_exclusions(tmp,exclude_words) #영어제거\n",
        "\n",
        "    # 다양한 특수문자, 이모티콘, URL 제거\n",
        "    patterns = [\n",
        "        r'[\\t\\s!\"#$%&\\'\\\\\\\\()*+,-./:;；：<=>?@[\\\\]^_`{|}~○｢｣「」〔〕“”〈〉『』&#8203;``oaicite:{\"number\":1,\"invalid_reason\":\"Malformed citation &#8203;``oaicite:{\"number\":1,\"invalid_reason\":\"Malformed citation 【】\"}``&#8203;\"}``&#8203;＆＊（）＄＃＠？！｀＋￥¥％♪…◇→←↓↑｡･ω･｡ﾟ´∀｀ΣДｘ⑥◎©︎♡★☆▽※ゞノ〆εσ＞＜┌┘]',\n",
        "        r'[!-/:-@[-`{-~]',  # ASCII 기호\n",
        "        r'https?://[\\w/:%#\\$&\\?\\(\\)~\\.=\\+\\-]+',  # URL\n",
        "        r'[■-♯]',  # 일부 특수 문자\n",
        "        r'①|②|´|・|ω|・|｀|ヽ|【|】'  # 기타 문자\n",
        "    ]\n",
        "    for pattern in patterns:\n",
        "        tmp = re.sub(pattern, '', tmp)\n",
        "\n",
        "    return tmp\n"
      ],
      "metadata": {
        "cellView": "form",
        "id": "xtn9Wy4AT7Ni"
      },
      "execution_count": null,
      "outputs": []
    },
    {
      "cell_type": "code",
      "source": [
        "#전처리 함수 적용\n",
        "\n",
        "def preprocess_text(text):\n",
        "  if not isinstance(text, str):\n",
        "        return text\n",
        "\n",
        "  text = special_text_cleaning(text)\n",
        "  text = text_normalization(text)\n",
        "  return text\n",
        "\n",
        "#0번째 전처리 함수 적용\n",
        "df2 =  df.copy()\n",
        "# df2['내용'] = df2['내용'].apply(special_text_cleaning)\n",
        "\n",
        "#전처리 함수 적용\n",
        "df2['내용'] = df2['내용'].apply(preprocess_text)\n",
        "\n",
        "# df2.to_csv('./normalized_content_v6.csv', index=False,encoding='utf-8-sig') #저장"
      ],
      "metadata": {
        "id": "beU7cmPOUAXG"
      },
      "execution_count": null,
      "outputs": []
    },
    {
      "cell_type": "markdown",
      "source": [
        "### 2) MeCab 사용자 사전 적용"
      ],
      "metadata": {
        "id": "BGcypCmAUO9B"
      }
    },
    {
      "cell_type": "code",
      "source": [
        "!pip install mecab-python3 unidic-lite\n",
        "!apt install aptitude\n",
        "!aptitude install mecab libmecab-dev mecab-ipadic-utf8 git make curl xz-utils file -y\n",
        "!pip install mecab-python3==0.7\n",
        "\n",
        "!apt-get -q -y install sudo file mecab libmecab-dev mecab-ipadic-utf8 git curl python-mecab > /dev/null\n",
        "!git clone --depth 1 https://github.com/neologd/mecab-ipadic-neologd.git > /dev/null\n",
        "!echo yes | mecab-ipadic-neologd/bin/install-mecab-ipadic-neologd -n > /dev/null 2>&1\n",
        "!pip install mecab-python3 > /dev/null\n",
        "\n",
        "!ln -s /etc/mecabrc /usr/local/etc/mecabrc"
      ],
      "metadata": {
        "id": "NXBYICCyUV-B"
      },
      "execution_count": null,
      "outputs": []
    },
    {
      "cell_type": "code",
      "execution_count": null,
      "metadata": {
        "colab": {
          "base_uri": "https://localhost:8080/"
        },
        "id": "ZVDVvppOHdlH",
        "outputId": "efb07ba8-c08e-4cf8-be4b-83de1bb8fcd1"
      },
      "outputs": [
        {
          "name": "stdout",
          "output_type": "stream",
          "text": [
            "MeCab Path: /usr/bin/mecab\n",
            "MeCab Dic Path: /usr/lib/x86_64-linux-gnu/mecab/dic\n"
          ]
        }
      ],
      "source": [
        "import subprocess\n",
        "\n",
        "# MeCab의 설치 경로를 찾습니다.\n",
        "mecab_path = subprocess.getoutput(\"which mecab\")\n",
        "mecab_dic_path = subprocess.getoutput(\"mecab-config --dicdir\")\n",
        "\n",
        "print(\"MeCab Path:\", mecab_path)\n",
        "print(\"MeCab Dic Path:\", mecab_dic_path)"
      ]
    },
    {
      "cell_type": "code",
      "execution_count": null,
      "metadata": {
        "colab": {
          "base_uri": "https://localhost:8080/"
        },
        "id": "dLc8HnnEH62o",
        "outputId": "962aecf5-3780-417d-b04c-81dbeedd5cde"
      },
      "outputs": [
        {
          "name": "stdout",
          "output_type": "stream",
          "text": [
            "'mecab-dict-index' 파일을 찾았습니다. 경로는 다음과 같습니다:\n",
            "/usr/lib/mecab/mecab-dict-index\n",
            "\n"
          ]
        }
      ],
      "source": [
        "import subprocess\n",
        "\n",
        "def find_file_path(filename):\n",
        "    try:\n",
        "        # 파일을 찾기 위한 명령어를 구성합니다. 최상위 디렉토리부터 검색을 시작합니다.\n",
        "        command = f\"find / -type f -name {filename} 2>/dev/null\"\n",
        "\n",
        "        # 명령을 실행합니다.\n",
        "        process = subprocess.Popen(command, stdout=subprocess.PIPE, stderr=subprocess.PIPE, shell=True, text=True)\n",
        "\n",
        "        # 명령의 출력 결과를 받습니다.\n",
        "        output, error = process.communicate()\n",
        "\n",
        "        # 'output' 변수에 결과가 담겨 있습니다.\n",
        "        if output:\n",
        "            # 파일 경로를 출력합니다. 여러 경로가 있을 수 있으니, 모든 결과를 확인하세요.\n",
        "            print(f\"'{filename}' 파일을 찾았습니다. 경로는 다음과 같습니다:\")\n",
        "            print(output)\n",
        "        else:\n",
        "            print(f\"'{filename}' 파일을 찾지 못했습니다.\")\n",
        "\n",
        "    except Exception as e:\n",
        "        print(e)\n",
        "\n",
        "# 사용 예시\n",
        "find_file_path(\"mecab-dict-index\")"
      ]
    },
    {
      "cell_type": "code",
      "execution_count": null,
      "metadata": {
        "id": "IjXIccAJMX6N"
      },
      "outputs": [],
      "source": [
        "!mkdir ../var/lib/mecab/dic/userdic"
      ]
    },
    {
      "cell_type": "code",
      "execution_count": null,
      "metadata": {
        "colab": {
          "base_uri": "https://localhost:8080/"
        },
        "id": "93QiRK1rGiJ6",
        "outputId": "859745ab-a7bf-4a85-92d9-45ae2453fbd6"
      },
      "outputs": [
        {
          "output_type": "stream",
          "name": "stdout",
          "text": [
            "reading /content/user_dic_mecab2.csv ... 277\n",
            "emitting double-array:   1% |                                           | \remitting double-array:   2% |                                           | \remitting double-array:   3% |#                                          | \remitting double-array:   4% |#                                          | \remitting double-array:   5% |##                                         | \remitting double-array:   6% |##                                         | \remitting double-array:   7% |###                                        | \remitting double-array:   8% |###                                        | \remitting double-array:   9% |###                                        | \remitting double-array:  10% |####                                       | \remitting double-array:  11% |####                                       | \remitting double-array:  12% |#####                                      | \remitting double-array:  13% |#####                                      | \remitting double-array:  14% |######                                     | \remitting double-array:  15% |######                                     | \remitting double-array:  16% |#######                                    | \remitting double-array:  17% |#######                                    | \remitting double-array:  18% |#######                                    | \remitting double-array:  19% |########                                   | \remitting double-array:  20% |########                                   | \remitting double-array:  21% |#########                                  | \remitting double-array:  22% |#########                                  | \remitting double-array:  23% |#########                                  | \remitting double-array:  24% |##########                                 | \remitting double-array:  25% |##########                                 | \remitting double-array:  26% |###########                                | \remitting double-array:  27% |###########                                | \remitting double-array:  28% |############                               | \remitting double-array:  29% |############                               | \remitting double-array:  30% |############                               | \remitting double-array:  31% |#############                              | \remitting double-array:  32% |#############                              | \remitting double-array:  33% |##############                             | \remitting double-array:  34% |##############                             | \remitting double-array:  35% |###############                            | \remitting double-array:  36% |###############                            | \remitting double-array:  37% |################                           | \remitting double-array:  38% |################                           | \remitting double-array:  39% |################                           | \remitting double-array:  40% |#################                          | \remitting double-array:  41% |#################                          | \remitting double-array:  42% |##################                         | \remitting double-array:  43% |##################                         | \remitting double-array:  44% |###################                        | \remitting double-array:  45% |###################                        | \remitting double-array:  46% |###################                        | \remitting double-array:  47% |####################                       | \remitting double-array:  48% |####################                       | \remitting double-array:  49% |#####################                      | \remitting double-array:  50% |#####################                      | \remitting double-array:  51% |#####################                      | \remitting double-array:  52% |######################                     | \remitting double-array:  53% |######################                     | \remitting double-array:  54% |#######################                    | \remitting double-array:  55% |#######################                    | \remitting double-array:  56% |########################                   | \remitting double-array:  57% |########################                   | \remitting double-array:  58% |#########################                  | \remitting double-array:  59% |#########################                  | \remitting double-array:  60% |#########################                  | \remitting double-array:  61% |##########################                 | \remitting double-array:  62% |##########################                 | \remitting double-array:  63% |###########################                | \remitting double-array:  64% |###########################                | \remitting double-array:  65% |############################               | \remitting double-array:  66% |############################               | \remitting double-array:  67% |############################               | \remitting double-array:  68% |#############################              | \remitting double-array:  69% |#############################              | \remitting double-array:  70% |##############################             | \remitting double-array:  71% |##############################             | \remitting double-array:  72% |###############################            | \remitting double-array:  73% |###############################            | \remitting double-array:  74% |###############################            | \remitting double-array:  75% |################################           | \remitting double-array:  76% |################################           | \remitting double-array:  77% |#################################          | \remitting double-array:  78% |#################################          | \remitting double-array:  79% |##################################         | \remitting double-array:  80% |##################################         | \remitting double-array:  81% |##################################         | \remitting double-array:  82% |###################################        | \remitting double-array:  83% |###################################        | \remitting double-array:  84% |####################################       | \remitting double-array:  85% |####################################       | \remitting double-array:  86% |#####################################      | \remitting double-array:  87% |#####################################      | \remitting double-array:  88% |#####################################      | \remitting double-array:  89% |######################################     | \remitting double-array:  90% |######################################     | \remitting double-array:  91% |#######################################    | \remitting double-array:  92% |#######################################    | \remitting double-array:  93% |########################################   | \remitting double-array:  94% |########################################   | \remitting double-array:  95% |########################################   | \remitting double-array:  96% |#########################################  | \remitting double-array:  97% |#########################################  | \remitting double-array:  98% |########################################## | \remitting double-array:  99% |########################################## | \remitting double-array: 100% |###########################################| \n",
            "\n",
            "done!\n"
          ]
        }
      ],
      "source": [
        "!/usr/lib/mecab/mecab-dict-index \\\n",
        "-d /usr/share/mecab/dic/ipadic \\\n",
        "-u /content/userdic.dic \\\n",
        "-f utf-8-sig \\\n",
        "-t utf-8-sig \"/content/user_dic_mecab2.csv\""
      ]
    },
    {
      "cell_type": "code",
      "execution_count": null,
      "metadata": {
        "id": "UeH4iKy-CnxC"
      },
      "outputs": [],
      "source": [
        "!echo \"userdic = /content/userdic.dic\" >> /etc/mecabrc"
      ]
    },
    {
      "cell_type": "code",
      "source": [
        "#사용자 사전 작동확인\n",
        "import MeCab\n",
        "tagger = MeCab.Tagger('-O wakati')\n",
        "print(tagger.parse('コスメデコルテが好きだよ。資生堂のオイルクレンジングも必要！'))\n",
        "print(tagger.parse('私はインナードライ肌でとにかく敏感肌です。すぐにニキビや吹き出物ができ、毛穴の開きも目立ちま...\t'))"
      ],
      "metadata": {
        "id": "a09vwKw5UdxF"
      },
      "execution_count": null,
      "outputs": []
    },
    {
      "cell_type": "markdown",
      "source": [
        "### 3) 버토픽 실행"
      ],
      "metadata": {
        "id": "CK4Zi49UUka6"
      }
    },
    {
      "cell_type": "code",
      "source": [
        "!pip install bertopic"
      ],
      "metadata": {
        "id": "mgVaAfHyUpvr"
      },
      "execution_count": null,
      "outputs": []
    },
    {
      "cell_type": "code",
      "source": [
        "#전처리 된 텍스트 로드\n",
        "pre_df = pd.read_csv('/content/drive/MyDrive/BA_capstone/normalized_content_v6.csv',encoding='utf-8')\n",
        "pre_df"
      ],
      "metadata": {
        "id": "wFIMU_umUrx9"
      },
      "execution_count": null,
      "outputs": []
    },
    {
      "cell_type": "code",
      "execution_count": null,
      "metadata": {
        "colab": {
          "base_uri": "https://localhost:8080/"
        },
        "id": "vZBaaHlnsakn",
        "outputId": "32e96e3b-ece9-438c-9b7b-9cd49cd8c655"
      },
      "outputs": [
        {
          "output_type": "stream",
          "name": "stderr",
          "text": [
            "<ipython-input-15-8f52b2515957>:7: SettingWithCopyWarning: \n",
            "A value is trying to be set on a copy of a slice from a DataFrame.\n",
            "Try using .loc[row_indexer,col_indexer] = value instead\n",
            "\n",
            "See the caveats in the documentation: https://pandas.pydata.org/pandas-docs/stable/user_guide/indexing.html#returning-a-view-versus-a-copy\n",
            "  pre_df2['날짜'] = pd.to_datetime(pre_df2['날짜'])\n"
          ]
        }
      ],
      "source": [
        "##컬럼 지정\n",
        "pre_df2 = pre_df[pre_df['내용'].apply(lambda x: isinstance(x, str))]\n",
        "text = pre_df2['내용']\n",
        "text = text.reset_index(drop=True)\n",
        "\n",
        "# '날짜' 열의 데이터를 pandas 날짜 형식으로 변환\n",
        "pre_df2['날짜'] = pd.to_datetime(pre_df2['날짜'])\n",
        "dates_list = pre_df2['날짜'].tolist()"
      ]
    },
    {
      "cell_type": "code",
      "execution_count": null,
      "metadata": {
        "id": "eU_f1qnEkdKJ"
      },
      "outputs": [],
      "source": [
        "#@title 토큰화 함수_명사\n",
        "from bertopic import BERTopic\n",
        "from sklearn.feature_extraction.text import CountVectorizer\n",
        "import MeCab\n",
        "import pandas as pd\n",
        "\n",
        "def tokenize_jp_v2(text,unique_values):\n",
        "    if not isinstance(text, str):\n",
        "        return text\n",
        "\n",
        "    with open('/content/drive/MyDrive/BA_capstone/stop_words.txt', 'r', encoding='utf-8') as f:\n",
        "        stopwords = set(f.read().splitlines())\n",
        "    with open('/content/drive/MyDrive/BA_capstone/my_stopwords.txt', 'r', encoding='utf-8') as f:\n",
        "        new_stopwords = set(f.read().splitlines())\n",
        "\n",
        "\n",
        "    # MeCab를 사용하여 텍스트를 토큰화하고 형태소 분석합니다.\n",
        "    mecab = MeCab.Tagger(\"-Ochasen\")\n",
        "    node = mecab.parseToNode(text)\n",
        "    words = []\n",
        "\n",
        "    while node:\n",
        "        features = node.feature.split(',')\n",
        "        if features[0] == '名詞' and (features[1] == '一般' or features[1] == '固有名詞') or node.surface in unique_values:\n",
        "            words.append(node.surface)\n",
        "        node = node.next\n",
        "\n",
        "    not_need_words = ['。','ください','です','コイン','ます','スタンプ','お過ごし','皆様','皆さま','皆さん',\n",
        "                      'ます','くらい','ぐらい','さん','押し','ましょ','よく','今日','教えてください','お願いいたします']\n",
        "\n",
        "    # 불용어를 제거합니다.\n",
        "    words = [w for w in words if w not in stopwords and w not in new_stopwords and w not in not_need_words]\n",
        "    words = [x for x in words if len(x) > 1 or x in ['朝', '夜']] # '肌'\n",
        "    words = [x for x in words if len(x) < 10]\n",
        "\n",
        "    return words\n",
        "\n",
        "# tokenized_text = tokenize_jp_v2(your_text, unique_values)"
      ]
    },
    {
      "cell_type": "code",
      "execution_count": null,
      "metadata": {
        "colab": {
          "base_uri": "https://localhost:8080/",
          "height": 122,
          "referenced_widgets": [
            "7a9e8c5674b74deeb63588f09efdf54d",
            "0255c9f5151c457689324dd5aa9ab801",
            "7982e955700549e3b4578575088e396b",
            "832ef082403c42b5ac4b68b111140b87",
            "a75f8b5e3c4046a3a2377458527d989c",
            "987dd94cb632450db7bc2901a91d6e93",
            "f8a170b103f143ed89d125e1270a2769",
            "ad5856095fcf4918b396cc333e0170b0",
            "2af2802857064170870259668c7970ae",
            "a012d346f7b7462999d2fdde58378738",
            "3fca0c713b754be480f90c8b97df72a7"
          ]
        },
        "id": "T3QwWAC6dyGl",
        "outputId": "ee04e43f-5556-42e8-de4a-aca521845e44"
      },
      "outputs": [
        {
          "output_type": "display_data",
          "data": {
            "text/plain": [
              "Batches:   0%|          | 0/891 [00:00<?, ?it/s]"
            ],
            "application/vnd.jupyter.widget-view+json": {
              "version_major": 2,
              "version_minor": 0,
              "model_id": "7a9e8c5674b74deeb63588f09efdf54d"
            }
          },
          "metadata": {}
        },
        {
          "output_type": "stream",
          "name": "stderr",
          "text": [
            "2023-11-22 08:29:57,879 - BERTopic - Transformed documents to Embeddings\n",
            "2023-11-22 08:30:12,865 - BERTopic - Reduced dimensionality\n",
            "2023-11-22 08:31:10,684 - BERTopic - Clustered reduced embeddings\n",
            "2023-11-22 08:32:32,628 - BERTopic - Reduced number of topics from 206 to 50\n"
          ]
        }
      ],
      "source": [
        "#@title 버토픽 실행 후 저장\n",
        "from bertopic.representation import KeyBERTInspired, MaximalMarginalRelevance\n",
        "import hdbscan\n",
        "from umap import UMAP\n",
        "from bertopic.vectorizers import ClassTfidfTransformer\n",
        "\n",
        "# KeyBERT\n",
        "keybert_model = KeyBERTInspired()\n",
        "\n",
        "# MMR\n",
        "mmr_model = MaximalMarginalRelevance(diversity=0.7)\n",
        "\n",
        "# All representation models\n",
        "representation_model = {\n",
        "    \"KeyBERT\": keybert_model,\n",
        "    \"MMR\": mmr_model\n",
        "}\n",
        "#cluster_selection_method='eom', ,min_samples = 10\n",
        "# hdbscan_model = hdbscan.HDBSCAN(min_cluster_size=10, metric='euclidean',prediction_data=True)\n",
        "\n",
        "\n",
        "# umap_model = UMAP(n_neighbors=15, n_components=5, min_dist=0.0, metric='cosine',random_state=42)\n",
        "\n",
        "from functools import partial\n",
        "\n",
        "# 기존의 tokenizer 함수를 partial을 사용하여 unique_values를 추가합니다.\n",
        "tokenize_with_unique_values = partial(tokenize_jp_v2, unique_values=unique_values)\n",
        "\n",
        "# 이렇게 수정된 tokenizer를 CountVectorizer에 넣습니다.\n",
        "vectorizer = CountVectorizer(tokenizer=tokenize_with_unique_values)\n",
        "\n",
        "# ctfidf_model = ClassTfidfTransformer()\n",
        "\n",
        "from bertopic import BERTopic    ###nr_topics=20 ## min_topic_size=10 umap_model=umap_model,,hdbscan_model=hdbscan_model\n",
        "topic_model = BERTopic(min_topic_size=50,nr_topics=50,language=\"japanese\", representation_model=representation_model,\n",
        "                       calculate_probabilities=True, verbose=True, vectorizer_model=vectorizer)\n",
        "topics, probs = topic_model.fit_transform(text)\n",
        "\n",
        "topic_model.save(\"my_model\", serialization=\"pickle\") #버토픽모델저장"
      ]
    },
    {
      "cell_type": "markdown",
      "source": [
        "### 4) 버토픽 NPMI 최적화"
      ],
      "metadata": {
        "id": "t8jhsEbCWSfJ"
      }
    },
    {
      "cell_type": "markdown",
      "source": [
        "min topic number가 NPMI기준 최적은 40개였으나, 토픽 distance map기준으로 봤을때 가장 고르게 된 것이 50개 였음으로 50으로 선정."
      ],
      "metadata": {
        "id": "Raqjr3gqX2XS"
      }
    },
    {
      "cell_type": "code",
      "execution_count": null,
      "metadata": {
        "colab": {
          "base_uri": "https://localhost:8080/",
          "height": 1000,
          "referenced_widgets": [
            "74d926ec5e3b466caed6a2054aabb5cf",
            "2b5f7308a5a84546a01b4050eceb9c74",
            "dda173ca0701489da6d0ac440a6477b4",
            "ce20d91b33434fe6bda73c51c109b7d4",
            "5ca54788f53b4f0497323c651b694dd3",
            "11705d4d1857496b83b8e39d62ea3278",
            "8f35ec5e19304deb8bd7159fdfcd33ae",
            "73be0f29a2c1426f94548a0c58279cc2",
            "1063c8b04522413dbdd74a80ebf3c78e",
            "dea5445ebe604efd91dbd13b1eb3eb15",
            "bce5cb38b79c4d619bae356660f939d7",
            "df428c0527c64d74a240475e4f8eedbd",
            "3b7976e27abb4ae08dd20d3b97c5a363",
            "8d756cb955d84f87a533f72abacb6d4a",
            "b94e6e33986e450f81546db627f9493b",
            "b16485185a5d4db78f92807f8b00320a",
            "12bf795805364ab1b2259257f3e4c4c4",
            "bd6afe9bbf4f451eab72f6ada10b8ec7",
            "5a7b08ce6aed4c8e9730efefc77d7262",
            "33863d5f0c1a475f882c67ca389ad480",
            "f716458843d547b2be8aa6b88df53016",
            "42657e163baf4ed6a70f2d1246fb1567",
            "abf57a6904f7444abcb756f5a36a16ca",
            "53cec6e71e1c4aeab6e89710aabfb401",
            "653d73c4fc59429ab784b01083beb9e2",
            "4def634463744d5e90c98435c1311e07",
            "65d58c0d95024cf0a3be0f7204e644fb",
            "171c8475d4604533b1fbcf869b7ef84d",
            "27f88f62dd9b45888de16f3658fdbdce",
            "d5d126c60cb44982888824425a594634",
            "cb420ac3fead4c27af4d5c224d5c1cf8",
            "411ab09bad9a42b3a3b6109f4f33a1d6",
            "0e18d2993d5e4bbbb5159605f7e0bbfa",
            "f037de6f84ed476cba0497b885b1e67e",
            "73e9ce6799a04cf39aa9352d202340e1",
            "05b04345b789441789aafe9561ae6c42",
            "767caff582db4c99a62793d2e9e2ed7c",
            "23d9e5f65df344d6a5bc5721a4d38b58",
            "be0537ba948040a98deb2f23aa268466",
            "e5e1d2376f494916a63887fb3feabeed",
            "0ae1e730ae0644b989d7232400396a0d",
            "d0a797a75ba347c58d91aa921444e377",
            "f484d876cf0d4216b9c32fa58fbc7144",
            "baec212a2c0d44c9a5ee9fca985efaf0",
            "43c0cd7a4a7c4c909af1cd7c2d9fc145",
            "f7ea6cb5d04e4f48a3b992545b612392",
            "559f6148513b44fc8b25a8f6b790f0d0",
            "994aad01406f430e883a42928fed00af",
            "98d5759b33c74b9498927748626e8720",
            "5288854bc053460cb06dc2fabf91a333",
            "233219dde8524c60b625ca36bd5129a2",
            "13288695fa2c4a3e8443ef3611ce5bcd",
            "cbd3922768094039b9d07ddb9799d206",
            "c2cae04578ae4382b38cec6b5fe2dc25",
            "1575b19edd1549b2839a800536f35abb",
            "98667c0f9b264a92b42cd5fbfd922a65",
            "4cd3e1f38a8d4e30978d43fc47b2bc99",
            "0bdffcaaf2d049da9fe788d36c067a2c",
            "160251a66a3342d0b42d56d97af5202d",
            "88ca2a2608fb4cb6879d0042a0b3f4e4",
            "57ad9344dcf943e5bb5716440a3e2003",
            "cf15b64b3e0144c2a3f3020c75c9d351",
            "e54f3711259941eda125a9b21964a156",
            "5879cfd980f246b8870e36351a0efb1f",
            "83f29e419db44443ae288b6a1c173a0c",
            "3113e966d5e64d1dbbe7b80320e350fb",
            "de5283e5a180430da638a282575cb806",
            "e32e0188d508457b9efaa1d2aa7fbd9e",
            "9cf0f238cd794b0b83491f86b04dc779",
            "9c494c2bc1164c0d8f7e5667ad0b1fe8",
            "5ee483b3e70c48e2a2f277607d55bc67",
            "91bba5f770a747e79ebf614e2ad2f547",
            "b42d38e1f55b4c0ea59de54d4404c276",
            "fb8cfe75a4fb4d27a9097a27cf3ee507",
            "651b1e0c4fd242a2a6d763196033c9be",
            "1f4bef351f4e42c08b685f05a6156abb",
            "123b595cb5fa4cc5a3f5d1cd55074c5c",
            "0d0513fb1fc74904a03ce7d17acc7e12",
            "6c2c9d565e724214a3ee5048167826b5",
            "0572b33c97c3487ba74862ecb9690b72",
            "b3ba2185b8714d5289c53bacaac8d343",
            "a0fb8fb6e20349cfa5ce711b799b5e51",
            "0159c87dbdd641cba15d3dd8c82a7eaf",
            "66dc5f307dcf4a39b0535d0337082c7e",
            "d6db9d96485746d4916dec988e369b95",
            "4663edb227e04fa2a929b0210f512055",
            "9f9d8ced7e934c8ebb09a95103002889",
            "9a37fc004d7943c2824317c4d1fdc3db",
            "2ab3fb403a8241f5acc2899265ac7bfc",
            "a7d2b6bde9f345c08b1b00eaba5c5576",
            "08d498dd42df44bd87b75a4f2d4326b7",
            "4c27cf1a843a4fb3bc053472f48b1bfb",
            "b34fb7e9d59246daa6ec5085e06d903c",
            "a1f2f472af864db1afdfd53107a17f8b",
            "46a73b0423a04c98840aa60fd0ef9286",
            "629985aa01da4ea3972a2d05447e7b20",
            "b3004e88434544eaad7eed925ecb08f3",
            "138e6077a9654248899add30e93a6256",
            "6f0417fcabd6494ba96e3113f714b8d1",
            "d5d7b5cafa714f34bda8c8fceaaab400",
            "958a90421aa74cfbb31d84b54e43d75c",
            "5744383f664248ac9f02576df990ba3c",
            "0a3070f42fcc4a178af7aeb1ae362786",
            "18794e0506064e62883385de87e9b399",
            "542f5e799f0942649dc12cfa10021dbd",
            "caadd74ff02141abbddc81c3704de5df",
            "0e626301ac00459f8300319d32e8cdee",
            "9a60e7d82d0542bd8de76f980eadf487",
            "06b3c94e9ef240fd93f3210799a37396",
            "104fb3e6040d4fbb865258a72f9bd598",
            "8d55bbbd61f341f6924ad47df8ae3eb4",
            "30cb9e810e6248139cd172e689cb98c3",
            "b7f8b3677a884db2b484bdf082d672b0",
            "7e6727633f164a809920f87c3da5f12d",
            "3e59460512654c52ab62df62461c407d",
            "cbf8c3f6e01745e1a8d7db1d52683f34",
            "48a6c6e2b5cc446b82ba8a1a4d6918c5",
            "f1775e34b792485ba4ac6632becb1622",
            "40e93cc447904393afb062c1dd109a30",
            "39759f85596d411d8eacb6eac8136e6e",
            "5d0092e1b7ce4bf7a4b95861e820ed86",
            "903a34f0926e45f49d5c9a579b3dc828",
            "02bbd68f3d5b4ca09b2df1c940e3db78",
            "822e78848a2743bbb17b0506bc6e7553",
            "d2c8d1b244234a09831884137b001931",
            "ca6a60bb6330463996cc8d58ee6fc1e3",
            "d26902a18c8e483381db58efc609471d",
            "a0209611260a4baca8c7cc897fe45bbc",
            "428074d5d4db43d1bcaf5d108888e5e4",
            "bb0d573432834d03af2d5b2b0947b421",
            "971ba75eed6f4c9897652979d79a0c2d",
            "b6de384bd0e543f3906ce8c14e7a1a60",
            "2fec5897f6614b22804a6c0a61f59594",
            "679f6f50c7a540a0b830c71887c5ac95",
            "f3ee7ece620d4e0ebb82624e664b0755",
            "16ef5b5d9b824dbf8b1bb96a16853130",
            "1054ccb45c164d9ab61d081e7832d935",
            "1764839fa0fb4bb4974d9c55429cb515",
            "a27890eb6b25466990061762c3e8aad7",
            "b8afb29b27134672b4914361680af921",
            "36ccc7823d8a49c8bfe00ceab0a6dc41",
            "8ea563f9650f4aecb35d16bd9cc60fd5",
            "e27ce0ff1b2b4469a1401a4d066a1381",
            "f1ff6b46af3e4e34b9df11308e828b23",
            "05bc053efcb849d7b08db1adbcc75f91",
            "e9139fba1efc4218b8824cdcc77c8f19",
            "ba9c011f1a304029807bd548ede965cb",
            "6c90ff695d294495aac10963d8c368b2",
            "baeddfe3ba1a42909431c0e15622decd",
            "8d783c2bfa97407cbafc2a28303962c7",
            "6621eba4a96d49c1a00073bb08fdfc43",
            "5826242df4264f74be1c8a0a74432cfa",
            "535f85a74e4c4443983513733edc561c",
            "9d19be7b7f9f4712b092195d7e074398",
            "b02dbdbe22af4c05a3d8296a346da7af",
            "29fab843d4e944d9a292ed6547aa0be6",
            "f681ccff5a974a8cb7fd51d04972da1f",
            "eab3a04ffdc54aa4a1d40f5ceeb52301",
            "4ec444cc2a4440dbae9786ae3d4254bf",
            "7bf1472d6ff540ceb0bfd12370a3618a",
            "69803a12a1b7431dbdffe96794c2a474",
            "253bc3aeead946d0b74229aa8bacf8e3",
            "3b0b4d0e90114343b3b4f09e8ec8dfbe",
            "ff35b5c55d4f47a5ae9fabce3be24d99",
            "a20f95b9a6b14b7f950ea2fe43b0216e",
            "aa11fd6342dc4d71a6bfe228dfefc4a9",
            "249b90af77a5485094569a70ff136505",
            "58ebad0500c0445a846462a2c7a5f03f",
            "59ba22ba55554f5391131eeafc3eb128",
            "abf855145e794d0bac6426cf801329db",
            "cc1a4d3f0cf94567b7bc445d2703a5ae",
            "e06e358b99f34a828904b7c146522a60",
            "0a71b17e49f542999c171c396451ed2a",
            "f3a1176736f7441a9b4dbf55ea295783",
            "86b889c28f7c4d8991567980965e37bd",
            "660727079d1f4a478029649776b8b194",
            "c6857893400f421fbc0bf08d59f90edc",
            "8390cb78f83744759829d7fc198378b0",
            "6e9c38cc62964314b65bb1591a9f929a",
            "9d768b0f0cc248b28bd62f2e949c3f45",
            "7336b6dfbc8a44b19206b5e3aab18d17",
            "7dda16b2d9ea4f3596169f474bb6a5e5",
            "5751e65542ba4eb593dd2453c5ec8d68",
            "d3724db2c9f94fae84f0b4a43ef4eeca",
            "7a80051b520b458b8a1a4c2bdca4ccd3",
            "0494c6f28289498eacfd5bfddd34a2d3",
            "c61c1f0785d0467d840918c9d40af2be",
            "69f4d75ad6294c56a0bd8fbd9b7f3cd0",
            "5176b118f4b64c878a78b4f277f8131b",
            "83472b32ed604cbbbffd7148a6cc348c",
            "8022957b4996476f88388add3c978bb8",
            "60e98d0727ee4d088793c4a3d6c75cba",
            "ae45d00a146a48a6b840e4845b4f6c81",
            "7a323346dacf4f90871a678809084653",
            "f989a5350dee4384aa2f8f59ba768c7d",
            "7573ac9d367346ae907f62afaa770bc4",
            "e4c9b87b6e7847cfafa01856cdcba2b4",
            "1f0fd5a5e318495db4fe3903dae24389",
            "a1b55a5251aa4971b862a71d0d58b530",
            "e8dea960c15142b5b2397f8410276eff",
            "9e848bf7bcde4f569d9a0a684938ae9a",
            "df94dbfd4f3946828b925eef99adf404",
            "e492677f04eb4bf99b7a68a132711c81",
            "328744f455c74ddb9bda913d4ca504d3",
            "3fc3261e36174cfa914f04cd1cbad2f4",
            "46fc5bebdeaa4afdae4d072b208b76b5",
            "5730e1b4eaa44d91adc886645007ba25",
            "c614827e1df748e7ba766eaad6209485",
            "1452b55ce6844616af00af6147d35d37"
          ]
        },
        "id": "D2t4IUiyPeGe",
        "outputId": "5245f62b-2398-4f9d-c378-1bbb8249a617"
      },
      "outputs": [
        {
          "data": {
            "application/vnd.jupyter.widget-view+json": {
              "model_id": "74d926ec5e3b466caed6a2054aabb5cf",
              "version_major": 2,
              "version_minor": 0
            },
            "text/plain": [
              "Batches:   0%|          | 0/891 [00:00<?, ?it/s]"
            ]
          },
          "metadata": {},
          "output_type": "display_data"
        },
        {
          "name": "stderr",
          "output_type": "stream",
          "text": [
            "2023-10-26 05:33:16,011 - BERTopic - Transformed documents to Embeddings\n",
            "2023-10-26 05:33:32,824 - BERTopic - Reduced dimensionality\n",
            "2023-10-26 05:33:39,668 - BERTopic - Clustered reduced embeddings\n",
            "2023-10-26 05:34:44,329 - BERTopic - Reduced number of topics from 54 to 10\n"
          ]
        },
        {
          "data": {
            "application/vnd.jupyter.widget-view+json": {
              "model_id": "df428c0527c64d74a240475e4f8eedbd",
              "version_major": 2,
              "version_minor": 0
            },
            "text/plain": [
              "Batches:   0%|          | 0/891 [00:00<?, ?it/s]"
            ]
          },
          "metadata": {},
          "output_type": "display_data"
        },
        {
          "name": "stderr",
          "output_type": "stream",
          "text": [
            "2023-10-26 05:35:30,179 - BERTopic - Transformed documents to Embeddings\n",
            "2023-10-26 05:35:45,243 - BERTopic - Reduced dimensionality\n",
            "2023-10-26 05:35:51,406 - BERTopic - Clustered reduced embeddings\n",
            "2023-10-26 05:36:57,523 - BERTopic - Reduced number of topics from 54 to 15\n"
          ]
        },
        {
          "data": {
            "application/vnd.jupyter.widget-view+json": {
              "model_id": "abf57a6904f7444abcb756f5a36a16ca",
              "version_major": 2,
              "version_minor": 0
            },
            "text/plain": [
              "Batches:   0%|          | 0/891 [00:00<?, ?it/s]"
            ]
          },
          "metadata": {},
          "output_type": "display_data"
        },
        {
          "name": "stderr",
          "output_type": "stream",
          "text": [
            "2023-10-26 05:37:48,507 - BERTopic - Transformed documents to Embeddings\n",
            "2023-10-26 05:38:03,384 - BERTopic - Reduced dimensionality\n",
            "2023-10-26 05:38:09,842 - BERTopic - Clustered reduced embeddings\n",
            "2023-10-26 05:39:17,165 - BERTopic - Reduced number of topics from 56 to 20\n"
          ]
        },
        {
          "data": {
            "application/vnd.jupyter.widget-view+json": {
              "model_id": "f037de6f84ed476cba0497b885b1e67e",
              "version_major": 2,
              "version_minor": 0
            },
            "text/plain": [
              "Batches:   0%|          | 0/891 [00:00<?, ?it/s]"
            ]
          },
          "metadata": {},
          "output_type": "display_data"
        },
        {
          "name": "stderr",
          "output_type": "stream",
          "text": [
            "2023-10-26 05:40:12,801 - BERTopic - Transformed documents to Embeddings\n",
            "2023-10-26 05:40:28,112 - BERTopic - Reduced dimensionality\n",
            "2023-10-26 05:40:34,598 - BERTopic - Clustered reduced embeddings\n",
            "2023-10-26 05:41:46,310 - BERTopic - Reduced number of topics from 55 to 25\n"
          ]
        },
        {
          "data": {
            "application/vnd.jupyter.widget-view+json": {
              "model_id": "43c0cd7a4a7c4c909af1cd7c2d9fc145",
              "version_major": 2,
              "version_minor": 0
            },
            "text/plain": [
              "Batches:   0%|          | 0/891 [00:00<?, ?it/s]"
            ]
          },
          "metadata": {},
          "output_type": "display_data"
        },
        {
          "name": "stderr",
          "output_type": "stream",
          "text": [
            "2023-10-26 05:42:45,928 - BERTopic - Transformed documents to Embeddings\n",
            "2023-10-26 05:43:02,923 - BERTopic - Reduced dimensionality\n",
            "2023-10-26 05:43:08,873 - BERTopic - Clustered reduced embeddings\n",
            "2023-10-26 05:44:21,988 - BERTopic - Reduced number of topics from 58 to 30\n"
          ]
        },
        {
          "data": {
            "application/vnd.jupyter.widget-view+json": {
              "model_id": "98667c0f9b264a92b42cd5fbfd922a65",
              "version_major": 2,
              "version_minor": 0
            },
            "text/plain": [
              "Batches:   0%|          | 0/891 [00:00<?, ?it/s]"
            ]
          },
          "metadata": {},
          "output_type": "display_data"
        },
        {
          "name": "stderr",
          "output_type": "stream",
          "text": [
            "2023-10-26 05:45:25,397 - BERTopic - Transformed documents to Embeddings\n",
            "2023-10-26 05:45:42,351 - BERTopic - Reduced dimensionality\n",
            "2023-10-26 05:45:48,682 - BERTopic - Clustered reduced embeddings\n",
            "2023-10-26 05:47:03,854 - BERTopic - Reduced number of topics from 59 to 35\n"
          ]
        },
        {
          "data": {
            "application/vnd.jupyter.widget-view+json": {
              "model_id": "de5283e5a180430da638a282575cb806",
              "version_major": 2,
              "version_minor": 0
            },
            "text/plain": [
              "Batches:   0%|          | 0/891 [00:00<?, ?it/s]"
            ]
          },
          "metadata": {},
          "output_type": "display_data"
        },
        {
          "name": "stderr",
          "output_type": "stream",
          "text": [
            "2023-10-26 05:48:10,068 - BERTopic - Transformed documents to Embeddings\n",
            "2023-10-26 05:48:24,956 - BERTopic - Reduced dimensionality\n",
            "2023-10-26 05:48:31,158 - BERTopic - Clustered reduced embeddings\n",
            "2023-10-26 05:49:46,777 - BERTopic - Reduced number of topics from 51 to 40\n"
          ]
        },
        {
          "data": {
            "application/vnd.jupyter.widget-view+json": {
              "model_id": "0d0513fb1fc74904a03ce7d17acc7e12",
              "version_major": 2,
              "version_minor": 0
            },
            "text/plain": [
              "Batches:   0%|          | 0/891 [00:00<?, ?it/s]"
            ]
          },
          "metadata": {},
          "output_type": "display_data"
        },
        {
          "name": "stderr",
          "output_type": "stream",
          "text": [
            "2023-10-26 05:50:58,974 - BERTopic - Transformed documents to Embeddings\n",
            "2023-10-26 05:51:14,036 - BERTopic - Reduced dimensionality\n",
            "2023-10-26 05:51:20,383 - BERTopic - Clustered reduced embeddings\n",
            "2023-10-26 05:52:39,292 - BERTopic - Reduced number of topics from 59 to 45\n"
          ]
        },
        {
          "data": {
            "application/vnd.jupyter.widget-view+json": {
              "model_id": "2ab3fb403a8241f5acc2899265ac7bfc",
              "version_major": 2,
              "version_minor": 0
            },
            "text/plain": [
              "Batches:   0%|          | 0/891 [00:00<?, ?it/s]"
            ]
          },
          "metadata": {},
          "output_type": "display_data"
        },
        {
          "name": "stderr",
          "output_type": "stream",
          "text": [
            "2023-10-26 05:53:55,922 - BERTopic - Transformed documents to Embeddings\n",
            "2023-10-26 05:54:11,348 - BERTopic - Reduced dimensionality\n",
            "2023-10-26 05:54:17,512 - BERTopic - Clustered reduced embeddings\n",
            "2023-10-26 05:55:38,312 - BERTopic - Reduced number of topics from 58 to 50\n"
          ]
        },
        {
          "data": {
            "application/vnd.jupyter.widget-view+json": {
              "model_id": "d5d7b5cafa714f34bda8c8fceaaab400",
              "version_major": 2,
              "version_minor": 0
            },
            "text/plain": [
              "Batches:   0%|          | 0/891 [00:00<?, ?it/s]"
            ]
          },
          "metadata": {},
          "output_type": "display_data"
        },
        {
          "name": "stderr",
          "output_type": "stream",
          "text": [
            "2023-10-26 05:56:56,519 - BERTopic - Transformed documents to Embeddings\n",
            "2023-10-26 05:57:11,355 - BERTopic - Reduced dimensionality\n",
            "2023-10-26 05:57:17,180 - BERTopic - Clustered reduced embeddings\n",
            "2023-10-26 05:57:55,081 - BERTopic - Reduced number of topics from 49 to 49\n"
          ]
        },
        {
          "data": {
            "application/vnd.jupyter.widget-view+json": {
              "model_id": "8d55bbbd61f341f6924ad47df8ae3eb4",
              "version_major": 2,
              "version_minor": 0
            },
            "text/plain": [
              "Batches:   0%|          | 0/891 [00:00<?, ?it/s]"
            ]
          },
          "metadata": {},
          "output_type": "display_data"
        },
        {
          "name": "stderr",
          "output_type": "stream",
          "text": [
            "2023-10-26 05:59:12,222 - BERTopic - Transformed documents to Embeddings\n",
            "2023-10-26 05:59:28,424 - BERTopic - Reduced dimensionality\n",
            "2023-10-26 05:59:34,750 - BERTopic - Clustered reduced embeddings\n",
            "2023-10-26 06:00:14,517 - BERTopic - Reduced number of topics from 54 to 54\n"
          ]
        },
        {
          "data": {
            "application/vnd.jupyter.widget-view+json": {
              "model_id": "903a34f0926e45f49d5c9a579b3dc828",
              "version_major": 2,
              "version_minor": 0
            },
            "text/plain": [
              "Batches:   0%|          | 0/891 [00:00<?, ?it/s]"
            ]
          },
          "metadata": {},
          "output_type": "display_data"
        },
        {
          "name": "stderr",
          "output_type": "stream",
          "text": [
            "2023-10-26 06:01:36,613 - BERTopic - Transformed documents to Embeddings\n",
            "2023-10-26 06:01:51,605 - BERTopic - Reduced dimensionality\n",
            "2023-10-26 06:01:57,777 - BERTopic - Clustered reduced embeddings\n",
            "2023-10-26 06:02:38,238 - BERTopic - Reduced number of topics from 55 to 55\n"
          ]
        },
        {
          "data": {
            "application/vnd.jupyter.widget-view+json": {
              "model_id": "2fec5897f6614b22804a6c0a61f59594",
              "version_major": 2,
              "version_minor": 0
            },
            "text/plain": [
              "Batches:   0%|          | 0/891 [00:00<?, ?it/s]"
            ]
          },
          "metadata": {},
          "output_type": "display_data"
        },
        {
          "name": "stderr",
          "output_type": "stream",
          "text": [
            "2023-10-26 06:04:00,849 - BERTopic - Transformed documents to Embeddings\n",
            "2023-10-26 06:04:15,823 - BERTopic - Reduced dimensionality\n",
            "2023-10-26 06:04:21,683 - BERTopic - Clustered reduced embeddings\n",
            "2023-10-26 06:05:02,559 - BERTopic - Reduced number of topics from 59 to 59\n"
          ]
        },
        {
          "data": {
            "application/vnd.jupyter.widget-view+json": {
              "model_id": "f1ff6b46af3e4e34b9df11308e828b23",
              "version_major": 2,
              "version_minor": 0
            },
            "text/plain": [
              "Batches:   0%|          | 0/891 [00:00<?, ?it/s]"
            ]
          },
          "metadata": {},
          "output_type": "display_data"
        },
        {
          "name": "stderr",
          "output_type": "stream",
          "text": [
            "2023-10-26 06:06:27,923 - BERTopic - Transformed documents to Embeddings\n",
            "2023-10-26 06:06:42,747 - BERTopic - Reduced dimensionality\n",
            "2023-10-26 06:06:49,558 - BERTopic - Clustered reduced embeddings\n",
            "2023-10-26 06:07:30,006 - BERTopic - Reduced number of topics from 57 to 57\n"
          ]
        },
        {
          "data": {
            "application/vnd.jupyter.widget-view+json": {
              "model_id": "b02dbdbe22af4c05a3d8296a346da7af",
              "version_major": 2,
              "version_minor": 0
            },
            "text/plain": [
              "Batches:   0%|          | 0/891 [00:00<?, ?it/s]"
            ]
          },
          "metadata": {},
          "output_type": "display_data"
        },
        {
          "name": "stderr",
          "output_type": "stream",
          "text": [
            "2023-10-26 06:08:54,004 - BERTopic - Transformed documents to Embeddings\n",
            "2023-10-26 06:09:10,670 - BERTopic - Reduced dimensionality\n",
            "2023-10-26 06:09:16,434 - BERTopic - Clustered reduced embeddings\n",
            "2023-10-26 06:09:56,007 - BERTopic - Reduced number of topics from 52 to 52\n"
          ]
        },
        {
          "data": {
            "application/vnd.jupyter.widget-view+json": {
              "model_id": "aa11fd6342dc4d71a6bfe228dfefc4a9",
              "version_major": 2,
              "version_minor": 0
            },
            "text/plain": [
              "Batches:   0%|          | 0/891 [00:00<?, ?it/s]"
            ]
          },
          "metadata": {},
          "output_type": "display_data"
        },
        {
          "name": "stderr",
          "output_type": "stream",
          "text": [
            "2023-10-26 06:11:15,107 - BERTopic - Transformed documents to Embeddings\n",
            "2023-10-26 06:11:30,188 - BERTopic - Reduced dimensionality\n",
            "2023-10-26 06:11:35,548 - BERTopic - Clustered reduced embeddings\n",
            "2023-10-26 06:12:13,431 - BERTopic - Reduced number of topics from 46 to 46\n"
          ]
        },
        {
          "data": {
            "application/vnd.jupyter.widget-view+json": {
              "model_id": "c6857893400f421fbc0bf08d59f90edc",
              "version_major": 2,
              "version_minor": 0
            },
            "text/plain": [
              "Batches:   0%|          | 0/891 [00:00<?, ?it/s]"
            ]
          },
          "metadata": {},
          "output_type": "display_data"
        },
        {
          "name": "stderr",
          "output_type": "stream",
          "text": [
            "2023-10-26 06:13:30,017 - BERTopic - Transformed documents to Embeddings\n",
            "2023-10-26 06:13:45,002 - BERTopic - Reduced dimensionality\n",
            "2023-10-26 06:13:51,803 - BERTopic - Clustered reduced embeddings\n",
            "2023-10-26 06:14:32,781 - BERTopic - Reduced number of topics from 58 to 58\n"
          ]
        },
        {
          "data": {
            "application/vnd.jupyter.widget-view+json": {
              "model_id": "69f4d75ad6294c56a0bd8fbd9b7f3cd0",
              "version_major": 2,
              "version_minor": 0
            },
            "text/plain": [
              "Batches:   0%|          | 0/891 [00:00<?, ?it/s]"
            ]
          },
          "metadata": {},
          "output_type": "display_data"
        },
        {
          "name": "stderr",
          "output_type": "stream",
          "text": [
            "2023-10-26 06:15:56,492 - BERTopic - Transformed documents to Embeddings\n",
            "2023-10-26 06:16:11,719 - BERTopic - Reduced dimensionality\n",
            "2023-10-26 06:16:17,166 - BERTopic - Clustered reduced embeddings\n",
            "2023-10-26 06:16:58,331 - BERTopic - Reduced number of topics from 51 to 51\n"
          ]
        },
        {
          "data": {
            "application/vnd.jupyter.widget-view+json": {
              "model_id": "a1b55a5251aa4971b862a71d0d58b530",
              "version_major": 2,
              "version_minor": 0
            },
            "text/plain": [
              "Batches:   0%|          | 0/891 [00:00<?, ?it/s]"
            ]
          },
          "metadata": {},
          "output_type": "display_data"
        },
        {
          "name": "stderr",
          "output_type": "stream",
          "text": [
            "2023-10-26 06:18:19,000 - BERTopic - Transformed documents to Embeddings\n",
            "2023-10-26 06:18:34,126 - BERTopic - Reduced dimensionality\n",
            "2023-10-26 06:18:40,235 - BERTopic - Clustered reduced embeddings\n",
            "2023-10-26 06:19:19,707 - BERTopic - Reduced number of topics from 57 to 57\n"
          ]
        },
        {
          "name": "stdout",
          "output_type": "stream",
          "text": [
            "Best Number of Topics: 40 with NPMI = -0.2844\n"
          ]
        }
      ],
      "source": [
        "from bertopic import BERTopic\n",
        "from bertopic.representation import KeyBERTInspired, MaximalMarginalRelevance\n",
        "from sklearn.feature_extraction.text import CountVectorizer\n",
        "from functools import partial\n",
        "import numpy as np\n",
        "\n",
        "# KeyBERT 및 MMR 모델 초기화\n",
        "keybert_model = KeyBERTInspired()\n",
        "mmr_model = MaximalMarginalRelevance(diversity=0.7)\n",
        "representation_model = {\n",
        "    \"KeyBERT\": keybert_model,\n",
        "    \"MMR\": mmr_model\n",
        "}\n",
        "\n",
        "# 주어진 tokenizer 함수에 unique_values를 추가\n",
        "tokenize_with_unique_values = partial(tokenize_jp_v2, unique_values=unique_values)\n",
        "\n",
        "# 수정된 tokenizer를 CountVectorizer에 사용\n",
        "vectorizer = CountVectorizer(tokenizer=tokenize_with_unique_values)\n",
        "X = vectorizer.fit_transform(text)\n",
        "word_freq = dict(zip(vectorizer.get_feature_names_out(), X.sum(axis=0).tolist()[0]))\n",
        "\n",
        "# NPMI 최적화\n",
        "best_topic_num = 0\n",
        "best_npmi_score = -1\n",
        "\n",
        "for num_topics in range(10, 101, 5):\n",
        "    # BERTopic 모델을 초기화하고 토픽 수를 설정\n",
        "    model = BERTopic(min_topic_size=40, nr_topics=num_topics, language=\"japanese\", representation_model=representation_model, calculate_probabilities=True, verbose=True, vectorizer_model=vectorizer)\n",
        "    topics, _ = model.fit_transform(text)\n",
        "\n",
        "    topic_npmi_scores = []\n",
        "    unique_topics = list(set(topics))  # 중복 제거\n",
        "\n",
        "    for unique_topic in unique_topics:\n",
        "        if unique_topic == -1:  # Outlier는 무시\n",
        "            continue\n",
        "\n",
        "        topic_words = [word[0] for word in model.get_topic(unique_topic)]\n",
        "        npmi_score = 0\n",
        "\n",
        "        for word1 in topic_words:\n",
        "            for word2 in topic_words:\n",
        "                if word1 != word2 and word1 in word_freq and word2 in word_freq:\n",
        "                    joint_prob = (X[:, vectorizer.vocabulary_[word1]].sum() * X[:, vectorizer.vocabulary_[word2]].sum()) / X.sum() ** 2\n",
        "                    ind_prob = word_freq[word1] / X.sum() * word_freq[word2] / X.sum()\n",
        "                    if joint_prob == 0 or ind_prob == 0:  # 로그 계산을 위한 예외 처리\n",
        "                        continue\n",
        "                    pmi = np.log(joint_prob / ind_prob)\n",
        "                    n_pmi = pmi / -np.log(joint_prob)\n",
        "                    npmi_score += n_pmi\n",
        "\n",
        "        npmi_score /= len(topic_words) ** 2\n",
        "        topic_npmi_scores.append(npmi_score)\n",
        "\n",
        "    average_npmi = np.mean(topic_npmi_scores)\n",
        "\n",
        "    if average_npmi > best_npmi_score:\n",
        "        best_npmi_score = average_npmi\n",
        "        best_topic_num = num_topics\n",
        "\n",
        "print(f\"Best Number of Topics: {best_topic_num} with NPMI = {best_npmi_score:.4f}\")"
      ]
    },
    {
      "cell_type": "markdown",
      "source": [
        "### 5) 버토픽 최종 모델 로드 후 통합"
      ],
      "metadata": {
        "id": "EHxK34EHVPKa"
      }
    },
    {
      "cell_type": "code",
      "source": [
        "import pickle\n",
        "from bertopic import BERTopic\n",
        "import torch\n",
        "\n",
        "my_model = BERTopic.load(\"/content/drive/MyDrive/BA_capstone/my_model\")\n",
        "new_topics, new_probs = my_model.transform(text)"
      ],
      "metadata": {
        "id": "00Qm53qyVWzz"
      },
      "execution_count": null,
      "outputs": []
    },
    {
      "cell_type": "code",
      "source": [
        "#덴드로그램 시각화\n",
        "from scipy.cluster import hierarchy as sch\n",
        "linkage_function = lambda x: sch.linkage(x, 'ward', optimal_ordering=True)\n",
        "hierarchical_topics = topic_model.hierarchical_topics(text,linkage_function=linkage_function)"
      ],
      "metadata": {
        "id": "izYUfR7wVc-s"
      },
      "execution_count": null,
      "outputs": []
    },
    {
      "cell_type": "code",
      "execution_count": null,
      "metadata": {
        "colab": {
          "base_uri": "https://localhost:8080/",
          "height": 952
        },
        "id": "A4LYrFPn93Co",
        "outputId": "0abec27c-3dcb-4803-8184-058edec4624b"
      },
      "outputs": [
        {
          "output_type": "display_data",
          "data": {
            "text/html": [
              "<html>\n",
              "<head><meta charset=\"utf-8\" /></head>\n",
              "<body>\n",
              "    <div>            <script src=\"https://cdnjs.cloudflare.com/ajax/libs/mathjax/2.7.5/MathJax.js?config=TeX-AMS-MML_SVG\"></script><script type=\"text/javascript\">if (window.MathJax && window.MathJax.Hub && window.MathJax.Hub.Config) {window.MathJax.Hub.Config({SVG: {font: \"STIX-Web\"}});}</script>                <script type=\"text/javascript\">window.PlotlyConfig = {MathJaxConfig: 'local'};</script>\n",
              "        <script charset=\"utf-8\" src=\"https://cdn.plot.ly/plotly-2.24.1.min.js\"></script>                <div id=\"1172edc9-01d7-478c-8bf7-0bea629eebaa\" class=\"plotly-graph-div\" style=\"height:935px; width:1000px;\"></div>            <script type=\"text/javascript\">                                    window.PLOTLYENV=window.PLOTLYENV || {};                                    if (document.getElementById(\"1172edc9-01d7-478c-8bf7-0bea629eebaa\")) {                    Plotly.newPlot(                        \"1172edc9-01d7-478c-8bf7-0bea629eebaa\",                        [{\"hoverinfo\":\"text\",\"marker\":{\"color\":\"rgb(61,153,112)\"},\"mode\":\"lines\",\"text\":[\"\\u30af\\u30ec\\u30f3\\u30b8\\u30f3\\u30b0\\u30d0\\u30fc\\u30e0_\\u30c7\\u30e5\\u30aa_\\u30af\\u30ec\\u30fc\\u30b8\\u30e5_\\u4e8c\\u3064_\\u30b3\\u30b3\",\"\",\"\",\"\\u30aa\\u30b9\\u30b9\\u30e1_\\u30d7\\u30c1\\u30d7\\u30e9_\\u6f2b\\u753b_\\u30af\\u30ec\\u30f3\\u30b8\\u30f3\\u30b0_\\u30aa\\u30fc\\u30eb\\u30a4\\u30f3\\u30ef\\u30f3\"],\"x\":[0.0,0.7857951496084514,0.7857951496084514,0.0],\"xaxis\":\"x\",\"y\":[-5.0,-5.0,-15.0,-15.0],\"yaxis\":\"y\",\"type\":\"scatter\"},{\"hoverinfo\":\"text\",\"marker\":{\"color\":\"rgb(255,65,54)\"},\"mode\":\"lines\",\"text\":[\"\\u30d1\\u30c3\\u30af_\\u5546\\u54c1_\\u30d5\\u30a7\\u30a4\\u30b9_\\u30aa\\u30b9\\u30b9\\u30e1_\\u30b9\\u30c1\\u30fc\\u30de\\u30fc\",\"\",\"\",\"\\u5546\\u54c1_\\u30d6\\u30e9\\u30f3\\u30c9_\\u30aa\\u30b9\\u30b9\\u30e1_\\u30e9\\u30a4\\u30f3_\\u30c7\\u30d1\\u30b3\\u30b9\"],\"x\":[0.0,0.6600202880699564,0.6600202880699564,0.0],\"xaxis\":\"x\",\"y\":[-35.0,-35.0,-45.0,-45.0],\"yaxis\":\"y\",\"type\":\"scatter\"},{\"hoverinfo\":\"text\",\"marker\":{\"color\":\"rgb(255,65,54)\"},\"mode\":\"lines\",\"text\":[\"\\u5546\\u54c1_\\u30aa\\u30b9\\u30b9\\u30e1_\\u30d6\\u30e9\\u30f3\\u30c9_\\u30d1\\u30c3\\u30af_\\u30e9\\u30a4\\u30f3\",\"\",\"\",\"\\u30a2\\u30ef\\u30fc\\u30c9_\\u30d9\\u30b9\\u30c8_\\u5546\\u54c1_\\u30e1\\u30a4\\u30af\\u30a2\\u30c3\\u30d7_\\u30e9\\u30f3\\u30ad\\u30f3\\u30b0\"],\"x\":[0.6600202880699564,0.7401824742766626,0.7401824742766626,0.0],\"xaxis\":\"x\",\"y\":[-40.0,-40.0,-55.0,-55.0],\"yaxis\":\"y\",\"type\":\"scatter\"},{\"hoverinfo\":\"text\",\"marker\":{\"color\":\"rgb(255,65,54)\"},\"mode\":\"lines\",\"text\":[\"\\u5546\\u54c1_\\u30aa\\u30b9\\u30b9\\u30e1_\\u30d6\\u30e9\\u30f3\\u30c9_\\u30d1\\u30c3\\u30af_\\u30a2\\u30ef\\u30fc\\u30c9\",\"\",\"\",\"\\u304a\\u798f\\u5206\\u3051_\\u30b5\\u30f3\\u30d7\\u30eb_\\u30b5\\u30a4\\u30c8_\\u30af\\u30fc\\u30dd\\u30f3_\\u304f\\u3058\"],\"x\":[0.7401824742766626,0.8167651753805645,0.8167651753805645,0.0],\"xaxis\":\"x\",\"y\":[-47.5,-47.5,-65.0,-65.0],\"yaxis\":\"y\",\"type\":\"scatter\"},{\"hoverinfo\":\"text\",\"marker\":{\"color\":\"rgb(255,65,54)\"},\"mode\":\"lines\",\"text\":[\"\\u30bb\\u30e9\\u30df\\u30c9_\\u30b8\\u30a7\\u30eb_\\u30d2\\u30c8_\\u30d7\\u30eb\\u30d7\\u30eb_\\u5bb9\\u91cf\",\"\",\"\",\"\\u5546\\u54c1_\\u304a\\u798f\\u5206\\u3051_\\u30b5\\u30f3\\u30d7\\u30eb_\\u30b5\\u30a4\\u30c8_\\u30af\\u30fc\\u30dd\\u30f3\"],\"x\":[0.0,0.8861136592770974,0.8861136592770974,0.8167651753805645],\"xaxis\":\"x\",\"y\":[-25.0,-25.0,-56.25,-56.25],\"yaxis\":\"y\",\"type\":\"scatter\"},{\"hoverinfo\":\"text\",\"marker\":{\"color\":\"rgb(255,65,54)\"},\"mode\":\"lines\",\"text\":[\"\\u983b\\u5ea6_\\u30d1\\u30c3\\u30af_\\u671f\\u9593_\\u30b5\\u30a4\\u30ba_\\u96fb\\u6e90\",\"\",\"\",\"\\u611f\\u60f3_\\u4f7f\\u7528\\u611f_\\u52b9\\u679c_\\u30de\\u30c4\\u30a8\\u30af_\\u4f7f\\u3044\\u65b9\"],\"x\":[0.0,0.8663147434470473,0.8663147434470473,0.0],\"xaxis\":\"x\",\"y\":[-75.0,-75.0,-85.0,-85.0],\"yaxis\":\"y\",\"type\":\"scatter\"},{\"hoverinfo\":\"text\",\"marker\":{\"color\":\"rgb(255,65,54)\"},\"mode\":\"lines\",\"text\":[\"\\u5546\\u54c1_\\u304a\\u798f\\u5206\\u3051_\\u30b5\\u30f3\\u30d7\\u30eb_\\u30b5\\u30a4\\u30c8_\\u30af\\u30fc\\u30dd\\u30f3\",\"\",\"\",\"\\u52b9\\u679c_\\u611f\\u60f3_\\u983b\\u5ea6_\\u4f7f\\u7528\\u611f_\\u671f\\u9593\"],\"x\":[0.8861136592770974,0.9341558812291944,0.9341558812291944,0.8663147434470473],\"xaxis\":\"x\",\"y\":[-40.625,-40.625,-80.0,-80.0],\"yaxis\":\"y\",\"type\":\"scatter\"},{\"hoverinfo\":\"text\",\"marker\":{\"color\":\"rgb(0,116,217)\"},\"mode\":\"lines\",\"text\":[\"\\u30aa\\u30b9\\u30b9\\u30e1_\\u30af\\u30ec\\u30f3\\u30b8\\u30f3\\u30b0\\u30d0\\u30fc\\u30e0_\\u30d7\\u30c1\\u30d7\\u30e9_\\u30af\\u30ec\\u30f3\\u30b8\\u30f3\\u30b0_\\u30c7\\u30e5\\u30aa\",\"\",\"\",\"\\u5546\\u54c1_\\u304a\\u798f\\u5206\\u3051_\\u30b5\\u30f3\\u30d7\\u30eb_\\u30b5\\u30a4\\u30c8_\\u30af\\u30fc\\u30dd\\u30f3\"],\"x\":[0.7857951496084514,1.0022574159709385,1.0022574159709385,0.9341558812291944],\"xaxis\":\"x\",\"y\":[-10.0,-10.0,-60.3125,-60.3125],\"yaxis\":\"y\",\"type\":\"scatter\"},{\"hoverinfo\":\"text\",\"marker\":{\"color\":\"rgb(35,205,205)\"},\"mode\":\"lines\",\"text\":[\"\\u307e\\u3064\\u6bdb_\\u7523\\u6bdb_\\u7709\\u6bdb_\\u30b7\\u30a7\\u30fc\\u30d0\\u30fc_\\u533b\\u7642\",\"\",\"\",\"\\u30ec\\u30fc\\u30b6\\u30fc_\\u30b7\\u30df_\\u30d5\\u30a9\\u30c8_\\u305d\\u3070\\u304b\\u3059_\\u7f8e\\u5bb9\"],\"x\":[0.0,0.9415465354918825,0.9415465354918825,0.0],\"xaxis\":\"x\",\"y\":[-95.0,-95.0,-105.0,-105.0],\"yaxis\":\"y\",\"type\":\"scatter\"},{\"hoverinfo\":\"text\",\"marker\":{\"color\":\"rgb(35,205,205)\"},\"mode\":\"lines\",\"text\":[\"\\u5e74\\u9f62_\\u30a8\\u30a4\\u30b8\\u30f3\\u30b0\\u30b1\\u30a2_\\u5546\\u54c1_\\u30e9\\u30a4\\u30f3_\\u30b7\\u30df\",\"\",\"\",\"\\u30a8\\u30a4\\u30b8\\u30f3\\u30b0\\u30b1\\u30a2_\\u30b1\\u30a2_\\u30af\\u30ea\\u30cb\\u30c3\\u30af_\\u30aa\\u30b9\\u30b9\\u30e1_\\u30ab\\u30a6\\u30f3\\u30bb\\u30ea\\u30f3\\u30b0\"],\"x\":[0.0,0.6613882504236774,0.6613882504236774,0.0],\"xaxis\":\"x\",\"y\":[-125.0,-125.0,-135.0,-135.0],\"yaxis\":\"y\",\"type\":\"scatter\"},{\"hoverinfo\":\"text\",\"marker\":{\"color\":\"rgb(35,205,205)\"},\"mode\":\"lines\",\"text\":[\"\\u606f\\u5b50_\\u8d64\\u3061\\u3083\\u3093_\\u598a\\u5a66_\\u30b7\\u30df_\\u5b50\\u4f9b\",\"\",\"\",\"\\u30a8\\u30a4\\u30b8\\u30f3\\u30b0\\u30b1\\u30a2_\\u5e74\\u9f62_\\u30b1\\u30a2_\\u30e9\\u30a4\\u30f3_\\u30b7\\u30df\"],\"x\":[0.0,0.8512201157438635,0.8512201157438635,0.6613882504236774],\"xaxis\":\"x\",\"y\":[-115.0,-115.0,-130.0,-130.0],\"yaxis\":\"y\",\"type\":\"scatter\"},{\"hoverinfo\":\"text\",\"marker\":{\"color\":\"rgb(35,205,205)\"},\"mode\":\"lines\",\"text\":[\"\\u5e74\\u9f62_\\u30a8\\u30a4\\u30b8\\u30f3\\u30b0\\u30b1\\u30a2_\\u30b1\\u30a2_\\u30b7\\u30df_\\u30aa\\u30fc\\u30eb\\u30a4\\u30f3\\u30ef\\u30f3\",\"\",\"\",\"\\u53cb\\u9054_\\u4e88\\u7b97_\\u53cb\\u4eba_\\u304a\\u6bcd\\u3055\\u3093_\\u30b3\\u30e9\\u30fc\\u30b2\\u30f3\\u30c9\\u30ea\\u30f3\\u30af\"],\"x\":[0.8512201157438635,0.9146914621484961,0.9146914621484961,0.0],\"xaxis\":\"x\",\"y\":[-122.5,-122.5,-145.0,-145.0],\"yaxis\":\"y\",\"type\":\"scatter\"},{\"hoverinfo\":\"text\",\"marker\":{\"color\":\"rgb(35,205,205)\"},\"mode\":\"lines\",\"text\":[\"\\u307e\\u3064\\u6bdb_\\u30ec\\u30fc\\u30b6\\u30fc_\\u7523\\u6bdb_\\u7709\\u6bdb_\\u30b7\\u30a7\\u30fc\\u30d0\\u30fc\",\"\",\"\",\"\\u53cb\\u9054_\\u4e88\\u7b97_\\u5e74\\u9f62_\\u30a8\\u30a4\\u30b8\\u30f3\\u30b0\\u30b1\\u30a2_\\u30b7\\u30df\"],\"x\":[0.9415465354918825,0.9808511166904974,0.9808511166904974,0.9146914621484961],\"xaxis\":\"x\",\"y\":[-100.0,-100.0,-133.75,-133.75],\"yaxis\":\"y\",\"type\":\"scatter\"},{\"hoverinfo\":\"text\",\"marker\":{\"color\":\"rgb(133,20,75)\"},\"mode\":\"lines\",\"text\":[\"\\u82b1\\u7c89_\\u30a2\\u30ec\\u30eb\\u30ae\\u30fc_\\u808c\\u8352\\u308c_\\u75c7\\u72b6_\\u690d\\u7269\",\"\",\"\",\"\\u30de\\u30b9\\u30af_\\u808c\\u8352\\u308c_\\u30de\\u30b9\\u30af\\u8352\\u308c_\\u30d5\\u30a7\\u30a4\\u30b9_\\u30b3\\u30ed\\u30ca\"],\"x\":[0.0,0.9039940802810741,0.9039940802810741,0.0],\"xaxis\":\"x\",\"y\":[-155.0,-155.0,-165.0,-165.0],\"yaxis\":\"y\",\"type\":\"scatter\"},{\"hoverinfo\":\"text\",\"marker\":{\"color\":\"rgb(133,20,75)\"},\"mode\":\"lines\",\"text\":[\"\\u30de\\u30b9\\u30af_\\u82b1\\u7c89_\\u808c\\u8352\\u308c_\\u30de\\u30b9\\u30af\\u8352\\u308c_\\u30d5\\u30a7\\u30a4\\u30b9\",\"\",\"\",\"\\u30ea\\u30c3\\u30d7_\\u30ea\\u30c3\\u30d7\\u30af\\u30ea\\u30fc\\u30e0_\\u30e2\\u30a2\\u30ea\\u30c3\\u30d7_\\u30ea\\u30c3\\u30d7\\u30b1\\u30a2_\\u30b1\\u30a2\"],\"x\":[0.9039940802810741,0.9530038327935229,0.9530038327935229,0.0],\"xaxis\":\"x\",\"y\":[-160.0,-160.0,-175.0,-175.0],\"yaxis\":\"y\",\"type\":\"scatter\"},{\"hoverinfo\":\"text\",\"marker\":{\"color\":\"rgb(255,220,0)\"},\"mode\":\"lines\",\"text\":[\"\\u9999\\u308a_\\u5302\\u3044_\\u9999\\u6c34_\\u81ed\\u3044_\\u30df\\u30f3\\u30c8\",\"\",\"\",\"\\u97d3\\u56fd_\\u65e5\\u672c_\\u30ad\\u30e5\\u30a6\\u30c6\\u30f3_\\u30d6\\u30e9\\u30f3\\u30c9_\\u5546\\u54c1\"],\"x\":[0.0,0.9232043413944258,0.9232043413944258,0.0],\"xaxis\":\"x\",\"y\":[-185.0,-185.0,-195.0,-195.0],\"yaxis\":\"y\",\"type\":\"scatter\"},{\"hoverinfo\":\"text\",\"marker\":{\"color\":\"rgb(255,220,0)\"},\"mode\":\"lines\",\"text\":[\"\\u97d3\\u56fd_\\u9999\\u308a_\\u5302\\u3044_\\u65e5\\u672c_\\u9999\\u6c34\",\"\",\"\",\"\\u30a2\\u30eb\\u30b3\\u30fc\\u30eb\\u30d5\\u30ea\\u30fc_\\u30a2\\u30eb\\u30b3\\u30fc\\u30eb_\\u30b0\\u30ea\\u30bb\\u30ea\\u30f3\\u30d5\\u30ea\\u30fc_\\u30b0\\u30ea\\u30bb\\u30ea\\u30f3_\\u30a2\\u30ca\"],\"x\":[0.9232043413944258,0.9500326167568618,0.9500326167568618,0.0],\"xaxis\":\"x\",\"y\":[-190.0,-190.0,-205.0,-205.0],\"yaxis\":\"y\",\"type\":\"scatter\"},{\"hoverinfo\":\"text\",\"marker\":{\"color\":\"rgb(255,220,0)\"},\"mode\":\"lines\",\"text\":[\"\\u97d3\\u56fd_\\u9999\\u308a_\\u5302\\u3044_\\u30a2\\u30eb\\u30b3\\u30fc\\u30eb_\\u30a2\\u30eb\\u30b3\\u30fc\\u30eb\\u30d5\\u30ea\\u30fc\",\"\",\"\",\"\\u8102\\u6027\\u808c_\\u8102\\u80aa_\\u30d9\\u30ea\\u30fc_\\u30d5\\u30a1\\u30c1\\u30e5\\u30a4\\u30c6_\\u30aa\\u30b9\\u30b9\\u30e1\"],\"x\":[0.9500326167568618,0.9865088191196156,0.9865088191196156,0.0],\"xaxis\":\"x\",\"y\":[-197.5,-197.5,-215.0,-215.0],\"yaxis\":\"y\",\"type\":\"scatter\"},{\"hoverinfo\":\"text\",\"marker\":{\"color\":\"rgb(0,116,217)\"},\"mode\":\"lines\",\"text\":[\"\\u30de\\u30b9\\u30af_\\u82b1\\u7c89_\\u30ea\\u30c3\\u30d7_\\u808c\\u8352\\u308c_\\u30ea\\u30c3\\u30d7\\u30af\\u30ea\\u30fc\\u30e0\",\"\",\"\",\"\\u97d3\\u56fd_\\u9999\\u308a_\\u5302\\u3044_\\u30a2\\u30eb\\u30b3\\u30fc\\u30eb_\\u30a2\\u30eb\\u30b3\\u30fc\\u30eb\\u30d5\\u30ea\\u30fc\"],\"x\":[0.9530038327935229,1.0069774160534897,1.0069774160534897,0.9865088191196156],\"xaxis\":\"x\",\"y\":[-167.5,-167.5,-206.25,-206.25],\"yaxis\":\"y\",\"type\":\"scatter\"},{\"hoverinfo\":\"text\",\"marker\":{\"color\":\"rgb(40,35,35)\"},\"mode\":\"lines\",\"text\":[\"\\u611f\\u60f3_\\u30b3\\u30d5\\u30ec_\\u30d2\\u30ab\\u30eb_\\u5927\\u8c37_\\u30d6\\u30eb\\u30fc\\u30e0\",\"\",\"\",\"\\u9023\\u4f11_\\u30b3\\u30f3\\u30d7\\u30ea\\u30fc\\u30c8_\\u304a\\u798f\\u5206\\u3051_\\u9078\\u624b_\\u30a4\\u30d9\\u30f3\\u30c8\"],\"x\":[0.0,0.9166565065566221,0.9166565065566221,0.0],\"xaxis\":\"x\",\"y\":[-225.0,-225.0,-235.0,-235.0],\"yaxis\":\"y\",\"type\":\"scatter\"},{\"hoverinfo\":\"text\",\"marker\":{\"color\":\"rgb(0,116,217)\"},\"mode\":\"lines\",\"text\":[\"\\u30de\\u30b9\\u30af_\\u97d3\\u56fd_\\u9999\\u308a_\\u82b1\\u7c89_\\u808c\\u8352\\u308c\",\"\",\"\",\"\\u9023\\u4f11_\\u9078\\u624b_\\u30d3\\u30fc\\u30a8\\u30fc_\\u30b3\\u30f3\\u30d7\\u30ea\\u30fc\\u30c8_id\"],\"x\":[1.0069774160534897,1.0519570797615483,1.0519570797615483,0.9166565065566221],\"xaxis\":\"x\",\"y\":[-186.875,-186.875,-230.0,-230.0],\"yaxis\":\"y\",\"type\":\"scatter\"},{\"hoverinfo\":\"text\",\"marker\":{\"color\":\"rgb(0,116,217)\"},\"mode\":\"lines\",\"text\":[\"\\u307e\\u3064\\u6bdb_\\u30ec\\u30fc\\u30b6\\u30fc_\\u7523\\u6bdb_\\u7709\\u6bdb_\\u533b\\u7642\",\"\",\"\",\"\\u30de\\u30b9\\u30af_\\u97d3\\u56fd_\\u9999\\u308a_\\u82b1\\u7c89_\\u808c\\u8352\\u308c\"],\"x\":[0.9808511166904974,1.0811191414989305,1.0811191414989305,1.0519570797615483],\"xaxis\":\"x\",\"y\":[-116.875,-116.875,-208.4375,-208.4375],\"yaxis\":\"y\",\"type\":\"scatter\"},{\"hoverinfo\":\"text\",\"marker\":{\"color\":\"rgb(0,116,217)\"},\"mode\":\"lines\",\"text\":[\"\\u5546\\u54c1_\\u304a\\u798f\\u5206\\u3051_\\u30b5\\u30f3\\u30d7\\u30eb_\\u30aa\\u30b9\\u30b9\\u30e1_\\u30b5\\u30a4\\u30c8\",\"\",\"\",\"\\u30de\\u30b9\\u30af_\\u97d3\\u56fd_\\u307e\\u3064\\u6bdb_\\u9999\\u308a_\\u82b1\\u7c89\"],\"x\":[1.0022574159709385,1.1499607204565738,1.1499607204565738,1.0811191414989305],\"xaxis\":\"x\",\"y\":[-35.15625,-35.15625,-162.65625,-162.65625],\"yaxis\":\"y\",\"type\":\"scatter\"},{\"hoverinfo\":\"text\",\"marker\":{\"color\":\"rgb(61,153,112)\"},\"mode\":\"lines\",\"text\":[\"\\u30a2\\u30a4\\u30af\\u30ea\\u30fc\\u30e0_\\u76ee\\u5143_\\u30b7\\u30ef_\\u30af\\u30de_\\u5468\\u308a\",\"\",\"\",\"\\u30af\\u30de_\\u76ee\\u5143_\\u30b7\\u30ef_\\u76ee\\u306e\\u4e0b_\\u5468\\u308a\"],\"x\":[0.0,0.36546314234059707,0.36546314234059707,0.0],\"xaxis\":\"x\",\"y\":[-255.0,-255.0,-265.0,-265.0],\"yaxis\":\"y\",\"type\":\"scatter\"},{\"hoverinfo\":\"text\",\"marker\":{\"color\":\"rgb(61,153,112)\"},\"mode\":\"lines\",\"text\":[\"\\u30af\\u30ea\\u30fc\\u30e0_\\u30a2\\u30a4\\u30af\\u30ea\\u30fc\\u30e0_\\u30d5\\u30a7\\u30a4\\u30b9\\u30af\\u30ea\\u30fc\\u30e0_\\u30cf\\u30f3\\u30c9_\\u30aa\\u30b9\\u30b9\\u30e1\",\"\",\"\",\"\\u76ee\\u5143_\\u30af\\u30de_\\u30a2\\u30a4\\u30af\\u30ea\\u30fc\\u30e0_\\u30b7\\u30ef_\\u5468\\u308a\"],\"x\":[0.0,0.6861307695197522,0.6861307695197522,0.36546314234059707],\"xaxis\":\"x\",\"y\":[-245.0,-245.0,-260.0,-260.0],\"yaxis\":\"y\",\"type\":\"scatter\"},{\"hoverinfo\":\"text\",\"marker\":{\"color\":\"rgb(0,116,217)\"},\"mode\":\"lines\",\"text\":[\"\\u30de\\u30b9\\u30af_\\u97d3\\u56fd_\\u307e\\u3064\\u6bdb_\\u9999\\u308a_\\u5546\\u54c1\",\"\",\"\",\"\\u30a2\\u30a4\\u30af\\u30ea\\u30fc\\u30e0_\\u30af\\u30ea\\u30fc\\u30e0_\\u30b7\\u30ef_\\u76ee\\u5143_\\u30d5\\u30a7\\u30a4\\u30b9\\u30af\\u30ea\\u30fc\\u30e0\"],\"x\":[1.1499607204565738,1.3159027758346666,1.3159027758346666,0.6861307695197522],\"xaxis\":\"x\",\"y\":[-98.90625,-98.90625,-252.5,-252.5],\"yaxis\":\"y\",\"type\":\"scatter\"},{\"hoverinfo\":\"text\",\"marker\":{\"color\":\"rgb(255,65,54)\"},\"mode\":\"lines\",\"text\":[\"\\u7f8e\\u5bb9\\u6db2_\\u9806\\u756a_\\u5c0e\\u5165\\u7f8e\\u5bb9\\u6db2_\\u30ec\\u30c1\\u30ce\\u30fc\\u30eb_\\u30d1\\u30a6\\u30c0\\u30fc\",\"\",\"\",\"\\u7f8e\\u5bb9\\u6db2_\\u30aa\\u30b9\\u30b9\\u30e1_\\u7f8e\\u5bb9_\\u52b9\\u679c_\\u30b7\\u30df\"],\"x\":[0.0,0.46730243565637675,0.46730243565637675,0.0],\"xaxis\":\"x\",\"y\":[-285.0,-285.0,-295.0,-295.0],\"yaxis\":\"y\",\"type\":\"scatter\"},{\"hoverinfo\":\"text\",\"marker\":{\"color\":\"rgb(255,65,54)\"},\"mode\":\"lines\",\"text\":[\"\\u30d3\\u30bf\\u30df\\u30f3_\\u8a98\\u5c0e\\u4f53_\\u30ec\\u30c1\\u30ce\\u30fc\\u30eb_\\u6210\\u5206_\\u7f8e\\u5bb9\\u6db2\",\"\",\"\",\"\\u7f8e\\u5bb9\\u6db2_\\u30aa\\u30b9\\u30b9\\u30e1_\\u7f8e\\u5bb9_\\u5c0e\\u5165\\u7f8e\\u5bb9\\u6db2_\\u52b9\\u679c\"],\"x\":[0.0,0.811699176404987,0.811699176404987,0.46730243565637675],\"xaxis\":\"x\",\"y\":[-275.0,-275.0,-290.0,-290.0],\"yaxis\":\"y\",\"type\":\"scatter\"},{\"hoverinfo\":\"text\",\"marker\":{\"color\":\"rgb(35,205,205)\"},\"mode\":\"lines\",\"text\":[\"\\u4e73\\u6db2_\\u30a2\\u30eb\\u30d3\\u30aa\\u30f3_\\u5316\\u7ca7\\u6c34_\\u30af\\u30ea\\u30fc\\u30e0_\\u30e9\\u30a4\\u30f3\",\"\",\"\",\"\\u5316\\u7ca7\\u6c34_\\u30b3\\u30c3\\u30c8\\u30f3_\\u30aa\\u30b9\\u30b9\\u30e1_\\u3068\\u308d\\u307f_\\u30d7\\u30c1\\u30d7\\u30e9\"],\"x\":[0.0,0.5014199230943006,0.5014199230943006,0.0],\"xaxis\":\"x\",\"y\":[-305.0,-305.0,-315.0,-315.0],\"yaxis\":\"y\",\"type\":\"scatter\"},{\"hoverinfo\":\"text\",\"marker\":{\"color\":\"rgb(35,205,205)\"},\"mode\":\"lines\",\"text\":[\"\\u76ae\\u8102_\\u5468\\u308a_\\u304a\\u3067\\u3053_\\u30c6\\u30ab\\u30ea_\\u8102\\u6027\\u808c\",\"\",\"\",\"\\u4e7e\\u71e5\\u808c_\\u654f\\u611f\\u808c_\\u30aa\\u30b9\\u30b9\\u30e1_\\u5546\\u54c1_\\u6df7\\u5408\\u808c\"],\"x\":[0.0,0.4617842891703242,0.4617842891703242,0.0],\"xaxis\":\"x\",\"y\":[-325.0,-325.0,-335.0,-335.0],\"yaxis\":\"y\",\"type\":\"scatter\"},{\"hoverinfo\":\"text\",\"marker\":{\"color\":\"rgb(35,205,205)\"},\"mode\":\"lines\",\"text\":[\"\\u4e7e\\u71e5\\u808c_\\u654f\\u611f\\u808c_\\u6df7\\u5408\\u808c_\\u30aa\\u30b9\\u30b9\\u30e1_\\u76ae\\u8102\",\"\",\"\",\"\\u5b63\\u7bc0_\\u79cb\\u51ac_\\u590f\\u5834_\\u30bd\\u30d5\\u30a3\\u30fc\\u30eb_\\u4e7e\\u71e5\\u808c\"],\"x\":[0.4617842891703242,0.5888469802489141,0.5888469802489141,0.0],\"xaxis\":\"x\",\"y\":[-330.0,-330.0,-345.0,-345.0],\"yaxis\":\"y\",\"type\":\"scatter\"},{\"hoverinfo\":\"text\",\"marker\":{\"color\":\"rgb(35,205,205)\"},\"mode\":\"lines\",\"text\":[\"\\u4e73\\u6db2_\\u5316\\u7ca7\\u6c34_\\u30a2\\u30eb\\u30d3\\u30aa\\u30f3_\\u30b3\\u30c3\\u30c8\\u30f3_\\u30aa\\u30b9\\u30b9\\u30e1\",\"\",\"\",\"\\u4e7e\\u71e5\\u808c_\\u654f\\u611f\\u808c_\\u6df7\\u5408\\u808c_\\u30aa\\u30b9\\u30b9\\u30e1_\\u76ae\\u8102\"],\"x\":[0.5014199230943006,0.7355524971691914,0.7355524971691914,0.5888469802489141],\"xaxis\":\"x\",\"y\":[-310.0,-310.0,-337.5,-337.5],\"yaxis\":\"y\",\"type\":\"scatter\"},{\"hoverinfo\":\"text\",\"marker\":{\"color\":\"rgb(0,116,217)\"},\"mode\":\"lines\",\"text\":[\"\\u30d3\\u30bf\\u30df\\u30f3_\\u7f8e\\u5bb9\\u6db2_\\u8a98\\u5c0e\\u4f53_\\u30ec\\u30c1\\u30ce\\u30fc\\u30eb_\\u6210\\u5206\",\"\",\"\",\"\\u4e73\\u6db2_\\u5316\\u7ca7\\u6c34_\\u4e7e\\u71e5\\u808c_\\u30aa\\u30b9\\u30b9\\u30e1_\\u30a2\\u30eb\\u30d3\\u30aa\\u30f3\"],\"x\":[0.811699176404987,1.0120466959510397,1.0120466959510397,0.7355524971691914],\"xaxis\":\"x\",\"y\":[-282.5,-282.5,-323.75,-323.75],\"yaxis\":\"y\",\"type\":\"scatter\"},{\"hoverinfo\":\"text\",\"marker\":{\"color\":\"rgb(61,153,112)\"},\"mode\":\"lines\",\"text\":[\"\\u98a8\\u5442_\\u30af\\u30ec\\u30f3\\u30b8\\u30f3\\u30b0_\\u30c0\\u30d6\\u30eb\\u6d17\\u9854_\\u306c\\u308b\\u307e\\u6e6f_\\u4e0a\\u304c\\u308a\",\"\",\"\",\"\\u6d17\\u9854\\u30d5\\u30a9\\u30fc\\u30e0_\\u6d17\\u3044_\\u30aa\\u30b9\\u30b9\\u30e1_\\u30bf\\u30a4\\u30d7_\\u30d6\\u30e9\\u30b7\"],\"x\":[0.0,0.5889879050911967,0.5889879050911967,0.0],\"xaxis\":\"x\",\"y\":[-355.0,-355.0,-365.0,-365.0],\"yaxis\":\"y\",\"type\":\"scatter\"},{\"hoverinfo\":\"text\",\"marker\":{\"color\":\"rgb(61,153,112)\"},\"mode\":\"lines\",\"text\":[\"\\u98a8\\u5442_\\u30af\\u30ec\\u30f3\\u30b8\\u30f3\\u30b0_\\u6d17\\u9854\\u30d5\\u30a9\\u30fc\\u30e0_\\u30c0\\u30d6\\u30eb\\u6d17\\u9854_\\u6d17\\u3044\",\"\",\"\",\"\\u30aa\\u30a4\\u30eb_\\u30aa\\u30a4\\u30eb\\u30af\\u30ec\\u30f3\\u30b8\\u30f3\\u30b0_\\u30af\\u30ec\\u30f3\\u30b8\\u30f3\\u30b0_\\u30b7\\u30e5\\u30a6\\u30a6\\u30a8\\u30e0\\u30e9_\\u30db\\u30db\\u30d0\\u30aa\\u30a4\\u30eb\"],\"x\":[0.5889879050911967,0.7731313523665787,0.7731313523665787,0.0],\"xaxis\":\"x\",\"y\":[-360.0,-360.0,-375.0,-375.0],\"yaxis\":\"y\",\"type\":\"scatter\"},{\"hoverinfo\":\"text\",\"marker\":{\"color\":\"rgb(61,153,112)\"},\"mode\":\"lines\",\"text\":[\"\\u30aa\\u30a4\\u30eb_\\u30aa\\u30a4\\u30eb\\u30af\\u30ec\\u30f3\\u30b8\\u30f3\\u30b0_\\u30af\\u30ec\\u30f3\\u30b8\\u30f3\\u30b0_\\u98a8\\u5442_\\u30bf\\u30a4\\u30d7\",\"\",\"\",\"\\u65e5\\u713c\\u3051\\u6b62\\u3081_\\u30af\\u30ec\\u30f3\\u30b8\\u30f3\\u30b0_\\u7d2b\\u5916\\u7dda_\\u30d1\\u30a6\\u30c0\\u30fc_spf\"],\"x\":[0.7731313523665787,0.9012998347464708,0.9012998347464708,0.0],\"xaxis\":\"x\",\"y\":[-367.5,-367.5,-385.0,-385.0],\"yaxis\":\"y\",\"type\":\"scatter\"},{\"hoverinfo\":\"text\",\"marker\":{\"color\":\"rgb(0,116,217)\"},\"mode\":\"lines\",\"text\":[\"\\u4e73\\u6db2_\\u5316\\u7ca7\\u6c34_\\u30d3\\u30bf\\u30df\\u30f3_\\u7f8e\\u5bb9\\u6db2_\\u4e7e\\u71e5\\u808c\",\"\",\"\",\"\\u30aa\\u30a4\\u30eb_\\u30aa\\u30a4\\u30eb\\u30af\\u30ec\\u30f3\\u30b8\\u30f3\\u30b0_\\u30af\\u30ec\\u30f3\\u30b8\\u30f3\\u30b0_\\u65e5\\u713c\\u3051\\u6b62\\u3081_\\u98a8\\u5442\"],\"x\":[1.0120466959510397,1.1067506682487855,1.1067506682487855,0.9012998347464708],\"xaxis\":\"x\",\"y\":[-303.125,-303.125,-376.25,-376.25],\"yaxis\":\"y\",\"type\":\"scatter\"},{\"hoverinfo\":\"text\",\"marker\":{\"color\":\"rgb(0,116,217)\"},\"mode\":\"lines\",\"text\":[\"\\u30de\\u30b9\\u30af_\\u30a2\\u30a4\\u30af\\u30ea\\u30fc\\u30e0_\\u30af\\u30ea\\u30fc\\u30e0_\\u97d3\\u56fd_\\u30aa\\u30b9\\u30b9\\u30e1\",\"\",\"\",\"\\u5316\\u7ca7\\u6c34_\\u4e73\\u6db2_\\u30aa\\u30a4\\u30eb_\\u30d3\\u30bf\\u30df\\u30f3_\\u30aa\\u30b9\\u30b9\\u30e1\"],\"x\":[1.3159027758346666,1.3240960636243684,1.3240960636243684,1.1067506682487855],\"xaxis\":\"x\",\"y\":[-175.703125,-175.703125,-339.6875,-339.6875],\"yaxis\":\"y\",\"type\":\"scatter\"},{\"hoverinfo\":\"text\",\"marker\":{\"color\":\"rgb(255,65,54)\"},\"mode\":\"lines\",\"text\":[\"\\u526f\\u4f5c\\u7528_\\u30d4\\u30aa\\u30b2\\u30eb_\\u76ae\\u819a_\\u30cb\\u30ad\\u30d3_\\u30c7\\u30a3\\u30d5\\u30a7\\u30ea\\u30f3\",\"\",\"\",\"\\u8d64\\u307f_\\u8d64\\u3089\\u9854_\\u5199\\u771f_\\u76ae\\u819a_\\u75c7\\u72b6\"],\"x\":[0.0,0.7000555014596741,0.7000555014596741,0.0],\"xaxis\":\"x\",\"y\":[-395.0,-395.0,-405.0,-405.0],\"yaxis\":\"y\",\"type\":\"scatter\"},{\"hoverinfo\":\"text\",\"marker\":{\"color\":\"rgb(255,65,54)\"},\"mode\":\"lines\",\"text\":[\"\\u30cb\\u30ad\\u30d3_\\u8d64\\u307f_\\u708e\\u75c7_\\u75db\\u307f_\\u76ae\\u819a\",\"\",\"\",\"\\u30cb\\u30ad\\u30d3_\\u30d1\\u30c3\\u30c1_\\u30b1\\u30a2_\\u30aa\\u30b9\\u30b9\\u30e1_\\u80cc\\u4e2d\"],\"x\":[0.0,0.3757210012044998,0.3757210012044998,0.0],\"xaxis\":\"x\",\"y\":[-415.0,-415.0,-425.0,-425.0],\"yaxis\":\"y\",\"type\":\"scatter\"},{\"hoverinfo\":\"text\",\"marker\":{\"color\":\"rgb(255,65,54)\"},\"mode\":\"lines\",\"text\":[\"\\u30cb\\u30ad\\u30d3_\\u8d64\\u307f_\\u30aa\\u30b9\\u30b9\\u30e1_\\u30b1\\u30a2_\\u80cc\\u4e2d\",\"\",\"\",\"\\u30cb\\u30ad\\u30d3_\\u4e2d\\u5b66\\u751f_\\u76ae\\u819a_\\u601d\\u6625_\\u9ad8\\u6821\\u751f\"],\"x\":[0.3757210012044998,0.5113655511833279,0.5113655511833279,0.0],\"xaxis\":\"x\",\"y\":[-420.0,-420.0,-435.0,-435.0],\"yaxis\":\"y\",\"type\":\"scatter\"},{\"hoverinfo\":\"text\",\"marker\":{\"color\":\"rgb(255,65,54)\"},\"mode\":\"lines\",\"text\":[\"\\u8d64\\u307f_\\u76ae\\u819a_\\u526f\\u4f5c\\u7528_\\u30d4\\u30aa\\u30b2\\u30eb_\\u30cb\\u30ad\\u30d3\",\"\",\"\",\"\\u30cb\\u30ad\\u30d3_\\u76ae\\u819a_\\u601d\\u6625_\\u4e2d\\u5b66\\u751f_\\u5927\\u4eba\"],\"x\":[0.7000555014596741,0.7839844602400322,0.7839844602400322,0.5113655511833279],\"xaxis\":\"x\",\"y\":[-400.0,-400.0,-427.5,-427.5],\"yaxis\":\"y\",\"type\":\"scatter\"},{\"hoverinfo\":\"text\",\"marker\":{\"color\":\"rgb(35,205,205)\"},\"mode\":\"lines\",\"text\":[\"\\u9ed2\\u305a\\u307f_\\u6bdb\\u7a74_\\u5c0f\\u9f3b_\\u3044\\u3061\\u3054_\\u9175\\u7d20\",\"\",\"\",\"\\u6bdb\\u7a74_\\u6bdb\\u7a74\\u30b1\\u30a2_\\u958b\\u304d_\\u9ed2\\u305a\\u307f_\\u30b1\\u30a2\"],\"x\":[0.0,0.40984131924371336,0.40984131924371336,0.0],\"xaxis\":\"x\",\"y\":[-455.0,-455.0,-465.0,-465.0],\"yaxis\":\"y\",\"type\":\"scatter\"},{\"hoverinfo\":\"text\",\"marker\":{\"color\":\"rgb(35,205,205)\"},\"mode\":\"lines\",\"text\":[\"\\u9ed2\\u305a\\u307f_\\u6bdb\\u7a74_\\u5c0f\\u9f3b_\\u3044\\u3061\\u3054_\\u30b1\\u30a2\",\"\",\"\",\"\\u6bdb\\u7a74_\\u9ed2\\u305a\\u307f_\\u30af\\u30ec\\u30f3\\u30b8\\u30f3\\u30b0\\u30d0\\u30fc\\u30e0_\\u958b\\u304d_\\u30c8\\u30cb\\u30fc\\u30e2\\u30ea\\u30fc\"],\"x\":[0.40984131924371336,0.46308410398126143,0.46308410398126143,0.0],\"xaxis\":\"x\",\"y\":[-460.0,-460.0,-475.0,-475.0],\"yaxis\":\"y\",\"type\":\"scatter\"},{\"hoverinfo\":\"text\",\"marker\":{\"color\":\"rgb(35,205,205)\"},\"mode\":\"lines\",\"text\":[\"\\u6bdb\\u7a74_\\u305f\\u308b\\u307f_\\u958b\\u304d_\\u30b7\\u30df_\\u51f9\\u51f8\",\"\",\"\",\"\\u9ed2\\u305a\\u307f_\\u6bdb\\u7a74_\\u5c0f\\u9f3b_\\u3044\\u3061\\u3054_\\u30b1\\u30a2\"],\"x\":[0.0,0.576074320391597,0.576074320391597,0.46308410398126143],\"xaxis\":\"x\",\"y\":[-445.0,-445.0,-467.5,-467.5],\"yaxis\":\"y\",\"type\":\"scatter\"},{\"hoverinfo\":\"text\",\"marker\":{\"color\":\"rgb(35,205,205)\"},\"mode\":\"lines\",\"text\":[\"\\u6bdb\\u7a74_\\u9ed2\\u305a\\u307f_\\u5c0f\\u9f3b_\\u3044\\u3061\\u3054_\\u958b\\u304d\",\"\",\"\",\"\\u9175\\u7d20_\\u9175\\u7d20\\u6d17\\u9854\\u30d1\\u30a6\\u30c0\\u30fc_\\u30d5\\u30a1\\u30f3\\u30b1\\u30eb_\\u30b9\\u30a4_\\u30b5\\u30a4\"],\"x\":[0.576074320391597,0.9470314090098957,0.9470314090098957,0.0],\"xaxis\":\"x\",\"y\":[-456.25,-456.25,-485.0,-485.0],\"yaxis\":\"y\",\"type\":\"scatter\"},{\"hoverinfo\":\"text\",\"marker\":{\"color\":\"rgb(0,116,217)\"},\"mode\":\"lines\",\"text\":[\"\\u30cb\\u30ad\\u30d3_\\u76ae\\u819a_\\u8d64\\u307f_\\u526f\\u4f5c\\u7528_\\u304a\\u3067\\u3053\",\"\",\"\",\"\\u6bdb\\u7a74_\\u9ed2\\u305a\\u307f_\\u9175\\u7d20_\\u5c0f\\u9f3b_\\u3044\\u3061\\u3054\"],\"x\":[0.7839844602400322,1.466127837698916,1.466127837698916,0.9470314090098957],\"xaxis\":\"x\",\"y\":[-413.75,-413.75,-470.625,-470.625],\"yaxis\":\"y\",\"type\":\"scatter\"},{\"hoverinfo\":\"text\",\"marker\":{\"color\":\"rgb(0,116,217)\"},\"mode\":\"lines\",\"text\":[\"\\u30aa\\u30b9\\u30b9\\u30e1_\\u5316\\u7ca7\\u6c34_\\u4e73\\u6db2_\\u30af\\u30ea\\u30fc\\u30e0_\\u30de\\u30b9\\u30af\",\"\",\"\",\"\\u6bdb\\u7a74_\\u9ed2\\u305a\\u307f_\\u9175\\u7d20_\\u30cb\\u30ad\\u30d3_\\u5c0f\\u9f3b\"],\"x\":[1.3240960636243684,1.602344699762056,1.602344699762056,1.466127837698916],\"xaxis\":\"x\",\"y\":[-257.6953125,-257.6953125,-442.1875,-442.1875],\"yaxis\":\"y\",\"type\":\"scatter\"},{\"hoverinfo\":\"text\",\"hovertext\":[\"\\u5546\\u54c1_\\u30aa\\u30b9\\u30b9\\u30e1_\\u30d6\\u30e9\\u30f3\\u30c9_\\u30d1\\u30c3\\u30af_\\u30e9\\u30a4\\u30f3\",\"\\u5546\\u54c1_\\u30aa\\u30b9\\u30b9\\u30e1_\\u30d6\\u30e9\\u30f3\\u30c9_\\u30d1\\u30c3\\u30af_\\u30a2\\u30ef\\u30fc\\u30c9\",\"\\u5546\\u54c1_\\u304a\\u798f\\u5206\\u3051_\\u30b5\\u30f3\\u30d7\\u30eb_\\u30b5\\u30a4\\u30c8_\\u30af\\u30fc\\u30dd\\u30f3\",\"\\u30aa\\u30b9\\u30b9\\u30e1_\\u30af\\u30ec\\u30f3\\u30b8\\u30f3\\u30b0\\u30d0\\u30fc\\u30e0_\\u30d7\\u30c1\\u30d7\\u30e9_\\u30af\\u30ec\\u30f3\\u30b8\\u30f3\\u30b0_\\u30c7\\u30e5\\u30aa\",\"\\u5e74\\u9f62_\\u30a8\\u30a4\\u30b8\\u30f3\\u30b0\\u30b1\\u30a2_\\u30b1\\u30a2_\\u30b7\\u30df_\\u30aa\\u30fc\\u30eb\\u30a4\\u30f3\\u30ef\\u30f3\",\"\\u307e\\u3064\\u6bdb_\\u30ec\\u30fc\\u30b6\\u30fc_\\u7523\\u6bdb_\\u7709\\u6bdb_\\u30b7\\u30a7\\u30fc\\u30d0\\u30fc\",\"\\u30de\\u30b9\\u30af_\\u82b1\\u7c89_\\u808c\\u8352\\u308c_\\u30de\\u30b9\\u30af\\u8352\\u308c_\\u30d5\\u30a7\\u30a4\\u30b9\",\"\\u97d3\\u56fd_\\u9999\\u308a_\\u5302\\u3044_\\u65e5\\u672c_\\u9999\\u6c34\",\"\\u97d3\\u56fd_\\u9999\\u308a_\\u5302\\u3044_\\u30a2\\u30eb\\u30b3\\u30fc\\u30eb_\\u30a2\\u30eb\\u30b3\\u30fc\\u30eb\\u30d5\\u30ea\\u30fc\",\"\\u30de\\u30b9\\u30af_\\u82b1\\u7c89_\\u30ea\\u30c3\\u30d7_\\u808c\\u8352\\u308c_\\u30ea\\u30c3\\u30d7\\u30af\\u30ea\\u30fc\\u30e0\",\"\\u30de\\u30b9\\u30af_\\u97d3\\u56fd_\\u9999\\u308a_\\u82b1\\u7c89_\\u808c\\u8352\\u308c\",\"\\u307e\\u3064\\u6bdb_\\u30ec\\u30fc\\u30b6\\u30fc_\\u7523\\u6bdb_\\u7709\\u6bdb_\\u533b\\u7642\",\"\\u5546\\u54c1_\\u304a\\u798f\\u5206\\u3051_\\u30b5\\u30f3\\u30d7\\u30eb_\\u30aa\\u30b9\\u30b9\\u30e1_\\u30b5\\u30a4\\u30c8\",\"\\u30de\\u30b9\\u30af_\\u97d3\\u56fd_\\u307e\\u3064\\u6bdb_\\u9999\\u308a_\\u5546\\u54c1\",\"\\u4e7e\\u71e5\\u808c_\\u654f\\u611f\\u808c_\\u6df7\\u5408\\u808c_\\u30aa\\u30b9\\u30b9\\u30e1_\\u76ae\\u8102\",\"\\u4e73\\u6db2_\\u5316\\u7ca7\\u6c34_\\u30a2\\u30eb\\u30d3\\u30aa\\u30f3_\\u30b3\\u30c3\\u30c8\\u30f3_\\u30aa\\u30b9\\u30b9\\u30e1\",\"\\u30d3\\u30bf\\u30df\\u30f3_\\u7f8e\\u5bb9\\u6db2_\\u8a98\\u5c0e\\u4f53_\\u30ec\\u30c1\\u30ce\\u30fc\\u30eb_\\u6210\\u5206\",\"\\u98a8\\u5442_\\u30af\\u30ec\\u30f3\\u30b8\\u30f3\\u30b0_\\u6d17\\u9854\\u30d5\\u30a9\\u30fc\\u30e0_\\u30c0\\u30d6\\u30eb\\u6d17\\u9854_\\u6d17\\u3044\",\"\\u30aa\\u30a4\\u30eb_\\u30aa\\u30a4\\u30eb\\u30af\\u30ec\\u30f3\\u30b8\\u30f3\\u30b0_\\u30af\\u30ec\\u30f3\\u30b8\\u30f3\\u30b0_\\u98a8\\u5442_\\u30bf\\u30a4\\u30d7\",\"\\u4e73\\u6db2_\\u5316\\u7ca7\\u6c34_\\u30d3\\u30bf\\u30df\\u30f3_\\u7f8e\\u5bb9\\u6db2_\\u4e7e\\u71e5\\u808c\",\"\\u30de\\u30b9\\u30af_\\u30a2\\u30a4\\u30af\\u30ea\\u30fc\\u30e0_\\u30af\\u30ea\\u30fc\\u30e0_\\u97d3\\u56fd_\\u30aa\\u30b9\\u30b9\\u30e1\",\"\\u30cb\\u30ad\\u30d3_\\u8d64\\u307f_\\u30aa\\u30b9\\u30b9\\u30e1_\\u30b1\\u30a2_\\u80cc\\u4e2d\",\"\\u8d64\\u307f_\\u76ae\\u819a_\\u526f\\u4f5c\\u7528_\\u30d4\\u30aa\\u30b2\\u30eb_\\u30cb\\u30ad\\u30d3\",\"\\u9ed2\\u305a\\u307f_\\u6bdb\\u7a74_\\u5c0f\\u9f3b_\\u3044\\u3061\\u3054_\\u30b1\\u30a2\",\"\\u6bdb\\u7a74_\\u9ed2\\u305a\\u307f_\\u5c0f\\u9f3b_\\u3044\\u3061\\u3054_\\u958b\\u304d\",\"\\u30cb\\u30ad\\u30d3_\\u76ae\\u819a_\\u8d64\\u307f_\\u526f\\u4f5c\\u7528_\\u304a\\u3067\\u3053\",\"\\u30aa\\u30b9\\u30b9\\u30e1_\\u5316\\u7ca7\\u6c34_\\u4e73\\u6db2_\\u30af\\u30ea\\u30fc\\u30e0_\\u30de\\u30b9\\u30af\"],\"marker\":{\"color\":\"black\"},\"mode\":\"markers\",\"showlegend\":false,\"x\":[0.6600202880699564,0.7401824742766626,0.8861136592770974,0.7857951496084514,0.8512201157438635,0.9415465354918825,0.9039940802810741,0.9232043413944258,0.9500326167568618,0.9530038327935229,1.0069774160534897,0.9808511166904974,1.0022574159709385,1.1499607204565738,0.4617842891703242,0.5014199230943006,0.811699176404987,0.5889879050911967,0.7731313523665787,1.0120466959510397,1.3159027758346666,0.3757210012044998,0.7000555014596741,0.40984131924371336,0.576074320391597,0.7839844602400322,1.3240960636243684],\"y\":[-40.0,-47.5,-40.625,-10.0,-122.5,-100.0,-160.0,-190.0,-197.5,-167.5,-186.875,-116.875,-35.15625,-98.90625,-330.0,-310.0,-282.5,-360.0,-367.5,-303.125,-175.703125,-420.0,-400.0,-460.0,-456.25,-413.75,-257.6953125],\"type\":\"scatter\"},{\"hoverinfo\":\"text\",\"hovertext\":[\"\\u5546\\u54c1_\\u304a\\u798f\\u5206\\u3051_\\u30b5\\u30f3\\u30d7\\u30eb_\\u30b5\\u30a4\\u30c8_\\u30af\\u30fc\\u30dd\\u30f3\",\"\\u52b9\\u679c_\\u611f\\u60f3_\\u983b\\u5ea6_\\u4f7f\\u7528\\u611f_\\u671f\\u9593\",\"\\u5546\\u54c1_\\u304a\\u798f\\u5206\\u3051_\\u30b5\\u30f3\\u30d7\\u30eb_\\u30b5\\u30a4\\u30c8_\\u30af\\u30fc\\u30dd\\u30f3\",\"\\u30a8\\u30a4\\u30b8\\u30f3\\u30b0\\u30b1\\u30a2_\\u5e74\\u9f62_\\u30b1\\u30a2_\\u30e9\\u30a4\\u30f3_\\u30b7\\u30df\",\"\\u53cb\\u9054_\\u4e88\\u7b97_\\u5e74\\u9f62_\\u30a8\\u30a4\\u30b8\\u30f3\\u30b0\\u30b1\\u30a2_\\u30b7\\u30df\",\"\\u97d3\\u56fd_\\u9999\\u308a_\\u5302\\u3044_\\u30a2\\u30eb\\u30b3\\u30fc\\u30eb_\\u30a2\\u30eb\\u30b3\\u30fc\\u30eb\\u30d5\\u30ea\\u30fc\",\"\\u9023\\u4f11_\\u9078\\u624b_\\u30d3\\u30fc\\u30a8\\u30fc_\\u30b3\\u30f3\\u30d7\\u30ea\\u30fc\\u30c8_id\",\"\\u30de\\u30b9\\u30af_\\u97d3\\u56fd_\\u9999\\u308a_\\u82b1\\u7c89_\\u808c\\u8352\\u308c\",\"\\u30de\\u30b9\\u30af_\\u97d3\\u56fd_\\u307e\\u3064\\u6bdb_\\u9999\\u308a_\\u82b1\\u7c89\",\"\\u76ee\\u5143_\\u30af\\u30de_\\u30a2\\u30a4\\u30af\\u30ea\\u30fc\\u30e0_\\u30b7\\u30ef_\\u5468\\u308a\",\"\\u30a2\\u30a4\\u30af\\u30ea\\u30fc\\u30e0_\\u30af\\u30ea\\u30fc\\u30e0_\\u30b7\\u30ef_\\u76ee\\u5143_\\u30d5\\u30a7\\u30a4\\u30b9\\u30af\\u30ea\\u30fc\\u30e0\",\"\\u7f8e\\u5bb9\\u6db2_\\u30aa\\u30b9\\u30b9\\u30e1_\\u7f8e\\u5bb9_\\u5c0e\\u5165\\u7f8e\\u5bb9\\u6db2_\\u52b9\\u679c\",\"\\u4e7e\\u71e5\\u808c_\\u654f\\u611f\\u808c_\\u6df7\\u5408\\u808c_\\u30aa\\u30b9\\u30b9\\u30e1_\\u76ae\\u8102\",\"\\u4e73\\u6db2_\\u5316\\u7ca7\\u6c34_\\u4e7e\\u71e5\\u808c_\\u30aa\\u30b9\\u30b9\\u30e1_\\u30a2\\u30eb\\u30d3\\u30aa\\u30f3\",\"\\u30aa\\u30a4\\u30eb_\\u30aa\\u30a4\\u30eb\\u30af\\u30ec\\u30f3\\u30b8\\u30f3\\u30b0_\\u30af\\u30ec\\u30f3\\u30b8\\u30f3\\u30b0_\\u65e5\\u713c\\u3051\\u6b62\\u3081_\\u98a8\\u5442\",\"\\u5316\\u7ca7\\u6c34_\\u4e73\\u6db2_\\u30aa\\u30a4\\u30eb_\\u30d3\\u30bf\\u30df\\u30f3_\\u30aa\\u30b9\\u30b9\\u30e1\",\"\\u30cb\\u30ad\\u30d3_\\u76ae\\u819a_\\u601d\\u6625_\\u4e2d\\u5b66\\u751f_\\u5927\\u4eba\",\"\\u9ed2\\u305a\\u307f_\\u6bdb\\u7a74_\\u5c0f\\u9f3b_\\u3044\\u3061\\u3054_\\u30b1\\u30a2\",\"\\u6bdb\\u7a74_\\u9ed2\\u305a\\u307f_\\u9175\\u7d20_\\u5c0f\\u9f3b_\\u3044\\u3061\\u3054\",\"\\u6bdb\\u7a74_\\u9ed2\\u305a\\u307f_\\u9175\\u7d20_\\u30cb\\u30ad\\u30d3_\\u5c0f\\u9f3b\"],\"marker\":{\"color\":\"black\"},\"mode\":\"markers\",\"showlegend\":false,\"x\":[0.8167651753805645,0.8663147434470473,0.9341558812291944,0.6613882504236774,0.9146914621484961,0.9865088191196156,0.9166565065566221,1.0519570797615483,1.0811191414989305,0.36546314234059707,0.6861307695197522,0.46730243565637675,0.5888469802489141,0.7355524971691914,0.9012998347464708,1.1067506682487855,0.5113655511833279,0.46308410398126143,0.9470314090098957,1.466127837698916],\"y\":[-56.25,-80.0,-60.3125,-130.0,-133.75,-206.25,-230.0,-208.4375,-162.65625,-260.0,-252.5,-290.0,-337.5,-323.75,-376.25,-339.6875,-427.5,-467.5,-470.625,-442.1875],\"type\":\"scatter\"}],                        {\"autosize\":false,\"height\":935,\"hovermode\":\"closest\",\"showlegend\":false,\"width\":1000,\"xaxis\":{\"mirror\":\"allticks\",\"rangemode\":\"tozero\",\"showgrid\":false,\"showline\":true,\"showticklabels\":true,\"ticks\":\"outside\",\"type\":\"linear\",\"zeroline\":false},\"yaxis\":{\"mirror\":\"allticks\",\"rangemode\":\"tozero\",\"showgrid\":false,\"showline\":true,\"showticklabels\":true,\"tickmode\":\"array\",\"ticks\":\"outside\",\"ticktext\":[\"48_\\u30af\\u30ec\\u30f3\\u30b8\\u30f3\\u30b0\\u30d0\\u30fc\\u30e0_\\u30c7\\u30e5\\u30aa_\\u30af\\u30ec\\u30fc\\u30b8\\u30e5\",\"33_\\u30aa\\u30b9\\u30b9\\u30e1_\\u30d7\\u30c1\\u30d7\\u30e9_\\u6f2b\\u753b\",\"47_\\u30bb\\u30e9\\u30df\\u30c9_\\u30b8\\u30a7\\u30eb_\\u30d2\\u30c8\",\"35_\\u30d1\\u30c3\\u30af_\\u5546\\u54c1_\\u30d5\\u30a7\\u30a4\\u30b9\",\"28_\\u5546\\u54c1_\\u30d6\\u30e9\\u30f3\\u30c9_\\u30aa\\u30b9\\u30b9\\u30e1\",\"36_\\u30a2\\u30ef\\u30fc\\u30c9_\\u30d9\\u30b9\\u30c8_\\u5546\\u54c1\",\"7_\\u304a\\u798f\\u5206\\u3051_\\u30b5\\u30f3\\u30d7\\u30eb_\\u30b5\\u30a4\\u30c8\",\"37_\\u983b\\u5ea6_\\u30d1\\u30c3\\u30af_\\u671f\\u9593\",\"24_\\u611f\\u60f3_\\u4f7f\\u7528\\u611f_\\u52b9\\u679c\",\"11_\\u307e\\u3064\\u6bdb_\\u7523\\u6bdb_\\u7709\\u6bdb\",\"42_\\u30ec\\u30fc\\u30b6\\u30fc_\\u30b7\\u30df_\\u30d5\\u30a9\\u30c8\",\"46_\\u606f\\u5b50_\\u8d64\\u3061\\u3083\\u3093_\\u598a\\u5a66\",\"41_\\u5e74\\u9f62_\\u30a8\\u30a4\\u30b8\\u30f3\\u30b0\\u30b1\\u30a2_\\u5546\\u54c1\",\"22_\\u30a8\\u30a4\\u30b8\\u30f3\\u30b0\\u30b1\\u30a2_\\u30b1\\u30a2_\\u30af\\u30ea\\u30cb\\u30c3\\u30af\",\"43_\\u53cb\\u9054_\\u4e88\\u7b97_\\u53cb\\u4eba\",\"38_\\u82b1\\u7c89_\\u30a2\\u30ec\\u30eb\\u30ae\\u30fc_\\u808c\\u8352\\u308c\",\"6_\\u30de\\u30b9\\u30af_\\u808c\\u8352\\u308c_\\u30de\\u30b9\\u30af\\u8352\\u308c\",\"21_\\u30ea\\u30c3\\u30d7_\\u30ea\\u30c3\\u30d7\\u30af\\u30ea\\u30fc\\u30e0_\\u30e2\\u30a2\\u30ea\\u30c3\\u30d7\",\"25_\\u9999\\u308a_\\u5302\\u3044_\\u9999\\u6c34\",\"14_\\u97d3\\u56fd_\\u65e5\\u672c_\\u30ad\\u30e5\\u30a6\\u30c6\\u30f3\",\"26_\\u30a2\\u30eb\\u30b3\\u30fc\\u30eb\\u30d5\\u30ea\\u30fc_\\u30a2\\u30eb\\u30b3\\u30fc\\u30eb_\\u30b0\\u30ea\\u30bb\\u30ea\\u30f3\\u30d5\\u30ea\\u30fc\",\"44_\\u8102\\u6027\\u808c_\\u8102\\u80aa_\\u30d9\\u30ea\\u30fc\",\"23_\\u611f\\u60f3_\\u30b3\\u30d5\\u30ec_\\u30d2\\u30ab\\u30eb\",\"32_\\u9023\\u4f11_\\u30b3\\u30f3\\u30d7\\u30ea\\u30fc\\u30c8_\\u304a\\u798f\\u5206\\u3051\",\"1_\\u30af\\u30ea\\u30fc\\u30e0_\\u30a2\\u30a4\\u30af\\u30ea\\u30fc\\u30e0_\\u30d5\\u30a7\\u30a4\\u30b9\\u30af\\u30ea\\u30fc\\u30e0\",\"40_\\u30a2\\u30a4\\u30af\\u30ea\\u30fc\\u30e0_\\u76ee\\u5143_\\u30b7\\u30ef\",\"19_\\u30af\\u30de_\\u76ee\\u5143_\\u30b7\\u30ef\",\"8_\\u30d3\\u30bf\\u30df\\u30f3_\\u8a98\\u5c0e\\u4f53_\\u30ec\\u30c1\\u30ce\\u30fc\\u30eb\",\"12_\\u7f8e\\u5bb9\\u6db2_\\u9806\\u756a_\\u5c0e\\u5165\\u7f8e\\u5bb9\\u6db2\",\"15_\\u7f8e\\u5bb9\\u6db2_\\u30aa\\u30b9\\u30b9\\u30e1_\\u7f8e\\u5bb9\",\"2_\\u4e73\\u6db2_\\u30a2\\u30eb\\u30d3\\u30aa\\u30f3_\\u5316\\u7ca7\\u6c34\",\"0_\\u5316\\u7ca7\\u6c34_\\u30b3\\u30c3\\u30c8\\u30f3_\\u30aa\\u30b9\\u30b9\\u30e1\",\"16_\\u76ae\\u8102_\\u5468\\u308a_\\u304a\\u3067\\u3053\",\"4_\\u4e7e\\u71e5\\u808c_\\u654f\\u611f\\u808c_\\u30aa\\u30b9\\u30b9\\u30e1\",\"27_\\u5b63\\u7bc0_\\u79cb\\u51ac_\\u590f\\u5834\",\"9_\\u98a8\\u5442_\\u30af\\u30ec\\u30f3\\u30b8\\u30f3\\u30b0_\\u30c0\\u30d6\\u30eb\\u6d17\\u9854\",\"10_\\u6d17\\u9854\\u30d5\\u30a9\\u30fc\\u30e0_\\u6d17\\u3044_\\u30aa\\u30b9\\u30b9\\u30e1\",\"5_\\u30aa\\u30a4\\u30eb_\\u30aa\\u30a4\\u30eb\\u30af\\u30ec\\u30f3\\u30b8\\u30f3\\u30b0_\\u30af\\u30ec\\u30f3\\u30b8\\u30f3\\u30b0\",\"17_\\u65e5\\u713c\\u3051\\u6b62\\u3081_\\u30af\\u30ec\\u30f3\\u30b8\\u30f3\\u30b0_\\u7d2b\\u5916\\u7dda\",\"30_\\u526f\\u4f5c\\u7528_\\u30d4\\u30aa\\u30b2\\u30eb_\\u76ae\\u819a\",\"34_\\u8d64\\u307f_\\u8d64\\u3089\\u9854_\\u5199\\u771f\",\"39_\\u30cb\\u30ad\\u30d3_\\u8d64\\u307f_\\u708e\\u75c7\",\"13_\\u30cb\\u30ad\\u30d3_\\u30d1\\u30c3\\u30c1_\\u30b1\\u30a2\",\"20_\\u30cb\\u30ad\\u30d3_\\u4e2d\\u5b66\\u751f_\\u76ae\\u819a\",\"31_\\u6bdb\\u7a74_\\u305f\\u308b\\u307f_\\u958b\\u304d\",\"3_\\u9ed2\\u305a\\u307f_\\u6bdb\\u7a74_\\u5c0f\\u9f3b\",\"29_\\u6bdb\\u7a74_\\u6bdb\\u7a74\\u30b1\\u30a2_\\u958b\\u304d\",\"45_\\u6bdb\\u7a74_\\u9ed2\\u305a\\u307f_\\u30af\\u30ec\\u30f3\\u30b8\\u30f3\\u30b0\\u30d0\\u30fc\\u30e0\",\"18_\\u9175\\u7d20_\\u9175\\u7d20\\u6d17\\u9854\\u30d1\\u30a6\\u30c0\\u30fc_\\u30d5\\u30a1\\u30f3\\u30b1\\u30eb\"],\"tickvals\":[-5.0,-15.0,-25.0,-35.0,-45.0,-55.0,-65.0,-75.0,-85.0,-95.0,-105.0,-115.0,-125.0,-135.0,-145.0,-155.0,-165.0,-175.0,-185.0,-195.0,-205.0,-215.0,-225.0,-235.0,-245.0,-255.0,-265.0,-275.0,-285.0,-295.0,-305.0,-315.0,-325.0,-335.0,-345.0,-355.0,-365.0,-375.0,-385.0,-395.0,-405.0,-415.0,-425.0,-435.0,-445.0,-455.0,-465.0,-475.0,-485.0],\"type\":\"linear\",\"zeroline\":false,\"range\":[-490.0,0.0]},\"template\":{\"data\":{\"barpolar\":[{\"marker\":{\"line\":{\"color\":\"white\",\"width\":0.5},\"pattern\":{\"fillmode\":\"overlay\",\"size\":10,\"solidity\":0.2}},\"type\":\"barpolar\"}],\"bar\":[{\"error_x\":{\"color\":\"#2a3f5f\"},\"error_y\":{\"color\":\"#2a3f5f\"},\"marker\":{\"line\":{\"color\":\"white\",\"width\":0.5},\"pattern\":{\"fillmode\":\"overlay\",\"size\":10,\"solidity\":0.2}},\"type\":\"bar\"}],\"carpet\":[{\"aaxis\":{\"endlinecolor\":\"#2a3f5f\",\"gridcolor\":\"#C8D4E3\",\"linecolor\":\"#C8D4E3\",\"minorgridcolor\":\"#C8D4E3\",\"startlinecolor\":\"#2a3f5f\"},\"baxis\":{\"endlinecolor\":\"#2a3f5f\",\"gridcolor\":\"#C8D4E3\",\"linecolor\":\"#C8D4E3\",\"minorgridcolor\":\"#C8D4E3\",\"startlinecolor\":\"#2a3f5f\"},\"type\":\"carpet\"}],\"choropleth\":[{\"colorbar\":{\"outlinewidth\":0,\"ticks\":\"\"},\"type\":\"choropleth\"}],\"contourcarpet\":[{\"colorbar\":{\"outlinewidth\":0,\"ticks\":\"\"},\"type\":\"contourcarpet\"}],\"contour\":[{\"colorbar\":{\"outlinewidth\":0,\"ticks\":\"\"},\"colorscale\":[[0.0,\"#0d0887\"],[0.1111111111111111,\"#46039f\"],[0.2222222222222222,\"#7201a8\"],[0.3333333333333333,\"#9c179e\"],[0.4444444444444444,\"#bd3786\"],[0.5555555555555556,\"#d8576b\"],[0.6666666666666666,\"#ed7953\"],[0.7777777777777778,\"#fb9f3a\"],[0.8888888888888888,\"#fdca26\"],[1.0,\"#f0f921\"]],\"type\":\"contour\"}],\"heatmapgl\":[{\"colorbar\":{\"outlinewidth\":0,\"ticks\":\"\"},\"colorscale\":[[0.0,\"#0d0887\"],[0.1111111111111111,\"#46039f\"],[0.2222222222222222,\"#7201a8\"],[0.3333333333333333,\"#9c179e\"],[0.4444444444444444,\"#bd3786\"],[0.5555555555555556,\"#d8576b\"],[0.6666666666666666,\"#ed7953\"],[0.7777777777777778,\"#fb9f3a\"],[0.8888888888888888,\"#fdca26\"],[1.0,\"#f0f921\"]],\"type\":\"heatmapgl\"}],\"heatmap\":[{\"colorbar\":{\"outlinewidth\":0,\"ticks\":\"\"},\"colorscale\":[[0.0,\"#0d0887\"],[0.1111111111111111,\"#46039f\"],[0.2222222222222222,\"#7201a8\"],[0.3333333333333333,\"#9c179e\"],[0.4444444444444444,\"#bd3786\"],[0.5555555555555556,\"#d8576b\"],[0.6666666666666666,\"#ed7953\"],[0.7777777777777778,\"#fb9f3a\"],[0.8888888888888888,\"#fdca26\"],[1.0,\"#f0f921\"]],\"type\":\"heatmap\"}],\"histogram2dcontour\":[{\"colorbar\":{\"outlinewidth\":0,\"ticks\":\"\"},\"colorscale\":[[0.0,\"#0d0887\"],[0.1111111111111111,\"#46039f\"],[0.2222222222222222,\"#7201a8\"],[0.3333333333333333,\"#9c179e\"],[0.4444444444444444,\"#bd3786\"],[0.5555555555555556,\"#d8576b\"],[0.6666666666666666,\"#ed7953\"],[0.7777777777777778,\"#fb9f3a\"],[0.8888888888888888,\"#fdca26\"],[1.0,\"#f0f921\"]],\"type\":\"histogram2dcontour\"}],\"histogram2d\":[{\"colorbar\":{\"outlinewidth\":0,\"ticks\":\"\"},\"colorscale\":[[0.0,\"#0d0887\"],[0.1111111111111111,\"#46039f\"],[0.2222222222222222,\"#7201a8\"],[0.3333333333333333,\"#9c179e\"],[0.4444444444444444,\"#bd3786\"],[0.5555555555555556,\"#d8576b\"],[0.6666666666666666,\"#ed7953\"],[0.7777777777777778,\"#fb9f3a\"],[0.8888888888888888,\"#fdca26\"],[1.0,\"#f0f921\"]],\"type\":\"histogram2d\"}],\"histogram\":[{\"marker\":{\"pattern\":{\"fillmode\":\"overlay\",\"size\":10,\"solidity\":0.2}},\"type\":\"histogram\"}],\"mesh3d\":[{\"colorbar\":{\"outlinewidth\":0,\"ticks\":\"\"},\"type\":\"mesh3d\"}],\"parcoords\":[{\"line\":{\"colorbar\":{\"outlinewidth\":0,\"ticks\":\"\"}},\"type\":\"parcoords\"}],\"pie\":[{\"automargin\":true,\"type\":\"pie\"}],\"scatter3d\":[{\"line\":{\"colorbar\":{\"outlinewidth\":0,\"ticks\":\"\"}},\"marker\":{\"colorbar\":{\"outlinewidth\":0,\"ticks\":\"\"}},\"type\":\"scatter3d\"}],\"scattercarpet\":[{\"marker\":{\"colorbar\":{\"outlinewidth\":0,\"ticks\":\"\"}},\"type\":\"scattercarpet\"}],\"scattergeo\":[{\"marker\":{\"colorbar\":{\"outlinewidth\":0,\"ticks\":\"\"}},\"type\":\"scattergeo\"}],\"scattergl\":[{\"marker\":{\"colorbar\":{\"outlinewidth\":0,\"ticks\":\"\"}},\"type\":\"scattergl\"}],\"scattermapbox\":[{\"marker\":{\"colorbar\":{\"outlinewidth\":0,\"ticks\":\"\"}},\"type\":\"scattermapbox\"}],\"scatterpolargl\":[{\"marker\":{\"colorbar\":{\"outlinewidth\":0,\"ticks\":\"\"}},\"type\":\"scatterpolargl\"}],\"scatterpolar\":[{\"marker\":{\"colorbar\":{\"outlinewidth\":0,\"ticks\":\"\"}},\"type\":\"scatterpolar\"}],\"scatter\":[{\"fillpattern\":{\"fillmode\":\"overlay\",\"size\":10,\"solidity\":0.2},\"type\":\"scatter\"}],\"scatterternary\":[{\"marker\":{\"colorbar\":{\"outlinewidth\":0,\"ticks\":\"\"}},\"type\":\"scatterternary\"}],\"surface\":[{\"colorbar\":{\"outlinewidth\":0,\"ticks\":\"\"},\"colorscale\":[[0.0,\"#0d0887\"],[0.1111111111111111,\"#46039f\"],[0.2222222222222222,\"#7201a8\"],[0.3333333333333333,\"#9c179e\"],[0.4444444444444444,\"#bd3786\"],[0.5555555555555556,\"#d8576b\"],[0.6666666666666666,\"#ed7953\"],[0.7777777777777778,\"#fb9f3a\"],[0.8888888888888888,\"#fdca26\"],[1.0,\"#f0f921\"]],\"type\":\"surface\"}],\"table\":[{\"cells\":{\"fill\":{\"color\":\"#EBF0F8\"},\"line\":{\"color\":\"white\"}},\"header\":{\"fill\":{\"color\":\"#C8D4E3\"},\"line\":{\"color\":\"white\"}},\"type\":\"table\"}]},\"layout\":{\"annotationdefaults\":{\"arrowcolor\":\"#2a3f5f\",\"arrowhead\":0,\"arrowwidth\":1},\"autotypenumbers\":\"strict\",\"coloraxis\":{\"colorbar\":{\"outlinewidth\":0,\"ticks\":\"\"}},\"colorscale\":{\"diverging\":[[0,\"#8e0152\"],[0.1,\"#c51b7d\"],[0.2,\"#de77ae\"],[0.3,\"#f1b6da\"],[0.4,\"#fde0ef\"],[0.5,\"#f7f7f7\"],[0.6,\"#e6f5d0\"],[0.7,\"#b8e186\"],[0.8,\"#7fbc41\"],[0.9,\"#4d9221\"],[1,\"#276419\"]],\"sequential\":[[0.0,\"#0d0887\"],[0.1111111111111111,\"#46039f\"],[0.2222222222222222,\"#7201a8\"],[0.3333333333333333,\"#9c179e\"],[0.4444444444444444,\"#bd3786\"],[0.5555555555555556,\"#d8576b\"],[0.6666666666666666,\"#ed7953\"],[0.7777777777777778,\"#fb9f3a\"],[0.8888888888888888,\"#fdca26\"],[1.0,\"#f0f921\"]],\"sequentialminus\":[[0.0,\"#0d0887\"],[0.1111111111111111,\"#46039f\"],[0.2222222222222222,\"#7201a8\"],[0.3333333333333333,\"#9c179e\"],[0.4444444444444444,\"#bd3786\"],[0.5555555555555556,\"#d8576b\"],[0.6666666666666666,\"#ed7953\"],[0.7777777777777778,\"#fb9f3a\"],[0.8888888888888888,\"#fdca26\"],[1.0,\"#f0f921\"]]},\"colorway\":[\"#636efa\",\"#EF553B\",\"#00cc96\",\"#ab63fa\",\"#FFA15A\",\"#19d3f3\",\"#FF6692\",\"#B6E880\",\"#FF97FF\",\"#FECB52\"],\"font\":{\"color\":\"#2a3f5f\"},\"geo\":{\"bgcolor\":\"white\",\"lakecolor\":\"white\",\"landcolor\":\"white\",\"showlakes\":true,\"showland\":true,\"subunitcolor\":\"#C8D4E3\"},\"hoverlabel\":{\"align\":\"left\"},\"hovermode\":\"closest\",\"mapbox\":{\"style\":\"light\"},\"paper_bgcolor\":\"white\",\"plot_bgcolor\":\"white\",\"polar\":{\"angularaxis\":{\"gridcolor\":\"#EBF0F8\",\"linecolor\":\"#EBF0F8\",\"ticks\":\"\"},\"bgcolor\":\"white\",\"radialaxis\":{\"gridcolor\":\"#EBF0F8\",\"linecolor\":\"#EBF0F8\",\"ticks\":\"\"}},\"scene\":{\"xaxis\":{\"backgroundcolor\":\"white\",\"gridcolor\":\"#DFE8F3\",\"gridwidth\":2,\"linecolor\":\"#EBF0F8\",\"showbackground\":true,\"ticks\":\"\",\"zerolinecolor\":\"#EBF0F8\"},\"yaxis\":{\"backgroundcolor\":\"white\",\"gridcolor\":\"#DFE8F3\",\"gridwidth\":2,\"linecolor\":\"#EBF0F8\",\"showbackground\":true,\"ticks\":\"\",\"zerolinecolor\":\"#EBF0F8\"},\"zaxis\":{\"backgroundcolor\":\"white\",\"gridcolor\":\"#DFE8F3\",\"gridwidth\":2,\"linecolor\":\"#EBF0F8\",\"showbackground\":true,\"ticks\":\"\",\"zerolinecolor\":\"#EBF0F8\"}},\"shapedefaults\":{\"line\":{\"color\":\"#2a3f5f\"}},\"ternary\":{\"aaxis\":{\"gridcolor\":\"#DFE8F3\",\"linecolor\":\"#A2B1C6\",\"ticks\":\"\"},\"baxis\":{\"gridcolor\":\"#DFE8F3\",\"linecolor\":\"#A2B1C6\",\"ticks\":\"\"},\"bgcolor\":\"white\",\"caxis\":{\"gridcolor\":\"#DFE8F3\",\"linecolor\":\"#A2B1C6\",\"ticks\":\"\"}},\"title\":{\"x\":0.05},\"xaxis\":{\"automargin\":true,\"gridcolor\":\"#EBF0F8\",\"linecolor\":\"#EBF0F8\",\"ticks\":\"\",\"title\":{\"standoff\":15},\"zerolinecolor\":\"#EBF0F8\",\"zerolinewidth\":2},\"yaxis\":{\"automargin\":true,\"gridcolor\":\"#EBF0F8\",\"linecolor\":\"#EBF0F8\",\"ticks\":\"\",\"title\":{\"standoff\":15},\"zerolinecolor\":\"#EBF0F8\",\"zerolinewidth\":2}}},\"title\":{\"font\":{\"size\":22,\"color\":\"Black\"},\"text\":\"\\u003cb\\u003eHierarchical Clustering\\u003c\\u002fb\\u003e\",\"x\":0.5,\"xanchor\":\"center\",\"yanchor\":\"top\"},\"hoverlabel\":{\"font\":{\"size\":16,\"family\":\"Rockwell\"},\"bgcolor\":\"white\"},\"plot_bgcolor\":\"#ECEFF1\"},                        {\"responsive\": true}                    ).then(function(){\n",
              "                            \n",
              "var gd = document.getElementById('1172edc9-01d7-478c-8bf7-0bea629eebaa');\n",
              "var x = new MutationObserver(function (mutations, observer) {{\n",
              "        var display = window.getComputedStyle(gd).display;\n",
              "        if (!display || display === 'none') {{\n",
              "            console.log([gd, 'removed!']);\n",
              "            Plotly.purge(gd);\n",
              "            observer.disconnect();\n",
              "        }}\n",
              "}});\n",
              "\n",
              "// Listen for the removal of the full notebook cells\n",
              "var notebookContainer = gd.closest('#notebook-container');\n",
              "if (notebookContainer) {{\n",
              "    x.observe(notebookContainer, {childList: true});\n",
              "}}\n",
              "\n",
              "// Listen for the clearing of the current output cell\n",
              "var outputEl = gd.closest('.output');\n",
              "if (outputEl) {{\n",
              "    x.observe(outputEl, {childList: true});\n",
              "}}\n",
              "\n",
              "                        })                };                            </script>        </div>\n",
              "</body>\n",
              "</html>"
            ]
          },
          "metadata": {}
        }
      ],
      "source": [
        "my_model.visualize_hierarchy(hierarchical_topics=hierarchical_topics)"
      ]
    },
    {
      "cell_type": "code",
      "source": [
        "#@title 토픽 통합\n",
        "\n",
        "topics_to_merge = [[48,33,47,35,28,36,7,37,24],\n",
        "                   [11,42,46,41,22,43],\n",
        "                   [38,6,21,25,14,26,44],\n",
        "                   [23,32],\n",
        "                   [1,40,19],\n",
        "                    [8,12,15,2,0,16,4,27],\n",
        "                   [9,10,5,17],\n",
        "                   [30,34,39,13,20],\n",
        "                    [31,3,29,45,18]\n",
        "                   ]\n",
        "my_model.merge_topics(text, topics_to_merge)\n",
        "new_topics, new_probs = my_model.transform(text)"
      ],
      "metadata": {
        "id": "tDjl-MtPVjUt"
      },
      "execution_count": null,
      "outputs": []
    },
    {
      "cell_type": "markdown",
      "source": [
        "### 6) 최종모델 시각화"
      ],
      "metadata": {
        "id": "0g1JOPV_YlA-"
      }
    },
    {
      "cell_type": "code",
      "execution_count": null,
      "metadata": {
        "colab": {
          "base_uri": "https://localhost:8080/",
          "height": 1000
        },
        "id": "3vNlf9lVanl0",
        "outputId": "ac6e9ec6-2ac6-42ed-ddd9-8bcfd52c15a5"
      },
      "outputs": [
        {
          "output_type": "display_data",
          "data": {
            "text/plain": [
              "<pandas.io.formats.style.Styler at 0x7d83b03ebfd0>"
            ],
            "text/html": [
              "<style type=\"text/css\">\n",
              "#T_3731c_row0_col0, #T_3731c_row0_col1, #T_3731c_row0_col2, #T_3731c_row0_col3, #T_3731c_row0_col4, #T_3731c_row0_col5, #T_3731c_row0_col6, #T_3731c_row1_col0, #T_3731c_row1_col1, #T_3731c_row1_col2, #T_3731c_row1_col3, #T_3731c_row1_col4, #T_3731c_row1_col5, #T_3731c_row1_col6, #T_3731c_row2_col0, #T_3731c_row2_col1, #T_3731c_row2_col2, #T_3731c_row2_col3, #T_3731c_row2_col4, #T_3731c_row2_col5, #T_3731c_row2_col6, #T_3731c_row3_col0, #T_3731c_row3_col1, #T_3731c_row3_col2, #T_3731c_row3_col3, #T_3731c_row3_col4, #T_3731c_row3_col5, #T_3731c_row3_col6, #T_3731c_row4_col0, #T_3731c_row4_col1, #T_3731c_row4_col2, #T_3731c_row4_col3, #T_3731c_row4_col4, #T_3731c_row4_col5, #T_3731c_row4_col6, #T_3731c_row5_col0, #T_3731c_row5_col1, #T_3731c_row5_col2, #T_3731c_row5_col3, #T_3731c_row5_col4, #T_3731c_row5_col5, #T_3731c_row5_col6, #T_3731c_row6_col0, #T_3731c_row6_col1, #T_3731c_row6_col2, #T_3731c_row6_col3, #T_3731c_row6_col4, #T_3731c_row6_col5, #T_3731c_row6_col6, #T_3731c_row7_col0, #T_3731c_row7_col1, #T_3731c_row7_col2, #T_3731c_row7_col3, #T_3731c_row7_col4, #T_3731c_row7_col5, #T_3731c_row7_col6, #T_3731c_row8_col0, #T_3731c_row8_col1, #T_3731c_row8_col2, #T_3731c_row8_col3, #T_3731c_row8_col4, #T_3731c_row8_col5, #T_3731c_row8_col6, #T_3731c_row9_col0, #T_3731c_row9_col1, #T_3731c_row9_col2, #T_3731c_row9_col3, #T_3731c_row9_col4, #T_3731c_row9_col5, #T_3731c_row9_col6 {\n",
              "  text-align: left;\n",
              "}\n",
              "</style>\n",
              "<table id=\"T_3731c\" class=\"dataframe\">\n",
              "  <thead>\n",
              "    <tr>\n",
              "      <th class=\"blank level0\" >&nbsp;</th>\n",
              "      <th id=\"T_3731c_level0_col0\" class=\"col_heading level0 col0\" >Topic</th>\n",
              "      <th id=\"T_3731c_level0_col1\" class=\"col_heading level0 col1\" >Count</th>\n",
              "      <th id=\"T_3731c_level0_col2\" class=\"col_heading level0 col2\" >Name</th>\n",
              "      <th id=\"T_3731c_level0_col3\" class=\"col_heading level0 col3\" >Representation</th>\n",
              "      <th id=\"T_3731c_level0_col4\" class=\"col_heading level0 col4\" >KeyBERT</th>\n",
              "      <th id=\"T_3731c_level0_col5\" class=\"col_heading level0 col5\" >MMR</th>\n",
              "      <th id=\"T_3731c_level0_col6\" class=\"col_heading level0 col6\" >Representative_Docs</th>\n",
              "    </tr>\n",
              "  </thead>\n",
              "  <tbody>\n",
              "    <tr>\n",
              "      <th id=\"T_3731c_level0_row0\" class=\"row_heading level0 row0\" >0</th>\n",
              "      <td id=\"T_3731c_row0_col0\" class=\"data row0 col0\" >-1</td>\n",
              "      <td id=\"T_3731c_row0_col1\" class=\"data row0 col1\" >14412</td>\n",
              "      <td id=\"T_3731c_row0_col2\" class=\"data row0 col2\" >-1_ニキビ_化粧水_美容液_商品</td>\n",
              "      <td id=\"T_3731c_row0_col3\" class=\"data row0 col3\" >['ニキビ', '化粧水', '美容液', '商品', 'オススメ', '効果', '毛穴', '乳液', '皮膚', 'クリーム']</td>\n",
              "      <td id=\"T_3731c_row0_col4\" class=\"data row0 col4\" >['導入美容液', '化粧水', '皮膚', '乾燥肌', '敏感肌', '美容液', '混合肌', '肌荒れ', 'クリーム', 'メイクアップ']</td>\n",
              "      <td id=\"T_3731c_row0_col5\" class=\"data row0 col5\" >['ニキビ', '化粧水', '美容液', '商品', 'オススメ', '効果', '毛穴', '乳液', '皮膚', 'クリーム']</td>\n",
              "      <td id=\"T_3731c_row0_col6\" class=\"data row0 col6\" >['いただいたので使いたいのですが、化粧水の前ですかあとですかニキビ跡にも効果的なのでしょうか', '最近ニキビができやすくなってきました。ニキビができた時、どのようなことをしていましたか。また、ニキビができた時にオススメな乳液や化粧水、洗顔などを教えてください', '美容液でも化粧水でもクリームでも、美白効果のあるいいスキンケア商品を教えてくださいシミやくすみが気になっています。']</td>\n",
              "    </tr>\n",
              "    <tr>\n",
              "      <th id=\"T_3731c_level0_row1\" class=\"row_heading level0 row1\" >1</th>\n",
              "      <td id=\"T_3731c_row1_col0\" class=\"data row1 col0\" >0</td>\n",
              "      <td id=\"T_3731c_row1_col1\" class=\"data row1 col1\" >4599</td>\n",
              "      <td id=\"T_3731c_row1_col2\" class=\"data row1 col2\" >0_化粧水_乳液_オススメ_美容液</td>\n",
              "      <td id=\"T_3731c_row1_col3\" class=\"data row1 col3\" >['化粧水', '乳液', 'オススメ', '美容液', 'ビタミン', '乾燥肌', '敏感肌', 'クリーム', '商品', 'アルビオン']</td>\n",
              "      <td id=\"T_3731c_row1_col4\" class=\"data row1 col4\" >['化粧水', '導入美容液', '乳液', '乾燥肌', 'ミルク', 'クリーム', '美容液', '皮膚', '肌荒れ', '混合肌']</td>\n",
              "      <td id=\"T_3731c_row1_col5\" class=\"data row1 col5\" >['化粧水', '乳液', 'オススメ', '美容液', 'ビタミン', '乾燥肌', '敏感肌', 'クリーム', '商品', 'アルビオン']</td>\n",
              "      <td id=\"T_3731c_row1_col6\" class=\"data row1 col6\" >['化粧水、美容液のあとに乳液かクリームどちらかじゃだめなんでしょうか無知ですみません', '化粧水使わずに乳液使ってる方いますか', '化粧水と乳液で、配合されていて、良かったと思うものあれば教えてください。']</td>\n",
              "    </tr>\n",
              "    <tr>\n",
              "      <th id=\"T_3731c_level0_row2\" class=\"row_heading level0 row2\" >2</th>\n",
              "      <td id=\"T_3731c_row2_col0\" class=\"data row2 col0\" >1</td>\n",
              "      <td id=\"T_3731c_row2_col1\" class=\"data row2 col1\" >1836</td>\n",
              "      <td id=\"T_3731c_row2_col2\" class=\"data row2 col2\" >1_オイル_クレンジング_オイルクレンジング_日焼け止め</td>\n",
              "      <td id=\"T_3731c_row2_col3\" class=\"data row2 col3\" >['オイル', 'クレンジング', 'オイルクレンジング', '日焼け止め', '風呂', 'オススメ', 'メイクアップ', 'タイプ', '毛穴', 'ダブル洗顔']</td>\n",
              "      <td id=\"T_3731c_row2_col4\" class=\"data row2 col4\" >['オイルクレンジング', '乾燥肌', 'クリーム', '化粧水', '肌荒れ', '日焼け止め', 'アルガンオイル', 'オイル', '洗顔フォーム', '水洗顔']</td>\n",
              "      <td id=\"T_3731c_row2_col5\" class=\"data row2 col5\" >['オイル', 'クレンジング', 'オイルクレンジング', '日焼け止め', '風呂', 'オススメ', 'メイクアップ', 'タイプ', '毛穴', 'ダブル洗顔']</td>\n",
              "      <td id=\"T_3731c_row2_col6\" class=\"data row2 col6\" >['メイクアップは日焼け止めのみ使用することが多いため、今まではメイクアップも落とせる洗顔料や、洗顔料のみで洗顔を済ませていました。しかし、これでは日焼け止めはきちんと落とせていないのでしょうか洗顔に加えてクレンジングも行うべきでしょうかまた、その場合、オイルやジェル、ミルクなどオススメのタイプのクレンジングがありましたら教えてください。', 'クレンジングをした後に肌がつっぱるかんじがするのですがこれは肌にあっていないということでしょうか…オイルタイプのものを使っています', 'よく肌を擦ってはいけないと聞くのですが、クレンジングは擦らないオイルがいいのか、それとも肌に負担をかけないと言われているクリームクレンジングがいいのか迷います。']</td>\n",
              "    </tr>\n",
              "    <tr>\n",
              "      <th id=\"T_3731c_level0_row3\" class=\"row_heading level0 row3\" >3</th>\n",
              "      <td id=\"T_3731c_row3_col0\" class=\"data row3 col0\" >2</td>\n",
              "      <td id=\"T_3731c_row3_col1\" class=\"data row3 col1\" >1536</td>\n",
              "      <td id=\"T_3731c_row3_col2\" class=\"data row3 col2\" >2_マスク_韓国_香り_オススメ</td>\n",
              "      <td id=\"T_3731c_row3_col3\" class=\"data row3 col3\" >['マスク', '韓国', '香り', 'オススメ', '花粉', '商品', '肌荒れ', 'リップ', 'ニキビ', '匂い']</td>\n",
              "      <td id=\"T_3731c_row3_col4\" class=\"data row3 col4\" >['マスク荒れ', 'ピングマスク', 'マスク', '皮膚', '乾燥肌', '肌荒れ', 'メイクアップ', '敏感肌', 'パワーマスク', '化粧水']</td>\n",
              "      <td id=\"T_3731c_row3_col5\" class=\"data row3 col5\" >['マスク', '韓国', '香り', 'オススメ', '花粉', '商品', '肌荒れ', 'リップ', 'ニキビ', '匂い']</td>\n",
              "      <td id=\"T_3731c_row3_col6\" class=\"data row3 col6\" >['マスクでニキビができやすくなりました。オススメの化粧品教えてください', '仕事などで長時間つけていても肌が荒れにくいオススメの不織布マスクがあれば教えていただきたいです', 'マスク生活で頬と顎にニキビが大量に出来ました。オススメのスキンケアあれば教えて欲しいです']</td>\n",
              "    </tr>\n",
              "    <tr>\n",
              "      <th id=\"T_3731c_level0_row4\" class=\"row_heading level0 row4\" >4</th>\n",
              "      <td id=\"T_3731c_row4_col0\" class=\"data row4 col0\" >3</td>\n",
              "      <td id=\"T_3731c_row4_col1\" class=\"data row4 col1\" >1448</td>\n",
              "      <td id=\"T_3731c_row4_col2\" class=\"data row4 col2\" >3_毛穴_黒ずみ_酵素_小鼻</td>\n",
              "      <td id=\"T_3731c_row4_col3\" class=\"data row4 col3\" >['毛穴', '黒ずみ', '酵素', '小鼻', '効果', 'ケア', 'いちご', 'オススメ', '開き', '商品']</td>\n",
              "      <td id=\"T_3731c_row4_col4\" class=\"data row4 col4\" >['酵素洗顔パウダー', '洗顔フォーム', '化粧水', '乾燥肌', '酵素', '乳液', '混合肌', '皮膚', 'ニキビ', '汚れ']</td>\n",
              "      <td id=\"T_3731c_row4_col5\" class=\"data row4 col5\" >['毛穴', '黒ずみ', '酵素', '小鼻', '効果', 'ケア', 'いちご', 'オススメ', '開き', '商品']</td>\n",
              "      <td id=\"T_3731c_row4_col6\" class=\"data row4 col6\" >['酵素洗顔以外で黒ずみ毛穴が綺麗になる商品ありますか', '最近鼻の黒ずみが気になって角栓を出してしまい余計に鼻の毛穴のへこみが目立つようになってしまったのですが、どうしたら毛穴を少しでも小さくすることが出来ますかまたオススメの洗顔や気をつけた方がいい事など、教えて頂けると嬉しいです。', '私は、ずっと毛穴の黒ずみに悩んでいての酵素洗顔を0ヶ月使用していましたが、効果を感じられませんでした…。黒ずみの毛穴に、悩んでいた方で今は、きれいになった方で効果を感じたと思う商品を教えて欲しいです']</td>\n",
              "    </tr>\n",
              "    <tr>\n",
              "      <th id=\"T_3731c_level0_row5\" class=\"row_heading level0 row5\" >5</th>\n",
              "      <td id=\"T_3731c_row5_col0\" class=\"data row5 col0\" >4</td>\n",
              "      <td id=\"T_3731c_row5_col1\" class=\"data row5 col1\" >1408</td>\n",
              "      <td id=\"T_3731c_row5_col2\" class=\"data row5 col2\" >4_クリーム_アイクリーム_オススメ_シワ</td>\n",
              "      <td id=\"T_3731c_row5_col3\" class=\"data row5 col3\" >['クリーム', 'アイクリーム', 'オススメ', 'シワ', '目元', 'フェイスクリーム', 'クマ', 'ハンド', '効果', '目の下']</td>\n",
              "      <td id=\"T_3731c_row5_col4\" class=\"data row5 col4\" >['クリーム', 'リンクルクリーム', 'リップクリーム', 'フェイスクリーム', 'シカクリーム', '乾燥肌', 'アイクリーム', '香料', 'ジェルクリーム', '混合肌']</td>\n",
              "      <td id=\"T_3731c_row5_col5\" class=\"data row5 col5\" >['クリーム', 'アイクリーム', 'オススメ', 'シワ', '目元', 'フェイスクリーム', 'クマ', 'ハンド', '効果', '目の下']</td>\n",
              "      <td id=\"T_3731c_row5_col6\" class=\"data row5 col6\" >['肌がめちゃくちゃ乾燥で、オススメのクリームありましたら教えていただきたいです', '化粧品を愛する皆様こんにちは。皆さんが使ってて良いなと思う朝用クリーム教えて下さいクリーム使われていない方はオススメのスキンケア商品を教えて下さい。', '片方のみ三重になりました。オススメのクリームなど何か良いものがあれば教えてください。']</td>\n",
              "    </tr>\n",
              "    <tr>\n",
              "      <th id=\"T_3731c_level0_row6\" class=\"row_heading level0 row6\" >6</th>\n",
              "      <td id=\"T_3731c_row6_col0\" class=\"data row6 col0\" >5</td>\n",
              "      <td id=\"T_3731c_row6_col1\" class=\"data row6 col1\" >1405</td>\n",
              "      <td id=\"T_3731c_row6_col2\" class=\"data row6 col2\" >5_商品_オススメ_サンプル_お福分け</td>\n",
              "      <td id=\"T_3731c_row6_col3\" class=\"data row6 col3\" >['商品', 'オススメ', 'サンプル', 'お福分け', 'パック', '効果', 'サイト', 'ブランド', 'クーポン', 'くじ']</td>\n",
              "      <td id=\"T_3731c_row6_col4\" class=\"data row6 col4\" >['メイクアップ', '商品', 'オススメ', '福袋', '美容', 'ベスト', 'パック', 'クーポン', 'ブランド', 'スチーマー']</td>\n",
              "      <td id=\"T_3731c_row6_col5\" class=\"data row6 col5\" >['商品', 'オススメ', 'サンプル', 'お福分け', 'パック', '効果', 'サイト', 'ブランド', 'クーポン', 'くじ']</td>\n",
              "      <td id=\"T_3731c_row6_col6\" class=\"data row6 col6\" >['オススメのスキンケア商品教えてください。', ' 0からのスキンケアでオススメの商品はありますか', 'オススメのスキンケア商品があれば教えていただきたいです']</td>\n",
              "    </tr>\n",
              "    <tr>\n",
              "      <th id=\"T_3731c_level0_row7\" class=\"row_heading level0 row7\" >7</th>\n",
              "      <td id=\"T_3731c_row7_col0\" class=\"data row7 col0\" >6</td>\n",
              "      <td id=\"T_3731c_row7_col1\" class=\"data row7 col1\" >827</td>\n",
              "      <td id=\"T_3731c_row7_col2\" class=\"data row7 col2\" >6_まつ毛_レーザー_産毛_オススメ</td>\n",
              "      <td id=\"T_3731c_row7_col3\" class=\"data row7 col3\" >['まつ毛', 'レーザー', '産毛', 'オススメ', 'シミ', '効果', '美容液', '医療', '眉毛', 'シェーバー']</td>\n",
              "      <td id=\"T_3731c_row7_col4\" class=\"data row7 col4\" >['髪の毛', 'ヘア', 'ヘアケア', '産毛', 'まつげ美容液', '前髪', '美容液', 'まつ毛', '化粧水', '眉毛']</td>\n",
              "      <td id=\"T_3731c_row7_col5\" class=\"data row7 col5\" >['まつ毛', 'レーザー', '産毛', 'オススメ', 'シミ', '効果', '美容液', '医療', '眉毛', 'シェーバー']</td>\n",
              "      <td id=\"T_3731c_row7_col6\" class=\"data row7 col6\" >[' 00円以内で購入できるオススメのまつ毛美容液ありますか', 'オススメのまつ毛美容液教えてください。', '実際に使ってみて伸びた効果のある、オススメのまつ毛美容液を教えてください']</td>\n",
              "    </tr>\n",
              "    <tr>\n",
              "      <th id=\"T_3731c_level0_row8\" class=\"row_heading level0 row8\" >8</th>\n",
              "      <td id=\"T_3731c_row8_col0\" class=\"data row8 col0\" >7</td>\n",
              "      <td id=\"T_3731c_row8_col1\" class=\"data row8 col1\" >755</td>\n",
              "      <td id=\"T_3731c_row8_col2\" class=\"data row8 col2\" >7_ニキビ_皮膚_赤み_おでこ</td>\n",
              "      <td id=\"T_3731c_row8_col3\" class=\"data row8 col3\" >['ニキビ', '皮膚', '赤み', 'おでこ', '効果', '毛穴', 'ケア', '副作用', '商品', 'オススメ']</td>\n",
              "      <td id=\"T_3731c_row8_col4\" class=\"data row8 col4\" >['塗り薬', '肌荒れ', '皮膚', 'ニキビ', '敏感肌', 'メイクアップ', '腫れ', '蕁麻疹', '美容液', '化粧水']</td>\n",
              "      <td id=\"T_3731c_row8_col5\" class=\"data row8 col5\" >['ニキビ', '皮膚', '赤み', 'おでこ', '効果', '毛穴', 'ケア', '副作用', '商品', 'オススメ']</td>\n",
              "      <td id=\"T_3731c_row8_col6\" class=\"data row8 col6\" >['ニキビ跡に効くもの教えてください', 'ニキビがなかなか無くなりません皮膚科に行ったのですが、赤ニキビがなかなか無くなりません。なにかいいスキンケアなどがあれば、教えていただきたいです', '赤みのあるニキビ跡に悩んでいます。赤ニキビにも悩んでいて皮膚科にも0年程通っています。ニキビに塗る薬は貰いましたがニキビ跡は治っていくのを待ってと言われました。ですが、少しでもニキビ跡の赤みを薄くしたいです。オススメの商品があれば教えてほしいです。']</td>\n",
              "    </tr>\n",
              "    <tr>\n",
              "      <th id=\"T_3731c_level0_row9\" class=\"row_heading level0 row9\" >9</th>\n",
              "      <td id=\"T_3731c_row9_col0\" class=\"data row9 col0\" >8</td>\n",
              "      <td id=\"T_3731c_row9_col1\" class=\"data row9 col1\" >270</td>\n",
              "      <td id=\"T_3731c_row9_col2\" class=\"data row9 col2\" >8_ビーエー_連休_選手_お福分け</td>\n",
              "      <td id=\"T_3731c_row9_col3\" class=\"data row9 col3\" >['ビーエー', '連休', '選手', 'お福分け', 'id', 'コンプリート', 'イベント', 'たい', 'ご飯', 'ポチ']</td>\n",
              "      <td id=\"T_3731c_row9_col4\" class=\"data row9 col4\" >['お天気', 'お忙しい', 'ビーエー', 'ごはん', 'お気', '急ぎ', 'オススメ', 'たい', '休み', 'さま']</td>\n",
              "      <td id=\"T_3731c_row9_col5\" class=\"data row9 col5\" >['ビーエー', '連休', '選手', 'お福分け', 'id', 'コンプリート', 'イベント', 'たい', 'ご飯', 'ポチ']</td>\n",
              "      <td id=\"T_3731c_row9_col6\" class=\"data row9 col6\" >['ビーエービーエーid0今日のご予定をお願い致します。', 'よかったらどうぞビーエービーエーid00', 'ビーエービーエーid00間に合いますように']</td>\n",
              "    </tr>\n",
              "  </tbody>\n",
              "</table>\n"
            ]
          },
          "metadata": {}
        }
      ],
      "source": [
        "#@title Topic Count\n",
        "display(my_model.get_topic_info().style.set_properties(**{'text-align': 'left'}))"
      ]
    },
    {
      "cell_type": "code",
      "execution_count": null,
      "metadata": {
        "colab": {
          "base_uri": "https://localhost:8080/",
          "height": 767
        },
        "id": "FVjsFODLanl0",
        "outputId": "2e37f0b5-d15e-4799-a254-0e206077ec78"
      },
      "outputs": [
        {
          "output_type": "display_data",
          "data": {
            "text/html": [
              "<html>\n",
              "<head><meta charset=\"utf-8\" /></head>\n",
              "<body>\n",
              "    <div>            <script src=\"https://cdnjs.cloudflare.com/ajax/libs/mathjax/2.7.5/MathJax.js?config=TeX-AMS-MML_SVG\"></script><script type=\"text/javascript\">if (window.MathJax && window.MathJax.Hub && window.MathJax.Hub.Config) {window.MathJax.Hub.Config({SVG: {font: \"STIX-Web\"}});}</script>                <script type=\"text/javascript\">window.PlotlyConfig = {MathJaxConfig: 'local'};</script>\n",
              "        <script charset=\"utf-8\" src=\"https://cdn.plot.ly/plotly-2.24.1.min.js\"></script>                <div id=\"50c50477-92b4-48bc-81f9-0b74496183e5\" class=\"plotly-graph-div\" style=\"height:750px; width:1000px;\"></div>            <script type=\"text/javascript\">                                    window.PLOTLYENV=window.PLOTLYENV || {};                                    if (document.getElementById(\"50c50477-92b4-48bc-81f9-0b74496183e5\")) {                    Plotly.newPlot(                        \"50c50477-92b4-48bc-81f9-0b74496183e5\",                        [{\"marker\":{\"color\":\"#D55E00\"},\"orientation\":\"h\",\"x\":[0.03218682172494596,0.03350628098401041,0.034430173054960926,0.03633325699119486,0.0445427422357841,0.05873545834375879,0.059967116963476036,0.06247013282800695,0.09731652549566001,0.11309429727227323],\"y\":[\"\\u30a2\\u30eb\\u30d3\\u30aa\\u30f3  \",\"\\u5546\\u54c1  \",\"\\u30af\\u30ea\\u30fc\\u30e0  \",\"\\u654f\\u611f\\u808c  \",\"\\u4e7e\\u71e5\\u808c  \",\"\\u30d3\\u30bf\\u30df\\u30f3  \",\"\\u7f8e\\u5bb9\\u6db2  \",\"\\u30aa\\u30b9\\u30b9\\u30e1  \",\"\\u4e73\\u6db2  \",\"\\u5316\\u7ca7\\u6c34  \"],\"type\":\"bar\",\"xaxis\":\"x\",\"yaxis\":\"y\"},{\"marker\":{\"color\":\"#0072B2\"},\"orientation\":\"h\",\"x\":[0.027935542449096153,0.030300311493599904,0.04313817898842332,0.04725832513400522,0.054863329409735255,0.06286200220671054,0.08134248487974965,0.08431755638471689,0.1100102916543534,0.15299093104835532],\"y\":[\"\\u30c0\\u30d6\\u30eb\\u6d17\\u9854  \",\"\\u6bdb\\u7a74  \",\"\\u30bf\\u30a4\\u30d7  \",\"\\u30e1\\u30a4\\u30af\\u30a2\\u30c3\\u30d7  \",\"\\u30aa\\u30b9\\u30b9\\u30e1  \",\"\\u98a8\\u5442  \",\"\\u65e5\\u713c\\u3051\\u6b62\\u3081  \",\"\\u30aa\\u30a4\\u30eb\\u30af\\u30ec\\u30f3\\u30b8\\u30f3\\u30b0  \",\"\\u30af\\u30ec\\u30f3\\u30b8\\u30f3\\u30b0  \",\"\\u30aa\\u30a4\\u30eb  \"],\"type\":\"bar\",\"xaxis\":\"x2\",\"yaxis\":\"y2\"},{\"marker\":{\"color\":\"#CC79A7\"},\"orientation\":\"h\",\"x\":[0.03330860767939997,0.03441197026166803,0.03608171689294316,0.04548634329561664,0.04651975372160298,0.048901222871307166,0.05392394790902056,0.08174291477874507,0.09941736363943605,0.19134917911535435],\"y\":[\"\\u5302\\u3044  \",\"\\u30cb\\u30ad\\u30d3  \",\"\\u30ea\\u30c3\\u30d7  \",\"\\u808c\\u8352\\u308c  \",\"\\u5546\\u54c1  \",\"\\u82b1\\u7c89  \",\"\\u30aa\\u30b9\\u30b9\\u30e1  \",\"\\u9999\\u308a  \",\"\\u97d3\\u56fd  \",\"\\u30de\\u30b9\\u30af  \"],\"type\":\"bar\",\"xaxis\":\"x3\",\"yaxis\":\"y3\"},{\"marker\":{\"color\":\"#E69F00\"},\"orientation\":\"h\",\"x\":[0.044572896178997255,0.052554801297073864,0.05270689058260139,0.05492101037413448,0.05906202232207075,0.05940677922365037,0.09177097187251737,0.1302548467048834,0.15005623788820602,0.22337739718774313],\"y\":[\"\\u5546\\u54c1  \",\"\\u958b\\u304d  \",\"\\u30aa\\u30b9\\u30b9\\u30e1  \",\"\\u3044\\u3061\\u3054  \",\"\\u30b1\\u30a2  \",\"\\u52b9\\u679c  \",\"\\u5c0f\\u9f3b  \",\"\\u9175\\u7d20  \",\"\\u9ed2\\u305a\\u307f  \",\"\\u6bdb\\u7a74  \"],\"type\":\"bar\",\"xaxis\":\"x4\",\"yaxis\":\"y4\"},{\"marker\":{\"color\":\"#56B4E9\"},\"orientation\":\"h\",\"x\":[0.033661116518151284,0.041162002205427844,0.041430420095975404,0.04841704473705975,0.04891392949659864,0.053171037582170164,0.06044792804340423,0.07925153919489583,0.15545608896082316,0.19524901814977416],\"y\":[\"\\u76ee\\u306e\\u4e0b  \",\"\\u52b9\\u679c  \",\"\\u30cf\\u30f3\\u30c9  \",\"\\u30af\\u30de  \",\"\\u30d5\\u30a7\\u30a4\\u30b9\\u30af\\u30ea\\u30fc\\u30e0  \",\"\\u76ee\\u5143  \",\"\\u30b7\\u30ef  \",\"\\u30aa\\u30b9\\u30b9\\u30e1  \",\"\\u30a2\\u30a4\\u30af\\u30ea\\u30fc\\u30e0  \",\"\\u30af\\u30ea\\u30fc\\u30e0  \"],\"type\":\"bar\",\"xaxis\":\"x5\",\"yaxis\":\"y5\"},{\"marker\":{\"color\":\"#009E73\"},\"orientation\":\"h\",\"x\":[0.02967425559931913,0.031433227910015356,0.03389767533762027,0.0380889697827761,0.03856025300942438,0.04230529715664925,0.04894532942244747,0.05717547544474867,0.0761509759372139,0.1056452109975095],\"y\":[\"\\u304f\\u3058  \",\"\\u30af\\u30fc\\u30dd\\u30f3  \",\"\\u30d6\\u30e9\\u30f3\\u30c9  \",\"\\u30b5\\u30a4\\u30c8  \",\"\\u52b9\\u679c  \",\"\\u30d1\\u30c3\\u30af  \",\"\\u304a\\u798f\\u5206\\u3051  \",\"\\u30b5\\u30f3\\u30d7\\u30eb  \",\"\\u30aa\\u30b9\\u30b9\\u30e1  \",\"\\u5546\\u54c1  \"],\"type\":\"bar\",\"xaxis\":\"x6\",\"yaxis\":\"y6\"},{\"marker\":{\"color\":\"#F0E442\"},\"orientation\":\"h\",\"x\":[0.04128000145799711,0.04459637078113755,0.046326441027955856,0.049648995544527966,0.055297744124448885,0.0602042775857181,0.0610481677816551,0.06276163784026163,0.07601236399978616,0.17534330575664084],\"y\":[\"\\u30b7\\u30a7\\u30fc\\u30d0\\u30fc  \",\"\\u7709\\u6bdb  \",\"\\u533b\\u7642  \",\"\\u7f8e\\u5bb9\\u6db2  \",\"\\u52b9\\u679c  \",\"\\u30b7\\u30df  \",\"\\u30aa\\u30b9\\u30b9\\u30e1  \",\"\\u7523\\u6bdb  \",\"\\u30ec\\u30fc\\u30b6\\u30fc  \",\"\\u307e\\u3064\\u6bdb  \"],\"type\":\"bar\",\"xaxis\":\"x7\",\"yaxis\":\"y7\"},{\"marker\":{\"color\":\"#D55E00\"},\"orientation\":\"h\",\"x\":[0.029999645223327997,0.030931502413137277,0.031055159548836284,0.03174769104263359,0.03331644019602922,0.03535312429939614,0.0361918893291164,0.07382190305858614,0.0981307665688115,0.23276787093070958],\"y\":[\"\\u30aa\\u30b9\\u30b9\\u30e1  \",\"\\u5546\\u54c1  \",\"\\u526f\\u4f5c\\u7528  \",\"\\u30b1\\u30a2  \",\"\\u6bdb\\u7a74  \",\"\\u52b9\\u679c  \",\"\\u304a\\u3067\\u3053  \",\"\\u8d64\\u307f  \",\"\\u76ae\\u819a  \",\"\\u30cb\\u30ad\\u30d3  \"],\"type\":\"bar\",\"xaxis\":\"x8\",\"yaxis\":\"y8\"},{\"marker\":{\"color\":\"#0072B2\"},\"orientation\":\"h\",\"x\":[0.09171898980386248,0.09719055729818904,0.09767212098024486,0.10601651015145176,0.12132496694960067,0.12335680344819897,0.13246029715021015,0.13363426090392516,0.13608728202633627,0.16236331588347708],\"y\":[\"\\u30dd\\u30c1  \",\"\\u3054\\u98ef  \",\"\\u305f\\u3044  \",\"\\u30a4\\u30d9\\u30f3\\u30c8  \",\"\\u30b3\\u30f3\\u30d7\\u30ea\\u30fc\\u30c8  \",\"id  \",\"\\u304a\\u798f\\u5206\\u3051  \",\"\\u9078\\u624b  \",\"\\u9023\\u4f11  \",\"\\u30d3\\u30fc\\u30a8\\u30fc  \"],\"type\":\"bar\",\"xaxis\":\"x9\",\"yaxis\":\"y9\"}],                        {\"template\":{\"data\":{\"barpolar\":[{\"marker\":{\"line\":{\"color\":\"white\",\"width\":0.5},\"pattern\":{\"fillmode\":\"overlay\",\"size\":10,\"solidity\":0.2}},\"type\":\"barpolar\"}],\"bar\":[{\"error_x\":{\"color\":\"#2a3f5f\"},\"error_y\":{\"color\":\"#2a3f5f\"},\"marker\":{\"line\":{\"color\":\"white\",\"width\":0.5},\"pattern\":{\"fillmode\":\"overlay\",\"size\":10,\"solidity\":0.2}},\"type\":\"bar\"}],\"carpet\":[{\"aaxis\":{\"endlinecolor\":\"#2a3f5f\",\"gridcolor\":\"#C8D4E3\",\"linecolor\":\"#C8D4E3\",\"minorgridcolor\":\"#C8D4E3\",\"startlinecolor\":\"#2a3f5f\"},\"baxis\":{\"endlinecolor\":\"#2a3f5f\",\"gridcolor\":\"#C8D4E3\",\"linecolor\":\"#C8D4E3\",\"minorgridcolor\":\"#C8D4E3\",\"startlinecolor\":\"#2a3f5f\"},\"type\":\"carpet\"}],\"choropleth\":[{\"colorbar\":{\"outlinewidth\":0,\"ticks\":\"\"},\"type\":\"choropleth\"}],\"contourcarpet\":[{\"colorbar\":{\"outlinewidth\":0,\"ticks\":\"\"},\"type\":\"contourcarpet\"}],\"contour\":[{\"colorbar\":{\"outlinewidth\":0,\"ticks\":\"\"},\"colorscale\":[[0.0,\"#0d0887\"],[0.1111111111111111,\"#46039f\"],[0.2222222222222222,\"#7201a8\"],[0.3333333333333333,\"#9c179e\"],[0.4444444444444444,\"#bd3786\"],[0.5555555555555556,\"#d8576b\"],[0.6666666666666666,\"#ed7953\"],[0.7777777777777778,\"#fb9f3a\"],[0.8888888888888888,\"#fdca26\"],[1.0,\"#f0f921\"]],\"type\":\"contour\"}],\"heatmapgl\":[{\"colorbar\":{\"outlinewidth\":0,\"ticks\":\"\"},\"colorscale\":[[0.0,\"#0d0887\"],[0.1111111111111111,\"#46039f\"],[0.2222222222222222,\"#7201a8\"],[0.3333333333333333,\"#9c179e\"],[0.4444444444444444,\"#bd3786\"],[0.5555555555555556,\"#d8576b\"],[0.6666666666666666,\"#ed7953\"],[0.7777777777777778,\"#fb9f3a\"],[0.8888888888888888,\"#fdca26\"],[1.0,\"#f0f921\"]],\"type\":\"heatmapgl\"}],\"heatmap\":[{\"colorbar\":{\"outlinewidth\":0,\"ticks\":\"\"},\"colorscale\":[[0.0,\"#0d0887\"],[0.1111111111111111,\"#46039f\"],[0.2222222222222222,\"#7201a8\"],[0.3333333333333333,\"#9c179e\"],[0.4444444444444444,\"#bd3786\"],[0.5555555555555556,\"#d8576b\"],[0.6666666666666666,\"#ed7953\"],[0.7777777777777778,\"#fb9f3a\"],[0.8888888888888888,\"#fdca26\"],[1.0,\"#f0f921\"]],\"type\":\"heatmap\"}],\"histogram2dcontour\":[{\"colorbar\":{\"outlinewidth\":0,\"ticks\":\"\"},\"colorscale\":[[0.0,\"#0d0887\"],[0.1111111111111111,\"#46039f\"],[0.2222222222222222,\"#7201a8\"],[0.3333333333333333,\"#9c179e\"],[0.4444444444444444,\"#bd3786\"],[0.5555555555555556,\"#d8576b\"],[0.6666666666666666,\"#ed7953\"],[0.7777777777777778,\"#fb9f3a\"],[0.8888888888888888,\"#fdca26\"],[1.0,\"#f0f921\"]],\"type\":\"histogram2dcontour\"}],\"histogram2d\":[{\"colorbar\":{\"outlinewidth\":0,\"ticks\":\"\"},\"colorscale\":[[0.0,\"#0d0887\"],[0.1111111111111111,\"#46039f\"],[0.2222222222222222,\"#7201a8\"],[0.3333333333333333,\"#9c179e\"],[0.4444444444444444,\"#bd3786\"],[0.5555555555555556,\"#d8576b\"],[0.6666666666666666,\"#ed7953\"],[0.7777777777777778,\"#fb9f3a\"],[0.8888888888888888,\"#fdca26\"],[1.0,\"#f0f921\"]],\"type\":\"histogram2d\"}],\"histogram\":[{\"marker\":{\"pattern\":{\"fillmode\":\"overlay\",\"size\":10,\"solidity\":0.2}},\"type\":\"histogram\"}],\"mesh3d\":[{\"colorbar\":{\"outlinewidth\":0,\"ticks\":\"\"},\"type\":\"mesh3d\"}],\"parcoords\":[{\"line\":{\"colorbar\":{\"outlinewidth\":0,\"ticks\":\"\"}},\"type\":\"parcoords\"}],\"pie\":[{\"automargin\":true,\"type\":\"pie\"}],\"scatter3d\":[{\"line\":{\"colorbar\":{\"outlinewidth\":0,\"ticks\":\"\"}},\"marker\":{\"colorbar\":{\"outlinewidth\":0,\"ticks\":\"\"}},\"type\":\"scatter3d\"}],\"scattercarpet\":[{\"marker\":{\"colorbar\":{\"outlinewidth\":0,\"ticks\":\"\"}},\"type\":\"scattercarpet\"}],\"scattergeo\":[{\"marker\":{\"colorbar\":{\"outlinewidth\":0,\"ticks\":\"\"}},\"type\":\"scattergeo\"}],\"scattergl\":[{\"marker\":{\"colorbar\":{\"outlinewidth\":0,\"ticks\":\"\"}},\"type\":\"scattergl\"}],\"scattermapbox\":[{\"marker\":{\"colorbar\":{\"outlinewidth\":0,\"ticks\":\"\"}},\"type\":\"scattermapbox\"}],\"scatterpolargl\":[{\"marker\":{\"colorbar\":{\"outlinewidth\":0,\"ticks\":\"\"}},\"type\":\"scatterpolargl\"}],\"scatterpolar\":[{\"marker\":{\"colorbar\":{\"outlinewidth\":0,\"ticks\":\"\"}},\"type\":\"scatterpolar\"}],\"scatter\":[{\"fillpattern\":{\"fillmode\":\"overlay\",\"size\":10,\"solidity\":0.2},\"type\":\"scatter\"}],\"scatterternary\":[{\"marker\":{\"colorbar\":{\"outlinewidth\":0,\"ticks\":\"\"}},\"type\":\"scatterternary\"}],\"surface\":[{\"colorbar\":{\"outlinewidth\":0,\"ticks\":\"\"},\"colorscale\":[[0.0,\"#0d0887\"],[0.1111111111111111,\"#46039f\"],[0.2222222222222222,\"#7201a8\"],[0.3333333333333333,\"#9c179e\"],[0.4444444444444444,\"#bd3786\"],[0.5555555555555556,\"#d8576b\"],[0.6666666666666666,\"#ed7953\"],[0.7777777777777778,\"#fb9f3a\"],[0.8888888888888888,\"#fdca26\"],[1.0,\"#f0f921\"]],\"type\":\"surface\"}],\"table\":[{\"cells\":{\"fill\":{\"color\":\"#EBF0F8\"},\"line\":{\"color\":\"white\"}},\"header\":{\"fill\":{\"color\":\"#C8D4E3\"},\"line\":{\"color\":\"white\"}},\"type\":\"table\"}]},\"layout\":{\"annotationdefaults\":{\"arrowcolor\":\"#2a3f5f\",\"arrowhead\":0,\"arrowwidth\":1},\"autotypenumbers\":\"strict\",\"coloraxis\":{\"colorbar\":{\"outlinewidth\":0,\"ticks\":\"\"}},\"colorscale\":{\"diverging\":[[0,\"#8e0152\"],[0.1,\"#c51b7d\"],[0.2,\"#de77ae\"],[0.3,\"#f1b6da\"],[0.4,\"#fde0ef\"],[0.5,\"#f7f7f7\"],[0.6,\"#e6f5d0\"],[0.7,\"#b8e186\"],[0.8,\"#7fbc41\"],[0.9,\"#4d9221\"],[1,\"#276419\"]],\"sequential\":[[0.0,\"#0d0887\"],[0.1111111111111111,\"#46039f\"],[0.2222222222222222,\"#7201a8\"],[0.3333333333333333,\"#9c179e\"],[0.4444444444444444,\"#bd3786\"],[0.5555555555555556,\"#d8576b\"],[0.6666666666666666,\"#ed7953\"],[0.7777777777777778,\"#fb9f3a\"],[0.8888888888888888,\"#fdca26\"],[1.0,\"#f0f921\"]],\"sequentialminus\":[[0.0,\"#0d0887\"],[0.1111111111111111,\"#46039f\"],[0.2222222222222222,\"#7201a8\"],[0.3333333333333333,\"#9c179e\"],[0.4444444444444444,\"#bd3786\"],[0.5555555555555556,\"#d8576b\"],[0.6666666666666666,\"#ed7953\"],[0.7777777777777778,\"#fb9f3a\"],[0.8888888888888888,\"#fdca26\"],[1.0,\"#f0f921\"]]},\"colorway\":[\"#636efa\",\"#EF553B\",\"#00cc96\",\"#ab63fa\",\"#FFA15A\",\"#19d3f3\",\"#FF6692\",\"#B6E880\",\"#FF97FF\",\"#FECB52\"],\"font\":{\"color\":\"#2a3f5f\"},\"geo\":{\"bgcolor\":\"white\",\"lakecolor\":\"white\",\"landcolor\":\"white\",\"showlakes\":true,\"showland\":true,\"subunitcolor\":\"#C8D4E3\"},\"hoverlabel\":{\"align\":\"left\"},\"hovermode\":\"closest\",\"mapbox\":{\"style\":\"light\"},\"paper_bgcolor\":\"white\",\"plot_bgcolor\":\"white\",\"polar\":{\"angularaxis\":{\"gridcolor\":\"#EBF0F8\",\"linecolor\":\"#EBF0F8\",\"ticks\":\"\"},\"bgcolor\":\"white\",\"radialaxis\":{\"gridcolor\":\"#EBF0F8\",\"linecolor\":\"#EBF0F8\",\"ticks\":\"\"}},\"scene\":{\"xaxis\":{\"backgroundcolor\":\"white\",\"gridcolor\":\"#DFE8F3\",\"gridwidth\":2,\"linecolor\":\"#EBF0F8\",\"showbackground\":true,\"ticks\":\"\",\"zerolinecolor\":\"#EBF0F8\"},\"yaxis\":{\"backgroundcolor\":\"white\",\"gridcolor\":\"#DFE8F3\",\"gridwidth\":2,\"linecolor\":\"#EBF0F8\",\"showbackground\":true,\"ticks\":\"\",\"zerolinecolor\":\"#EBF0F8\"},\"zaxis\":{\"backgroundcolor\":\"white\",\"gridcolor\":\"#DFE8F3\",\"gridwidth\":2,\"linecolor\":\"#EBF0F8\",\"showbackground\":true,\"ticks\":\"\",\"zerolinecolor\":\"#EBF0F8\"}},\"shapedefaults\":{\"line\":{\"color\":\"#2a3f5f\"}},\"ternary\":{\"aaxis\":{\"gridcolor\":\"#DFE8F3\",\"linecolor\":\"#A2B1C6\",\"ticks\":\"\"},\"baxis\":{\"gridcolor\":\"#DFE8F3\",\"linecolor\":\"#A2B1C6\",\"ticks\":\"\"},\"bgcolor\":\"white\",\"caxis\":{\"gridcolor\":\"#DFE8F3\",\"linecolor\":\"#A2B1C6\",\"ticks\":\"\"}},\"title\":{\"x\":0.05},\"xaxis\":{\"automargin\":true,\"gridcolor\":\"#EBF0F8\",\"linecolor\":\"#EBF0F8\",\"ticks\":\"\",\"title\":{\"standoff\":15},\"zerolinecolor\":\"#EBF0F8\",\"zerolinewidth\":2},\"yaxis\":{\"automargin\":true,\"gridcolor\":\"#EBF0F8\",\"linecolor\":\"#EBF0F8\",\"ticks\":\"\",\"title\":{\"standoff\":15},\"zerolinecolor\":\"#EBF0F8\",\"zerolinewidth\":2}}},\"xaxis\":{\"anchor\":\"y\",\"domain\":[0.0,0.175],\"showgrid\":true},\"yaxis\":{\"anchor\":\"x\",\"domain\":[0.7555555555555555,1.0],\"showgrid\":true},\"xaxis2\":{\"anchor\":\"y2\",\"domain\":[0.275,0.45],\"showgrid\":true},\"yaxis2\":{\"anchor\":\"x2\",\"domain\":[0.7555555555555555,1.0],\"showgrid\":true},\"xaxis3\":{\"anchor\":\"y3\",\"domain\":[0.55,0.7250000000000001],\"showgrid\":true},\"yaxis3\":{\"anchor\":\"x3\",\"domain\":[0.7555555555555555,1.0],\"showgrid\":true},\"xaxis4\":{\"anchor\":\"y4\",\"domain\":[0.825,1.0],\"showgrid\":true},\"yaxis4\":{\"anchor\":\"x4\",\"domain\":[0.7555555555555555,1.0],\"showgrid\":true},\"xaxis5\":{\"anchor\":\"y5\",\"domain\":[0.0,0.175],\"showgrid\":true},\"yaxis5\":{\"anchor\":\"x5\",\"domain\":[0.37777777777777777,0.6222222222222222],\"showgrid\":true},\"xaxis6\":{\"anchor\":\"y6\",\"domain\":[0.275,0.45],\"showgrid\":true},\"yaxis6\":{\"anchor\":\"x6\",\"domain\":[0.37777777777777777,0.6222222222222222],\"showgrid\":true},\"xaxis7\":{\"anchor\":\"y7\",\"domain\":[0.55,0.7250000000000001],\"showgrid\":true},\"yaxis7\":{\"anchor\":\"x7\",\"domain\":[0.37777777777777777,0.6222222222222222],\"showgrid\":true},\"xaxis8\":{\"anchor\":\"y8\",\"domain\":[0.825,1.0],\"showgrid\":true},\"yaxis8\":{\"anchor\":\"x8\",\"domain\":[0.37777777777777777,0.6222222222222222],\"showgrid\":true},\"xaxis9\":{\"anchor\":\"y9\",\"domain\":[0.0,0.175],\"showgrid\":true},\"yaxis9\":{\"anchor\":\"x9\",\"domain\":[0.0,0.24444444444444446],\"showgrid\":true},\"xaxis10\":{\"anchor\":\"y10\",\"domain\":[0.275,0.45],\"showgrid\":true},\"yaxis10\":{\"anchor\":\"x10\",\"domain\":[0.0,0.24444444444444446],\"showgrid\":true},\"xaxis11\":{\"anchor\":\"y11\",\"domain\":[0.55,0.7250000000000001],\"showgrid\":true},\"yaxis11\":{\"anchor\":\"x11\",\"domain\":[0.0,0.24444444444444446],\"showgrid\":true},\"xaxis12\":{\"anchor\":\"y12\",\"domain\":[0.825,1.0],\"showgrid\":true},\"yaxis12\":{\"anchor\":\"x12\",\"domain\":[0.0,0.24444444444444446],\"showgrid\":true},\"annotations\":[{\"font\":{\"size\":16},\"showarrow\":false,\"text\":\"Topic 0\",\"x\":0.0875,\"xanchor\":\"center\",\"xref\":\"paper\",\"y\":1.0,\"yanchor\":\"bottom\",\"yref\":\"paper\"},{\"font\":{\"size\":16},\"showarrow\":false,\"text\":\"Topic 1\",\"x\":0.36250000000000004,\"xanchor\":\"center\",\"xref\":\"paper\",\"y\":1.0,\"yanchor\":\"bottom\",\"yref\":\"paper\"},{\"font\":{\"size\":16},\"showarrow\":false,\"text\":\"Topic 2\",\"x\":0.6375000000000001,\"xanchor\":\"center\",\"xref\":\"paper\",\"y\":1.0,\"yanchor\":\"bottom\",\"yref\":\"paper\"},{\"font\":{\"size\":16},\"showarrow\":false,\"text\":\"Topic 3\",\"x\":0.9125,\"xanchor\":\"center\",\"xref\":\"paper\",\"y\":1.0,\"yanchor\":\"bottom\",\"yref\":\"paper\"},{\"font\":{\"size\":16},\"showarrow\":false,\"text\":\"Topic 4\",\"x\":0.0875,\"xanchor\":\"center\",\"xref\":\"paper\",\"y\":0.6222222222222222,\"yanchor\":\"bottom\",\"yref\":\"paper\"},{\"font\":{\"size\":16},\"showarrow\":false,\"text\":\"Topic 5\",\"x\":0.36250000000000004,\"xanchor\":\"center\",\"xref\":\"paper\",\"y\":0.6222222222222222,\"yanchor\":\"bottom\",\"yref\":\"paper\"},{\"font\":{\"size\":16},\"showarrow\":false,\"text\":\"Topic 6\",\"x\":0.6375000000000001,\"xanchor\":\"center\",\"xref\":\"paper\",\"y\":0.6222222222222222,\"yanchor\":\"bottom\",\"yref\":\"paper\"},{\"font\":{\"size\":16},\"showarrow\":false,\"text\":\"Topic 7\",\"x\":0.9125,\"xanchor\":\"center\",\"xref\":\"paper\",\"y\":0.6222222222222222,\"yanchor\":\"bottom\",\"yref\":\"paper\"},{\"font\":{\"size\":16},\"showarrow\":false,\"text\":\"Topic 8\",\"x\":0.0875,\"xanchor\":\"center\",\"xref\":\"paper\",\"y\":0.24444444444444446,\"yanchor\":\"bottom\",\"yref\":\"paper\"}],\"title\":{\"font\":{\"size\":22,\"color\":\"Black\"},\"text\":\"Topic Word Scores\",\"x\":0.5,\"xanchor\":\"center\",\"yanchor\":\"top\"},\"hoverlabel\":{\"font\":{\"size\":16,\"family\":\"Rockwell\"},\"bgcolor\":\"white\"},\"showlegend\":false,\"width\":1000,\"height\":750},                        {\"responsive\": true}                    ).then(function(){\n",
              "                            \n",
              "var gd = document.getElementById('50c50477-92b4-48bc-81f9-0b74496183e5');\n",
              "var x = new MutationObserver(function (mutations, observer) {{\n",
              "        var display = window.getComputedStyle(gd).display;\n",
              "        if (!display || display === 'none') {{\n",
              "            console.log([gd, 'removed!']);\n",
              "            Plotly.purge(gd);\n",
              "            observer.disconnect();\n",
              "        }}\n",
              "}});\n",
              "\n",
              "// Listen for the removal of the full notebook cells\n",
              "var notebookContainer = gd.closest('#notebook-container');\n",
              "if (notebookContainer) {{\n",
              "    x.observe(notebookContainer, {childList: true});\n",
              "}}\n",
              "\n",
              "// Listen for the clearing of the current output cell\n",
              "var outputEl = gd.closest('.output');\n",
              "if (outputEl) {{\n",
              "    x.observe(outputEl, {childList: true});\n",
              "}}\n",
              "\n",
              "                        })                };                            </script>        </div>\n",
              "</body>\n",
              "</html>"
            ]
          },
          "metadata": {}
        }
      ],
      "source": [
        "#@title Topic Word Scores Visualize\n",
        "#@markdown class-based TF-IDF를 이용하여, 각 토픽を利用し、各トピックの単語の重要度を可視化 (デフォルトは最大8トピックまで表示)。\n",
        "my_model.visualize_barchart(top_n_topics=10,n_words=10)\n"
      ]
    },
    {
      "cell_type": "code",
      "execution_count": null,
      "metadata": {
        "colab": {
          "base_uri": "https://localhost:8080/"
        },
        "id": "yJPR_kYCanl1",
        "outputId": "f5a5f459-4745-40e7-d8fe-33595b273fc5"
      },
      "outputs": [
        {
          "output_type": "execute_result",
          "data": {
            "text/plain": [
              "{'Main': {-1: [('ニキビ', 0.05231019963812174),\n",
              "   ('化粧水', 0.048897440545990975),\n",
              "   ('美容液', 0.042463660787396225),\n",
              "   ('商品', 0.039805690633740023),\n",
              "   ('オススメ', 0.03919109197195461),\n",
              "   ('効果', 0.038194124005679786),\n",
              "   ('毛穴', 0.03558475054244357),\n",
              "   ('乳液', 0.03422705851035686),\n",
              "   ('皮膚', 0.03125215941400434),\n",
              "   ('クリーム', 0.03113085072280351)],\n",
              "  0: [('化粧水', 0.11309429727227323),\n",
              "   ('乳液', 0.09731652549566001),\n",
              "   ('オススメ', 0.06247013282800695),\n",
              "   ('美容液', 0.059967116963476036),\n",
              "   ('ビタミン', 0.05873545834375879),\n",
              "   ('乾燥肌', 0.0445427422357841),\n",
              "   ('敏感肌', 0.03633325699119486),\n",
              "   ('クリーム', 0.034430173054960926),\n",
              "   ('商品', 0.03350628098401041),\n",
              "   ('アルビオン', 0.03218682172494596)],\n",
              "  1: [('オイル', 0.15299093104835532),\n",
              "   ('クレンジング', 0.1100102916543534),\n",
              "   ('オイルクレンジング', 0.08431755638471689),\n",
              "   ('日焼け止め', 0.08134248487974965),\n",
              "   ('風呂', 0.06286200220671054),\n",
              "   ('オススメ', 0.054863329409735255),\n",
              "   ('メイクアップ', 0.04725832513400522),\n",
              "   ('タイプ', 0.04313817898842332),\n",
              "   ('毛穴', 0.030300311493599904),\n",
              "   ('ダブル洗顔', 0.027935542449096153)],\n",
              "  2: [('マスク', 0.19134917911535435),\n",
              "   ('韓国', 0.09941736363943605),\n",
              "   ('香り', 0.08174291477874507),\n",
              "   ('オススメ', 0.05392394790902056),\n",
              "   ('花粉', 0.048901222871307166),\n",
              "   ('商品', 0.04651975372160298),\n",
              "   ('肌荒れ', 0.04548634329561664),\n",
              "   ('リップ', 0.03608171689294316),\n",
              "   ('ニキビ', 0.03441197026166803),\n",
              "   ('匂い', 0.03330860767939997)],\n",
              "  3: [('毛穴', 0.22337739718774313),\n",
              "   ('黒ずみ', 0.15005623788820602),\n",
              "   ('酵素', 0.1302548467048834),\n",
              "   ('小鼻', 0.09177097187251737),\n",
              "   ('効果', 0.05940677922365037),\n",
              "   ('ケア', 0.05906202232207075),\n",
              "   ('いちご', 0.05492101037413448),\n",
              "   ('オススメ', 0.05270689058260139),\n",
              "   ('開き', 0.052554801297073864),\n",
              "   ('商品', 0.044572896178997255)],\n",
              "  4: [('クリーム', 0.19524901814977416),\n",
              "   ('アイクリーム', 0.15545608896082316),\n",
              "   ('オススメ', 0.07925153919489583),\n",
              "   ('シワ', 0.06044792804340423),\n",
              "   ('目元', 0.053171037582170164),\n",
              "   ('フェイスクリーム', 0.04891392949659864),\n",
              "   ('クマ', 0.04841704473705975),\n",
              "   ('ハンド', 0.041430420095975404),\n",
              "   ('効果', 0.041162002205427844),\n",
              "   ('目の下', 0.033661116518151284)],\n",
              "  5: [('商品', 0.1056452109975095),\n",
              "   ('オススメ', 0.0761509759372139),\n",
              "   ('サンプル', 0.05717547544474867),\n",
              "   ('お福分け', 0.04894532942244747),\n",
              "   ('パック', 0.04230529715664925),\n",
              "   ('効果', 0.03856025300942438),\n",
              "   ('サイト', 0.0380889697827761),\n",
              "   ('ブランド', 0.03389767533762027),\n",
              "   ('クーポン', 0.031433227910015356),\n",
              "   ('くじ', 0.02967425559931913)],\n",
              "  6: [('まつ毛', 0.17534330575664084),\n",
              "   ('レーザー', 0.07601236399978616),\n",
              "   ('産毛', 0.06276163784026163),\n",
              "   ('オススメ', 0.0610481677816551),\n",
              "   ('シミ', 0.0602042775857181),\n",
              "   ('効果', 0.055297744124448885),\n",
              "   ('美容液', 0.049648995544527966),\n",
              "   ('医療', 0.046326441027955856),\n",
              "   ('眉毛', 0.04459637078113755),\n",
              "   ('シェーバー', 0.04128000145799711)],\n",
              "  7: [('ニキビ', 0.23276787093070958),\n",
              "   ('皮膚', 0.0981307665688115),\n",
              "   ('赤み', 0.07382190305858614),\n",
              "   ('おでこ', 0.0361918893291164),\n",
              "   ('効果', 0.03535312429939614),\n",
              "   ('毛穴', 0.03331644019602922),\n",
              "   ('ケア', 0.03174769104263359),\n",
              "   ('副作用', 0.031055159548836284),\n",
              "   ('商品', 0.030931502413137277),\n",
              "   ('オススメ', 0.029999645223327997)],\n",
              "  8: [('ビーエー', 0.16236331588347708),\n",
              "   ('連休', 0.13608728202633627),\n",
              "   ('選手', 0.13363426090392516),\n",
              "   ('お福分け', 0.13246029715021015),\n",
              "   ('id', 0.12335680344819897),\n",
              "   ('コンプリート', 0.12132496694960067),\n",
              "   ('イベント', 0.10601651015145176),\n",
              "   ('たい', 0.09767212098024486),\n",
              "   ('ご飯', 0.09719055729818904),\n",
              "   ('ポチ', 0.09171898980386248)]},\n",
              " 'KeyBERT': {-1: [('導入美容液', 0.65566397),\n",
              "   ('化粧水', 0.64878774),\n",
              "   ('皮膚', 0.63506365),\n",
              "   ('乾燥肌', 0.5988213),\n",
              "   ('敏感肌', 0.55600053),\n",
              "   ('美容液', 0.53987104),\n",
              "   ('混合肌', 0.53391033),\n",
              "   ('肌荒れ', 0.53272706),\n",
              "   ('クリーム', 0.5237971),\n",
              "   ('メイクアップ', 0.5171789)],\n",
              "  0: [('化粧水', 0.7398917),\n",
              "   ('導入美容液', 0.65652174),\n",
              "   ('乳液', 0.6057879),\n",
              "   ('乾燥肌', 0.56662923),\n",
              "   ('ミルク', 0.5551192),\n",
              "   ('クリーム', 0.5530383),\n",
              "   ('美容液', 0.5438676),\n",
              "   ('皮膚', 0.5324596),\n",
              "   ('肌荒れ', 0.51083463),\n",
              "   ('混合肌', 0.50673944)],\n",
              "  1: [('オイルクレンジング', 0.5788334),\n",
              "   ('乾燥肌', 0.5659068),\n",
              "   ('クリーム', 0.56082875),\n",
              "   ('化粧水', 0.549756),\n",
              "   ('肌荒れ', 0.5372704),\n",
              "   ('日焼け止め', 0.52669305),\n",
              "   ('アルガンオイル', 0.5175198),\n",
              "   ('オイル', 0.51107025),\n",
              "   ('洗顔フォーム', 0.5092283),\n",
              "   ('水洗顔', 0.48193648)],\n",
              "  2: [('マスク荒れ', 0.72752154),\n",
              "   ('ピングマスク', 0.7139525),\n",
              "   ('マスク', 0.7101863),\n",
              "   ('皮膚', 0.68283385),\n",
              "   ('乾燥肌', 0.64176255),\n",
              "   ('肌荒れ', 0.6060673),\n",
              "   ('メイクアップ', 0.5991816),\n",
              "   ('敏感肌', 0.554458),\n",
              "   ('パワーマスク', 0.50523585),\n",
              "   ('化粧水', 0.50184774)],\n",
              "  3: [('酵素洗顔パウダー', 0.8171829),\n",
              "   ('洗顔フォーム', 0.59099394),\n",
              "   ('化粧水', 0.52316916),\n",
              "   ('乾燥肌', 0.5086034),\n",
              "   ('酵素', 0.5065544),\n",
              "   ('乳液', 0.48057237),\n",
              "   ('混合肌', 0.4602684),\n",
              "   ('皮膚', 0.45933396),\n",
              "   ('ニキビ', 0.4487935),\n",
              "   ('汚れ', 0.43733674)],\n",
              "  4: [('クリーム', 0.7682921),\n",
              "   ('リンクルクリーム', 0.7301473),\n",
              "   ('リップクリーム', 0.71072185),\n",
              "   ('フェイスクリーム', 0.7100641),\n",
              "   ('シカクリーム', 0.6885101),\n",
              "   ('乾燥肌', 0.6450554),\n",
              "   ('アイクリーム', 0.59377694),\n",
              "   ('香料', 0.5711119),\n",
              "   ('ジェルクリーム', 0.569006),\n",
              "   ('混合肌', 0.5099239)],\n",
              "  5: [('メイクアップ', 0.39998272),\n",
              "   ('商品', 0.39345297),\n",
              "   ('オススメ', 0.3268487),\n",
              "   ('福袋', 0.31786314),\n",
              "   ('美容', 0.2983353),\n",
              "   ('ベスト', 0.29186323),\n",
              "   ('パック', 0.2795909),\n",
              "   ('クーポン', 0.2743003),\n",
              "   ('ブランド', 0.26745948),\n",
              "   ('スチーマー', 0.25872186)],\n",
              "  6: [('髪の毛', 0.70684963),\n",
              "   ('ヘア', 0.7021726),\n",
              "   ('ヘアケア', 0.7012316),\n",
              "   ('産毛', 0.69673073),\n",
              "   ('まつげ美容液', 0.65287924),\n",
              "   ('前髪', 0.6507229),\n",
              "   ('美容液', 0.64111614),\n",
              "   ('まつ毛', 0.6154073),\n",
              "   ('化粧水', 0.59556395),\n",
              "   ('眉毛', 0.5675283)],\n",
              "  7: [('塗り薬', 0.68995345),\n",
              "   ('肌荒れ', 0.6662475),\n",
              "   ('皮膚', 0.65850437),\n",
              "   ('ニキビ', 0.64423),\n",
              "   ('敏感肌', 0.593687),\n",
              "   ('メイクアップ', 0.55528903),\n",
              "   ('腫れ', 0.55290115),\n",
              "   ('蕁麻疹', 0.5472083),\n",
              "   ('美容液', 0.5309272),\n",
              "   ('化粧水', 0.52313465)],\n",
              "  8: [('お天気', 0.73632175),\n",
              "   ('お忙しい', 0.7319363),\n",
              "   ('ビーエー', 0.7256027),\n",
              "   ('ごはん', 0.7252567),\n",
              "   ('お気', 0.7053887),\n",
              "   ('急ぎ', 0.6989597),\n",
              "   ('オススメ', 0.69492483),\n",
              "   ('たい', 0.693074),\n",
              "   ('休み', 0.692634),\n",
              "   ('さま', 0.68823785)]},\n",
              " 'MMR': {-1: [('ニキビ', 0.05231019963812174),\n",
              "   ('化粧水', 0.048897440545990975),\n",
              "   ('美容液', 0.042463660787396225),\n",
              "   ('商品', 0.039805690633740023),\n",
              "   ('オススメ', 0.03919109197195461),\n",
              "   ('効果', 0.038194124005679786),\n",
              "   ('毛穴', 0.03558475054244357),\n",
              "   ('乳液', 0.03422705851035686),\n",
              "   ('皮膚', 0.03125215941400434),\n",
              "   ('クリーム', 0.03113085072280351)],\n",
              "  0: [('化粧水', 0.11309429727227323),\n",
              "   ('乳液', 0.09731652549566001),\n",
              "   ('オススメ', 0.06247013282800695),\n",
              "   ('美容液', 0.059967116963476036),\n",
              "   ('ビタミン', 0.05873545834375879),\n",
              "   ('乾燥肌', 0.0445427422357841),\n",
              "   ('敏感肌', 0.03633325699119486),\n",
              "   ('クリーム', 0.034430173054960926),\n",
              "   ('商品', 0.03350628098401041),\n",
              "   ('アルビオン', 0.03218682172494596)],\n",
              "  1: [('オイル', 0.15299093104835532),\n",
              "   ('クレンジング', 0.1100102916543534),\n",
              "   ('オイルクレンジング', 0.08431755638471689),\n",
              "   ('日焼け止め', 0.08134248487974965),\n",
              "   ('風呂', 0.06286200220671054),\n",
              "   ('オススメ', 0.054863329409735255),\n",
              "   ('メイクアップ', 0.04725832513400522),\n",
              "   ('タイプ', 0.04313817898842332),\n",
              "   ('毛穴', 0.030300311493599904),\n",
              "   ('ダブル洗顔', 0.027935542449096153)],\n",
              "  2: [('マスク', 0.19134917911535435),\n",
              "   ('韓国', 0.09941736363943605),\n",
              "   ('香り', 0.08174291477874507),\n",
              "   ('オススメ', 0.05392394790902056),\n",
              "   ('花粉', 0.048901222871307166),\n",
              "   ('商品', 0.04651975372160298),\n",
              "   ('肌荒れ', 0.04548634329561664),\n",
              "   ('リップ', 0.03608171689294316),\n",
              "   ('ニキビ', 0.03441197026166803),\n",
              "   ('匂い', 0.03330860767939997)],\n",
              "  3: [('毛穴', 0.22337739718774313),\n",
              "   ('黒ずみ', 0.15005623788820602),\n",
              "   ('酵素', 0.1302548467048834),\n",
              "   ('小鼻', 0.09177097187251737),\n",
              "   ('効果', 0.05940677922365037),\n",
              "   ('ケア', 0.05906202232207075),\n",
              "   ('いちご', 0.05492101037413448),\n",
              "   ('オススメ', 0.05270689058260139),\n",
              "   ('開き', 0.052554801297073864),\n",
              "   ('商品', 0.044572896178997255)],\n",
              "  4: [('クリーム', 0.19524901814977416),\n",
              "   ('アイクリーム', 0.15545608896082316),\n",
              "   ('オススメ', 0.07925153919489583),\n",
              "   ('シワ', 0.06044792804340423),\n",
              "   ('目元', 0.053171037582170164),\n",
              "   ('フェイスクリーム', 0.04891392949659864),\n",
              "   ('クマ', 0.04841704473705975),\n",
              "   ('ハンド', 0.041430420095975404),\n",
              "   ('効果', 0.041162002205427844),\n",
              "   ('目の下', 0.033661116518151284)],\n",
              "  5: [('商品', 0.1056452109975095),\n",
              "   ('オススメ', 0.0761509759372139),\n",
              "   ('サンプル', 0.05717547544474867),\n",
              "   ('お福分け', 0.04894532942244747),\n",
              "   ('パック', 0.04230529715664925),\n",
              "   ('効果', 0.03856025300942438),\n",
              "   ('サイト', 0.0380889697827761),\n",
              "   ('ブランド', 0.03389767533762027),\n",
              "   ('クーポン', 0.031433227910015356),\n",
              "   ('くじ', 0.02967425559931913)],\n",
              "  6: [('まつ毛', 0.17534330575664084),\n",
              "   ('レーザー', 0.07601236399978616),\n",
              "   ('産毛', 0.06276163784026163),\n",
              "   ('オススメ', 0.0610481677816551),\n",
              "   ('シミ', 0.0602042775857181),\n",
              "   ('効果', 0.055297744124448885),\n",
              "   ('美容液', 0.049648995544527966),\n",
              "   ('医療', 0.046326441027955856),\n",
              "   ('眉毛', 0.04459637078113755),\n",
              "   ('シェーバー', 0.04128000145799711)],\n",
              "  7: [('ニキビ', 0.23276787093070958),\n",
              "   ('皮膚', 0.0981307665688115),\n",
              "   ('赤み', 0.07382190305858614),\n",
              "   ('おでこ', 0.0361918893291164),\n",
              "   ('効果', 0.03535312429939614),\n",
              "   ('毛穴', 0.03331644019602922),\n",
              "   ('ケア', 0.03174769104263359),\n",
              "   ('副作用', 0.031055159548836284),\n",
              "   ('商品', 0.030931502413137277),\n",
              "   ('オススメ', 0.029999645223327997)],\n",
              "  8: [('ビーエー', 0.16236331588347708),\n",
              "   ('連休', 0.13608728202633627),\n",
              "   ('選手', 0.13363426090392516),\n",
              "   ('お福分け', 0.13246029715021015),\n",
              "   ('id', 0.12335680344819897),\n",
              "   ('コンプリート', 0.12132496694960067),\n",
              "   ('イベント', 0.10601651015145176),\n",
              "   ('たい', 0.09767212098024486),\n",
              "   ('ご飯', 0.09719055729818904),\n",
              "   ('ポチ', 0.09171898980386248)]}}"
            ]
          },
          "metadata": {},
          "execution_count": 37
        }
      ],
      "source": [
        "#@title Topic Word Scores\n",
        "my_model.get_topics(10)\n"
      ]
    },
    {
      "cell_type": "code",
      "execution_count": null,
      "metadata": {
        "colab": {
          "base_uri": "https://localhost:8080/",
          "height": 517
        },
        "id": "xNS5hfDRanl1",
        "outputId": "03b83a06-d775-4b58-8c86-d6b3241b9d2b"
      },
      "outputs": [
        {
          "output_type": "display_data",
          "data": {
            "text/html": [
              "<html>\n",
              "<head><meta charset=\"utf-8\" /></head>\n",
              "<body>\n",
              "    <div>            <script src=\"https://cdnjs.cloudflare.com/ajax/libs/mathjax/2.7.5/MathJax.js?config=TeX-AMS-MML_SVG\"></script><script type=\"text/javascript\">if (window.MathJax && window.MathJax.Hub && window.MathJax.Hub.Config) {window.MathJax.Hub.Config({SVG: {font: \"STIX-Web\"}});}</script>                <script type=\"text/javascript\">window.PlotlyConfig = {MathJaxConfig: 'local'};</script>\n",
              "        <script charset=\"utf-8\" src=\"https://cdn.plot.ly/plotly-2.24.1.min.js\"></script>                <div id=\"fc2d1a67-1e7f-4b07-ae48-88f469ce8acb\" class=\"plotly-graph-div\" style=\"height:500px; width:800px;\"></div>            <script type=\"text/javascript\">                                    window.PLOTLYENV=window.PLOTLYENV || {};                                    if (document.getElementById(\"fc2d1a67-1e7f-4b07-ae48-88f469ce8acb\")) {                    Plotly.newPlot(                        \"fc2d1a67-1e7f-4b07-ae48-88f469ce8acb\",                        [{\"hovertext\":\"\\u003cb\\u003eTopic -1\\u003c\\u002fb\\u003e:\\u30cb\\u30ad\\u30d3_\\u5316\\u7ca7\\u6c34_\\u7f8e\\u5bb9\\u6db2_\\u5546\\u54c1_\\u30aa\\u30b9\\u30b9\\u30e1_\\u52b9\\u679c_\\u6bdb\\u7a74_\\u4e73\\u6db2_\\u76ae\\u819a_\\u30af\\u30ea\",\"line\":{\"color\":\"black\",\"width\":1.5},\"mode\":\"lines+lines\",\"name\":\"\",\"opacity\":0.1,\"x\":[1,2,3,4,5,6,7,8,9,10],\"y\":[0.05231019963812174,0.048897440545990975,0.042463660787396225,0.039805690633740023,0.03919109197195461,0.038194124005679786,0.03558475054244357,0.03422705851035686,0.03125215941400434,0.03113085072280351],\"type\":\"scatter\"},{\"hovertext\":\"\\u003cb\\u003eTopic 0\\u003c\\u002fb\\u003e:\\u5316\\u7ca7\\u6c34_\\u4e73\\u6db2_\\u30aa\\u30b9\\u30b9\\u30e1_\\u7f8e\\u5bb9\\u6db2_\\u30d3\\u30bf\\u30df\\u30f3_\\u4e7e\\u71e5\\u808c_\\u654f\\u611f\\u808c_\\u30af\\u30ea\\u30fc\\u30e0_\\u5546\",\"line\":{\"color\":\"black\",\"width\":1.5},\"mode\":\"lines+lines\",\"name\":\"\",\"opacity\":0.1,\"x\":[1,2,3,4,5,6,7,8,9,10],\"y\":[0.11309429727227323,0.09731652549566001,0.06247013282800695,0.059967116963476036,0.05873545834375879,0.0445427422357841,0.03633325699119486,0.034430173054960926,0.03350628098401041,0.03218682172494596],\"type\":\"scatter\"},{\"hovertext\":\"\\u003cb\\u003eTopic 1\\u003c\\u002fb\\u003e:\\u30aa\\u30a4\\u30eb_\\u30af\\u30ec\\u30f3\\u30b8\\u30f3\\u30b0_\\u30aa\\u30a4\\u30eb\\u30af\\u30ec\\u30f3\\u30b8\\u30f3\\u30b0_\\u65e5\\u713c\\u3051\\u6b62\\u3081_\\u98a8\\u5442_\\u30aa\\u30b9\\u30b9\\u30e1_\",\"line\":{\"color\":\"black\",\"width\":1.5},\"mode\":\"lines+lines\",\"name\":\"\",\"opacity\":0.1,\"x\":[1,2,3,4,5,6,7,8,9,10],\"y\":[0.15299093104835532,0.1100102916543534,0.08431755638471689,0.08134248487974965,0.06286200220671054,0.054863329409735255,0.04725832513400522,0.04313817898842332,0.030300311493599904,0.027935542449096153],\"type\":\"scatter\"},{\"hovertext\":\"\\u003cb\\u003eTopic 2\\u003c\\u002fb\\u003e:\\u30de\\u30b9\\u30af_\\u97d3\\u56fd_\\u9999\\u308a_\\u30aa\\u30b9\\u30b9\\u30e1_\\u82b1\\u7c89_\\u5546\\u54c1_\\u808c\\u8352\\u308c_\\u30ea\\u30c3\\u30d7_\\u30cb\\u30ad\\u30d3_\\u5302\\u3044\",\"line\":{\"color\":\"black\",\"width\":1.5},\"mode\":\"lines+lines\",\"name\":\"\",\"opacity\":0.1,\"x\":[1,2,3,4,5,6,7,8,9,10],\"y\":[0.19134917911535435,0.09941736363943605,0.08174291477874507,0.05392394790902056,0.048901222871307166,0.04651975372160298,0.04548634329561664,0.03608171689294316,0.03441197026166803,0.03330860767939997],\"type\":\"scatter\"},{\"hovertext\":\"\\u003cb\\u003eTopic 3\\u003c\\u002fb\\u003e:\\u6bdb\\u7a74_\\u9ed2\\u305a\\u307f_\\u9175\\u7d20_\\u5c0f\\u9f3b_\\u52b9\\u679c_\\u30b1\\u30a2_\\u3044\\u3061\\u3054_\\u30aa\\u30b9\\u30b9\\u30e1_\\u958b\\u304d_\\u5546\\u54c1\",\"line\":{\"color\":\"black\",\"width\":1.5},\"mode\":\"lines+lines\",\"name\":\"\",\"opacity\":0.1,\"x\":[1,2,3,4,5,6,7,8,9,10],\"y\":[0.22337739718774313,0.15005623788820602,0.1302548467048834,0.09177097187251737,0.05940677922365037,0.05906202232207075,0.05492101037413448,0.05270689058260139,0.052554801297073864,0.044572896178997255],\"type\":\"scatter\"},{\"hovertext\":\"\\u003cb\\u003eTopic 4\\u003c\\u002fb\\u003e:\\u30af\\u30ea\\u30fc\\u30e0_\\u30a2\\u30a4\\u30af\\u30ea\\u30fc\\u30e0_\\u30aa\\u30b9\\u30b9\\u30e1_\\u30b7\\u30ef_\\u76ee\\u5143_\\u30d5\\u30a7\\u30a4\\u30b9\\u30af\\u30ea\\u30fc\\u30e0_\\u30af\\u30de_\",\"line\":{\"color\":\"black\",\"width\":1.5},\"mode\":\"lines+lines\",\"name\":\"\",\"opacity\":0.1,\"x\":[1,2,3,4,5,6,7,8,9,10],\"y\":[0.19524901814977416,0.15545608896082316,0.07925153919489583,0.06044792804340423,0.053171037582170164,0.04891392949659864,0.04841704473705975,0.041430420095975404,0.041162002205427844,0.033661116518151284],\"type\":\"scatter\"},{\"hovertext\":\"\\u003cb\\u003eTopic 5\\u003c\\u002fb\\u003e:\\u5546\\u54c1_\\u30aa\\u30b9\\u30b9\\u30e1_\\u30b5\\u30f3\\u30d7\\u30eb_\\u304a\\u798f\\u5206\\u3051_\\u30d1\\u30c3\\u30af_\\u52b9\\u679c_\\u30b5\\u30a4\\u30c8_\\u30d6\\u30e9\\u30f3\\u30c9_\\u30af\",\"line\":{\"color\":\"black\",\"width\":1.5},\"mode\":\"lines+lines\",\"name\":\"\",\"opacity\":0.1,\"x\":[1,2,3,4,5,6,7,8,9,10],\"y\":[0.1056452109975095,0.0761509759372139,0.05717547544474867,0.04894532942244747,0.04230529715664925,0.03856025300942438,0.0380889697827761,0.03389767533762027,0.031433227910015356,0.02967425559931913],\"type\":\"scatter\"},{\"hovertext\":\"\\u003cb\\u003eTopic 6\\u003c\\u002fb\\u003e:\\u307e\\u3064\\u6bdb_\\u30ec\\u30fc\\u30b6\\u30fc_\\u7523\\u6bdb_\\u30aa\\u30b9\\u30b9\\u30e1_\\u30b7\\u30df_\\u52b9\\u679c_\\u7f8e\\u5bb9\\u6db2_\\u533b\\u7642_\\u7709\\u6bdb_\\u30b7\\u30a7\",\"line\":{\"color\":\"black\",\"width\":1.5},\"mode\":\"lines+lines\",\"name\":\"\",\"opacity\":0.1,\"x\":[1,2,3,4,5,6,7,8,9,10],\"y\":[0.17534330575664084,0.07601236399978616,0.06276163784026163,0.0610481677816551,0.0602042775857181,0.055297744124448885,0.049648995544527966,0.046326441027955856,0.04459637078113755,0.04128000145799711],\"type\":\"scatter\"},{\"hovertext\":\"\\u003cb\\u003eTopic 7\\u003c\\u002fb\\u003e:\\u30cb\\u30ad\\u30d3_\\u76ae\\u819a_\\u8d64\\u307f_\\u304a\\u3067\\u3053_\\u52b9\\u679c_\\u6bdb\\u7a74_\\u30b1\\u30a2_\\u526f\\u4f5c\\u7528_\\u5546\\u54c1_\\u30aa\\u30b9\\u30b9\\u30e1\",\"line\":{\"color\":\"black\",\"width\":1.5},\"mode\":\"lines+lines\",\"name\":\"\",\"opacity\":0.1,\"x\":[1,2,3,4,5,6,7,8,9,10],\"y\":[0.23276787093070958,0.0981307665688115,0.07382190305858614,0.0361918893291164,0.03535312429939614,0.03331644019602922,0.03174769104263359,0.031055159548836284,0.030931502413137277,0.029999645223327997],\"type\":\"scatter\"},{\"hovertext\":\"\\u003cb\\u003eTopic 8\\u003c\\u002fb\\u003e:\\u30d3\\u30fc\\u30a8\\u30fc_\\u9023\\u4f11_\\u9078\\u624b_\\u304a\\u798f\\u5206\\u3051_id_\\u30b3\\u30f3\\u30d7\\u30ea\\u30fc\\u30c8_\\u30a4\\u30d9\\u30f3\\u30c8_\\u305f\\u3044_\\u3054\",\"line\":{\"color\":\"black\",\"width\":1.5},\"mode\":\"lines+lines\",\"name\":\"\",\"opacity\":0.1,\"x\":[1,2,3,4,5,6,7,8,9,10],\"y\":[0.16236331588347708,0.13608728202633627,0.13363426090392516,0.13246029715021015,0.12335680344819897,0.12132496694960067,0.10601651015145176,0.09767212098024486,0.09719055729818904,0.09171898980386248],\"type\":\"scatter\"}],                        {\"template\":{\"data\":{\"barpolar\":[{\"marker\":{\"line\":{\"color\":\"white\",\"width\":0.5},\"pattern\":{\"fillmode\":\"overlay\",\"size\":10,\"solidity\":0.2}},\"type\":\"barpolar\"}],\"bar\":[{\"error_x\":{\"color\":\"#2a3f5f\"},\"error_y\":{\"color\":\"#2a3f5f\"},\"marker\":{\"line\":{\"color\":\"white\",\"width\":0.5},\"pattern\":{\"fillmode\":\"overlay\",\"size\":10,\"solidity\":0.2}},\"type\":\"bar\"}],\"carpet\":[{\"aaxis\":{\"endlinecolor\":\"#2a3f5f\",\"gridcolor\":\"#C8D4E3\",\"linecolor\":\"#C8D4E3\",\"minorgridcolor\":\"#C8D4E3\",\"startlinecolor\":\"#2a3f5f\"},\"baxis\":{\"endlinecolor\":\"#2a3f5f\",\"gridcolor\":\"#C8D4E3\",\"linecolor\":\"#C8D4E3\",\"minorgridcolor\":\"#C8D4E3\",\"startlinecolor\":\"#2a3f5f\"},\"type\":\"carpet\"}],\"choropleth\":[{\"colorbar\":{\"outlinewidth\":0,\"ticks\":\"\"},\"type\":\"choropleth\"}],\"contourcarpet\":[{\"colorbar\":{\"outlinewidth\":0,\"ticks\":\"\"},\"type\":\"contourcarpet\"}],\"contour\":[{\"colorbar\":{\"outlinewidth\":0,\"ticks\":\"\"},\"colorscale\":[[0.0,\"#0d0887\"],[0.1111111111111111,\"#46039f\"],[0.2222222222222222,\"#7201a8\"],[0.3333333333333333,\"#9c179e\"],[0.4444444444444444,\"#bd3786\"],[0.5555555555555556,\"#d8576b\"],[0.6666666666666666,\"#ed7953\"],[0.7777777777777778,\"#fb9f3a\"],[0.8888888888888888,\"#fdca26\"],[1.0,\"#f0f921\"]],\"type\":\"contour\"}],\"heatmapgl\":[{\"colorbar\":{\"outlinewidth\":0,\"ticks\":\"\"},\"colorscale\":[[0.0,\"#0d0887\"],[0.1111111111111111,\"#46039f\"],[0.2222222222222222,\"#7201a8\"],[0.3333333333333333,\"#9c179e\"],[0.4444444444444444,\"#bd3786\"],[0.5555555555555556,\"#d8576b\"],[0.6666666666666666,\"#ed7953\"],[0.7777777777777778,\"#fb9f3a\"],[0.8888888888888888,\"#fdca26\"],[1.0,\"#f0f921\"]],\"type\":\"heatmapgl\"}],\"heatmap\":[{\"colorbar\":{\"outlinewidth\":0,\"ticks\":\"\"},\"colorscale\":[[0.0,\"#0d0887\"],[0.1111111111111111,\"#46039f\"],[0.2222222222222222,\"#7201a8\"],[0.3333333333333333,\"#9c179e\"],[0.4444444444444444,\"#bd3786\"],[0.5555555555555556,\"#d8576b\"],[0.6666666666666666,\"#ed7953\"],[0.7777777777777778,\"#fb9f3a\"],[0.8888888888888888,\"#fdca26\"],[1.0,\"#f0f921\"]],\"type\":\"heatmap\"}],\"histogram2dcontour\":[{\"colorbar\":{\"outlinewidth\":0,\"ticks\":\"\"},\"colorscale\":[[0.0,\"#0d0887\"],[0.1111111111111111,\"#46039f\"],[0.2222222222222222,\"#7201a8\"],[0.3333333333333333,\"#9c179e\"],[0.4444444444444444,\"#bd3786\"],[0.5555555555555556,\"#d8576b\"],[0.6666666666666666,\"#ed7953\"],[0.7777777777777778,\"#fb9f3a\"],[0.8888888888888888,\"#fdca26\"],[1.0,\"#f0f921\"]],\"type\":\"histogram2dcontour\"}],\"histogram2d\":[{\"colorbar\":{\"outlinewidth\":0,\"ticks\":\"\"},\"colorscale\":[[0.0,\"#0d0887\"],[0.1111111111111111,\"#46039f\"],[0.2222222222222222,\"#7201a8\"],[0.3333333333333333,\"#9c179e\"],[0.4444444444444444,\"#bd3786\"],[0.5555555555555556,\"#d8576b\"],[0.6666666666666666,\"#ed7953\"],[0.7777777777777778,\"#fb9f3a\"],[0.8888888888888888,\"#fdca26\"],[1.0,\"#f0f921\"]],\"type\":\"histogram2d\"}],\"histogram\":[{\"marker\":{\"pattern\":{\"fillmode\":\"overlay\",\"size\":10,\"solidity\":0.2}},\"type\":\"histogram\"}],\"mesh3d\":[{\"colorbar\":{\"outlinewidth\":0,\"ticks\":\"\"},\"type\":\"mesh3d\"}],\"parcoords\":[{\"line\":{\"colorbar\":{\"outlinewidth\":0,\"ticks\":\"\"}},\"type\":\"parcoords\"}],\"pie\":[{\"automargin\":true,\"type\":\"pie\"}],\"scatter3d\":[{\"line\":{\"colorbar\":{\"outlinewidth\":0,\"ticks\":\"\"}},\"marker\":{\"colorbar\":{\"outlinewidth\":0,\"ticks\":\"\"}},\"type\":\"scatter3d\"}],\"scattercarpet\":[{\"marker\":{\"colorbar\":{\"outlinewidth\":0,\"ticks\":\"\"}},\"type\":\"scattercarpet\"}],\"scattergeo\":[{\"marker\":{\"colorbar\":{\"outlinewidth\":0,\"ticks\":\"\"}},\"type\":\"scattergeo\"}],\"scattergl\":[{\"marker\":{\"colorbar\":{\"outlinewidth\":0,\"ticks\":\"\"}},\"type\":\"scattergl\"}],\"scattermapbox\":[{\"marker\":{\"colorbar\":{\"outlinewidth\":0,\"ticks\":\"\"}},\"type\":\"scattermapbox\"}],\"scatterpolargl\":[{\"marker\":{\"colorbar\":{\"outlinewidth\":0,\"ticks\":\"\"}},\"type\":\"scatterpolargl\"}],\"scatterpolar\":[{\"marker\":{\"colorbar\":{\"outlinewidth\":0,\"ticks\":\"\"}},\"type\":\"scatterpolar\"}],\"scatter\":[{\"fillpattern\":{\"fillmode\":\"overlay\",\"size\":10,\"solidity\":0.2},\"type\":\"scatter\"}],\"scatterternary\":[{\"marker\":{\"colorbar\":{\"outlinewidth\":0,\"ticks\":\"\"}},\"type\":\"scatterternary\"}],\"surface\":[{\"colorbar\":{\"outlinewidth\":0,\"ticks\":\"\"},\"colorscale\":[[0.0,\"#0d0887\"],[0.1111111111111111,\"#46039f\"],[0.2222222222222222,\"#7201a8\"],[0.3333333333333333,\"#9c179e\"],[0.4444444444444444,\"#bd3786\"],[0.5555555555555556,\"#d8576b\"],[0.6666666666666666,\"#ed7953\"],[0.7777777777777778,\"#fb9f3a\"],[0.8888888888888888,\"#fdca26\"],[1.0,\"#f0f921\"]],\"type\":\"surface\"}],\"table\":[{\"cells\":{\"fill\":{\"color\":\"#EBF0F8\"},\"line\":{\"color\":\"white\"}},\"header\":{\"fill\":{\"color\":\"#C8D4E3\"},\"line\":{\"color\":\"white\"}},\"type\":\"table\"}]},\"layout\":{\"annotationdefaults\":{\"arrowcolor\":\"#2a3f5f\",\"arrowhead\":0,\"arrowwidth\":1},\"autotypenumbers\":\"strict\",\"coloraxis\":{\"colorbar\":{\"outlinewidth\":0,\"ticks\":\"\"}},\"colorscale\":{\"diverging\":[[0,\"#8e0152\"],[0.1,\"#c51b7d\"],[0.2,\"#de77ae\"],[0.3,\"#f1b6da\"],[0.4,\"#fde0ef\"],[0.5,\"#f7f7f7\"],[0.6,\"#e6f5d0\"],[0.7,\"#b8e186\"],[0.8,\"#7fbc41\"],[0.9,\"#4d9221\"],[1,\"#276419\"]],\"sequential\":[[0.0,\"#0d0887\"],[0.1111111111111111,\"#46039f\"],[0.2222222222222222,\"#7201a8\"],[0.3333333333333333,\"#9c179e\"],[0.4444444444444444,\"#bd3786\"],[0.5555555555555556,\"#d8576b\"],[0.6666666666666666,\"#ed7953\"],[0.7777777777777778,\"#fb9f3a\"],[0.8888888888888888,\"#fdca26\"],[1.0,\"#f0f921\"]],\"sequentialminus\":[[0.0,\"#0d0887\"],[0.1111111111111111,\"#46039f\"],[0.2222222222222222,\"#7201a8\"],[0.3333333333333333,\"#9c179e\"],[0.4444444444444444,\"#bd3786\"],[0.5555555555555556,\"#d8576b\"],[0.6666666666666666,\"#ed7953\"],[0.7777777777777778,\"#fb9f3a\"],[0.8888888888888888,\"#fdca26\"],[1.0,\"#f0f921\"]]},\"colorway\":[\"#636efa\",\"#EF553B\",\"#00cc96\",\"#ab63fa\",\"#FFA15A\",\"#19d3f3\",\"#FF6692\",\"#B6E880\",\"#FF97FF\",\"#FECB52\"],\"font\":{\"color\":\"#2a3f5f\"},\"geo\":{\"bgcolor\":\"white\",\"lakecolor\":\"white\",\"landcolor\":\"white\",\"showlakes\":true,\"showland\":true,\"subunitcolor\":\"#C8D4E3\"},\"hoverlabel\":{\"align\":\"left\"},\"hovermode\":\"closest\",\"mapbox\":{\"style\":\"light\"},\"paper_bgcolor\":\"white\",\"plot_bgcolor\":\"white\",\"polar\":{\"angularaxis\":{\"gridcolor\":\"#EBF0F8\",\"linecolor\":\"#EBF0F8\",\"ticks\":\"\"},\"bgcolor\":\"white\",\"radialaxis\":{\"gridcolor\":\"#EBF0F8\",\"linecolor\":\"#EBF0F8\",\"ticks\":\"\"}},\"scene\":{\"xaxis\":{\"backgroundcolor\":\"white\",\"gridcolor\":\"#DFE8F3\",\"gridwidth\":2,\"linecolor\":\"#EBF0F8\",\"showbackground\":true,\"ticks\":\"\",\"zerolinecolor\":\"#EBF0F8\"},\"yaxis\":{\"backgroundcolor\":\"white\",\"gridcolor\":\"#DFE8F3\",\"gridwidth\":2,\"linecolor\":\"#EBF0F8\",\"showbackground\":true,\"ticks\":\"\",\"zerolinecolor\":\"#EBF0F8\"},\"zaxis\":{\"backgroundcolor\":\"white\",\"gridcolor\":\"#DFE8F3\",\"gridwidth\":2,\"linecolor\":\"#EBF0F8\",\"showbackground\":true,\"ticks\":\"\",\"zerolinecolor\":\"#EBF0F8\"}},\"shapedefaults\":{\"line\":{\"color\":\"#2a3f5f\"}},\"ternary\":{\"aaxis\":{\"gridcolor\":\"#DFE8F3\",\"linecolor\":\"#A2B1C6\",\"ticks\":\"\"},\"baxis\":{\"gridcolor\":\"#DFE8F3\",\"linecolor\":\"#A2B1C6\",\"ticks\":\"\"},\"bgcolor\":\"white\",\"caxis\":{\"gridcolor\":\"#DFE8F3\",\"linecolor\":\"#A2B1C6\",\"ticks\":\"\"}},\"title\":{\"x\":0.05},\"xaxis\":{\"automargin\":true,\"gridcolor\":\"#EBF0F8\",\"linecolor\":\"#EBF0F8\",\"ticks\":\"\",\"title\":{\"standoff\":15},\"zerolinecolor\":\"#EBF0F8\",\"zerolinewidth\":2},\"yaxis\":{\"automargin\":true,\"gridcolor\":\"#EBF0F8\",\"linecolor\":\"#EBF0F8\",\"ticks\":\"\",\"title\":{\"standoff\":15},\"zerolinecolor\":\"#EBF0F8\",\"zerolinewidth\":2}}},\"xaxis\":{\"range\":[0,10],\"tick0\":1,\"dtick\":2,\"title\":{\"text\":\"Term Rank\"}},\"title\":{\"font\":{\"size\":22,\"color\":\"Black\"},\"text\":\"\\u003cb\\u003eTerm score decline per Topic\\u003c\\u002fb\\u003e\",\"y\":0.9,\"x\":0.5,\"xanchor\":\"center\",\"yanchor\":\"top\"},\"hoverlabel\":{\"font\":{\"size\":16,\"family\":\"Rockwell\"},\"bgcolor\":\"white\"},\"showlegend\":false,\"width\":800,\"height\":500,\"yaxis\":{\"title\":{\"text\":\"c-TF-IDF score\"}}},                        {\"responsive\": true}                    ).then(function(){\n",
              "                            \n",
              "var gd = document.getElementById('fc2d1a67-1e7f-4b07-ae48-88f469ce8acb');\n",
              "var x = new MutationObserver(function (mutations, observer) {{\n",
              "        var display = window.getComputedStyle(gd).display;\n",
              "        if (!display || display === 'none') {{\n",
              "            console.log([gd, 'removed!']);\n",
              "            Plotly.purge(gd);\n",
              "            observer.disconnect();\n",
              "        }}\n",
              "}});\n",
              "\n",
              "// Listen for the removal of the full notebook cells\n",
              "var notebookContainer = gd.closest('#notebook-container');\n",
              "if (notebookContainer) {{\n",
              "    x.observe(notebookContainer, {childList: true});\n",
              "}}\n",
              "\n",
              "// Listen for the clearing of the current output cell\n",
              "var outputEl = gd.closest('.output');\n",
              "if (outputEl) {{\n",
              "    x.observe(outputEl, {childList: true});\n",
              "}}\n",
              "\n",
              "                        })                };                            </script>        </div>\n",
              "</body>\n",
              "</html>"
            ]
          },
          "metadata": {}
        }
      ],
      "source": [
        "#@markdown トピックは、最も代表的な単語から始まるいくつかの単語で表現される。各単語はc-TF-IDFスコアで表現される。スコアが高いほど、トピックを代表する単語を意味する。トピックの単語はc-TF-IDFスコアでソートされているため、単語を追加するごとにスコアは徐々に低下する。ある時点で、トピックの表現に単語を追加しても、c-TF-IDFスコアの合計がわずかに増加するだけになる。この効果を視覚化するために、各トピックのc-TF-IDFスコアを各単語の順位でプロットすることができる。つまり、c-TF-IDFスコアが最も高い単語がランク1となる単語の位置（単語ランク）をx軸に、Y軸にc-TF-IDFスコアを配置すると、トピック表現に単語を追加したときにc-TF-IDFスコアが低下していることを視覚化できる。これにより、エルボー法を用いて、トピックに含まれる最適な単語数が選択できる。\n",
        "my_model.visualize_term_rank()"
      ]
    },
    {
      "cell_type": "code",
      "execution_count": null,
      "metadata": {
        "colab": {
          "base_uri": "https://localhost:8080/",
          "height": 667
        },
        "id": "ipygCh66anl1",
        "outputId": "82c619e3-52c8-4d36-d0df-84964fe15e81"
      },
      "outputs": [
        {
          "output_type": "display_data",
          "data": {
            "text/html": [
              "<html>\n",
              "<head><meta charset=\"utf-8\" /></head>\n",
              "<body>\n",
              "    <div>            <script src=\"https://cdnjs.cloudflare.com/ajax/libs/mathjax/2.7.5/MathJax.js?config=TeX-AMS-MML_SVG\"></script><script type=\"text/javascript\">if (window.MathJax && window.MathJax.Hub && window.MathJax.Hub.Config) {window.MathJax.Hub.Config({SVG: {font: \"STIX-Web\"}});}</script>                <script type=\"text/javascript\">window.PlotlyConfig = {MathJaxConfig: 'local'};</script>\n",
              "        <script charset=\"utf-8\" src=\"https://cdn.plot.ly/plotly-2.24.1.min.js\"></script>                <div id=\"a700afa0-38c2-4294-86c8-0d1631c1dfef\" class=\"plotly-graph-div\" style=\"height:650px; width:650px;\"></div>            <script type=\"text/javascript\">                                    window.PLOTLYENV=window.PLOTLYENV || {};                                    if (document.getElementById(\"a700afa0-38c2-4294-86c8-0d1631c1dfef\")) {                    Plotly.newPlot(                        \"a700afa0-38c2-4294-86c8-0d1631c1dfef\",                        [{\"customdata\":[[0,\"\\u5316\\u7ca7\\u6c34 | \\u4e73\\u6db2 | \\u30aa\\u30b9\\u30b9\\u30e1 | \\u7f8e\\u5bb9\\u6db2 | \\u30d3\\u30bf\\u30df\\u30f3\",4599],[1,\"\\u30aa\\u30a4\\u30eb | \\u30af\\u30ec\\u30f3\\u30b8\\u30f3\\u30b0 | \\u30aa\\u30a4\\u30eb\\u30af\\u30ec\\u30f3\\u30b8\\u30f3\\u30b0 | \\u65e5\\u713c\\u3051\\u6b62\\u3081 | \\u98a8\\u5442\",1836],[2,\"\\u30de\\u30b9\\u30af | \\u97d3\\u56fd | \\u9999\\u308a | \\u30aa\\u30b9\\u30b9\\u30e1 | \\u82b1\\u7c89\",1536],[3,\"\\u6bdb\\u7a74 | \\u9ed2\\u305a\\u307f | \\u9175\\u7d20 | \\u5c0f\\u9f3b | \\u52b9\\u679c\",1448],[4,\"\\u30af\\u30ea\\u30fc\\u30e0 | \\u30a2\\u30a4\\u30af\\u30ea\\u30fc\\u30e0 | \\u30aa\\u30b9\\u30b9\\u30e1 | \\u30b7\\u30ef | \\u76ee\\u5143\",1408],[5,\"\\u5546\\u54c1 | \\u30aa\\u30b9\\u30b9\\u30e1 | \\u30b5\\u30f3\\u30d7\\u30eb | \\u304a\\u798f\\u5206\\u3051 | \\u30d1\\u30c3\\u30af\",1405],[6,\"\\u307e\\u3064\\u6bdb | \\u30ec\\u30fc\\u30b6\\u30fc | \\u7523\\u6bdb | \\u30aa\\u30b9\\u30b9\\u30e1 | \\u30b7\\u30df\",827],[7,\"\\u30cb\\u30ad\\u30d3 | \\u76ae\\u819a | \\u8d64\\u307f | \\u304a\\u3067\\u3053 | \\u52b9\\u679c\",755],[8,\"\\u30d3\\u30fc\\u30a8\\u30fc | \\u9023\\u4f11 | \\u9078\\u624b | \\u304a\\u798f\\u5206\\u3051 | id\",270]],\"hovertemplate\":\"\\u003cb\\u003eTopic %{customdata[0]}\\u003c\\u002fb\\u003e\\u003cbr\\u003e%{customdata[1]}\\u003cbr\\u003eSize: %{customdata[2]}\",\"legendgroup\":\"\",\"marker\":{\"color\":\"#B0BEC5\",\"size\":[4599,1836,1536,1448,1408,1405,827,755,270],\"sizemode\":\"area\",\"sizeref\":2.874375,\"symbol\":\"circle\",\"line\":{\"color\":\"DarkSlateGrey\",\"width\":2}},\"mode\":\"markers\",\"name\":\"\",\"orientation\":\"v\",\"showlegend\":false,\"x\":[0.6739664077758789,1.1716618537902832,3.0539631843566895,1.6514755487442017,3.3278262615203857,0.5811676383018494,2.4911575317382812,2.619680643081665,0.34122756123542786],\"xaxis\":\"x\",\"y\":[5.483720779418945,5.862704277038574,10.490546226501465,9.45800495147705,9.896087646484375,4.841371059417725,10.603105545043945,9.812718391418457,4.305523872375488],\"yaxis\":\"y\",\"type\":\"scatter\"}],                        {\"template\":{\"data\":{\"barpolar\":[{\"marker\":{\"line\":{\"color\":\"white\",\"width\":0.5},\"pattern\":{\"fillmode\":\"overlay\",\"size\":10,\"solidity\":0.2}},\"type\":\"barpolar\"}],\"bar\":[{\"error_x\":{\"color\":\"rgb(36,36,36)\"},\"error_y\":{\"color\":\"rgb(36,36,36)\"},\"marker\":{\"line\":{\"color\":\"white\",\"width\":0.5},\"pattern\":{\"fillmode\":\"overlay\",\"size\":10,\"solidity\":0.2}},\"type\":\"bar\"}],\"carpet\":[{\"aaxis\":{\"endlinecolor\":\"rgb(36,36,36)\",\"gridcolor\":\"white\",\"linecolor\":\"white\",\"minorgridcolor\":\"white\",\"startlinecolor\":\"rgb(36,36,36)\"},\"baxis\":{\"endlinecolor\":\"rgb(36,36,36)\",\"gridcolor\":\"white\",\"linecolor\":\"white\",\"minorgridcolor\":\"white\",\"startlinecolor\":\"rgb(36,36,36)\"},\"type\":\"carpet\"}],\"choropleth\":[{\"colorbar\":{\"outlinewidth\":1,\"tickcolor\":\"rgb(36,36,36)\",\"ticks\":\"outside\"},\"type\":\"choropleth\"}],\"contourcarpet\":[{\"colorbar\":{\"outlinewidth\":1,\"tickcolor\":\"rgb(36,36,36)\",\"ticks\":\"outside\"},\"type\":\"contourcarpet\"}],\"contour\":[{\"colorbar\":{\"outlinewidth\":1,\"tickcolor\":\"rgb(36,36,36)\",\"ticks\":\"outside\"},\"colorscale\":[[0.0,\"#440154\"],[0.1111111111111111,\"#482878\"],[0.2222222222222222,\"#3e4989\"],[0.3333333333333333,\"#31688e\"],[0.4444444444444444,\"#26828e\"],[0.5555555555555556,\"#1f9e89\"],[0.6666666666666666,\"#35b779\"],[0.7777777777777778,\"#6ece58\"],[0.8888888888888888,\"#b5de2b\"],[1.0,\"#fde725\"]],\"type\":\"contour\"}],\"heatmapgl\":[{\"colorbar\":{\"outlinewidth\":1,\"tickcolor\":\"rgb(36,36,36)\",\"ticks\":\"outside\"},\"colorscale\":[[0.0,\"#440154\"],[0.1111111111111111,\"#482878\"],[0.2222222222222222,\"#3e4989\"],[0.3333333333333333,\"#31688e\"],[0.4444444444444444,\"#26828e\"],[0.5555555555555556,\"#1f9e89\"],[0.6666666666666666,\"#35b779\"],[0.7777777777777778,\"#6ece58\"],[0.8888888888888888,\"#b5de2b\"],[1.0,\"#fde725\"]],\"type\":\"heatmapgl\"}],\"heatmap\":[{\"colorbar\":{\"outlinewidth\":1,\"tickcolor\":\"rgb(36,36,36)\",\"ticks\":\"outside\"},\"colorscale\":[[0.0,\"#440154\"],[0.1111111111111111,\"#482878\"],[0.2222222222222222,\"#3e4989\"],[0.3333333333333333,\"#31688e\"],[0.4444444444444444,\"#26828e\"],[0.5555555555555556,\"#1f9e89\"],[0.6666666666666666,\"#35b779\"],[0.7777777777777778,\"#6ece58\"],[0.8888888888888888,\"#b5de2b\"],[1.0,\"#fde725\"]],\"type\":\"heatmap\"}],\"histogram2dcontour\":[{\"colorbar\":{\"outlinewidth\":1,\"tickcolor\":\"rgb(36,36,36)\",\"ticks\":\"outside\"},\"colorscale\":[[0.0,\"#440154\"],[0.1111111111111111,\"#482878\"],[0.2222222222222222,\"#3e4989\"],[0.3333333333333333,\"#31688e\"],[0.4444444444444444,\"#26828e\"],[0.5555555555555556,\"#1f9e89\"],[0.6666666666666666,\"#35b779\"],[0.7777777777777778,\"#6ece58\"],[0.8888888888888888,\"#b5de2b\"],[1.0,\"#fde725\"]],\"type\":\"histogram2dcontour\"}],\"histogram2d\":[{\"colorbar\":{\"outlinewidth\":1,\"tickcolor\":\"rgb(36,36,36)\",\"ticks\":\"outside\"},\"colorscale\":[[0.0,\"#440154\"],[0.1111111111111111,\"#482878\"],[0.2222222222222222,\"#3e4989\"],[0.3333333333333333,\"#31688e\"],[0.4444444444444444,\"#26828e\"],[0.5555555555555556,\"#1f9e89\"],[0.6666666666666666,\"#35b779\"],[0.7777777777777778,\"#6ece58\"],[0.8888888888888888,\"#b5de2b\"],[1.0,\"#fde725\"]],\"type\":\"histogram2d\"}],\"histogram\":[{\"marker\":{\"line\":{\"color\":\"white\",\"width\":0.6}},\"type\":\"histogram\"}],\"mesh3d\":[{\"colorbar\":{\"outlinewidth\":1,\"tickcolor\":\"rgb(36,36,36)\",\"ticks\":\"outside\"},\"type\":\"mesh3d\"}],\"parcoords\":[{\"line\":{\"colorbar\":{\"outlinewidth\":1,\"tickcolor\":\"rgb(36,36,36)\",\"ticks\":\"outside\"}},\"type\":\"parcoords\"}],\"pie\":[{\"automargin\":true,\"type\":\"pie\"}],\"scatter3d\":[{\"line\":{\"colorbar\":{\"outlinewidth\":1,\"tickcolor\":\"rgb(36,36,36)\",\"ticks\":\"outside\"}},\"marker\":{\"colorbar\":{\"outlinewidth\":1,\"tickcolor\":\"rgb(36,36,36)\",\"ticks\":\"outside\"}},\"type\":\"scatter3d\"}],\"scattercarpet\":[{\"marker\":{\"colorbar\":{\"outlinewidth\":1,\"tickcolor\":\"rgb(36,36,36)\",\"ticks\":\"outside\"}},\"type\":\"scattercarpet\"}],\"scattergeo\":[{\"marker\":{\"colorbar\":{\"outlinewidth\":1,\"tickcolor\":\"rgb(36,36,36)\",\"ticks\":\"outside\"}},\"type\":\"scattergeo\"}],\"scattergl\":[{\"marker\":{\"colorbar\":{\"outlinewidth\":1,\"tickcolor\":\"rgb(36,36,36)\",\"ticks\":\"outside\"}},\"type\":\"scattergl\"}],\"scattermapbox\":[{\"marker\":{\"colorbar\":{\"outlinewidth\":1,\"tickcolor\":\"rgb(36,36,36)\",\"ticks\":\"outside\"}},\"type\":\"scattermapbox\"}],\"scatterpolargl\":[{\"marker\":{\"colorbar\":{\"outlinewidth\":1,\"tickcolor\":\"rgb(36,36,36)\",\"ticks\":\"outside\"}},\"type\":\"scatterpolargl\"}],\"scatterpolar\":[{\"marker\":{\"colorbar\":{\"outlinewidth\":1,\"tickcolor\":\"rgb(36,36,36)\",\"ticks\":\"outside\"}},\"type\":\"scatterpolar\"}],\"scatter\":[{\"fillpattern\":{\"fillmode\":\"overlay\",\"size\":10,\"solidity\":0.2},\"type\":\"scatter\"}],\"scatterternary\":[{\"marker\":{\"colorbar\":{\"outlinewidth\":1,\"tickcolor\":\"rgb(36,36,36)\",\"ticks\":\"outside\"}},\"type\":\"scatterternary\"}],\"surface\":[{\"colorbar\":{\"outlinewidth\":1,\"tickcolor\":\"rgb(36,36,36)\",\"ticks\":\"outside\"},\"colorscale\":[[0.0,\"#440154\"],[0.1111111111111111,\"#482878\"],[0.2222222222222222,\"#3e4989\"],[0.3333333333333333,\"#31688e\"],[0.4444444444444444,\"#26828e\"],[0.5555555555555556,\"#1f9e89\"],[0.6666666666666666,\"#35b779\"],[0.7777777777777778,\"#6ece58\"],[0.8888888888888888,\"#b5de2b\"],[1.0,\"#fde725\"]],\"type\":\"surface\"}],\"table\":[{\"cells\":{\"fill\":{\"color\":\"rgb(237,237,237)\"},\"line\":{\"color\":\"white\"}},\"header\":{\"fill\":{\"color\":\"rgb(217,217,217)\"},\"line\":{\"color\":\"white\"}},\"type\":\"table\"}]},\"layout\":{\"annotationdefaults\":{\"arrowhead\":0,\"arrowwidth\":1},\"autotypenumbers\":\"strict\",\"coloraxis\":{\"colorbar\":{\"outlinewidth\":1,\"tickcolor\":\"rgb(36,36,36)\",\"ticks\":\"outside\"}},\"colorscale\":{\"diverging\":[[0.0,\"rgb(103,0,31)\"],[0.1,\"rgb(178,24,43)\"],[0.2,\"rgb(214,96,77)\"],[0.3,\"rgb(244,165,130)\"],[0.4,\"rgb(253,219,199)\"],[0.5,\"rgb(247,247,247)\"],[0.6,\"rgb(209,229,240)\"],[0.7,\"rgb(146,197,222)\"],[0.8,\"rgb(67,147,195)\"],[0.9,\"rgb(33,102,172)\"],[1.0,\"rgb(5,48,97)\"]],\"sequential\":[[0.0,\"#440154\"],[0.1111111111111111,\"#482878\"],[0.2222222222222222,\"#3e4989\"],[0.3333333333333333,\"#31688e\"],[0.4444444444444444,\"#26828e\"],[0.5555555555555556,\"#1f9e89\"],[0.6666666666666666,\"#35b779\"],[0.7777777777777778,\"#6ece58\"],[0.8888888888888888,\"#b5de2b\"],[1.0,\"#fde725\"]],\"sequentialminus\":[[0.0,\"#440154\"],[0.1111111111111111,\"#482878\"],[0.2222222222222222,\"#3e4989\"],[0.3333333333333333,\"#31688e\"],[0.4444444444444444,\"#26828e\"],[0.5555555555555556,\"#1f9e89\"],[0.6666666666666666,\"#35b779\"],[0.7777777777777778,\"#6ece58\"],[0.8888888888888888,\"#b5de2b\"],[1.0,\"#fde725\"]]},\"colorway\":[\"#1F77B4\",\"#FF7F0E\",\"#2CA02C\",\"#D62728\",\"#9467BD\",\"#8C564B\",\"#E377C2\",\"#7F7F7F\",\"#BCBD22\",\"#17BECF\"],\"font\":{\"color\":\"rgb(36,36,36)\"},\"geo\":{\"bgcolor\":\"white\",\"lakecolor\":\"white\",\"landcolor\":\"white\",\"showlakes\":true,\"showland\":true,\"subunitcolor\":\"white\"},\"hoverlabel\":{\"align\":\"left\"},\"hovermode\":\"closest\",\"mapbox\":{\"style\":\"light\"},\"paper_bgcolor\":\"white\",\"plot_bgcolor\":\"white\",\"polar\":{\"angularaxis\":{\"gridcolor\":\"rgb(232,232,232)\",\"linecolor\":\"rgb(36,36,36)\",\"showgrid\":false,\"showline\":true,\"ticks\":\"outside\"},\"bgcolor\":\"white\",\"radialaxis\":{\"gridcolor\":\"rgb(232,232,232)\",\"linecolor\":\"rgb(36,36,36)\",\"showgrid\":false,\"showline\":true,\"ticks\":\"outside\"}},\"scene\":{\"xaxis\":{\"backgroundcolor\":\"white\",\"gridcolor\":\"rgb(232,232,232)\",\"gridwidth\":2,\"linecolor\":\"rgb(36,36,36)\",\"showbackground\":true,\"showgrid\":false,\"showline\":true,\"ticks\":\"outside\",\"zeroline\":false,\"zerolinecolor\":\"rgb(36,36,36)\"},\"yaxis\":{\"backgroundcolor\":\"white\",\"gridcolor\":\"rgb(232,232,232)\",\"gridwidth\":2,\"linecolor\":\"rgb(36,36,36)\",\"showbackground\":true,\"showgrid\":false,\"showline\":true,\"ticks\":\"outside\",\"zeroline\":false,\"zerolinecolor\":\"rgb(36,36,36)\"},\"zaxis\":{\"backgroundcolor\":\"white\",\"gridcolor\":\"rgb(232,232,232)\",\"gridwidth\":2,\"linecolor\":\"rgb(36,36,36)\",\"showbackground\":true,\"showgrid\":false,\"showline\":true,\"ticks\":\"outside\",\"zeroline\":false,\"zerolinecolor\":\"rgb(36,36,36)\"}},\"shapedefaults\":{\"fillcolor\":\"black\",\"line\":{\"width\":0},\"opacity\":0.3},\"ternary\":{\"aaxis\":{\"gridcolor\":\"rgb(232,232,232)\",\"linecolor\":\"rgb(36,36,36)\",\"showgrid\":false,\"showline\":true,\"ticks\":\"outside\"},\"baxis\":{\"gridcolor\":\"rgb(232,232,232)\",\"linecolor\":\"rgb(36,36,36)\",\"showgrid\":false,\"showline\":true,\"ticks\":\"outside\"},\"bgcolor\":\"white\",\"caxis\":{\"gridcolor\":\"rgb(232,232,232)\",\"linecolor\":\"rgb(36,36,36)\",\"showgrid\":false,\"showline\":true,\"ticks\":\"outside\"}},\"title\":{\"x\":0.05},\"xaxis\":{\"automargin\":true,\"gridcolor\":\"rgb(232,232,232)\",\"linecolor\":\"rgb(36,36,36)\",\"showgrid\":false,\"showline\":true,\"ticks\":\"outside\",\"title\":{\"standoff\":15},\"zeroline\":false,\"zerolinecolor\":\"rgb(36,36,36)\"},\"yaxis\":{\"automargin\":true,\"gridcolor\":\"rgb(232,232,232)\",\"linecolor\":\"rgb(36,36,36)\",\"showgrid\":false,\"showline\":true,\"ticks\":\"outside\",\"title\":{\"standoff\":15},\"zeroline\":false,\"zerolinecolor\":\"rgb(36,36,36)\"}}},\"xaxis\":{\"anchor\":\"y\",\"domain\":[0.0,1.0],\"title\":{\"text\":\"\"},\"visible\":false,\"range\":[0.29004342705011366,3.8270002007484436]},\"yaxis\":{\"anchor\":\"x\",\"domain\":[0.0,1.0],\"title\":{\"text\":\"\"},\"visible\":false,\"range\":[3.659695291519165,12.193571376800538]},\"legend\":{\"tracegroupgap\":0,\"itemsizing\":\"constant\"},\"margin\":{\"t\":60},\"title\":{\"font\":{\"size\":22,\"color\":\"Black\"},\"text\":\"\\u003cb\\u003eIntertopic Distance Map\\u003c\\u002fb\\u003e\",\"y\":0.95,\"x\":0.5,\"xanchor\":\"center\",\"yanchor\":\"top\"},\"hoverlabel\":{\"font\":{\"size\":16,\"family\":\"Rockwell\"},\"bgcolor\":\"white\"},\"width\":650,\"height\":650,\"sliders\":[{\"active\":0,\"pad\":{\"t\":50},\"steps\":[{\"args\":[{\"marker.color\":[[\"red\",\"#B0BEC5\",\"#B0BEC5\",\"#B0BEC5\",\"#B0BEC5\",\"#B0BEC5\",\"#B0BEC5\",\"#B0BEC5\",\"#B0BEC5\"]]}],\"label\":\"Topic 0\",\"method\":\"update\"},{\"args\":[{\"marker.color\":[[\"#B0BEC5\",\"red\",\"#B0BEC5\",\"#B0BEC5\",\"#B0BEC5\",\"#B0BEC5\",\"#B0BEC5\",\"#B0BEC5\",\"#B0BEC5\"]]}],\"label\":\"Topic 1\",\"method\":\"update\"},{\"args\":[{\"marker.color\":[[\"#B0BEC5\",\"#B0BEC5\",\"red\",\"#B0BEC5\",\"#B0BEC5\",\"#B0BEC5\",\"#B0BEC5\",\"#B0BEC5\",\"#B0BEC5\"]]}],\"label\":\"Topic 2\",\"method\":\"update\"},{\"args\":[{\"marker.color\":[[\"#B0BEC5\",\"#B0BEC5\",\"#B0BEC5\",\"red\",\"#B0BEC5\",\"#B0BEC5\",\"#B0BEC5\",\"#B0BEC5\",\"#B0BEC5\"]]}],\"label\":\"Topic 3\",\"method\":\"update\"},{\"args\":[{\"marker.color\":[[\"#B0BEC5\",\"#B0BEC5\",\"#B0BEC5\",\"#B0BEC5\",\"red\",\"#B0BEC5\",\"#B0BEC5\",\"#B0BEC5\",\"#B0BEC5\"]]}],\"label\":\"Topic 4\",\"method\":\"update\"},{\"args\":[{\"marker.color\":[[\"#B0BEC5\",\"#B0BEC5\",\"#B0BEC5\",\"#B0BEC5\",\"#B0BEC5\",\"red\",\"#B0BEC5\",\"#B0BEC5\",\"#B0BEC5\"]]}],\"label\":\"Topic 5\",\"method\":\"update\"},{\"args\":[{\"marker.color\":[[\"#B0BEC5\",\"#B0BEC5\",\"#B0BEC5\",\"#B0BEC5\",\"#B0BEC5\",\"#B0BEC5\",\"red\",\"#B0BEC5\",\"#B0BEC5\"]]}],\"label\":\"Topic 6\",\"method\":\"update\"},{\"args\":[{\"marker.color\":[[\"#B0BEC5\",\"#B0BEC5\",\"#B0BEC5\",\"#B0BEC5\",\"#B0BEC5\",\"#B0BEC5\",\"#B0BEC5\",\"red\",\"#B0BEC5\"]]}],\"label\":\"Topic 7\",\"method\":\"update\"},{\"args\":[{\"marker.color\":[[\"#B0BEC5\",\"#B0BEC5\",\"#B0BEC5\",\"#B0BEC5\",\"#B0BEC5\",\"#B0BEC5\",\"#B0BEC5\",\"#B0BEC5\",\"red\"]]}],\"label\":\"Topic 8\",\"method\":\"update\"}]}],\"shapes\":[{\"line\":{\"color\":\"#CFD8DC\",\"width\":2},\"type\":\"line\",\"x0\":2.0585218138992785,\"x1\":2.0585218138992785,\"y0\":3.659695291519165,\"y1\":12.193571376800538},{\"line\":{\"color\":\"#9E9E9E\",\"width\":2},\"type\":\"line\",\"x0\":0.29004342705011366,\"x1\":3.8270002007484436,\"y0\":7.926633334159852,\"y1\":7.926633334159852}],\"annotations\":[{\"showarrow\":false,\"text\":\"D1\",\"x\":0.29004342705011366,\"y\":7.926633334159852,\"yshift\":10},{\"showarrow\":false,\"text\":\"D2\",\"x\":2.0585218138992785,\"xshift\":10,\"y\":12.193571376800538}]},                        {\"responsive\": true}                    ).then(function(){\n",
              "                            \n",
              "var gd = document.getElementById('a700afa0-38c2-4294-86c8-0d1631c1dfef');\n",
              "var x = new MutationObserver(function (mutations, observer) {{\n",
              "        var display = window.getComputedStyle(gd).display;\n",
              "        if (!display || display === 'none') {{\n",
              "            console.log([gd, 'removed!']);\n",
              "            Plotly.purge(gd);\n",
              "            observer.disconnect();\n",
              "        }}\n",
              "}});\n",
              "\n",
              "// Listen for the removal of the full notebook cells\n",
              "var notebookContainer = gd.closest('#notebook-container');\n",
              "if (notebookContainer) {{\n",
              "    x.observe(notebookContainer, {childList: true});\n",
              "}}\n",
              "\n",
              "// Listen for the clearing of the current output cell\n",
              "var outputEl = gd.closest('.output');\n",
              "if (outputEl) {{\n",
              "    x.observe(outputEl, {childList: true});\n",
              "}}\n",
              "\n",
              "                        })                };                            </script>        </div>\n",
              "</body>\n",
              "</html>"
            ]
          },
          "metadata": {}
        }
      ],
      "source": [
        "my_model.visualize_topics()"
      ]
    },
    {
      "cell_type": "code",
      "execution_count": null,
      "metadata": {
        "colab": {
          "base_uri": "https://localhost:8080/",
          "height": 817
        },
        "id": "jkixv8vqanl1",
        "outputId": "273e3146-907b-460c-a1ef-c0377c229342"
      },
      "outputs": [
        {
          "output_type": "display_data",
          "data": {
            "text/html": [
              "<html>\n",
              "<head><meta charset=\"utf-8\" /></head>\n",
              "<body>\n",
              "    <div>            <script src=\"https://cdnjs.cloudflare.com/ajax/libs/mathjax/2.7.5/MathJax.js?config=TeX-AMS-MML_SVG\"></script><script type=\"text/javascript\">if (window.MathJax && window.MathJax.Hub && window.MathJax.Hub.Config) {window.MathJax.Hub.Config({SVG: {font: \"STIX-Web\"}});}</script>                <script type=\"text/javascript\">window.PlotlyConfig = {MathJaxConfig: 'local'};</script>\n",
              "        <script charset=\"utf-8\" src=\"https://cdn.plot.ly/plotly-2.24.1.min.js\"></script>                <div id=\"89af6d99-4347-4c50-a7db-079265bca5a8\" class=\"plotly-graph-div\" style=\"height:800px; width:800px;\"></div>            <script type=\"text/javascript\">                                    window.PLOTLYENV=window.PLOTLYENV || {};                                    if (document.getElementById(\"89af6d99-4347-4c50-a7db-079265bca5a8\")) {                    Plotly.newPlot(                        \"89af6d99-4347-4c50-a7db-079265bca5a8\",                        [{\"coloraxis\":\"coloraxis\",\"name\":\"0\",\"x\":[\"0_\\u5316\\u7ca7\\u6c34_\\u4e73\\u6db2_\\u30aa\\u30b9\\u30b9\\u30e1\",\"1_\\u30aa\\u30a4\\u30eb_\\u30af\\u30ec\\u30f3\\u30b8\\u30f3\\u30b0_\\u30aa\\u30a4\\u30eb\\u30af\\u30ec\\u30f3\\u30b8\\u30f3\\u30b0\",\"2_\\u30de\\u30b9\\u30af_\\u97d3\\u56fd_\\u9999\\u308a\",\"3_\\u6bdb\\u7a74_\\u9ed2\\u305a\\u307f_\\u9175\\u7d20\",\"4_\\u30af\\u30ea\\u30fc\\u30e0_\\u30a2\\u30a4\\u30af\\u30ea\\u30fc\\u30e0_\\u30aa\\u30b9\\u30b9\\u30e1\",\"5_\\u5546\\u54c1_\\u30aa\\u30b9\\u30b9\\u30e1_\\u30b5\\u30f3\\u30d7\\u30eb\",\"6_\\u307e\\u3064\\u6bdb_\\u30ec\\u30fc\\u30b6\\u30fc_\\u7523\\u6bdb\",\"7_\\u30cb\\u30ad\\u30d3_\\u76ae\\u819a_\\u8d64\\u307f\",\"8_\\u30d3\\u30fc\\u30a8\\u30fc_\\u9023\\u4f11_\\u9078\\u624b\"],\"y\":[\"0_\\u5316\\u7ca7\\u6c34_\\u4e73\\u6db2_\\u30aa\\u30b9\\u30b9\\u30e1\",\"1_\\u30aa\\u30a4\\u30eb_\\u30af\\u30ec\\u30f3\\u30b8\\u30f3\\u30b0_\\u30aa\\u30a4\\u30eb\\u30af\\u30ec\\u30f3\\u30b8\\u30f3\\u30b0\",\"2_\\u30de\\u30b9\\u30af_\\u97d3\\u56fd_\\u9999\\u308a\",\"3_\\u6bdb\\u7a74_\\u9ed2\\u305a\\u307f_\\u9175\\u7d20\",\"4_\\u30af\\u30ea\\u30fc\\u30e0_\\u30a2\\u30a4\\u30af\\u30ea\\u30fc\\u30e0_\\u30aa\\u30b9\\u30b9\\u30e1\",\"5_\\u5546\\u54c1_\\u30aa\\u30b9\\u30b9\\u30e1_\\u30b5\\u30f3\\u30d7\\u30eb\",\"6_\\u307e\\u3064\\u6bdb_\\u30ec\\u30fc\\u30b6\\u30fc_\\u7523\\u6bdb\",\"7_\\u30cb\\u30ad\\u30d3_\\u76ae\\u819a_\\u8d64\\u307f\",\"8_\\u30d3\\u30fc\\u30a8\\u30fc_\\u9023\\u4f11_\\u9078\\u624b\"],\"z\":[[1.0000000000000009,0.9325378175518185,0.9110084483667908,0.7726728727508614,0.8646143409427034,0.732486732120911,0.8445269512387066,0.8157981995836249,0.3097743593611903],[0.9325378175518185,0.9999999999999998,0.8888459265933895,0.7713876914885154,0.8519489655190784,0.7003474767987679,0.8285545280472921,0.7929612579721432,0.3848009969846655],[0.9110084483667908,0.8888459265933895,0.9999999999999991,0.8547788104456164,0.8757497161278727,0.7202636191568861,0.8518807423193362,0.8508232663069142,0.33790914176359654],[0.7726728727508614,0.7713876914885154,0.8547788104456164,0.9999999999999998,0.7366393525596693,0.5751038229183619,0.7992359644132567,0.8368309645008367,0.3608195831137937],[0.8646143409427034,0.8519489655190784,0.8757497161278727,0.7366393525596693,1.0000000000000004,0.7130994241376531,0.776685593064148,0.777657833670006,0.3369224122641836],[0.732486732120911,0.7003474767987679,0.7202636191568861,0.5751038229183619,0.7130994241376531,0.9999999999999994,0.7010463304771551,0.5860487949602998,0.5725933191712471],[0.8445269512387066,0.8285545280472921,0.8518807423193362,0.7992359644132567,0.776685593064148,0.7010463304771551,1.0,0.8435978006575402,0.3560022155581819],[0.8157981995836249,0.7929612579721432,0.8508232663069142,0.8368309645008367,0.777657833670006,0.5860487949602998,0.8435978006575402,1.0000000000000009,0.31228588451048017],[0.3097743593611903,0.3848009969846655,0.33790914176359654,0.3608195831137937,0.3369224122641836,0.5725933191712471,0.3560022155581819,0.31228588451048017,0.9999999999999999]],\"type\":\"heatmap\",\"xaxis\":\"x\",\"yaxis\":\"y\",\"hovertemplate\":\"x: %{x}\\u003cbr\\u003ey: %{y}\\u003cbr\\u003eSimilarity Score: %{z}\\u003cextra\\u003e\\u003c\\u002fextra\\u003e\"}],                        {\"template\":{\"data\":{\"histogram2dcontour\":[{\"type\":\"histogram2dcontour\",\"colorbar\":{\"outlinewidth\":0,\"ticks\":\"\"},\"colorscale\":[[0.0,\"#0d0887\"],[0.1111111111111111,\"#46039f\"],[0.2222222222222222,\"#7201a8\"],[0.3333333333333333,\"#9c179e\"],[0.4444444444444444,\"#bd3786\"],[0.5555555555555556,\"#d8576b\"],[0.6666666666666666,\"#ed7953\"],[0.7777777777777778,\"#fb9f3a\"],[0.8888888888888888,\"#fdca26\"],[1.0,\"#f0f921\"]]}],\"choropleth\":[{\"type\":\"choropleth\",\"colorbar\":{\"outlinewidth\":0,\"ticks\":\"\"}}],\"histogram2d\":[{\"type\":\"histogram2d\",\"colorbar\":{\"outlinewidth\":0,\"ticks\":\"\"},\"colorscale\":[[0.0,\"#0d0887\"],[0.1111111111111111,\"#46039f\"],[0.2222222222222222,\"#7201a8\"],[0.3333333333333333,\"#9c179e\"],[0.4444444444444444,\"#bd3786\"],[0.5555555555555556,\"#d8576b\"],[0.6666666666666666,\"#ed7953\"],[0.7777777777777778,\"#fb9f3a\"],[0.8888888888888888,\"#fdca26\"],[1.0,\"#f0f921\"]]}],\"heatmap\":[{\"type\":\"heatmap\",\"colorbar\":{\"outlinewidth\":0,\"ticks\":\"\"},\"colorscale\":[[0.0,\"#0d0887\"],[0.1111111111111111,\"#46039f\"],[0.2222222222222222,\"#7201a8\"],[0.3333333333333333,\"#9c179e\"],[0.4444444444444444,\"#bd3786\"],[0.5555555555555556,\"#d8576b\"],[0.6666666666666666,\"#ed7953\"],[0.7777777777777778,\"#fb9f3a\"],[0.8888888888888888,\"#fdca26\"],[1.0,\"#f0f921\"]]}],\"heatmapgl\":[{\"type\":\"heatmapgl\",\"colorbar\":{\"outlinewidth\":0,\"ticks\":\"\"},\"colorscale\":[[0.0,\"#0d0887\"],[0.1111111111111111,\"#46039f\"],[0.2222222222222222,\"#7201a8\"],[0.3333333333333333,\"#9c179e\"],[0.4444444444444444,\"#bd3786\"],[0.5555555555555556,\"#d8576b\"],[0.6666666666666666,\"#ed7953\"],[0.7777777777777778,\"#fb9f3a\"],[0.8888888888888888,\"#fdca26\"],[1.0,\"#f0f921\"]]}],\"contourcarpet\":[{\"type\":\"contourcarpet\",\"colorbar\":{\"outlinewidth\":0,\"ticks\":\"\"}}],\"contour\":[{\"type\":\"contour\",\"colorbar\":{\"outlinewidth\":0,\"ticks\":\"\"},\"colorscale\":[[0.0,\"#0d0887\"],[0.1111111111111111,\"#46039f\"],[0.2222222222222222,\"#7201a8\"],[0.3333333333333333,\"#9c179e\"],[0.4444444444444444,\"#bd3786\"],[0.5555555555555556,\"#d8576b\"],[0.6666666666666666,\"#ed7953\"],[0.7777777777777778,\"#fb9f3a\"],[0.8888888888888888,\"#fdca26\"],[1.0,\"#f0f921\"]]}],\"surface\":[{\"type\":\"surface\",\"colorbar\":{\"outlinewidth\":0,\"ticks\":\"\"},\"colorscale\":[[0.0,\"#0d0887\"],[0.1111111111111111,\"#46039f\"],[0.2222222222222222,\"#7201a8\"],[0.3333333333333333,\"#9c179e\"],[0.4444444444444444,\"#bd3786\"],[0.5555555555555556,\"#d8576b\"],[0.6666666666666666,\"#ed7953\"],[0.7777777777777778,\"#fb9f3a\"],[0.8888888888888888,\"#fdca26\"],[1.0,\"#f0f921\"]]}],\"mesh3d\":[{\"type\":\"mesh3d\",\"colorbar\":{\"outlinewidth\":0,\"ticks\":\"\"}}],\"scatter\":[{\"fillpattern\":{\"fillmode\":\"overlay\",\"size\":10,\"solidity\":0.2},\"type\":\"scatter\"}],\"parcoords\":[{\"type\":\"parcoords\",\"line\":{\"colorbar\":{\"outlinewidth\":0,\"ticks\":\"\"}}}],\"scatterpolargl\":[{\"type\":\"scatterpolargl\",\"marker\":{\"colorbar\":{\"outlinewidth\":0,\"ticks\":\"\"}}}],\"bar\":[{\"error_x\":{\"color\":\"#2a3f5f\"},\"error_y\":{\"color\":\"#2a3f5f\"},\"marker\":{\"line\":{\"color\":\"#E5ECF6\",\"width\":0.5},\"pattern\":{\"fillmode\":\"overlay\",\"size\":10,\"solidity\":0.2}},\"type\":\"bar\"}],\"scattergeo\":[{\"type\":\"scattergeo\",\"marker\":{\"colorbar\":{\"outlinewidth\":0,\"ticks\":\"\"}}}],\"scatterpolar\":[{\"type\":\"scatterpolar\",\"marker\":{\"colorbar\":{\"outlinewidth\":0,\"ticks\":\"\"}}}],\"histogram\":[{\"marker\":{\"pattern\":{\"fillmode\":\"overlay\",\"size\":10,\"solidity\":0.2}},\"type\":\"histogram\"}],\"scattergl\":[{\"type\":\"scattergl\",\"marker\":{\"colorbar\":{\"outlinewidth\":0,\"ticks\":\"\"}}}],\"scatter3d\":[{\"type\":\"scatter3d\",\"line\":{\"colorbar\":{\"outlinewidth\":0,\"ticks\":\"\"}},\"marker\":{\"colorbar\":{\"outlinewidth\":0,\"ticks\":\"\"}}}],\"scattermapbox\":[{\"type\":\"scattermapbox\",\"marker\":{\"colorbar\":{\"outlinewidth\":0,\"ticks\":\"\"}}}],\"scatterternary\":[{\"type\":\"scatterternary\",\"marker\":{\"colorbar\":{\"outlinewidth\":0,\"ticks\":\"\"}}}],\"scattercarpet\":[{\"type\":\"scattercarpet\",\"marker\":{\"colorbar\":{\"outlinewidth\":0,\"ticks\":\"\"}}}],\"carpet\":[{\"aaxis\":{\"endlinecolor\":\"#2a3f5f\",\"gridcolor\":\"white\",\"linecolor\":\"white\",\"minorgridcolor\":\"white\",\"startlinecolor\":\"#2a3f5f\"},\"baxis\":{\"endlinecolor\":\"#2a3f5f\",\"gridcolor\":\"white\",\"linecolor\":\"white\",\"minorgridcolor\":\"white\",\"startlinecolor\":\"#2a3f5f\"},\"type\":\"carpet\"}],\"table\":[{\"cells\":{\"fill\":{\"color\":\"#EBF0F8\"},\"line\":{\"color\":\"white\"}},\"header\":{\"fill\":{\"color\":\"#C8D4E3\"},\"line\":{\"color\":\"white\"}},\"type\":\"table\"}],\"barpolar\":[{\"marker\":{\"line\":{\"color\":\"#E5ECF6\",\"width\":0.5},\"pattern\":{\"fillmode\":\"overlay\",\"size\":10,\"solidity\":0.2}},\"type\":\"barpolar\"}],\"pie\":[{\"automargin\":true,\"type\":\"pie\"}]},\"layout\":{\"autotypenumbers\":\"strict\",\"colorway\":[\"#636efa\",\"#EF553B\",\"#00cc96\",\"#ab63fa\",\"#FFA15A\",\"#19d3f3\",\"#FF6692\",\"#B6E880\",\"#FF97FF\",\"#FECB52\"],\"font\":{\"color\":\"#2a3f5f\"},\"hovermode\":\"closest\",\"hoverlabel\":{\"align\":\"left\"},\"paper_bgcolor\":\"white\",\"plot_bgcolor\":\"#E5ECF6\",\"polar\":{\"bgcolor\":\"#E5ECF6\",\"angularaxis\":{\"gridcolor\":\"white\",\"linecolor\":\"white\",\"ticks\":\"\"},\"radialaxis\":{\"gridcolor\":\"white\",\"linecolor\":\"white\",\"ticks\":\"\"}},\"ternary\":{\"bgcolor\":\"#E5ECF6\",\"aaxis\":{\"gridcolor\":\"white\",\"linecolor\":\"white\",\"ticks\":\"\"},\"baxis\":{\"gridcolor\":\"white\",\"linecolor\":\"white\",\"ticks\":\"\"},\"caxis\":{\"gridcolor\":\"white\",\"linecolor\":\"white\",\"ticks\":\"\"}},\"coloraxis\":{\"colorbar\":{\"outlinewidth\":0,\"ticks\":\"\"}},\"colorscale\":{\"sequential\":[[0.0,\"#0d0887\"],[0.1111111111111111,\"#46039f\"],[0.2222222222222222,\"#7201a8\"],[0.3333333333333333,\"#9c179e\"],[0.4444444444444444,\"#bd3786\"],[0.5555555555555556,\"#d8576b\"],[0.6666666666666666,\"#ed7953\"],[0.7777777777777778,\"#fb9f3a\"],[0.8888888888888888,\"#fdca26\"],[1.0,\"#f0f921\"]],\"sequentialminus\":[[0.0,\"#0d0887\"],[0.1111111111111111,\"#46039f\"],[0.2222222222222222,\"#7201a8\"],[0.3333333333333333,\"#9c179e\"],[0.4444444444444444,\"#bd3786\"],[0.5555555555555556,\"#d8576b\"],[0.6666666666666666,\"#ed7953\"],[0.7777777777777778,\"#fb9f3a\"],[0.8888888888888888,\"#fdca26\"],[1.0,\"#f0f921\"]],\"diverging\":[[0,\"#8e0152\"],[0.1,\"#c51b7d\"],[0.2,\"#de77ae\"],[0.3,\"#f1b6da\"],[0.4,\"#fde0ef\"],[0.5,\"#f7f7f7\"],[0.6,\"#e6f5d0\"],[0.7,\"#b8e186\"],[0.8,\"#7fbc41\"],[0.9,\"#4d9221\"],[1,\"#276419\"]]},\"xaxis\":{\"gridcolor\":\"white\",\"linecolor\":\"white\",\"ticks\":\"\",\"title\":{\"standoff\":15},\"zerolinecolor\":\"white\",\"automargin\":true,\"zerolinewidth\":2},\"yaxis\":{\"gridcolor\":\"white\",\"linecolor\":\"white\",\"ticks\":\"\",\"title\":{\"standoff\":15},\"zerolinecolor\":\"white\",\"automargin\":true,\"zerolinewidth\":2},\"scene\":{\"xaxis\":{\"backgroundcolor\":\"#E5ECF6\",\"gridcolor\":\"white\",\"linecolor\":\"white\",\"showbackground\":true,\"ticks\":\"\",\"zerolinecolor\":\"white\",\"gridwidth\":2},\"yaxis\":{\"backgroundcolor\":\"#E5ECF6\",\"gridcolor\":\"white\",\"linecolor\":\"white\",\"showbackground\":true,\"ticks\":\"\",\"zerolinecolor\":\"white\",\"gridwidth\":2},\"zaxis\":{\"backgroundcolor\":\"#E5ECF6\",\"gridcolor\":\"white\",\"linecolor\":\"white\",\"showbackground\":true,\"ticks\":\"\",\"zerolinecolor\":\"white\",\"gridwidth\":2}},\"shapedefaults\":{\"line\":{\"color\":\"#2a3f5f\"}},\"annotationdefaults\":{\"arrowcolor\":\"#2a3f5f\",\"arrowhead\":0,\"arrowwidth\":1},\"geo\":{\"bgcolor\":\"white\",\"landcolor\":\"#E5ECF6\",\"subunitcolor\":\"white\",\"showland\":true,\"showlakes\":true,\"lakecolor\":\"white\"},\"title\":{\"x\":0.05},\"mapbox\":{\"style\":\"light\"}}},\"xaxis\":{\"anchor\":\"y\",\"domain\":[0.0,1.0],\"scaleanchor\":\"y\",\"constrain\":\"domain\"},\"yaxis\":{\"anchor\":\"x\",\"domain\":[0.0,1.0],\"autorange\":\"reversed\",\"constrain\":\"domain\"},\"coloraxis\":{\"colorbar\":{\"title\":{\"text\":\"Similarity Score\"}},\"colorscale\":[[0.0,\"rgb(247,252,240)\"],[0.125,\"rgb(224,243,219)\"],[0.25,\"rgb(204,235,197)\"],[0.375,\"rgb(168,221,181)\"],[0.5,\"rgb(123,204,196)\"],[0.625,\"rgb(78,179,211)\"],[0.75,\"rgb(43,140,190)\"],[0.875,\"rgb(8,104,172)\"],[1.0,\"rgb(8,64,129)\"]]},\"margin\":{\"t\":60},\"title\":{\"font\":{\"size\":22,\"color\":\"Black\"},\"text\":\"\\u003cb\\u003eSimilarity Matrix\\u003c\\u002fb\\u003e\",\"y\":0.95,\"x\":0.55,\"xanchor\":\"center\",\"yanchor\":\"top\"},\"hoverlabel\":{\"font\":{\"size\":16,\"family\":\"Rockwell\"},\"bgcolor\":\"white\"},\"width\":800,\"height\":800,\"showlegend\":true,\"legend\":{\"title\":{\"text\":\"Trend\"}}},                        {\"responsive\": true}                    ).then(function(){\n",
              "                            \n",
              "var gd = document.getElementById('89af6d99-4347-4c50-a7db-079265bca5a8');\n",
              "var x = new MutationObserver(function (mutations, observer) {{\n",
              "        var display = window.getComputedStyle(gd).display;\n",
              "        if (!display || display === 'none') {{\n",
              "            console.log([gd, 'removed!']);\n",
              "            Plotly.purge(gd);\n",
              "            observer.disconnect();\n",
              "        }}\n",
              "}});\n",
              "\n",
              "// Listen for the removal of the full notebook cells\n",
              "var notebookContainer = gd.closest('#notebook-container');\n",
              "if (notebookContainer) {{\n",
              "    x.observe(notebookContainer, {childList: true});\n",
              "}}\n",
              "\n",
              "// Listen for the clearing of the current output cell\n",
              "var outputEl = gd.closest('.output');\n",
              "if (outputEl) {{\n",
              "    x.observe(outputEl, {childList: true});\n",
              "}}\n",
              "\n",
              "                        })                };                            </script>        </div>\n",
              "</body>\n",
              "</html>"
            ]
          },
          "metadata": {}
        }
      ],
      "source": [
        "#@title HeatMap 표시\n",
        "my_model.visualize_heatmap()"
      ]
    },
    {
      "cell_type": "code",
      "execution_count": null,
      "metadata": {
        "colab": {
          "base_uri": "https://localhost:8080/",
          "height": 551
        },
        "id": "wCN2lI0yanl1",
        "outputId": "4bca7577-956c-4d43-c752-9c633244c99d"
      },
      "outputs": [
        {
          "output_type": "execute_result",
          "data": {
            "text/plain": [
              "                                                 text  topic_no     proba\n",
              "0   朝はビタミン美容液とセラミド配合の美容液夜はレチノール美容液とセラミド配合の美容液を使ってい...         0  0.097811\n",
              "1   乾燥肌なのですが、クレンジングに迷っています。乾燥肌だからクレンジングクリームを使っていたの...        -1  0.096239\n",
              "2            アビブの復活草クリームを買おうと思っているのですが、メイクアップ前でも使えますか         4  0.868095\n",
              "3   手持ちの化粧水でシートパックをしたいので、ストレッチが効いて厚手のシートが欲しいのですが、お...        -1  0.157564\n",
              "4   クレンジングについての回答ありがとうございました。カウブランドがいいと大半の方が答えて頂きま...        -1  0.727415\n",
              "5                       洗い上がりがつるつるになるオススメ洗顔があれば教えて下さい         1  1.000000\n",
              "6      ザダーママスクビタミンとレチノール美容液を使用しているので、ビタミン無配合パックを探し...         0  0.614421\n",
              "7   昨日から、朝ビタミン0夜レチノール0を使い始めました。朝顔を見てみると、ハリが出ていて上向き...         0  0.137296\n",
              "8   純石鹸だけで洗顔して角栓は落ち着いたのでしょうか朝晩の純石鹸での洗顔でしょうか参考にさせてく...        -1  0.175069\n",
              "9                       オイル分の少ないニキビが悪化しづらい乳液を教えてほしいです        -1  0.083407\n",
              "10  匿名ですいません。情けない質問です。キュウテンメガ割にてアヌアファームの桃セットを購入しまし...        -1  0.150925\n",
              "11  毛穴とニキビに悩んでますペイペイに00円くらい貯まってるのでそれくらいで買えるクレンジングあ...        -1  0.172868\n",
              "12  こんばんは寝る前に小田切ヒロさんの上半期のベスト化粧品をみてたのですが、どれも試したくなって...        -1  0.404599\n",
              "13  ログインファームで00コイン当たったのでいわゆるお福分けをさせてください。00コイン当たるの...         5  0.999987\n",
              "14  メラニン毛穴かわからないんですが黒ずみが気になるので酵素洗顔使っています。週0で追いつかない...         3  0.172737\n",
              "15                           プチプラでオススメのアイクリームを教えてください         4  1.000000"
            ],
            "text/html": [
              "\n",
              "  <div id=\"df-67f32b50-b350-474f-8d7d-ef8c51977c8b\" class=\"colab-df-container\">\n",
              "    <div>\n",
              "<style scoped>\n",
              "    .dataframe tbody tr th:only-of-type {\n",
              "        vertical-align: middle;\n",
              "    }\n",
              "\n",
              "    .dataframe tbody tr th {\n",
              "        vertical-align: top;\n",
              "    }\n",
              "\n",
              "    .dataframe thead th {\n",
              "        text-align: right;\n",
              "    }\n",
              "</style>\n",
              "<table border=\"1\" class=\"dataframe\">\n",
              "  <thead>\n",
              "    <tr style=\"text-align: right;\">\n",
              "      <th></th>\n",
              "      <th>text</th>\n",
              "      <th>topic_no</th>\n",
              "      <th>proba</th>\n",
              "    </tr>\n",
              "  </thead>\n",
              "  <tbody>\n",
              "    <tr>\n",
              "      <th>0</th>\n",
              "      <td>朝はビタミン美容液とセラミド配合の美容液夜はレチノール美容液とセラミド配合の美容液を使ってい...</td>\n",
              "      <td>0</td>\n",
              "      <td>0.097811</td>\n",
              "    </tr>\n",
              "    <tr>\n",
              "      <th>1</th>\n",
              "      <td>乾燥肌なのですが、クレンジングに迷っています。乾燥肌だからクレンジングクリームを使っていたの...</td>\n",
              "      <td>-1</td>\n",
              "      <td>0.096239</td>\n",
              "    </tr>\n",
              "    <tr>\n",
              "      <th>2</th>\n",
              "      <td>アビブの復活草クリームを買おうと思っているのですが、メイクアップ前でも使えますか</td>\n",
              "      <td>4</td>\n",
              "      <td>0.868095</td>\n",
              "    </tr>\n",
              "    <tr>\n",
              "      <th>3</th>\n",
              "      <td>手持ちの化粧水でシートパックをしたいので、ストレッチが効いて厚手のシートが欲しいのですが、お...</td>\n",
              "      <td>-1</td>\n",
              "      <td>0.157564</td>\n",
              "    </tr>\n",
              "    <tr>\n",
              "      <th>4</th>\n",
              "      <td>クレンジングについての回答ありがとうございました。カウブランドがいいと大半の方が答えて頂きま...</td>\n",
              "      <td>-1</td>\n",
              "      <td>0.727415</td>\n",
              "    </tr>\n",
              "    <tr>\n",
              "      <th>5</th>\n",
              "      <td>洗い上がりがつるつるになるオススメ洗顔があれば教えて下さい</td>\n",
              "      <td>1</td>\n",
              "      <td>1.000000</td>\n",
              "    </tr>\n",
              "    <tr>\n",
              "      <th>6</th>\n",
              "      <td>ザダーママスクビタミンとレチノール美容液を使用しているので、ビタミン無配合パックを探し...</td>\n",
              "      <td>0</td>\n",
              "      <td>0.614421</td>\n",
              "    </tr>\n",
              "    <tr>\n",
              "      <th>7</th>\n",
              "      <td>昨日から、朝ビタミン0夜レチノール0を使い始めました。朝顔を見てみると、ハリが出ていて上向き...</td>\n",
              "      <td>0</td>\n",
              "      <td>0.137296</td>\n",
              "    </tr>\n",
              "    <tr>\n",
              "      <th>8</th>\n",
              "      <td>純石鹸だけで洗顔して角栓は落ち着いたのでしょうか朝晩の純石鹸での洗顔でしょうか参考にさせてく...</td>\n",
              "      <td>-1</td>\n",
              "      <td>0.175069</td>\n",
              "    </tr>\n",
              "    <tr>\n",
              "      <th>9</th>\n",
              "      <td>オイル分の少ないニキビが悪化しづらい乳液を教えてほしいです</td>\n",
              "      <td>-1</td>\n",
              "      <td>0.083407</td>\n",
              "    </tr>\n",
              "    <tr>\n",
              "      <th>10</th>\n",
              "      <td>匿名ですいません。情けない質問です。キュウテンメガ割にてアヌアファームの桃セットを購入しまし...</td>\n",
              "      <td>-1</td>\n",
              "      <td>0.150925</td>\n",
              "    </tr>\n",
              "    <tr>\n",
              "      <th>11</th>\n",
              "      <td>毛穴とニキビに悩んでますペイペイに00円くらい貯まってるのでそれくらいで買えるクレンジングあ...</td>\n",
              "      <td>-1</td>\n",
              "      <td>0.172868</td>\n",
              "    </tr>\n",
              "    <tr>\n",
              "      <th>12</th>\n",
              "      <td>こんばんは寝る前に小田切ヒロさんの上半期のベスト化粧品をみてたのですが、どれも試したくなって...</td>\n",
              "      <td>-1</td>\n",
              "      <td>0.404599</td>\n",
              "    </tr>\n",
              "    <tr>\n",
              "      <th>13</th>\n",
              "      <td>ログインファームで00コイン当たったのでいわゆるお福分けをさせてください。00コイン当たるの...</td>\n",
              "      <td>5</td>\n",
              "      <td>0.999987</td>\n",
              "    </tr>\n",
              "    <tr>\n",
              "      <th>14</th>\n",
              "      <td>メラニン毛穴かわからないんですが黒ずみが気になるので酵素洗顔使っています。週0で追いつかない...</td>\n",
              "      <td>3</td>\n",
              "      <td>0.172737</td>\n",
              "    </tr>\n",
              "    <tr>\n",
              "      <th>15</th>\n",
              "      <td>プチプラでオススメのアイクリームを教えてください</td>\n",
              "      <td>4</td>\n",
              "      <td>1.000000</td>\n",
              "    </tr>\n",
              "  </tbody>\n",
              "</table>\n",
              "</div>\n",
              "    <div class=\"colab-df-buttons\">\n",
              "\n",
              "  <div class=\"colab-df-container\">\n",
              "    <button class=\"colab-df-convert\" onclick=\"convertToInteractive('df-67f32b50-b350-474f-8d7d-ef8c51977c8b')\"\n",
              "            title=\"Convert this dataframe to an interactive table.\"\n",
              "            style=\"display:none;\">\n",
              "\n",
              "  <svg xmlns=\"http://www.w3.org/2000/svg\" height=\"24px\" viewBox=\"0 -960 960 960\">\n",
              "    <path d=\"M120-120v-720h720v720H120Zm60-500h600v-160H180v160Zm220 220h160v-160H400v160Zm0 220h160v-160H400v160ZM180-400h160v-160H180v160Zm440 0h160v-160H620v160ZM180-180h160v-160H180v160Zm440 0h160v-160H620v160Z\"/>\n",
              "  </svg>\n",
              "    </button>\n",
              "\n",
              "  <style>\n",
              "    .colab-df-container {\n",
              "      display:flex;\n",
              "      gap: 12px;\n",
              "    }\n",
              "\n",
              "    .colab-df-convert {\n",
              "      background-color: #E8F0FE;\n",
              "      border: none;\n",
              "      border-radius: 50%;\n",
              "      cursor: pointer;\n",
              "      display: none;\n",
              "      fill: #1967D2;\n",
              "      height: 32px;\n",
              "      padding: 0 0 0 0;\n",
              "      width: 32px;\n",
              "    }\n",
              "\n",
              "    .colab-df-convert:hover {\n",
              "      background-color: #E2EBFA;\n",
              "      box-shadow: 0px 1px 2px rgba(60, 64, 67, 0.3), 0px 1px 3px 1px rgba(60, 64, 67, 0.15);\n",
              "      fill: #174EA6;\n",
              "    }\n",
              "\n",
              "    .colab-df-buttons div {\n",
              "      margin-bottom: 4px;\n",
              "    }\n",
              "\n",
              "    [theme=dark] .colab-df-convert {\n",
              "      background-color: #3B4455;\n",
              "      fill: #D2E3FC;\n",
              "    }\n",
              "\n",
              "    [theme=dark] .colab-df-convert:hover {\n",
              "      background-color: #434B5C;\n",
              "      box-shadow: 0px 1px 3px 1px rgba(0, 0, 0, 0.15);\n",
              "      filter: drop-shadow(0px 1px 2px rgba(0, 0, 0, 0.3));\n",
              "      fill: #FFFFFF;\n",
              "    }\n",
              "  </style>\n",
              "\n",
              "    <script>\n",
              "      const buttonEl =\n",
              "        document.querySelector('#df-67f32b50-b350-474f-8d7d-ef8c51977c8b button.colab-df-convert');\n",
              "      buttonEl.style.display =\n",
              "        google.colab.kernel.accessAllowed ? 'block' : 'none';\n",
              "\n",
              "      async function convertToInteractive(key) {\n",
              "        const element = document.querySelector('#df-67f32b50-b350-474f-8d7d-ef8c51977c8b');\n",
              "        const dataTable =\n",
              "          await google.colab.kernel.invokeFunction('convertToInteractive',\n",
              "                                                    [key], {});\n",
              "        if (!dataTable) return;\n",
              "\n",
              "        const docLinkHtml = 'Like what you see? Visit the ' +\n",
              "          '<a target=\"_blank\" href=https://colab.research.google.com/notebooks/data_table.ipynb>data table notebook</a>'\n",
              "          + ' to learn more about interactive tables.';\n",
              "        element.innerHTML = '';\n",
              "        dataTable['output_type'] = 'display_data';\n",
              "        await google.colab.output.renderOutput(dataTable, element);\n",
              "        const docLink = document.createElement('div');\n",
              "        docLink.innerHTML = docLinkHtml;\n",
              "        element.appendChild(docLink);\n",
              "      }\n",
              "    </script>\n",
              "  </div>\n",
              "\n",
              "\n",
              "<div id=\"df-9ae8af44-3778-4e75-a40a-2e9d36f0d759\">\n",
              "  <button class=\"colab-df-quickchart\" onclick=\"quickchart('df-9ae8af44-3778-4e75-a40a-2e9d36f0d759')\"\n",
              "            title=\"Suggest charts.\"\n",
              "            style=\"display:none;\">\n",
              "\n",
              "<svg xmlns=\"http://www.w3.org/2000/svg\" height=\"24px\"viewBox=\"0 0 24 24\"\n",
              "     width=\"24px\">\n",
              "    <g>\n",
              "        <path d=\"M19 3H5c-1.1 0-2 .9-2 2v14c0 1.1.9 2 2 2h14c1.1 0 2-.9 2-2V5c0-1.1-.9-2-2-2zM9 17H7v-7h2v7zm4 0h-2V7h2v10zm4 0h-2v-4h2v4z\"/>\n",
              "    </g>\n",
              "</svg>\n",
              "  </button>\n",
              "\n",
              "<style>\n",
              "  .colab-df-quickchart {\n",
              "      --bg-color: #E8F0FE;\n",
              "      --fill-color: #1967D2;\n",
              "      --hover-bg-color: #E2EBFA;\n",
              "      --hover-fill-color: #174EA6;\n",
              "      --disabled-fill-color: #AAA;\n",
              "      --disabled-bg-color: #DDD;\n",
              "  }\n",
              "\n",
              "  [theme=dark] .colab-df-quickchart {\n",
              "      --bg-color: #3B4455;\n",
              "      --fill-color: #D2E3FC;\n",
              "      --hover-bg-color: #434B5C;\n",
              "      --hover-fill-color: #FFFFFF;\n",
              "      --disabled-bg-color: #3B4455;\n",
              "      --disabled-fill-color: #666;\n",
              "  }\n",
              "\n",
              "  .colab-df-quickchart {\n",
              "    background-color: var(--bg-color);\n",
              "    border: none;\n",
              "    border-radius: 50%;\n",
              "    cursor: pointer;\n",
              "    display: none;\n",
              "    fill: var(--fill-color);\n",
              "    height: 32px;\n",
              "    padding: 0;\n",
              "    width: 32px;\n",
              "  }\n",
              "\n",
              "  .colab-df-quickchart:hover {\n",
              "    background-color: var(--hover-bg-color);\n",
              "    box-shadow: 0 1px 2px rgba(60, 64, 67, 0.3), 0 1px 3px 1px rgba(60, 64, 67, 0.15);\n",
              "    fill: var(--button-hover-fill-color);\n",
              "  }\n",
              "\n",
              "  .colab-df-quickchart-complete:disabled,\n",
              "  .colab-df-quickchart-complete:disabled:hover {\n",
              "    background-color: var(--disabled-bg-color);\n",
              "    fill: var(--disabled-fill-color);\n",
              "    box-shadow: none;\n",
              "  }\n",
              "\n",
              "  .colab-df-spinner {\n",
              "    border: 2px solid var(--fill-color);\n",
              "    border-color: transparent;\n",
              "    border-bottom-color: var(--fill-color);\n",
              "    animation:\n",
              "      spin 1s steps(1) infinite;\n",
              "  }\n",
              "\n",
              "  @keyframes spin {\n",
              "    0% {\n",
              "      border-color: transparent;\n",
              "      border-bottom-color: var(--fill-color);\n",
              "      border-left-color: var(--fill-color);\n",
              "    }\n",
              "    20% {\n",
              "      border-color: transparent;\n",
              "      border-left-color: var(--fill-color);\n",
              "      border-top-color: var(--fill-color);\n",
              "    }\n",
              "    30% {\n",
              "      border-color: transparent;\n",
              "      border-left-color: var(--fill-color);\n",
              "      border-top-color: var(--fill-color);\n",
              "      border-right-color: var(--fill-color);\n",
              "    }\n",
              "    40% {\n",
              "      border-color: transparent;\n",
              "      border-right-color: var(--fill-color);\n",
              "      border-top-color: var(--fill-color);\n",
              "    }\n",
              "    60% {\n",
              "      border-color: transparent;\n",
              "      border-right-color: var(--fill-color);\n",
              "    }\n",
              "    80% {\n",
              "      border-color: transparent;\n",
              "      border-right-color: var(--fill-color);\n",
              "      border-bottom-color: var(--fill-color);\n",
              "    }\n",
              "    90% {\n",
              "      border-color: transparent;\n",
              "      border-bottom-color: var(--fill-color);\n",
              "    }\n",
              "  }\n",
              "</style>\n",
              "\n",
              "  <script>\n",
              "    async function quickchart(key) {\n",
              "      const quickchartButtonEl =\n",
              "        document.querySelector('#' + key + ' button');\n",
              "      quickchartButtonEl.disabled = true;  // To prevent multiple clicks.\n",
              "      quickchartButtonEl.classList.add('colab-df-spinner');\n",
              "      try {\n",
              "        const charts = await google.colab.kernel.invokeFunction(\n",
              "            'suggestCharts', [key], {});\n",
              "      } catch (error) {\n",
              "        console.error('Error during call to suggestCharts:', error);\n",
              "      }\n",
              "      quickchartButtonEl.classList.remove('colab-df-spinner');\n",
              "      quickchartButtonEl.classList.add('colab-df-quickchart-complete');\n",
              "    }\n",
              "    (() => {\n",
              "      let quickchartButtonEl =\n",
              "        document.querySelector('#df-9ae8af44-3778-4e75-a40a-2e9d36f0d759 button');\n",
              "      quickchartButtonEl.style.display =\n",
              "        google.colab.kernel.accessAllowed ? 'block' : 'none';\n",
              "    })();\n",
              "  </script>\n",
              "</div>\n",
              "    </div>\n",
              "  </div>\n"
            ]
          },
          "metadata": {},
          "execution_count": 42
        }
      ],
      "source": [
        "#@title 데이터프레임 표시\n",
        "import numpy as np\n",
        "# 각 문서의 최대 확률값을 계산합니다.\n",
        "max_probs_list = np.max(new_probs, axis=1)  # probs가 2차원 배열인 경우, 각 행의 최대값을 찾습니다.\n",
        "text_list = text.to_list()\n",
        "\n",
        "# 데이터 검증: 모든 리스트의 길이가 동일한지 확인합니다.\n",
        "if not (len(text_list) == len(new_topics) == len(max_probs_list)):\n",
        "    raise ValueError(\"All input lists must have the same length.\")\n",
        "\n",
        "number_of_shown = 16 #@param {type:\"slider\", min:5, max:20, step:1}\n",
        "\n",
        "# 데이터 프레임을 생성합니다.\n",
        "result_df2 = pd.DataFrame(\n",
        "    {\n",
        "        \"text\": text_list,\n",
        "        \"topic_no\": new_topics ,\n",
        "        \"proba\": max_probs_list,\n",
        "    }\n",
        ")\n",
        "\n",
        "# 데이터 프레임 출력 설정을 조정합니다.\n",
        "# pd.set_option('display.max_colwidth', None)\n",
        "\n",
        "# 결과를 출력합니다.\n",
        "result_df2.head(number_of_shown)\n",
        "result_df2.to_csv('./df2.csv',encoding='utf-8-sig',index=False)"
      ]
    },
    {
      "cell_type": "code",
      "execution_count": null,
      "metadata": {
        "colab": {
          "base_uri": "https://localhost:8080/",
          "height": 505
        },
        "id": "oQ9h6KFawCzx",
        "outputId": "71c4f66c-54d1-4802-ccf5-8bb9acf97d22"
      },
      "outputs": [
        {
          "output_type": "stream",
          "name": "stderr",
          "text": [
            "20it [00:08,  2.36it/s]\n"
          ]
        },
        {
          "output_type": "display_data",
          "data": {
            "text/html": [
              "<html>\n",
              "<head><meta charset=\"utf-8\" /></head>\n",
              "<body>\n",
              "    <div>            <script src=\"https://cdnjs.cloudflare.com/ajax/libs/mathjax/2.7.5/MathJax.js?config=TeX-AMS-MML_SVG\"></script><script type=\"text/javascript\">if (window.MathJax && window.MathJax.Hub && window.MathJax.Hub.Config) {window.MathJax.Hub.Config({SVG: {font: \"STIX-Web\"}});}</script>                <script type=\"text/javascript\">window.PlotlyConfig = {MathJaxConfig: 'local'};</script>\n",
              "        <script charset=\"utf-8\" src=\"https://cdn.plot.ly/plotly-2.24.1.min.js\"></script>                <div id=\"21fe3c77-f986-4c99-8771-cd2b05d903a5\" class=\"plotly-graph-div\" style=\"height:450px; width:1250px;\"></div>            <script type=\"text/javascript\">                                    window.PLOTLYENV=window.PLOTLYENV || {};                                    if (document.getElementById(\"21fe3c77-f986-4c99-8771-cd2b05d903a5\")) {                    Plotly.newPlot(                        \"21fe3c77-f986-4c99-8771-cd2b05d903a5\",                        [{\"hoverinfo\":\"text\",\"hovertext\":[\"\\u003cb\\u003eTopic 0\\u003c\\u002fb\\u003e\\u003cbr\\u003eWords: \\u5316\\u7ca7\\u6c34, \\u4e73\\u6db2, \\u30aa\\u30b9\\u30b9\\u30e1, \\u7f8e\\u5bb9\\u6db2, \\u4e7e\\u71e5\\u808c\",\"\\u003cb\\u003eTopic 0\\u003c\\u002fb\\u003e\\u003cbr\\u003eWords: \\u5316\\u7ca7\\u6c34, \\u4e73\\u6db2, \\u30aa\\u30b9\\u30b9\\u30e1, \\u7f8e\\u5bb9\\u6db2, \\u4e7e\\u71e5\\u808c\",\"\\u003cb\\u003eTopic 0\\u003c\\u002fb\\u003e\\u003cbr\\u003eWords: \\u4e73\\u6db2, \\u5316\\u7ca7\\u6c34, \\u30aa\\u30b9\\u30b9\\u30e1, \\u7f8e\\u5bb9\\u6db2, \\u4e7e\\u71e5\\u808c\",\"\\u003cb\\u003eTopic 0\\u003c\\u002fb\\u003e\\u003cbr\\u003eWords: \\u5316\\u7ca7\\u6c34, \\u4e73\\u6db2, \\u7f8e\\u5bb9\\u6db2, \\u30aa\\u30b9\\u30b9\\u30e1, \\u30a2\\u30eb\\u30d3\\u30aa\\u30f3\",\"\\u003cb\\u003eTopic 0\\u003c\\u002fb\\u003e\\u003cbr\\u003eWords: \\u5316\\u7ca7\\u6c34, \\u4e73\\u6db2, \\u30aa\\u30b9\\u30b9\\u30e1, \\u7f8e\\u5bb9\\u6db2, \\u30d3\\u30bf\\u30df\\u30f3\",\"\\u003cb\\u003eTopic 0\\u003c\\u002fb\\u003e\\u003cbr\\u003eWords: \\u5316\\u7ca7\\u6c34, \\u4e73\\u6db2, \\u30aa\\u30b9\\u30b9\\u30e1, \\u7f8e\\u5bb9\\u6db2, \\u30d3\\u30bf\\u30df\\u30f3\",\"\\u003cb\\u003eTopic 0\\u003c\\u002fb\\u003e\\u003cbr\\u003eWords: \\u5316\\u7ca7\\u6c34, \\u4e73\\u6db2, \\u7f8e\\u5bb9\\u6db2, \\u30aa\\u30b9\\u30b9\\u30e1, \\u30d3\\u30bf\\u30df\\u30f3\",\"\\u003cb\\u003eTopic 0\\u003c\\u002fb\\u003e\\u003cbr\\u003eWords: \\u5316\\u7ca7\\u6c34, \\u4e73\\u6db2, \\u30aa\\u30b9\\u30b9\\u30e1, \\u30d3\\u30bf\\u30df\\u30f3, \\u7f8e\\u5bb9\\u6db2\",\"\\u003cb\\u003eTopic 0\\u003c\\u002fb\\u003e\\u003cbr\\u003eWords: \\u5316\\u7ca7\\u6c34, \\u4e73\\u6db2, \\u30d3\\u30bf\\u30df\\u30f3, \\u7f8e\\u5bb9\\u6db2, \\u30aa\\u30b9\\u30b9\\u30e1\",\"\\u003cb\\u003eTopic 0\\u003c\\u002fb\\u003e\\u003cbr\\u003eWords: \\u5316\\u7ca7\\u6c34, \\u4e73\\u6db2, \\u30aa\\u30b9\\u30b9\\u30e1, \\u30d3\\u30bf\\u30df\\u30f3, \\u7f8e\\u5bb9\\u6db2\",\"\\u003cb\\u003eTopic 0\\u003c\\u002fb\\u003e\\u003cbr\\u003eWords: \\u5316\\u7ca7\\u6c34, \\u4e73\\u6db2, \\u30aa\\u30b9\\u30b9\\u30e1, \\u4e7e\\u71e5\\u808c, \\u30d3\\u30bf\\u30df\\u30f3\",\"\\u003cb\\u003eTopic 0\\u003c\\u002fb\\u003e\\u003cbr\\u003eWords: \\u5316\\u7ca7\\u6c34, \\u4e73\\u6db2, \\u30aa\\u30b9\\u30b9\\u30e1, \\u7f8e\\u5bb9\\u6db2, \\u30d3\\u30bf\\u30df\\u30f3\",\"\\u003cb\\u003eTopic 0\\u003c\\u002fb\\u003e\\u003cbr\\u003eWords: \\u5316\\u7ca7\\u6c34, \\u4e73\\u6db2, \\u30d3\\u30bf\\u30df\\u30f3, \\u30aa\\u30b9\\u30b9\\u30e1, \\u7f8e\\u5bb9\\u6db2\",\"\\u003cb\\u003eTopic 0\\u003c\\u002fb\\u003e\\u003cbr\\u003eWords: \\u5316\\u7ca7\\u6c34, \\u4e73\\u6db2, \\u30d3\\u30bf\\u30df\\u30f3, \\u30aa\\u30b9\\u30b9\\u30e1, \\u7f8e\\u5bb9\\u6db2\",\"\\u003cb\\u003eTopic 0\\u003c\\u002fb\\u003e\\u003cbr\\u003eWords: \\u5316\\u7ca7\\u6c34, \\u4e73\\u6db2, \\u30d3\\u30bf\\u30df\\u30f3, \\u30aa\\u30b9\\u30b9\\u30e1, \\u7f8e\\u5bb9\\u6db2\",\"\\u003cb\\u003eTopic 0\\u003c\\u002fb\\u003e\\u003cbr\\u003eWords: \\u5316\\u7ca7\\u6c34, \\u4e73\\u6db2, \\u30d3\\u30bf\\u30df\\u30f3, \\u30aa\\u30b9\\u30b9\\u30e1, \\u7f8e\\u5bb9\\u6db2\",\"\\u003cb\\u003eTopic 0\\u003c\\u002fb\\u003e\\u003cbr\\u003eWords: \\u5316\\u7ca7\\u6c34, \\u4e73\\u6db2, \\u7f8e\\u5bb9\\u6db2, \\u30d3\\u30bf\\u30df\\u30f3, \\u30aa\\u30b9\\u30b9\\u30e1\",\"\\u003cb\\u003eTopic 0\\u003c\\u002fb\\u003e\\u003cbr\\u003eWords: \\u5316\\u7ca7\\u6c34, \\u4e73\\u6db2, \\u7f8e\\u5bb9\\u6db2, \\u30d3\\u30bf\\u30df\\u30f3, \\u30aa\\u30b9\\u30b9\\u30e1\",\"\\u003cb\\u003eTopic 0\\u003c\\u002fb\\u003e\\u003cbr\\u003eWords: \\u5316\\u7ca7\\u6c34, \\u4e73\\u6db2, \\u30d3\\u30bf\\u30df\\u30f3, \\u7f8e\\u5bb9\\u6db2, \\u30aa\\u30b9\\u30b9\\u30e1\",\"\\u003cb\\u003eTopic 0\\u003c\\u002fb\\u003e\\u003cbr\\u003eWords: \\u5316\\u7ca7\\u6c34, \\u4e73\\u6db2, \\u30d3\\u30bf\\u30df\\u30f3, \\u7f8e\\u5bb9\\u6db2, \\u30aa\\u30b9\\u30b9\\u30e1\"],\"marker\":{\"color\":\"#E69F00\"},\"mode\":\"lines\",\"name\":\"0_\\u5316\\u7ca7\\u6c34_\\u4e73\\u6db2_\\u30aa\\u30b9\\u30b9\\u30e1_\\u7f8e\\u5bb9\\u6db2\",\"x\":[\"2019-12-30T15:12:57.600000\",\"2020-03-09T07:12:00\",\"2020-05-16T14:24:00\",\"2020-07-23T21:36:00\",\"2020-09-30T04:48:00\",\"2020-12-07T12:00:00\",\"2021-02-13T19:12:00\",\"2021-04-23T02:24:00\",\"2021-06-30T09:36:00\",\"2021-09-06T16:48:00\",\"2021-11-14T00:00:00\",\"2022-01-21T07:12:00\",\"2022-03-30T14:24:00\",\"2022-06-06T21:36:00\",\"2022-08-14T04:48:00\",\"2022-10-21T12:00:00\",\"2022-12-28T19:12:00\",\"2023-03-07T02:24:00\",\"2023-05-14T09:36:00\",\"2023-07-21T16:48:00\"],\"y\":[222,258,220,173,162,223,215,274,196,194,175,281,222,201,228,244,256,272,260,323],\"type\":\"scatter\"},{\"hoverinfo\":\"text\",\"hovertext\":[\"\\u003cb\\u003eTopic 1\\u003c\\u002fb\\u003e\\u003cbr\\u003eWords: \\u30aa\\u30a4\\u30eb, \\u30af\\u30ec\\u30f3\\u30b8\\u30f3\\u30b0, \\u30aa\\u30a4\\u30eb\\u30af\\u30ec\\u30f3\\u30b8\\u30f3\\u30b0, \\u98a8\\u5442, \\u30aa\\u30b9\\u30b9\\u30e1\",\"\\u003cb\\u003eTopic 1\\u003c\\u002fb\\u003e\\u003cbr\\u003eWords: \\u30aa\\u30a4\\u30eb, \\u30af\\u30ec\\u30f3\\u30b8\\u30f3\\u30b0, \\u65e5\\u713c\\u3051\\u6b62\\u3081, \\u30aa\\u30a4\\u30eb\\u30af\\u30ec\\u30f3\\u30b8\\u30f3\\u30b0, \\u98a8\\u5442\",\"\\u003cb\\u003eTopic 1\\u003c\\u002fb\\u003e\\u003cbr\\u003eWords: \\u30aa\\u30a4\\u30eb, \\u30af\\u30ec\\u30f3\\u30b8\\u30f3\\u30b0, \\u65e5\\u713c\\u3051\\u6b62\\u3081, \\u30aa\\u30a4\\u30eb\\u30af\\u30ec\\u30f3\\u30b8\\u30f3\\u30b0, \\u30aa\\u30b9\\u30b9\\u30e1\",\"\\u003cb\\u003eTopic 1\\u003c\\u002fb\\u003e\\u003cbr\\u003eWords: \\u30aa\\u30a4\\u30eb, \\u30af\\u30ec\\u30f3\\u30b8\\u30f3\\u30b0, \\u65e5\\u713c\\u3051\\u6b62\\u3081, \\u30aa\\u30a4\\u30eb\\u30af\\u30ec\\u30f3\\u30b8\\u30f3\\u30b0, \\u98a8\\u5442\",\"\\u003cb\\u003eTopic 1\\u003c\\u002fb\\u003e\\u003cbr\\u003eWords: \\u30aa\\u30a4\\u30eb, \\u30af\\u30ec\\u30f3\\u30b8\\u30f3\\u30b0, \\u30aa\\u30a4\\u30eb\\u30af\\u30ec\\u30f3\\u30b8\\u30f3\\u30b0, \\u65e5\\u713c\\u3051\\u6b62\\u3081, \\u98a8\\u5442\",\"\\u003cb\\u003eTopic 1\\u003c\\u002fb\\u003e\\u003cbr\\u003eWords: \\u30aa\\u30a4\\u30eb, \\u30af\\u30ec\\u30f3\\u30b8\\u30f3\\u30b0, \\u98a8\\u5442, \\u65e5\\u713c\\u3051\\u6b62\\u3081, \\u30aa\\u30a4\\u30eb\\u30af\\u30ec\\u30f3\\u30b8\\u30f3\\u30b0\",\"\\u003cb\\u003eTopic 1\\u003c\\u002fb\\u003e\\u003cbr\\u003eWords: \\u30aa\\u30a4\\u30eb, \\u30af\\u30ec\\u30f3\\u30b8\\u30f3\\u30b0, \\u65e5\\u713c\\u3051\\u6b62\\u3081, \\u30aa\\u30a4\\u30eb\\u30af\\u30ec\\u30f3\\u30b8\\u30f3\\u30b0, \\u98a8\\u5442\",\"\\u003cb\\u003eTopic 1\\u003c\\u002fb\\u003e\\u003cbr\\u003eWords: \\u30aa\\u30a4\\u30eb, \\u30af\\u30ec\\u30f3\\u30b8\\u30f3\\u30b0, \\u30aa\\u30a4\\u30eb\\u30af\\u30ec\\u30f3\\u30b8\\u30f3\\u30b0, \\u98a8\\u5442, \\u65e5\\u713c\\u3051\\u6b62\\u3081\",\"\\u003cb\\u003eTopic 1\\u003c\\u002fb\\u003e\\u003cbr\\u003eWords: \\u30aa\\u30a4\\u30eb, \\u30af\\u30ec\\u30f3\\u30b8\\u30f3\\u30b0, \\u98a8\\u5442, \\u65e5\\u713c\\u3051\\u6b62\\u3081, \\u30aa\\u30a4\\u30eb\\u30af\\u30ec\\u30f3\\u30b8\\u30f3\\u30b0\",\"\\u003cb\\u003eTopic 1\\u003c\\u002fb\\u003e\\u003cbr\\u003eWords: \\u30aa\\u30a4\\u30eb, \\u30af\\u30ec\\u30f3\\u30b8\\u30f3\\u30b0, \\u30aa\\u30a4\\u30eb\\u30af\\u30ec\\u30f3\\u30b8\\u30f3\\u30b0, \\u65e5\\u713c\\u3051\\u6b62\\u3081, \\u30d6\\u30e9\\u30b7\",\"\\u003cb\\u003eTopic 1\\u003c\\u002fb\\u003e\\u003cbr\\u003eWords: \\u30aa\\u30a4\\u30eb, \\u30af\\u30ec\\u30f3\\u30b8\\u30f3\\u30b0, \\u30aa\\u30a4\\u30eb\\u30af\\u30ec\\u30f3\\u30b8\\u30f3\\u30b0, \\u98a8\\u5442, \\u65e5\\u713c\\u3051\\u6b62\\u3081\",\"\\u003cb\\u003eTopic 1\\u003c\\u002fb\\u003e\\u003cbr\\u003eWords: \\u30aa\\u30a4\\u30eb, \\u30af\\u30ec\\u30f3\\u30b8\\u30f3\\u30b0, \\u30aa\\u30a4\\u30eb\\u30af\\u30ec\\u30f3\\u30b8\\u30f3\\u30b0, \\u65e5\\u713c\\u3051\\u6b62\\u3081, \\u30aa\\u30b9\\u30b9\\u30e1\",\"\\u003cb\\u003eTopic 1\\u003c\\u002fb\\u003e\\u003cbr\\u003eWords: \\u30aa\\u30a4\\u30eb, \\u30af\\u30ec\\u30f3\\u30b8\\u30f3\\u30b0, \\u65e5\\u713c\\u3051\\u6b62\\u3081, \\u98a8\\u5442, \\u30aa\\u30a4\\u30eb\\u30af\\u30ec\\u30f3\\u30b8\\u30f3\\u30b0\",\"\\u003cb\\u003eTopic 1\\u003c\\u002fb\\u003e\\u003cbr\\u003eWords: \\u30aa\\u30a4\\u30eb, \\u30af\\u30ec\\u30f3\\u30b8\\u30f3\\u30b0, \\u65e5\\u713c\\u3051\\u6b62\\u3081, \\u30aa\\u30a4\\u30eb\\u30af\\u30ec\\u30f3\\u30b8\\u30f3\\u30b0, \\u98a8\\u5442\",\"\\u003cb\\u003eTopic 1\\u003c\\u002fb\\u003e\\u003cbr\\u003eWords: \\u30aa\\u30a4\\u30eb, \\u30af\\u30ec\\u30f3\\u30b8\\u30f3\\u30b0, \\u30aa\\u30a4\\u30eb\\u30af\\u30ec\\u30f3\\u30b8\\u30f3\\u30b0, \\u65e5\\u713c\\u3051\\u6b62\\u3081, \\u98a8\\u5442\",\"\\u003cb\\u003eTopic 1\\u003c\\u002fb\\u003e\\u003cbr\\u003eWords: \\u30aa\\u30a4\\u30eb, \\u30af\\u30ec\\u30f3\\u30b8\\u30f3\\u30b0, \\u65e5\\u713c\\u3051\\u6b62\\u3081, \\u98a8\\u5442, \\u30aa\\u30a4\\u30eb\\u30af\\u30ec\\u30f3\\u30b8\\u30f3\\u30b0\",\"\\u003cb\\u003eTopic 1\\u003c\\u002fb\\u003e\\u003cbr\\u003eWords: \\u30aa\\u30a4\\u30eb, \\u30af\\u30ec\\u30f3\\u30b8\\u30f3\\u30b0, \\u65e5\\u713c\\u3051\\u6b62\\u3081, \\u30aa\\u30a4\\u30eb\\u30af\\u30ec\\u30f3\\u30b8\\u30f3\\u30b0, \\u98a8\\u5442\",\"\\u003cb\\u003eTopic 1\\u003c\\u002fb\\u003e\\u003cbr\\u003eWords: \\u30aa\\u30a4\\u30eb, \\u65e5\\u713c\\u3051\\u6b62\\u3081, \\u30af\\u30ec\\u30f3\\u30b8\\u30f3\\u30b0, \\u30aa\\u30a4\\u30eb\\u30af\\u30ec\\u30f3\\u30b8\\u30f3\\u30b0, \\u98a8\\u5442\",\"\\u003cb\\u003eTopic 1\\u003c\\u002fb\\u003e\\u003cbr\\u003eWords: \\u30aa\\u30a4\\u30eb, \\u30aa\\u30a4\\u30eb\\u30af\\u30ec\\u30f3\\u30b8\\u30f3\\u30b0, \\u30af\\u30ec\\u30f3\\u30b8\\u30f3\\u30b0, \\u65e5\\u713c\\u3051\\u6b62\\u3081, \\u30aa\\u30b9\\u30b9\\u30e1\",\"\\u003cb\\u003eTopic 1\\u003c\\u002fb\\u003e\\u003cbr\\u003eWords: \\u30aa\\u30a4\\u30eb, \\u30af\\u30ec\\u30f3\\u30b8\\u30f3\\u30b0, \\u30aa\\u30a4\\u30eb\\u30af\\u30ec\\u30f3\\u30b8\\u30f3\\u30b0, \\u65e5\\u713c\\u3051\\u6b62\\u3081, \\u98a8\\u5442\"],\"marker\":{\"color\":\"#56B4E9\"},\"mode\":\"lines\",\"name\":\"1_\\u30aa\\u30a4\\u30eb_\\u30af\\u30ec\\u30f3\\u30b8\\u30f3\\u30b0_\\u30aa\\u30a4\\u30eb\\u30af\\u30ec\\u30f3\\u30b8\\u30f3\\u30b0_\\u65e5\\u713c\\u3051\\u6b62\\u3081\",\"x\":[\"2019-12-30T15:12:57.600000\",\"2020-03-09T07:12:00\",\"2020-05-16T14:24:00\",\"2020-07-23T21:36:00\",\"2020-09-30T04:48:00\",\"2020-12-07T12:00:00\",\"2021-02-13T19:12:00\",\"2021-04-23T02:24:00\",\"2021-06-30T09:36:00\",\"2021-09-06T16:48:00\",\"2021-11-14T00:00:00\",\"2022-01-21T07:12:00\",\"2022-03-30T14:24:00\",\"2022-06-06T21:36:00\",\"2022-08-14T04:48:00\",\"2022-10-21T12:00:00\",\"2022-12-28T19:12:00\",\"2023-03-07T02:24:00\",\"2023-05-14T09:36:00\",\"2023-07-21T16:48:00\"],\"y\":[112,101,96,84,78,79,90,105,81,69,76,94,91,95,90,67,124,99,85,120],\"type\":\"scatter\"},{\"hoverinfo\":\"text\",\"hovertext\":[\"\\u003cb\\u003eTopic 2\\u003c\\u002fb\\u003e\\u003cbr\\u003eWords: \\u30de\\u30b9\\u30af, \\u82b1\\u7c89, \\u97d3\\u56fd, \\u9999\\u308a, \\u30ea\\u30c3\\u30d7\",\"\\u003cb\\u003eTopic 2\\u003c\\u002fb\\u003e\\u003cbr\\u003eWords: \\u30de\\u30b9\\u30af, \\u97d3\\u56fd, \\u82b1\\u7c89, \\u808c\\u8352\\u308c, \\u9999\\u308a\",\"\\u003cb\\u003eTopic 2\\u003c\\u002fb\\u003e\\u003cbr\\u003eWords: \\u30de\\u30b9\\u30af, \\u9999\\u308a, \\u97d3\\u56fd, \\u30aa\\u30b9\\u30b9\\u30e1, \\u5546\\u54c1\",\"\\u003cb\\u003eTopic 2\\u003c\\u002fb\\u003e\\u003cbr\\u003eWords: \\u30de\\u30b9\\u30af, \\u97d3\\u56fd, \\u808c\\u8352\\u308c, \\u9999\\u308a, \\u30aa\\u30b9\\u30b9\\u30e1\",\"\\u003cb\\u003eTopic 2\\u003c\\u002fb\\u003e\\u003cbr\\u003eWords: \\u30de\\u30b9\\u30af, \\u9999\\u308a, \\u97d3\\u56fd, \\u30aa\\u30b9\\u30b9\\u30e1, \\u808c\\u8352\\u308c\",\"\\u003cb\\u003eTopic 2\\u003c\\u002fb\\u003e\\u003cbr\\u003eWords: \\u30de\\u30b9\\u30af, \\u9999\\u308a, \\u97d3\\u56fd, \\u808c\\u8352\\u308c, \\u30cb\\u30ad\\u30d3\",\"\\u003cb\\u003eTopic 2\\u003c\\u002fb\\u003e\\u003cbr\\u003eWords: \\u30de\\u30b9\\u30af, \\u97d3\\u56fd, \\u82b1\\u7c89, \\u9999\\u308a, \\u808c\\u8352\\u308c\",\"\\u003cb\\u003eTopic 2\\u003c\\u002fb\\u003e\\u003cbr\\u003eWords: \\u30de\\u30b9\\u30af, \\u9999\\u308a, \\u97d3\\u56fd, \\u30aa\\u30b9\\u30b9\\u30e1, \\u5546\\u54c1\",\"\\u003cb\\u003eTopic 2\\u003c\\u002fb\\u003e\\u003cbr\\u003eWords: \\u30de\\u30b9\\u30af, \\u97d3\\u56fd, \\u9999\\u308a, \\u30b0\\u30ea\\u30bb\\u30ea\\u30f3\\u30d5\\u30ea\\u30fc, \\u30aa\\u30b9\\u30b9\\u30e1\",\"\\u003cb\\u003eTopic 2\\u003c\\u002fb\\u003e\\u003cbr\\u003eWords: \\u30de\\u30b9\\u30af, \\u97d3\\u56fd, \\u9999\\u308a, \\u30aa\\u30b9\\u30b9\\u30e1, \\u5546\\u54c1\",\"\\u003cb\\u003eTopic 2\\u003c\\u002fb\\u003e\\u003cbr\\u003eWords: \\u30de\\u30b9\\u30af, \\u97d3\\u56fd, \\u9999\\u308a, \\u30aa\\u30b9\\u30b9\\u30e1, \\u30ea\\u30c3\\u30d7\",\"\\u003cb\\u003eTopic 2\\u003c\\u002fb\\u003e\\u003cbr\\u003eWords: \\u30de\\u30b9\\u30af, \\u97d3\\u56fd, \\u82b1\\u7c89, \\u9999\\u308a, \\u5546\\u54c1\",\"\\u003cb\\u003eTopic 2\\u003c\\u002fb\\u003e\\u003cbr\\u003eWords: \\u30de\\u30b9\\u30af, \\u97d3\\u56fd, \\u9999\\u308a, \\u82b1\\u7c89, \\u30aa\\u30b9\\u30b9\\u30e1\",\"\\u003cb\\u003eTopic 2\\u003c\\u002fb\\u003e\\u003cbr\\u003eWords: \\u30de\\u30b9\\u30af, \\u97d3\\u56fd, \\u9999\\u308a, \\u30aa\\u30b9\\u30b9\\u30e1, \\u5546\\u54c1\",\"\\u003cb\\u003eTopic 2\\u003c\\u002fb\\u003e\\u003cbr\\u003eWords: \\u30de\\u30b9\\u30af, \\u97d3\\u56fd, \\u9999\\u308a, \\u30a2\\u30eb\\u30b3\\u30fc\\u30eb, \\u30aa\\u30b9\\u30b9\\u30e1\",\"\\u003cb\\u003eTopic 2\\u003c\\u002fb\\u003e\\u003cbr\\u003eWords: \\u30de\\u30b9\\u30af, \\u97d3\\u56fd, \\u9999\\u308a, \\u5302\\u3044, \\u30aa\\u30b9\\u30b9\\u30e1\",\"\\u003cb\\u003eTopic 2\\u003c\\u002fb\\u003e\\u003cbr\\u003eWords: \\u30de\\u30b9\\u30af, \\u97d3\\u56fd, \\u82b1\\u7c89, \\u9999\\u308a, \\u30aa\\u30b9\\u30b9\\u30e1\",\"\\u003cb\\u003eTopic 2\\u003c\\u002fb\\u003e\\u003cbr\\u003eWords: \\u30de\\u30b9\\u30af, \\u82b1\\u7c89, \\u767d\\u77f3, \\u97d3\\u56fd, \\u9ebb\\u8863\",\"\\u003cb\\u003eTopic 2\\u003c\\u002fb\\u003e\\u003cbr\\u003eWords: \\u30de\\u30b9\\u30af, \\u30a2\\u30ca, \\u97d3\\u56fd, \\u6d77\\u6e21, \\u9999\\u308a\",\"\\u003cb\\u003eTopic 2\\u003c\\u002fb\\u003e\\u003cbr\\u003eWords: \\u30de\\u30b9\\u30af, \\u97d3\\u56fd, \\u9999\\u308a, \\u5302\\u3044, \\u30ea\\u30c3\\u30d7\"],\"marker\":{\"color\":\"#009E73\"},\"mode\":\"lines\",\"name\":\"2_\\u30de\\u30b9\\u30af_\\u97d3\\u56fd_\\u9999\\u308a_\\u30aa\\u30b9\\u30b9\\u30e1\",\"x\":[\"2019-12-30T15:12:57.600000\",\"2020-03-09T07:12:00\",\"2020-05-16T14:24:00\",\"2020-07-23T21:36:00\",\"2020-09-30T04:48:00\",\"2020-12-07T12:00:00\",\"2021-02-13T19:12:00\",\"2021-04-23T02:24:00\",\"2021-06-30T09:36:00\",\"2021-09-06T16:48:00\",\"2021-11-14T00:00:00\",\"2022-01-21T07:12:00\",\"2022-03-30T14:24:00\",\"2022-06-06T21:36:00\",\"2022-08-14T04:48:00\",\"2022-10-21T12:00:00\",\"2022-12-28T19:12:00\",\"2023-03-07T02:24:00\",\"2023-05-14T09:36:00\",\"2023-07-21T16:48:00\"],\"y\":[76,100,88,87,68,92,99,93,72,73,63,80,54,58,87,59,75,76,72,64],\"type\":\"scatter\"},{\"hoverinfo\":\"text\",\"hovertext\":[\"\\u003cb\\u003eTopic 3\\u003c\\u002fb\\u003e\\u003cbr\\u003eWords: \\u6bdb\\u7a74, \\u9ed2\\u305a\\u307f, \\u9175\\u7d20, \\u5c0f\\u9f3b, \\u30b1\\u30a2\",\"\\u003cb\\u003eTopic 3\\u003c\\u002fb\\u003e\\u003cbr\\u003eWords: \\u6bdb\\u7a74, \\u9ed2\\u305a\\u307f, \\u9175\\u7d20, \\u5c0f\\u9f3b, \\u3044\\u3061\\u3054\",\"\\u003cb\\u003eTopic 3\\u003c\\u002fb\\u003e\\u003cbr\\u003eWords: \\u6bdb\\u7a74, \\u9175\\u7d20, \\u9ed2\\u305a\\u307f, \\u5c0f\\u9f3b, \\u3044\\u3061\\u3054\",\"\\u003cb\\u003eTopic 3\\u003c\\u002fb\\u003e\\u003cbr\\u003eWords: \\u6bdb\\u7a74, \\u9ed2\\u305a\\u307f, \\u9175\\u7d20, \\u5c0f\\u9f3b, \\u52b9\\u679c\",\"\\u003cb\\u003eTopic 3\\u003c\\u002fb\\u003e\\u003cbr\\u003eWords: \\u6bdb\\u7a74, \\u9ed2\\u305a\\u307f, \\u9175\\u7d20, \\u5c0f\\u9f3b, \\u958b\\u304d\",\"\\u003cb\\u003eTopic 3\\u003c\\u002fb\\u003e\\u003cbr\\u003eWords: \\u6bdb\\u7a74, \\u9ed2\\u305a\\u307f, \\u9175\\u7d20, \\u5c0f\\u9f3b, \\u30b1\\u30a2\",\"\\u003cb\\u003eTopic 3\\u003c\\u002fb\\u003e\\u003cbr\\u003eWords: \\u6bdb\\u7a74, \\u9ed2\\u305a\\u307f, \\u9175\\u7d20, \\u5c0f\\u9f3b, \\u52b9\\u679c\",\"\\u003cb\\u003eTopic 3\\u003c\\u002fb\\u003e\\u003cbr\\u003eWords: \\u6bdb\\u7a74, \\u9ed2\\u305a\\u307f, \\u5c0f\\u9f3b, \\u9175\\u7d20, \\u958b\\u304d\",\"\\u003cb\\u003eTopic 3\\u003c\\u002fb\\u003e\\u003cbr\\u003eWords: \\u6bdb\\u7a74, \\u9ed2\\u305a\\u307f, \\u9175\\u7d20, \\u5c0f\\u9f3b, \\u52b9\\u679c\",\"\\u003cb\\u003eTopic 3\\u003c\\u002fb\\u003e\\u003cbr\\u003eWords: \\u6bdb\\u7a74, \\u9175\\u7d20, \\u9ed2\\u305a\\u307f, \\u3044\\u3061\\u3054, \\u52b9\\u679c\",\"\\u003cb\\u003eTopic 3\\u003c\\u002fb\\u003e\\u003cbr\\u003eWords: \\u6bdb\\u7a74, \\u9ed2\\u305a\\u307f, \\u9175\\u7d20, \\u5c0f\\u9f3b, \\u30b1\\u30a2\",\"\\u003cb\\u003eTopic 3\\u003c\\u002fb\\u003e\\u003cbr\\u003eWords: \\u6bdb\\u7a74, \\u9ed2\\u305a\\u307f, \\u9175\\u7d20, \\u5c0f\\u9f3b, \\u52b9\\u679c\",\"\\u003cb\\u003eTopic 3\\u003c\\u002fb\\u003e\\u003cbr\\u003eWords: \\u6bdb\\u7a74, \\u9175\\u7d20, \\u9ed2\\u305a\\u307f, \\u5c0f\\u9f3b, \\u30b1\\u30a2\",\"\\u003cb\\u003eTopic 3\\u003c\\u002fb\\u003e\\u003cbr\\u003eWords: \\u6bdb\\u7a74, \\u9175\\u7d20, \\u9ed2\\u305a\\u307f, \\u5c0f\\u9f3b, \\u30b1\\u30a2\",\"\\u003cb\\u003eTopic 3\\u003c\\u002fb\\u003e\\u003cbr\\u003eWords: \\u6bdb\\u7a74, \\u9ed2\\u305a\\u307f, \\u9175\\u7d20, \\u5c0f\\u9f3b, \\u52b9\\u679c\",\"\\u003cb\\u003eTopic 3\\u003c\\u002fb\\u003e\\u003cbr\\u003eWords: \\u6bdb\\u7a74, \\u9ed2\\u305a\\u307f, \\u9175\\u7d20, \\u5c0f\\u9f3b, \\u5468\\u308a\",\"\\u003cb\\u003eTopic 3\\u003c\\u002fb\\u003e\\u003cbr\\u003eWords: \\u6bdb\\u7a74, \\u9ed2\\u305a\\u307f, \\u9175\\u7d20, \\u5c0f\\u9f3b, \\u30d1\\u30c3\\u30af\",\"\\u003cb\\u003eTopic 3\\u003c\\u002fb\\u003e\\u003cbr\\u003eWords: \\u6bdb\\u7a74, \\u9ed2\\u305a\\u307f, \\u5c0f\\u9f3b, \\u9175\\u7d20, \\u52b9\\u679c\",\"\\u003cb\\u003eTopic 3\\u003c\\u002fb\\u003e\\u003cbr\\u003eWords: \\u6bdb\\u7a74, \\u9ed2\\u305a\\u307f, \\u9175\\u7d20, \\u5c0f\\u9f3b, \\u52b9\\u679c\",\"\\u003cb\\u003eTopic 3\\u003c\\u002fb\\u003e\\u003cbr\\u003eWords: \\u6bdb\\u7a74, \\u9175\\u7d20, \\u9ed2\\u305a\\u307f, \\u5c0f\\u9f3b, \\u958b\\u304d\"],\"marker\":{\"color\":\"#F0E442\"},\"mode\":\"lines\",\"name\":\"3_\\u6bdb\\u7a74_\\u9ed2\\u305a\\u307f_\\u9175\\u7d20_\\u5c0f\\u9f3b\",\"x\":[\"2019-12-30T15:12:57.600000\",\"2020-03-09T07:12:00\",\"2020-05-16T14:24:00\",\"2020-07-23T21:36:00\",\"2020-09-30T04:48:00\",\"2020-12-07T12:00:00\",\"2021-02-13T19:12:00\",\"2021-04-23T02:24:00\",\"2021-06-30T09:36:00\",\"2021-09-06T16:48:00\",\"2021-11-14T00:00:00\",\"2022-01-21T07:12:00\",\"2022-03-30T14:24:00\",\"2022-06-06T21:36:00\",\"2022-08-14T04:48:00\",\"2022-10-21T12:00:00\",\"2022-12-28T19:12:00\",\"2023-03-07T02:24:00\",\"2023-05-14T09:36:00\",\"2023-07-21T16:48:00\"],\"y\":[86,109,131,85,49,52,72,81,86,71,43,66,71,54,87,39,64,55,62,85],\"type\":\"scatter\"},{\"hoverinfo\":\"text\",\"hovertext\":[\"\\u003cb\\u003eTopic 4\\u003c\\u002fb\\u003e\\u003cbr\\u003eWords: \\u30af\\u30ea\\u30fc\\u30e0, \\u30a2\\u30a4\\u30af\\u30ea\\u30fc\\u30e0, \\u30aa\\u30b9\\u30b9\\u30e1, \\u30af\\u30de, \\u76ee\\u5143\",\"\\u003cb\\u003eTopic 4\\u003c\\u002fb\\u003e\\u003cbr\\u003eWords: \\u30af\\u30ea\\u30fc\\u30e0, \\u30a2\\u30a4\\u30af\\u30ea\\u30fc\\u30e0, \\u30aa\\u30b9\\u30b9\\u30e1, \\u30af\\u30de, \\u30b9\\u30d1\\u30c1\\u30e5\\u30e9\",\"\\u003cb\\u003eTopic 4\\u003c\\u002fb\\u003e\\u003cbr\\u003eWords: \\u30af\\u30ea\\u30fc\\u30e0, \\u30a2\\u30a4\\u30af\\u30ea\\u30fc\\u30e0, \\u30aa\\u30b9\\u30b9\\u30e1, \\u30af\\u30de, \\u52b9\\u679c\",\"\\u003cb\\u003eTopic 4\\u003c\\u002fb\\u003e\\u003cbr\\u003eWords: \\u30af\\u30ea\\u30fc\\u30e0, \\u30a2\\u30a4\\u30af\\u30ea\\u30fc\\u30e0, \\u30aa\\u30b9\\u30b9\\u30e1, \\u30b7\\u30ef, \\u30d5\\u30a7\\u30a4\\u30b9\\u30af\\u30ea\\u30fc\\u30e0\",\"\\u003cb\\u003eTopic 4\\u003c\\u002fb\\u003e\\u003cbr\\u003eWords: \\u30af\\u30ea\\u30fc\\u30e0, \\u30a2\\u30a4\\u30af\\u30ea\\u30fc\\u30e0, \\u30aa\\u30b9\\u30b9\\u30e1, \\u30d5\\u30a7\\u30a4\\u30b9\\u30af\\u30ea\\u30fc\\u30e0, \\u30b7\\u30ab\\u30af\\u30ea\\u30fc\\u30e0\",\"\\u003cb\\u003eTopic 4\\u003c\\u002fb\\u003e\\u003cbr\\u003eWords: \\u30a2\\u30a4\\u30af\\u30ea\\u30fc\\u30e0, \\u30af\\u30ea\\u30fc\\u30e0, \\u30af\\u30de, \\u30aa\\u30b9\\u30b9\\u30e1, \\u76ee\\u5143\",\"\\u003cb\\u003eTopic 4\\u003c\\u002fb\\u003e\\u003cbr\\u003eWords: \\u30af\\u30ea\\u30fc\\u30e0, \\u30a2\\u30a4\\u30af\\u30ea\\u30fc\\u30e0, \\u30aa\\u30b9\\u30b9\\u30e1, \\u30d5\\u30a7\\u30a4\\u30b9\\u30af\\u30ea\\u30fc\\u30e0, \\u30b7\\u30ef\",\"\\u003cb\\u003eTopic 4\\u003c\\u002fb\\u003e\\u003cbr\\u003eWords: \\u30af\\u30ea\\u30fc\\u30e0, \\u30a2\\u30a4\\u30af\\u30ea\\u30fc\\u30e0, \\u30aa\\u30b9\\u30b9\\u30e1, \\u52b9\\u679c, \\u76ee\\u5143\",\"\\u003cb\\u003eTopic 4\\u003c\\u002fb\\u003e\\u003cbr\\u003eWords: \\u30af\\u30ea\\u30fc\\u30e0, \\u30a2\\u30a4\\u30af\\u30ea\\u30fc\\u30e0, \\u30aa\\u30b9\\u30b9\\u30e1, \\u30b7\\u30ef, \\u76ee\\u5143\",\"\\u003cb\\u003eTopic 4\\u003c\\u002fb\\u003e\\u003cbr\\u003eWords: \\u30af\\u30ea\\u30fc\\u30e0, \\u30a2\\u30a4\\u30af\\u30ea\\u30fc\\u30e0, \\u30aa\\u30b9\\u30b9\\u30e1, \\u76ee\\u5143, \\u30b7\\u30ef\",\"\\u003cb\\u003eTopic 4\\u003c\\u002fb\\u003e\\u003cbr\\u003eWords: \\u30af\\u30ea\\u30fc\\u30e0, \\u30a2\\u30a4\\u30af\\u30ea\\u30fc\\u30e0, \\u30aa\\u30b9\\u30b9\\u30e1, \\u30b7\\u30ef, \\u76ee\\u5143\",\"\\u003cb\\u003eTopic 4\\u003c\\u002fb\\u003e\\u003cbr\\u003eWords: \\u30af\\u30ea\\u30fc\\u30e0, \\u30a2\\u30a4\\u30af\\u30ea\\u30fc\\u30e0, \\u30b7\\u30ef, \\u30aa\\u30b9\\u30b9\\u30e1, \\u30d5\\u30a7\\u30a4\\u30b9\\u30af\\u30ea\\u30fc\\u30e0\",\"\\u003cb\\u003eTopic 4\\u003c\\u002fb\\u003e\\u003cbr\\u003eWords: \\u30af\\u30ea\\u30fc\\u30e0, \\u30a2\\u30a4\\u30af\\u30ea\\u30fc\\u30e0, \\u30aa\\u30b9\\u30b9\\u30e1, \\u30b7\\u30ef, \\u76ee\\u5143\",\"\\u003cb\\u003eTopic 4\\u003c\\u002fb\\u003e\\u003cbr\\u003eWords: \\u30af\\u30ea\\u30fc\\u30e0, \\u30a2\\u30a4\\u30af\\u30ea\\u30fc\\u30e0, \\u30aa\\u30b9\\u30b9\\u30e1, \\u30af\\u30de, \\u30b7\\u30ef\",\"\\u003cb\\u003eTopic 4\\u003c\\u002fb\\u003e\\u003cbr\\u003eWords: \\u30af\\u30ea\\u30fc\\u30e0, \\u30a2\\u30a4\\u30af\\u30ea\\u30fc\\u30e0, \\u30b7\\u30ef, \\u30aa\\u30b9\\u30b9\\u30e1, \\u76ee\\u5143\",\"\\u003cb\\u003eTopic 4\\u003c\\u002fb\\u003e\\u003cbr\\u003eWords: \\u30af\\u30ea\\u30fc\\u30e0, \\u30a2\\u30a4\\u30af\\u30ea\\u30fc\\u30e0, \\u30aa\\u30b9\\u30b9\\u30e1, \\u30b7\\u30ef, \\u76ee\\u5143\",\"\\u003cb\\u003eTopic 4\\u003c\\u002fb\\u003e\\u003cbr\\u003eWords: \\u30af\\u30ea\\u30fc\\u30e0, \\u30a2\\u30a4\\u30af\\u30ea\\u30fc\\u30e0, \\u30aa\\u30b9\\u30b9\\u30e1, \\u30cf\\u30f3\\u30c9, \\u30b7\\u30ef\",\"\\u003cb\\u003eTopic 4\\u003c\\u002fb\\u003e\\u003cbr\\u003eWords: \\u30af\\u30ea\\u30fc\\u30e0, \\u30a2\\u30a4\\u30af\\u30ea\\u30fc\\u30e0, \\u30aa\\u30b9\\u30b9\\u30e1, \\u30d5\\u30a7\\u30a4\\u30b9\\u30af\\u30ea\\u30fc\\u30e0, \\u30b7\\u30ef\",\"\\u003cb\\u003eTopic 4\\u003c\\u002fb\\u003e\\u003cbr\\u003eWords: \\u30af\\u30ea\\u30fc\\u30e0, \\u30a2\\u30a4\\u30af\\u30ea\\u30fc\\u30e0, \\u30b7\\u30ef, \\u30aa\\u30b9\\u30b9\\u30e1, \\u30b3\\u30b9\\u30e1\\u30c7\\u30b3\\u30eb\\u30c6\",\"\\u003cb\\u003eTopic 4\\u003c\\u002fb\\u003e\\u003cbr\\u003eWords: \\u30a2\\u30a4\\u30af\\u30ea\\u30fc\\u30e0, \\u30af\\u30ea\\u30fc\\u30e0, \\u30aa\\u30b9\\u30b9\\u30e1, \\u76ee\\u5143, \\u30b7\\u30ef\"],\"marker\":{\"color\":\"#D55E00\"},\"mode\":\"lines\",\"name\":\"4_\\u30af\\u30ea\\u30fc\\u30e0_\\u30a2\\u30a4\\u30af\\u30ea\\u30fc\\u30e0_\\u30aa\\u30b9\\u30b9\\u30e1_\\u30b7\\u30ef\",\"x\":[\"2019-12-30T15:12:57.600000\",\"2020-03-09T07:12:00\",\"2020-05-16T14:24:00\",\"2020-07-23T21:36:00\",\"2020-09-30T04:48:00\",\"2020-12-07T12:00:00\",\"2021-02-13T19:12:00\",\"2021-04-23T02:24:00\",\"2021-06-30T09:36:00\",\"2021-09-06T16:48:00\",\"2021-11-14T00:00:00\",\"2022-01-21T07:12:00\",\"2022-03-30T14:24:00\",\"2022-06-06T21:36:00\",\"2022-08-14T04:48:00\",\"2022-10-21T12:00:00\",\"2022-12-28T19:12:00\",\"2023-03-07T02:24:00\",\"2023-05-14T09:36:00\",\"2023-07-21T16:48:00\"],\"y\":[74,63,56,45,73,84,73,73,52,60,76,83,47,53,88,79,107,87,62,73],\"type\":\"scatter\"},{\"hoverinfo\":\"text\",\"hovertext\":[\"\\u003cb\\u003eTopic 5\\u003c\\u002fb\\u003e\\u003cbr\\u003eWords: \\u5546\\u54c1, \\u30aa\\u30b9\\u30b9\\u30e1, \\u30b5\\u30f3\\u30d7\\u30eb, \\u7121\\u6599, \\u52b9\\u679c\",\"\\u003cb\\u003eTopic 5\\u003c\\u002fb\\u003e\\u003cbr\\u003eWords: \\u30aa\\u30b9\\u30b9\\u30e1, \\u5546\\u54c1, \\u30d6\\u30e9\\u30f3\\u30c9, \\u901a\\u8ca9, \\u52b9\\u679c\",\"\\u003cb\\u003eTopic 5\\u003c\\u002fb\\u003e\\u003cbr\\u003eWords: \\u5546\\u54c1, \\u30aa\\u30b9\\u30b9\\u30e1, \\u30af\\u30fc\\u30dd\\u30f3, \\u30b5\\u30f3\\u30d7\\u30eb, \\u30c7\\u30d1\\u30b3\\u30b9\",\"\\u003cb\\u003eTopic 5\\u003c\\u002fb\\u003e\\u003cbr\\u003eWords: \\u5546\\u54c1, \\u30aa\\u30b9\\u30b9\\u30e1, \\u5e97\\u8217, \\u8cc7\\u751f\\u5802, \\u30b2\\u30fc\\u30e0\",\"\\u003cb\\u003eTopic 5\\u003c\\u002fb\\u003e\\u003cbr\\u003eWords: \\u5546\\u54c1, \\u30bb\\u30c3\\u30c8, \\u30b8\\u30a7\\u30eb, \\u30aa\\u30b9\\u30b9\\u30e1, \\u30b5\\u30a4\\u30c8\",\"\\u003cb\\u003eTopic 5\\u003c\\u002fb\\u003e\\u003cbr\\u003eWords: \\u5546\\u54c1, \\u30aa\\u30b9\\u30b9\\u30e1, \\u30b5\\u30f3\\u30d7\\u30eb, \\u52b9\\u679c, \\u30bb\\u30c3\\u30c8\",\"\\u003cb\\u003eTopic 5\\u003c\\u002fb\\u003e\\u003cbr\\u003eWords: \\u5546\\u54c1, \\u30bb\\u30e9\\u30df\\u30c9, \\u30aa\\u30b9\\u30b9\\u30e1, \\u30b5\\u30f3\\u30d7\\u30eb, \\u671f\\u9593\",\"\\u003cb\\u003eTopic 5\\u003c\\u002fb\\u003e\\u003cbr\\u003eWords: \\u5546\\u54c1, \\u30aa\\u30b9\\u30b9\\u30e1, \\u30d1\\u30c3\\u30af, \\u30b5\\u30f3\\u30d7\\u30eb, \\u30b5\\u30a4\\u30c8\",\"\\u003cb\\u003eTopic 5\\u003c\\u002fb\\u003e\\u003cbr\\u003eWords: \\u30aa\\u30b9\\u30b9\\u30e1, \\u5546\\u54c1, \\u30b5\\u30f3\\u30d7\\u30eb, \\u30d1\\u30c3\\u30af, \\u30aa\\u30f3\\u30e9\\u30a4\\u30f3\",\"\\u003cb\\u003eTopic 5\\u003c\\u002fb\\u003e\\u003cbr\\u003eWords: \\u5546\\u54c1, \\u30aa\\u30b9\\u30b9\\u30e1, \\u30b5\\u30f3\\u30d7\\u30eb, \\u30af\\u30fc\\u30dd\\u30f3, \\u30d1\\u30c3\\u30af\",\"\\u003cb\\u003eTopic 5\\u003c\\u002fb\\u003e\\u003cbr\\u003eWords: \\u5546\\u54c1, \\u30aa\\u30b9\\u30b9\\u30e1, \\u30b5\\u30f3\\u30d7\\u30eb, \\u304a\\u798f\\u5206\\u3051, \\u798f\\u888b\",\"\\u003cb\\u003eTopic 5\\u003c\\u002fb\\u003e\\u003cbr\\u003eWords: \\u5546\\u54c1, \\u30aa\\u30b9\\u30b9\\u30e1, \\u304a\\u798f\\u5206\\u3051, \\u30b5\\u30f3\\u30d7\\u30eb, \\u30d1\\u30c3\\u30af\",\"\\u003cb\\u003eTopic 5\\u003c\\u002fb\\u003e\\u003cbr\\u003eWords: \\u304a\\u798f\\u5206\\u3051, \\u5546\\u54c1, \\u30aa\\u30b9\\u30b9\\u30e1, \\u30d1\\u30c3\\u30af, \\u304f\\u3058\",\"\\u003cb\\u003eTopic 5\\u003c\\u002fb\\u003e\\u003cbr\\u003eWords: \\u5546\\u54c1, \\u304a\\u798f\\u5206\\u3051, \\u30aa\\u30b9\\u30b9\\u30e1, \\u304f\\u3058, \\u30b5\\u30f3\\u30d7\\u30eb\",\"\\u003cb\\u003eTopic 5\\u003c\\u002fb\\u003e\\u003cbr\\u003eWords: \\u304a\\u798f\\u5206\\u3051, \\u5546\\u54c1, \\u30aa\\u30b9\\u30b9\\u30e1, \\u30b5\\u30f3\\u30d7\\u30eb, \\u30b5\\u30a4\\u30c8\",\"\\u003cb\\u003eTopic 5\\u003c\\u002fb\\u003e\\u003cbr\\u003eWords: \\u5546\\u54c1, \\u30d3\\u30fc\\u30a8\\u30fc, \\u30ad\\u30e3\\u30f3\\u30da\\u30fc\\u30f3, \\u30aa\\u30b9\\u30b9\\u30e1, \\u304a\\u798f\\u5206\\u3051\",\"\\u003cb\\u003eTopic 5\\u003c\\u002fb\\u003e\\u003cbr\\u003eWords: \\u5546\\u54c1, \\u30aa\\u30b9\\u30b9\\u30e1, \\u30b5\\u30f3\\u30d7\\u30eb, \\u304f\\u3058, \\u304a\\u798f\\u5206\\u3051\",\"\\u003cb\\u003eTopic 5\\u003c\\u002fb\\u003e\\u003cbr\\u003eWords: \\u5546\\u54c1, \\u30aa\\u30b9\\u30b9\\u30e1, \\u30ad\\u30e5\\u30a6\\u30c6\\u30f3, \\u30b5\\u30f3\\u30d7\\u30eb, \\u30e1\\u30ac\",\"\\u003cb\\u003eTopic 5\\u003c\\u002fb\\u003e\\u003cbr\\u003eWords: \\u5546\\u54c1, \\u30aa\\u30b9\\u30b9\\u30e1, \\u30a6\\u30a3\\u30fc\\u30af, \\u30b9\\u30da\\u30b7\\u30e3\\u30eb, \\u30b5\\u30f3\\u30d7\\u30eb\",\"\\u003cb\\u003eTopic 5\\u003c\\u002fb\\u003e\\u003cbr\\u003eWords: \\u5546\\u54c1, \\u30aa\\u30b9\\u30b9\\u30e1, \\u30b7\\u30e7\\u30c3\\u30d7, \\u30b5\\u30a4\\u30c8, \\u30e1\\u30ac\"],\"marker\":{\"color\":\"#0072B2\"},\"mode\":\"lines\",\"name\":\"5_\\u5546\\u54c1_\\u30aa\\u30b9\\u30b9\\u30e1_\\u30b5\\u30f3\\u30d7\\u30eb_\\u304a\\u798f\\u5206\\u3051\",\"x\":[\"2019-12-30T15:12:57.600000\",\"2020-03-09T07:12:00\",\"2020-05-16T14:24:00\",\"2020-07-23T21:36:00\",\"2020-09-30T04:48:00\",\"2020-12-07T12:00:00\",\"2021-02-13T19:12:00\",\"2021-04-23T02:24:00\",\"2021-06-30T09:36:00\",\"2021-09-06T16:48:00\",\"2021-11-14T00:00:00\",\"2022-01-21T07:12:00\",\"2022-03-30T14:24:00\",\"2022-06-06T21:36:00\",\"2022-08-14T04:48:00\",\"2022-10-21T12:00:00\",\"2022-12-28T19:12:00\",\"2023-03-07T02:24:00\",\"2023-05-14T09:36:00\",\"2023-07-21T16:48:00\"],\"y\":[60,53,54,52,62,65,83,102,72,68,55,91,67,87,100,60,83,61,69,61],\"type\":\"scatter\"},{\"hoverinfo\":\"text\",\"hovertext\":[\"\\u003cb\\u003eTopic 6\\u003c\\u002fb\\u003e\\u003cbr\\u003eWords: \\u307e\\u3064\\u6bdb, \\u7523\\u6bdb, \\u30b7\\u30df, \\u30ec\\u30fc\\u30b6\\u30fc, \\u30aa\\u30b9\\u30b9\\u30e1\",\"\\u003cb\\u003eTopic 6\\u003c\\u002fb\\u003e\\u003cbr\\u003eWords: \\u307e\\u3064\\u6bdb, \\u30b7\\u30df, \\u30ec\\u30fc\\u30b6\\u30fc, \\u30aa\\u30b9\\u30b9\\u30e1, \\u52b9\\u679c\",\"\\u003cb\\u003eTopic 6\\u003c\\u002fb\\u003e\\u003cbr\\u003eWords: \\u307e\\u3064\\u6bdb, \\u30b7\\u30df, \\u30aa\\u30b9\\u30b9\\u30e1, \\u533b\\u7642, \\u7709\\u6bdb\",\"\\u003cb\\u003eTopic 6\\u003c\\u002fb\\u003e\\u003cbr\\u003eWords: \\u307e\\u3064\\u6bdb, \\u7523\\u6bdb, \\u30ec\\u30fc\\u30b6\\u30fc, \\u30aa\\u30b9\\u30b9\\u30e1, \\u533b\\u7642\",\"\\u003cb\\u003eTopic 6\\u003c\\u002fb\\u003e\\u003cbr\\u003eWords: \\u307e\\u3064\\u6bdb, \\u30ec\\u30fc\\u30b6\\u30fc, \\u7523\\u6bdb, \\u30b7\\u30a7\\u30fc\\u30d0\\u30fc, \\u52b9\\u679c\",\"\\u003cb\\u003eTopic 6\\u003c\\u002fb\\u003e\\u003cbr\\u003eWords: \\u307e\\u3064\\u6bdb, \\u30b7\\u30df, \\u30ec\\u30fc\\u30b6\\u30fc, \\u7523\\u6bdb, \\u7f8e\\u5bb9\",\"\\u003cb\\u003eTopic 6\\u003c\\u002fb\\u003e\\u003cbr\\u003eWords: \\u307e\\u3064\\u6bdb, \\u30ec\\u30fc\\u30b6\\u30fc, \\u7523\\u6bdb, \\u30b7\\u30df, \\u52b9\\u679c\",\"\\u003cb\\u003eTopic 6\\u003c\\u002fb\\u003e\\u003cbr\\u003eWords: \\u307e\\u3064\\u6bdb, \\u7523\\u6bdb, \\u52b9\\u679c, \\u30ec\\u30fc\\u30b6\\u30fc, \\u7537\\u6027\",\"\\u003cb\\u003eTopic 6\\u003c\\u002fb\\u003e\\u003cbr\\u003eWords: \\u307e\\u3064\\u6bdb, \\u53cb\\u9054, \\u52b9\\u679c, \\u30d0\\u30a4\\u30af, \\u30b7\\u30df\",\"\\u003cb\\u003eTopic 6\\u003c\\u002fb\\u003e\\u003cbr\\u003eWords: \\u307e\\u3064\\u6bdb, \\u30ec\\u30fc\\u30b6\\u30fc, \\u30aa\\u30b9\\u30b9\\u30e1, \\u30d5\\u30a9\\u30c8, \\u7523\\u6bdb\",\"\\u003cb\\u003eTopic 6\\u003c\\u002fb\\u003e\\u003cbr\\u003eWords: \\u307e\\u3064\\u6bdb, \\u606f\\u5b50, \\u30aa\\u30b9\\u30b9\\u30e1, \\u7f8e\\u5bb9\\u6db2, \\u52b9\\u679c\",\"\\u003cb\\u003eTopic 6\\u003c\\u002fb\\u003e\\u003cbr\\u003eWords: \\u307e\\u3064\\u6bdb, \\u30b7\\u30a7\\u30fc\\u30d0\\u30fc, \\u30ec\\u30fc\\u30b6\\u30fc, \\u7523\\u6bdb, \\u4e88\\u7b97\",\"\\u003cb\\u003eTopic 6\\u003c\\u002fb\\u003e\\u003cbr\\u003eWords: \\u307e\\u3064\\u6bdb, \\u30bb\\u30e9\\u30d4\\u30e5\\u30fc\\u30c6\\u30a3\\u30c3\\u30af, \\u8272\\u7d20\\u6c88\\u7740, \\u7709\\u6bdb, \\u7523\\u6bdb\",\"\\u003cb\\u003eTopic 6\\u003c\\u002fb\\u003e\\u003cbr\\u003eWords: \\u307e\\u3064\\u6bdb, \\u8ca0\\u3051, \\u30ec\\u30fc\\u30b6\\u30fc, \\u7709\\u6bdb, \\u4f53\\u6bdb\",\"\\u003cb\\u003eTopic 6\\u003c\\u002fb\\u003e\\u003cbr\\u003eWords: \\u307e\\u3064\\u6bdb, \\u30ec\\u30fc\\u30b6\\u30fc, \\u533b\\u7642, \\u30aa\\u30b9\\u30b9\\u30e1, \\u7709\\u6bdb\",\"\\u003cb\\u003eTopic 6\\u003c\\u002fb\\u003e\\u003cbr\\u003eWords: \\u307e\\u3064\\u6bdb, \\u9aea\\u306e\\u6bdb, \\u30b7\\u30df, \\u30ed\\u30af\\u30b7\\u30bf\\u30f3, \\u7f8e\\u5bb9\\u6db2\",\"\\u003cb\\u003eTopic 6\\u003c\\u002fb\\u003e\\u003cbr\\u003eWords: \\u307e\\u3064\\u6bdb, \\u30aa\\u30b9\\u30b9\\u30e1, \\u30b7\\u30df, \\u52b9\\u679c, \\u7523\\u6bdb\",\"\\u003cb\\u003eTopic 6\\u003c\\u002fb\\u003e\\u003cbr\\u003eWords: \\u307e\\u3064\\u6bdb, \\u30ec\\u30fc\\u30b6\\u30fc, \\u30b7\\u30df, \\u7f8e\\u5bb9, \\u30e9\\u30f3\\u30c1\",\"\\u003cb\\u003eTopic 6\\u003c\\u002fb\\u003e\\u003cbr\\u003eWords: \\u307e\\u3064\\u6bdb, \\u30aa\\u30b9\\u30b9\\u30e1, \\u30ec\\u30fc\\u30b6\\u30fc, \\u53cb\\u4eba, \\u7f8e\\u5bb9\\u6db2\",\"\\u003cb\\u003eTopic 6\\u003c\\u002fb\\u003e\\u003cbr\\u003eWords: \\u307e\\u3064\\u6bdb, \\u52b9\\u679c, \\u7709\\u6bdb, \\u30b3\\u30e9\\u30fc\\u30b2\\u30f3\\u30c9\\u30ea\\u30f3\\u30af, \\u7f8e\\u5bb9\\u6db2\"],\"marker\":{\"color\":\"#CC79A7\"},\"mode\":\"lines\",\"name\":\"6_\\u307e\\u3064\\u6bdb_\\u30ec\\u30fc\\u30b6\\u30fc_\\u7523\\u6bdb_\\u30aa\\u30b9\\u30b9\\u30e1\",\"x\":[\"2019-12-30T15:12:57.600000\",\"2020-03-09T07:12:00\",\"2020-05-16T14:24:00\",\"2020-07-23T21:36:00\",\"2020-09-30T04:48:00\",\"2020-12-07T12:00:00\",\"2021-02-13T19:12:00\",\"2021-04-23T02:24:00\",\"2021-06-30T09:36:00\",\"2021-09-06T16:48:00\",\"2021-11-14T00:00:00\",\"2022-01-21T07:12:00\",\"2022-03-30T14:24:00\",\"2022-06-06T21:36:00\",\"2022-08-14T04:48:00\",\"2022-10-21T12:00:00\",\"2022-12-28T19:12:00\",\"2023-03-07T02:24:00\",\"2023-05-14T09:36:00\",\"2023-07-21T16:48:00\"],\"y\":[44,45,42,45,40,57,59,34,38,44,43,41,31,31,41,30,48,29,41,44],\"type\":\"scatter\"},{\"hoverinfo\":\"text\",\"hovertext\":[\"\\u003cb\\u003eTopic 7\\u003c\\u002fb\\u003e\\u003cbr\\u003eWords: \\u30cb\\u30ad\\u30d3, \\u76ae\\u819a, \\u8d64\\u307f, \\u5b66\\u751f, \\u30d4\\u30eb\",\"\\u003cb\\u003eTopic 7\\u003c\\u002fb\\u003e\\u003cbr\\u003eWords: \\u30cb\\u30ad\\u30d3, \\u76ae\\u819a, \\u8d64\\u307f, \\u304a\\u3067\\u3053, \\u526f\\u4f5c\\u7528\",\"\\u003cb\\u003eTopic 7\\u003c\\u002fb\\u003e\\u003cbr\\u003eWords: \\u30cb\\u30ad\\u30d3, \\u8d64\\u307f, \\u76ae\\u819a, \\u6bdb\\u7a74, \\u4e2d\\u5b66\\u751f\",\"\\u003cb\\u003eTopic 7\\u003c\\u002fb\\u003e\\u003cbr\\u003eWords: \\u30cb\\u30ad\\u30d3, \\u76ae\\u819a, \\u304a\\u3067\\u3053, \\u8d64\\u307f, \\u526f\\u4f5c\\u7528\",\"\\u003cb\\u003eTopic 7\\u003c\\u002fb\\u003e\\u003cbr\\u003eWords: \\u30cb\\u30ad\\u30d3, \\u76ae\\u819a, \\u8d64\\u307f, \\u75c5\\u9662, \\u98df\\u751f\\u6d3b\",\"\\u003cb\\u003eTopic 7\\u003c\\u002fb\\u003e\\u003cbr\\u003eWords: \\u30cb\\u30ad\\u30d3, \\u76ae\\u819a, \\u8d64\\u307f, \\u52b9\\u679c, \\u808c\\u8352\\u308c\",\"\\u003cb\\u003eTopic 7\\u003c\\u002fb\\u003e\\u003cbr\\u003eWords: \\u30cb\\u30ad\\u30d3, \\u76ae\\u819a, \\u8d64\\u307f, \\u30c7\\u30a3\\u30d5\\u30a7\\u30ea\\u30f3, \\u533b\\u5e2b\",\"\\u003cb\\u003eTopic 7\\u003c\\u002fb\\u003e\\u003cbr\\u003eWords: \\u30cb\\u30ad\\u30d3, \\u76ae\\u819a, \\u601d\\u6625, \\u80cc\\u4e2d, \\u30b1\\u30a2\",\"\\u003cb\\u003eTopic 7\\u003c\\u002fb\\u003e\\u003cbr\\u003eWords: \\u30cb\\u30ad\\u30d3, \\u76ae\\u819a, \\u30af\\u30ec\\u30f3\\u30b8\\u30f3\\u30b0, \\u30a2\\u30ea\\u30a3\\u30fc, \\u30d4\\u30aa\\u30b2\\u30eb\",\"\\u003cb\\u003eTopic 7\\u003c\\u002fb\\u003e\\u003cbr\\u003eWords: \\u30cb\\u30ad\\u30d3, \\u76ae\\u819a, \\u8d64\\u307f, \\u8541\\u9ebb\\u75b9, \\u30ef\\u30af\\u30c1\\u30f3\",\"\\u003cb\\u003eTopic 7\\u003c\\u002fb\\u003e\\u003cbr\\u003eWords: \\u30cb\\u30ad\\u30d3, \\u76ae\\u819a, \\u8d64\\u307f, \\u30cb\\u30d7\\u30ed, \\u601d\\u6625\",\"\\u003cb\\u003eTopic 7\\u003c\\u002fb\\u003e\\u003cbr\\u003eWords: \\u30cb\\u30ad\\u30d3, \\u76ae\\u819a, \\u30b1\\u30a2, \\u8d64\\u307f, \\u30d9\\u30d4\\u30aa\\u30b2\\u30eb\",\"\\u003cb\\u003eTopic 7\\u003c\\u002fb\\u003e\\u003cbr\\u003eWords: \\u30cb\\u30ad\\u30d3, \\u76ae\\u819a, \\u30d4\\u30aa\\u30b2\\u30eb, \\u8d64\\u307f, \\u30b1\\u30a2\",\"\\u003cb\\u003eTopic 7\\u003c\\u002fb\\u003e\\u003cbr\\u003eWords: \\u30cb\\u30ad\\u30d3, \\u76ae\\u819a, \\u8d64\\u307f, \\u75c7\\u72b6, \\u5546\\u54c1\",\"\\u003cb\\u003eTopic 7\\u003c\\u002fb\\u003e\\u003cbr\\u003eWords: \\u30cb\\u30ad\\u30d3, \\u76ae\\u819a, \\u8d64\\u307f, \\u526f\\u4f5c\\u7528, \\u30a2\\u30a4\\u30d7\\u30c1\",\"\\u003cb\\u003eTopic 7\\u003c\\u002fb\\u003e\\u003cbr\\u003eWords: \\u30cb\\u30ad\\u30d3, \\u76ae\\u819a, \\u8d64\\u307f, \\u30a2\\u30c0\\u30d1\\u30ec\\u30f3, \\u304a\\u3067\\u3053\",\"\\u003cb\\u003eTopic 7\\u003c\\u002fb\\u003e\\u003cbr\\u003eWords: \\u30cb\\u30ad\\u30d3, \\u76ae\\u819a, \\u6f22\\u65b9, \\u4e2d\\u5b66\\u751f, \\u30d1\\u30c3\\u30c1\",\"\\u003cb\\u003eTopic 7\\u003c\\u002fb\\u003e\\u003cbr\\u003eWords: \\u30cb\\u30ad\\u30d3, \\u76ae\\u819a, \\u8d64\\u307f, \\u533b\\u5e2b, \\u3076\\u3064\\u3076\\u3064\",\"\\u003cb\\u003eTopic 7\\u003c\\u002fb\\u003e\\u003cbr\\u003eWords: \\u30cb\\u30ad\\u30d3, \\u8d64\\u307f, \\u76ae\\u819a, \\u30dd\\u30c6\\u30f3\\u30c4\\u30a1, \\u9ad8\\u6821\\u751f\",\"\\u003cb\\u003eTopic 7\\u003c\\u002fb\\u003e\\u003cbr\\u003eWords: \\u30cb\\u30ad\\u30d3, \\u76ae\\u819a, \\u8d64\\u307f, \\u5199\\u771f, \\u533b\\u5e2b\"],\"marker\":{\"color\":\"#E69F00\"},\"mode\":\"lines\",\"name\":\"7_\\u30cb\\u30ad\\u30d3_\\u76ae\\u819a_\\u8d64\\u307f_\\u304a\\u3067\\u3053\",\"x\":[\"2019-12-30T15:12:57.600000\",\"2020-03-09T07:12:00\",\"2020-05-16T14:24:00\",\"2020-07-23T21:36:00\",\"2020-09-30T04:48:00\",\"2020-12-07T12:00:00\",\"2021-02-13T19:12:00\",\"2021-04-23T02:24:00\",\"2021-06-30T09:36:00\",\"2021-09-06T16:48:00\",\"2021-11-14T00:00:00\",\"2022-01-21T07:12:00\",\"2022-03-30T14:24:00\",\"2022-06-06T21:36:00\",\"2022-08-14T04:48:00\",\"2022-10-21T12:00:00\",\"2022-12-28T19:12:00\",\"2023-03-07T02:24:00\",\"2023-05-14T09:36:00\",\"2023-07-21T16:48:00\"],\"y\":[48,66,49,34,30,59,51,47,23,43,36,31,32,30,37,22,31,27,24,35],\"type\":\"scatter\"},{\"hoverinfo\":\"text\",\"hovertext\":[\"\\u003cb\\u003eTopic 8\\u003c\\u002fb\\u003e\\u003cbr\\u003eWords: \\u521d\\u6b69, \\u30b9\\u30b9\\u30e1, \\u30a8\\u30c8\\u30f4\\u30a9\\u30b9, \\u30d0\\u30fc\\u30e0, \\u30d3\\u30fc\\u30a8\\u30fc\",\"\\u003cb\\u003eTopic 8\\u003c\\u002fb\\u003e\\u003cbr\\u003eWords: \\u6075\\u307f, \\u5fa1\\u8eab, \\u5d07\\u9ad8, \\u8cdc\\u7269, \\u66ae\\u3089\\u3057\",\"\\u003cb\\u003eTopic 8\\u003c\\u002fb\\u003e\\u003cbr\\u003eWords: \\u30d6\\u30eb\\u30fc\\u30e0, \\u30b5\\u30de\\u30fc, \\u30dc\\u30c3\\u30af\\u30b9, \\u30d6\\u30fc\\u30b9\\u30bf\\u30fc, \\u611f\\u60f3\",\"\\u003cb\\u003eTopic 8\\u003c\\u002fb\\u003e\\u003cbr\\u003eWords: \\u3054\\u306f\\u3093, \\u30b3\\u30d5\\u30ec, \\u753b\\u50cf, \\u30bb\\u30c3\\u30c8, \\u611f\\u60f3\",\"\\u003cb\\u003eTopic 8\\u003c\\u002fb\\u003e\\u003cbr\\u003eWords: \\u5929\\u6c17, \\u30d3\\u30fc\\u30a8\\u30fc, \\u9023\\u4f11, \\u9078\\u624b, \\u304a\\u798f\\u5206\\u3051\",\"\\u003cb\\u003eTopic 8\\u003c\\u002fb\\u003e\\u003cbr\\u003eWords: \\u3054\\u98ef, \\u30d3\\u30fc\\u30a8\\u30fc, \\u30a6\\u30eb\\u30d5, \\u30e0\\u30fc\\u30f3, \\u5e02\\u8857\\u5730\",\"\\u003cb\\u003eTopic 8\\u003c\\u002fb\\u003e\\u003cbr\\u003eWords: \\u30d3\\u30fc\\u30a8\\u30fc, \\u30cf\\u30f3\\u30b0\\u30eb, \\u30c8\\u30c3\\u30d7\\u30da\\u30fc\\u30b8, \\u82f1\\u8a9e, \\u30d2\\u30f3\\u30c8\",\"\\u003cb\\u003eTopic 8\\u003c\\u002fb\\u003e\\u003cbr\\u003eWords: \\u30d3\\u30fc\\u30a8\\u30fc, id, \\u30bf\\u30d0\\u30b3, \\u6771\\u4eac, \\u30d9\\u30cd\\u30d5\\u30a3\\u30fc\\u30af\",\"\\u003cb\\u003eTopic 8\\u003c\\u002fb\\u003e\\u003cbr\\u003eWords: \\u60aa\\u5929\\u5019, \\u30d3\\u30fc\\u30a8\\u30fc, \\u53f0\\u98a8, \\u98df\\u6b32, id\",\"\\u003cb\\u003eTopic 8\\u003c\\u002fb\\u003e\\u003cbr\\u003eWords: \\u308a\\u3087\\u3046, \\u30ea\\u30a2\\u30e9\\u30b9\\u30bf\\u30fc, \\u30d2\\u30ab\\u30eb, \\u66f2\\u540d, \\u7acb\\u5834\",\"\\u003cb\\u003eTopic 8\\u003c\\u002fb\\u003e\\u003cbr\\u003eWords: \\u30dd\\u30c1, \\u30b3\\u30f3\\u30d7\\u30ea\\u30fc\\u30c8, \\u6e80\\u6708, \\u304a\\u5b22\\u69d8, \\u57f7\\u4e8b\",\"\\u003cb\\u003eTopic 8\\u003c\\u002fb\\u003e\\u003cbr\\u003eWords: \\u6025\\u304e, \\u30aa\\u30b9\\u30b9\\u30e1, \\u30d3\\u30fc\\u30a8\\u30fc, \\u9023\\u4f11, \\u9078\\u624b\",\"\\u003cb\\u003eTopic 8\\u003c\\u002fb\\u003e\\u003cbr\\u003eWords: \\u30b5\\u30a4\\u30ba, \\u7406\\u7531, \\u30aa\\u30fc\\u30eb\\u30a4\\u30f3\\u30ef\\u30f3, \\u30d3\\u30fc\\u30a8\\u30fc, \\u9023\\u4f11\",\"\\u003cb\\u003eTopic 8\\u003c\\u002fb\\u003e\\u003cbr\\u003eWords: \\u30de\\u30a4\\u30da\\u30fc\\u30b9, \\u9023\\u4f11, \\u305f\\u3044, \\u30dd\\u30c1, \\u304a\\u798f\\u308f\\u3051\",\"\\u003cb\\u003eTopic 8\\u003c\\u002fb\\u003e\\u003cbr\\u003eWords: \\u9078\\u624b, \\u30a4\\u30d9\\u30f3\\u30c8, \\u304a\\u798f\\u5206\\u3051, \\u30b3\\u30f3\\u30d7\\u30ea\\u30fc\\u30c8, \\u30aa\\u30fc\\u30d7\\u30cb\\u30f3\\u30b0\",\"\\u003cb\\u003eTopic 8\\u003c\\u002fb\\u003e\\u003cbr\\u003eWords: \\u30b3\\u30f3\\u30d7\\u30ea\\u30fc\\u30c8, \\u3047\\u3044\\u307e\\u307e\\u3093\\u3067\\u3059, \\u75b2\\u308c, \\u6b63\\u898f, \\u304f\\u3058\",\"\\u003cb\\u003eTopic 8\\u003c\\u002fb\\u003e\\u003cbr\\u003eWords: \\u9023\\u4f11, \\u5929\\u6c17, \\u5730\\u57df, \\u4f53\\u8abf, \\u76ee\\u306e\\u4e0b\",\"\\u003cb\\u003eTopic 8\\u003c\\u002fb\\u003e\\u003cbr\\u003eWords: \\u5730\\u9707, \\u304a\\u798f\\u5206\\u3051, \\u9078\\u624b, \\u3054\\u306f\\u3093, \\u30b9\\u30bf\\u30fc\",\"\\u003cb\\u003eTopic 8\\u003c\\u002fb\\u003e\\u003cbr\\u003eWords: \\u713c\\u8089, \\u3054\\u98ef, \\u30a2\\u30a4\\u30b7\\u30e3\\u30c9\\u30a6, \\u30e9\\u30a4\\u30f3, \\u30aa\\u30b9\\u30b9\\u30e1\",\"\\u003cb\\u003eTopic 8\\u003c\\u002fb\\u003e\\u003cbr\\u003eWords: \\u30de\\u30b9, \\u30b9\\u30b9\\u30e1, \\u30d4\\u30fc\\u30ea\\u30f3\\u30b0, \\u30c7\\u30d1\\u30b3\\u30b9, \\u30b8\\u30a7\\u30eb\"],\"marker\":{\"color\":\"#56B4E9\"},\"mode\":\"lines\",\"name\":\"8_\\u30d3\\u30fc\\u30a8\\u30fc_\\u9023\\u4f11_\\u9078\\u624b_\\u304a\\u798f\\u5206\\u3051\",\"x\":[\"2019-12-30T15:12:57.600000\",\"2020-03-09T07:12:00\",\"2020-05-16T14:24:00\",\"2020-07-23T21:36:00\",\"2020-09-30T04:48:00\",\"2020-12-07T12:00:00\",\"2021-02-13T19:12:00\",\"2021-04-23T02:24:00\",\"2021-06-30T09:36:00\",\"2021-09-06T16:48:00\",\"2021-11-14T00:00:00\",\"2022-01-21T07:12:00\",\"2022-03-30T14:24:00\",\"2022-06-06T21:36:00\",\"2022-08-14T04:48:00\",\"2022-10-21T12:00:00\",\"2022-12-28T19:12:00\",\"2023-03-07T02:24:00\",\"2023-05-14T09:36:00\",\"2023-07-21T16:48:00\"],\"y\":[9,4,6,12,7,14,15,14,4,7,5,11,12,27,58,15,27,9,9,5],\"type\":\"scatter\"}],                        {\"template\":{\"data\":{\"barpolar\":[{\"marker\":{\"line\":{\"color\":\"white\",\"width\":0.5},\"pattern\":{\"fillmode\":\"overlay\",\"size\":10,\"solidity\":0.2}},\"type\":\"barpolar\"}],\"bar\":[{\"error_x\":{\"color\":\"rgb(36,36,36)\"},\"error_y\":{\"color\":\"rgb(36,36,36)\"},\"marker\":{\"line\":{\"color\":\"white\",\"width\":0.5},\"pattern\":{\"fillmode\":\"overlay\",\"size\":10,\"solidity\":0.2}},\"type\":\"bar\"}],\"carpet\":[{\"aaxis\":{\"endlinecolor\":\"rgb(36,36,36)\",\"gridcolor\":\"white\",\"linecolor\":\"white\",\"minorgridcolor\":\"white\",\"startlinecolor\":\"rgb(36,36,36)\"},\"baxis\":{\"endlinecolor\":\"rgb(36,36,36)\",\"gridcolor\":\"white\",\"linecolor\":\"white\",\"minorgridcolor\":\"white\",\"startlinecolor\":\"rgb(36,36,36)\"},\"type\":\"carpet\"}],\"choropleth\":[{\"colorbar\":{\"outlinewidth\":1,\"tickcolor\":\"rgb(36,36,36)\",\"ticks\":\"outside\"},\"type\":\"choropleth\"}],\"contourcarpet\":[{\"colorbar\":{\"outlinewidth\":1,\"tickcolor\":\"rgb(36,36,36)\",\"ticks\":\"outside\"},\"type\":\"contourcarpet\"}],\"contour\":[{\"colorbar\":{\"outlinewidth\":1,\"tickcolor\":\"rgb(36,36,36)\",\"ticks\":\"outside\"},\"colorscale\":[[0.0,\"#440154\"],[0.1111111111111111,\"#482878\"],[0.2222222222222222,\"#3e4989\"],[0.3333333333333333,\"#31688e\"],[0.4444444444444444,\"#26828e\"],[0.5555555555555556,\"#1f9e89\"],[0.6666666666666666,\"#35b779\"],[0.7777777777777778,\"#6ece58\"],[0.8888888888888888,\"#b5de2b\"],[1.0,\"#fde725\"]],\"type\":\"contour\"}],\"heatmapgl\":[{\"colorbar\":{\"outlinewidth\":1,\"tickcolor\":\"rgb(36,36,36)\",\"ticks\":\"outside\"},\"colorscale\":[[0.0,\"#440154\"],[0.1111111111111111,\"#482878\"],[0.2222222222222222,\"#3e4989\"],[0.3333333333333333,\"#31688e\"],[0.4444444444444444,\"#26828e\"],[0.5555555555555556,\"#1f9e89\"],[0.6666666666666666,\"#35b779\"],[0.7777777777777778,\"#6ece58\"],[0.8888888888888888,\"#b5de2b\"],[1.0,\"#fde725\"]],\"type\":\"heatmapgl\"}],\"heatmap\":[{\"colorbar\":{\"outlinewidth\":1,\"tickcolor\":\"rgb(36,36,36)\",\"ticks\":\"outside\"},\"colorscale\":[[0.0,\"#440154\"],[0.1111111111111111,\"#482878\"],[0.2222222222222222,\"#3e4989\"],[0.3333333333333333,\"#31688e\"],[0.4444444444444444,\"#26828e\"],[0.5555555555555556,\"#1f9e89\"],[0.6666666666666666,\"#35b779\"],[0.7777777777777778,\"#6ece58\"],[0.8888888888888888,\"#b5de2b\"],[1.0,\"#fde725\"]],\"type\":\"heatmap\"}],\"histogram2dcontour\":[{\"colorbar\":{\"outlinewidth\":1,\"tickcolor\":\"rgb(36,36,36)\",\"ticks\":\"outside\"},\"colorscale\":[[0.0,\"#440154\"],[0.1111111111111111,\"#482878\"],[0.2222222222222222,\"#3e4989\"],[0.3333333333333333,\"#31688e\"],[0.4444444444444444,\"#26828e\"],[0.5555555555555556,\"#1f9e89\"],[0.6666666666666666,\"#35b779\"],[0.7777777777777778,\"#6ece58\"],[0.8888888888888888,\"#b5de2b\"],[1.0,\"#fde725\"]],\"type\":\"histogram2dcontour\"}],\"histogram2d\":[{\"colorbar\":{\"outlinewidth\":1,\"tickcolor\":\"rgb(36,36,36)\",\"ticks\":\"outside\"},\"colorscale\":[[0.0,\"#440154\"],[0.1111111111111111,\"#482878\"],[0.2222222222222222,\"#3e4989\"],[0.3333333333333333,\"#31688e\"],[0.4444444444444444,\"#26828e\"],[0.5555555555555556,\"#1f9e89\"],[0.6666666666666666,\"#35b779\"],[0.7777777777777778,\"#6ece58\"],[0.8888888888888888,\"#b5de2b\"],[1.0,\"#fde725\"]],\"type\":\"histogram2d\"}],\"histogram\":[{\"marker\":{\"line\":{\"color\":\"white\",\"width\":0.6}},\"type\":\"histogram\"}],\"mesh3d\":[{\"colorbar\":{\"outlinewidth\":1,\"tickcolor\":\"rgb(36,36,36)\",\"ticks\":\"outside\"},\"type\":\"mesh3d\"}],\"parcoords\":[{\"line\":{\"colorbar\":{\"outlinewidth\":1,\"tickcolor\":\"rgb(36,36,36)\",\"ticks\":\"outside\"}},\"type\":\"parcoords\"}],\"pie\":[{\"automargin\":true,\"type\":\"pie\"}],\"scatter3d\":[{\"line\":{\"colorbar\":{\"outlinewidth\":1,\"tickcolor\":\"rgb(36,36,36)\",\"ticks\":\"outside\"}},\"marker\":{\"colorbar\":{\"outlinewidth\":1,\"tickcolor\":\"rgb(36,36,36)\",\"ticks\":\"outside\"}},\"type\":\"scatter3d\"}],\"scattercarpet\":[{\"marker\":{\"colorbar\":{\"outlinewidth\":1,\"tickcolor\":\"rgb(36,36,36)\",\"ticks\":\"outside\"}},\"type\":\"scattercarpet\"}],\"scattergeo\":[{\"marker\":{\"colorbar\":{\"outlinewidth\":1,\"tickcolor\":\"rgb(36,36,36)\",\"ticks\":\"outside\"}},\"type\":\"scattergeo\"}],\"scattergl\":[{\"marker\":{\"colorbar\":{\"outlinewidth\":1,\"tickcolor\":\"rgb(36,36,36)\",\"ticks\":\"outside\"}},\"type\":\"scattergl\"}],\"scattermapbox\":[{\"marker\":{\"colorbar\":{\"outlinewidth\":1,\"tickcolor\":\"rgb(36,36,36)\",\"ticks\":\"outside\"}},\"type\":\"scattermapbox\"}],\"scatterpolargl\":[{\"marker\":{\"colorbar\":{\"outlinewidth\":1,\"tickcolor\":\"rgb(36,36,36)\",\"ticks\":\"outside\"}},\"type\":\"scatterpolargl\"}],\"scatterpolar\":[{\"marker\":{\"colorbar\":{\"outlinewidth\":1,\"tickcolor\":\"rgb(36,36,36)\",\"ticks\":\"outside\"}},\"type\":\"scatterpolar\"}],\"scatter\":[{\"fillpattern\":{\"fillmode\":\"overlay\",\"size\":10,\"solidity\":0.2},\"type\":\"scatter\"}],\"scatterternary\":[{\"marker\":{\"colorbar\":{\"outlinewidth\":1,\"tickcolor\":\"rgb(36,36,36)\",\"ticks\":\"outside\"}},\"type\":\"scatterternary\"}],\"surface\":[{\"colorbar\":{\"outlinewidth\":1,\"tickcolor\":\"rgb(36,36,36)\",\"ticks\":\"outside\"},\"colorscale\":[[0.0,\"#440154\"],[0.1111111111111111,\"#482878\"],[0.2222222222222222,\"#3e4989\"],[0.3333333333333333,\"#31688e\"],[0.4444444444444444,\"#26828e\"],[0.5555555555555556,\"#1f9e89\"],[0.6666666666666666,\"#35b779\"],[0.7777777777777778,\"#6ece58\"],[0.8888888888888888,\"#b5de2b\"],[1.0,\"#fde725\"]],\"type\":\"surface\"}],\"table\":[{\"cells\":{\"fill\":{\"color\":\"rgb(237,237,237)\"},\"line\":{\"color\":\"white\"}},\"header\":{\"fill\":{\"color\":\"rgb(217,217,217)\"},\"line\":{\"color\":\"white\"}},\"type\":\"table\"}]},\"layout\":{\"annotationdefaults\":{\"arrowhead\":0,\"arrowwidth\":1},\"autotypenumbers\":\"strict\",\"coloraxis\":{\"colorbar\":{\"outlinewidth\":1,\"tickcolor\":\"rgb(36,36,36)\",\"ticks\":\"outside\"}},\"colorscale\":{\"diverging\":[[0.0,\"rgb(103,0,31)\"],[0.1,\"rgb(178,24,43)\"],[0.2,\"rgb(214,96,77)\"],[0.3,\"rgb(244,165,130)\"],[0.4,\"rgb(253,219,199)\"],[0.5,\"rgb(247,247,247)\"],[0.6,\"rgb(209,229,240)\"],[0.7,\"rgb(146,197,222)\"],[0.8,\"rgb(67,147,195)\"],[0.9,\"rgb(33,102,172)\"],[1.0,\"rgb(5,48,97)\"]],\"sequential\":[[0.0,\"#440154\"],[0.1111111111111111,\"#482878\"],[0.2222222222222222,\"#3e4989\"],[0.3333333333333333,\"#31688e\"],[0.4444444444444444,\"#26828e\"],[0.5555555555555556,\"#1f9e89\"],[0.6666666666666666,\"#35b779\"],[0.7777777777777778,\"#6ece58\"],[0.8888888888888888,\"#b5de2b\"],[1.0,\"#fde725\"]],\"sequentialminus\":[[0.0,\"#440154\"],[0.1111111111111111,\"#482878\"],[0.2222222222222222,\"#3e4989\"],[0.3333333333333333,\"#31688e\"],[0.4444444444444444,\"#26828e\"],[0.5555555555555556,\"#1f9e89\"],[0.6666666666666666,\"#35b779\"],[0.7777777777777778,\"#6ece58\"],[0.8888888888888888,\"#b5de2b\"],[1.0,\"#fde725\"]]},\"colorway\":[\"#1F77B4\",\"#FF7F0E\",\"#2CA02C\",\"#D62728\",\"#9467BD\",\"#8C564B\",\"#E377C2\",\"#7F7F7F\",\"#BCBD22\",\"#17BECF\"],\"font\":{\"color\":\"rgb(36,36,36)\"},\"geo\":{\"bgcolor\":\"white\",\"lakecolor\":\"white\",\"landcolor\":\"white\",\"showlakes\":true,\"showland\":true,\"subunitcolor\":\"white\"},\"hoverlabel\":{\"align\":\"left\"},\"hovermode\":\"closest\",\"mapbox\":{\"style\":\"light\"},\"paper_bgcolor\":\"white\",\"plot_bgcolor\":\"white\",\"polar\":{\"angularaxis\":{\"gridcolor\":\"rgb(232,232,232)\",\"linecolor\":\"rgb(36,36,36)\",\"showgrid\":false,\"showline\":true,\"ticks\":\"outside\"},\"bgcolor\":\"white\",\"radialaxis\":{\"gridcolor\":\"rgb(232,232,232)\",\"linecolor\":\"rgb(36,36,36)\",\"showgrid\":false,\"showline\":true,\"ticks\":\"outside\"}},\"scene\":{\"xaxis\":{\"backgroundcolor\":\"white\",\"gridcolor\":\"rgb(232,232,232)\",\"gridwidth\":2,\"linecolor\":\"rgb(36,36,36)\",\"showbackground\":true,\"showgrid\":false,\"showline\":true,\"ticks\":\"outside\",\"zeroline\":false,\"zerolinecolor\":\"rgb(36,36,36)\"},\"yaxis\":{\"backgroundcolor\":\"white\",\"gridcolor\":\"rgb(232,232,232)\",\"gridwidth\":2,\"linecolor\":\"rgb(36,36,36)\",\"showbackground\":true,\"showgrid\":false,\"showline\":true,\"ticks\":\"outside\",\"zeroline\":false,\"zerolinecolor\":\"rgb(36,36,36)\"},\"zaxis\":{\"backgroundcolor\":\"white\",\"gridcolor\":\"rgb(232,232,232)\",\"gridwidth\":2,\"linecolor\":\"rgb(36,36,36)\",\"showbackground\":true,\"showgrid\":false,\"showline\":true,\"ticks\":\"outside\",\"zeroline\":false,\"zerolinecolor\":\"rgb(36,36,36)\"}},\"shapedefaults\":{\"fillcolor\":\"black\",\"line\":{\"width\":0},\"opacity\":0.3},\"ternary\":{\"aaxis\":{\"gridcolor\":\"rgb(232,232,232)\",\"linecolor\":\"rgb(36,36,36)\",\"showgrid\":false,\"showline\":true,\"ticks\":\"outside\"},\"baxis\":{\"gridcolor\":\"rgb(232,232,232)\",\"linecolor\":\"rgb(36,36,36)\",\"showgrid\":false,\"showline\":true,\"ticks\":\"outside\"},\"bgcolor\":\"white\",\"caxis\":{\"gridcolor\":\"rgb(232,232,232)\",\"linecolor\":\"rgb(36,36,36)\",\"showgrid\":false,\"showline\":true,\"ticks\":\"outside\"}},\"title\":{\"x\":0.05},\"xaxis\":{\"automargin\":true,\"gridcolor\":\"rgb(232,232,232)\",\"linecolor\":\"rgb(36,36,36)\",\"showgrid\":false,\"showline\":true,\"ticks\":\"outside\",\"title\":{\"standoff\":15},\"zeroline\":false,\"zerolinecolor\":\"rgb(36,36,36)\"},\"yaxis\":{\"automargin\":true,\"gridcolor\":\"rgb(232,232,232)\",\"linecolor\":\"rgb(36,36,36)\",\"showgrid\":false,\"showline\":true,\"ticks\":\"outside\",\"title\":{\"standoff\":15},\"zeroline\":false,\"zerolinecolor\":\"rgb(36,36,36)\"}}},\"xaxis\":{\"showgrid\":true},\"yaxis\":{\"showgrid\":true,\"title\":{\"text\":\"Frequency\"}},\"title\":{\"font\":{\"size\":22,\"color\":\"Black\"},\"text\":\"\\u003cb\\u003eTopics over Time\\u003c\\u002fb\\u003e\",\"y\":0.95,\"x\":0.4,\"xanchor\":\"center\",\"yanchor\":\"top\"},\"hoverlabel\":{\"font\":{\"size\":16,\"family\":\"Rockwell\"},\"bgcolor\":\"white\"},\"width\":1250,\"height\":450,\"legend\":{\"title\":{\"text\":\"\\u003cb\\u003eGlobal Topic Representation\"}}},                        {\"responsive\": true}                    ).then(function(){\n",
              "                            \n",
              "var gd = document.getElementById('21fe3c77-f986-4c99-8771-cd2b05d903a5');\n",
              "var x = new MutationObserver(function (mutations, observer) {{\n",
              "        var display = window.getComputedStyle(gd).display;\n",
              "        if (!display || display === 'none') {{\n",
              "            console.log([gd, 'removed!']);\n",
              "            Plotly.purge(gd);\n",
              "            observer.disconnect();\n",
              "        }}\n",
              "}});\n",
              "\n",
              "// Listen for the removal of the full notebook cells\n",
              "var notebookContainer = gd.closest('#notebook-container');\n",
              "if (notebookContainer) {{\n",
              "    x.observe(notebookContainer, {childList: true});\n",
              "}}\n",
              "\n",
              "// Listen for the clearing of the current output cell\n",
              "var outputEl = gd.closest('.output');\n",
              "if (outputEl) {{\n",
              "    x.observe(outputEl, {childList: true});\n",
              "}}\n",
              "\n",
              "                        })                };                            </script>        </div>\n",
              "</body>\n",
              "</html>"
            ]
          },
          "metadata": {}
        }
      ],
      "source": [
        "#@title 시간에 따른 토픽 변화\n",
        "topics_over_time = my_model.topics_over_time(text, dates_list, datetime_format=\"%Y-%m-%d\", nr_bins=20)\n",
        "my_model.visualize_topics_over_time(topics_over_time, top_n_topics=10)"
      ]
    },
    {
      "cell_type": "code",
      "source": [
        "topic_distr, topic_token_distr = my_model.approximate_distribution(text,window=4)"
      ],
      "metadata": {
        "id": "b8dnAJU6WkcS"
      },
      "execution_count": null,
      "outputs": []
    },
    {
      "cell_type": "code",
      "source": [
        "my_model.visualize_distribution(topic_distr[1000])"
      ],
      "metadata": {
        "id": "R_0hf2WnWxGW"
      },
      "execution_count": null,
      "outputs": []
    }
  ]
}